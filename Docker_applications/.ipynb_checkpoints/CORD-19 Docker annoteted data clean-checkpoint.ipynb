{
 "cells": [
  {
   "cell_type": "code",
   "execution_count": 2,
   "metadata": {},
   "outputs": [],
   "source": [
    "#!pip install pyvespa==0.2.0"
   ]
  },
  {
   "cell_type": "markdown",
   "metadata": {},
   "source": [
    "## TODO:\n",
    "\n"
   ]
  },
  {
   "cell_type": "code",
   "execution_count": 3,
   "metadata": {},
   "outputs": [],
   "source": [
    "import matplotlib.pyplot as plt\n",
    "import numpy as np\n",
    "from random import random\n",
    "import time\n",
    "import pickle\n",
    "import seaborn as sns\n",
    "import torch\n",
    "import pandas as pd\n",
    "import plotly.express as px"
   ]
  },
  {
   "cell_type": "markdown",
   "metadata": {},
   "source": [
    "## Defining fields for the app\n",
    "\n",
    "* Field types: https://docs.vespa.ai/documentation/reference/schema-reference.html#field-types\n",
    "* Tensor guid: https://docs.vespa.ai/documentation/tensor-user-guide.html"
   ]
  },
  {
   "cell_type": "code",
   "execution_count": 4,
   "metadata": {},
   "outputs": [],
   "source": [
    "from vespa.package import Document, Field\n",
    "from vespa.package import ApplicationPackage\n",
    "\n",
    "document = Document(\n",
    "    fields=[\n",
    "        Field(name = \"id\", type = \"string\", indexing = [\"attribute\", \"summary\"]),\n",
    "        Field(name = \"title\", type = \"string\", indexing = [\"index\", \"summary\"], index = \"enable-bm25\"),\n",
    "        Field(name = \"abstract\", type = \"string\", indexing = [\"index\", \"summary\"], index = \"enable-bm25\"),\n",
    "        Field(name = \"body\", type = \"string\", indexing = [\"index\", \"summary\"], index = \"enable-bm25\"),\n",
    "        Field(name = \"authors\", type = \"string\", indexing = [\"index\", \"summary\"]),\n",
    "        #Field(name = \"publish_date\", type = \"string\", indexing = [\"index\", \"summary\"]),\n",
    "        Field(name = \"sha\", type = \"string\", indexing = [\"index\", \"summary\"]),\n",
    "        Field(name = \"journal\", type = \"string\", indexing = [\"index\", \"summary\"]),\n",
    "        Field(name = \"url\", type = \"string\", indexing = [\"index\", \"summary\"]),\n",
    "        \n",
    "        Field(name = \"title_embedding_bert\", type = \"tensor<float>(x[768]) \", indexing = [\"attribute\", \"summary\"]),\n",
    "        Field(name = \"abstract_embedding_bert\", type = \"tensor<float>(x[768]) \", indexing = [\"attribute\", \"summary\"]),\n",
    "        Field(name = \"title_embedding_scibert\", type = \"tensor<float>(x[768]) \", indexing = [\"attribute\", \"summary\"]),\n",
    "        Field(name = \"abstract_embedding_scibert\", type = \"tensor<float>(x[768]) \", indexing = [\"attribute\", \"summary\"]),\n",
    "        Field(name = \"title_embedding_cordbert\", type = \"tensor<float>(x[768]) \", indexing = [\"attribute\", \"summary\"]),\n",
    "        Field(name = \"abstract_embedding_cordbert\", type = \"tensor<float>(x[768]) \", indexing = [\"attribute\", \"summary\"])\n",
    "    ]\n",
    ")\n",
    "\n",
    "#TODO: Change authors field\n",
    "#TODO: add publish date"
   ]
  },
  {
   "cell_type": "markdown",
   "metadata": {},
   "source": [
    "## Adding Ranking Profiles\n",
    "\n",
    "Reference on some built in ranking funtions\n",
    " * bm25: https://docs.vespa.ai/documentation/reference/bm25.html\n",
    " * nativeRank: https://docs.vespa.ai/documentation/reference/nativerank.html\n",
    "\n",
    "Referances on how to bulid own functions\n",
    " * Features: https://docs.vespa.ai/documentation/reference/rank-features.html\n",
    " * Ranking expressions: https://docs.vespa.ai/documentation/reference/ranking-expressions.html\n",
    " \n",
    "RankProfiles:\n",
    " * bm25w: as suggested by https://github.com/vespa-engine/cord-19/blob/master/cord-19-queries.md"
   ]
  },
  {
   "cell_type": "code",
   "execution_count": 62,
   "metadata": {},
   "outputs": [],
   "source": [
    "from vespa.package import Schema, FieldSet, RankProfile\n",
    "\n",
    "\n",
    "cord_19_schema = Schema(\n",
    "    name = \"cord_19\",\n",
    "    document = document,\n",
    "    fieldsets = [FieldSet(name = \"default\", fields = [\"title\", \"abstract\", \"body\"])],\n",
    "    rank_profiles = [RankProfile(name = \"default\", first_phase = \"nativeRank(title, abstract)\"),\n",
    "                    RankProfile(name = \"bm25\", first_phase = \"bm25(title) + bm25(abstract) + bm25(body)\"),\n",
    "                    RankProfile(name = \"bm25_body\", first_phase = \"bm25(body)\"),\n",
    "                    RankProfile(name = \"bm25_title\", first_phase = \"bm25(title)\"),\n",
    "                    RankProfile(name = \"bm25_abstract\", first_phase = \"bm25(abstract)\"),\n",
    "                    RankProfile(name = \"bm25w\", first_phase = \"0.25*bm25(title)+0.6*bm25(abstract)+0.15*bm25(body)\"),\n",
    "                     \n",
    "                    RankProfile(name = \"cos_sim_bert_title\", first_phase = \"sum(query(tensor)*attribute(title_embedding_bert))\"),\n",
    "                    RankProfile(name = \"cos_sim_bert_abstract\", first_phase = \"sum(query(tensor)*attribute(abstract_embedding_bert))\"),\n",
    "                    RankProfile(name = \"cos_sim_scibert_title\", first_phase = \"sum(query(tensor)*attribute(title_embedding_scibert))\"),\n",
    "                    RankProfile(name = \"cos_sim_scibert_abstract\", first_phase = \"sum(query(tensor)*attribute(abstract_embedding_scibert))\"),\n",
    "                    RankProfile(name = \"cos_sim_cordbert_title\", first_phase = \"sum(query(tensor)*attribute(title_embedding_cordbert))\"),\n",
    "                    RankProfile(name = \"cos_sim_cordbert_abstract\", first_phase = \"sum(query(tensor)*attribute(abstract_embedding_cordbert))\"),\n",
    "                    RankProfile(name = \"linear_regression_multi\", first_phase = \"sum(query(tensor)*attribute(title_embedding_cordbert)*query(linear_layer))\"),\n",
    "                    RankProfile(name = \"linear_regression_substract\", first_phase = \"sum(map(attribute(title_embedding_cordbert) - query(tensor),f(x)(if(x < 0, -x, x)))*query(linear_layer))\"),\n",
    "                    RankProfile(name = \"linear_regression_concat\", first_phase = \"sum(concat(query(tensor),attribute(title_embedding_cordbert),x)*query(linear_layer_long))\") \n",
    "        \n",
    "\n",
    "                    ]\n",
    ")"
   ]
  },
  {
   "cell_type": "code",
   "execution_count": null,
   "metadata": {},
   "outputs": [],
   "source": []
  },
  {
   "cell_type": "markdown",
   "metadata": {},
   "source": []
  },
  {
   "cell_type": "code",
   "execution_count": null,
   "metadata": {},
   "outputs": [],
   "source": []
  },
  {
   "cell_type": "code",
   "execution_count": 63,
   "metadata": {},
   "outputs": [],
   "source": [
    "\n",
    "\n",
    "app_package = ApplicationPackage(name = \"cord_19\", schema=cord_19_schema)\n",
    "\n"
   ]
  },
  {
   "cell_type": "code",
   "execution_count": 7,
   "metadata": {},
   "outputs": [
    {
     "name": "stdout",
     "output_type": "stream",
     "text": [
      "sum(map(reduce(join(attribute(title_embedding_cordbert)*query(tensor),query(hidden_layer),f(x,y)(x*y)),sum, y),f(x)(max(0,x)))*query(linear_layer))+query(bias_b)\n"
     ]
    }
   ],
   "source": [
    "\n",
    "\n",
    "hidden_layer = \"query(hidden_layer)\"\n",
    "doc_embedding = \"attribute(title_embedding_cordbert)\"\n",
    "query_embedding = \"query(tensor)\"\n",
    "bias_1 = \"query(bias_a)\"\n",
    "bias_2 = \"query(bias_b)\"\n",
    "lin_layer = \"query(linear_layer)\"\n",
    "\n",
    "\n",
    "comb = doc_embedding + \"*\" + query_embedding \n",
    "out_hidden = \"join(\" + comb + \",\" + hidden_layer + \",f(x,y)(x*y))\" # xw_plus_b(x,w,b,dim)\n",
    "out_hidden = \"reduce(\" + out_hidden + \",sum, y)\"\n",
    "add_bias = \"join(\" + out_hidden + \",\" + bias_1 + \",f(x,y)(x + y))\"\n",
    "re_lu =  \"map(\" + out_hidden + \",f(x)(max(0,x)))\"                # map(t, f(x)(max(0,x)))\n",
    "rank = \"sum(\" + re_lu + \"*\" + lin_layer + \")\"\n",
    "rank = rank +\"+\"+ bias_2\n",
    "\n",
    "print(rank)\n",
    "\n",
    "rank = \"sum(attribute(title_embedding_cordbert))\"\n",
    "\n",
    "\n",
    "app_package.schema.add_rank_profile(\n",
    "                RankProfile(name = \"deep_model\",\n",
    "                inherits = \"default\",\n",
    "                first_phase = rank))\n"
   ]
  },
  {
   "cell_type": "code",
   "execution_count": 8,
   "metadata": {},
   "outputs": [],
   "source": [
    "from vespa.package import ApplicationPackage, Field, QueryTypeField, RankProfile\n",
    "\n",
    "app_package.query_profile_type.add_fields(        \n",
    "    QueryTypeField(\n",
    "        name=\"ranking.features.query(tensor)\",\n",
    "        type=\"tensor<float>(x[768])\"\n",
    "    )\n",
    ")\n",
    "\n",
    "app_package.query_profile_type.add_fields(        \n",
    "    QueryTypeField(\n",
    "        name=\"ranking.features.query(linear_layer)\",\n",
    "        type=\"tensor<float>(x[768])\"\n",
    "    )\n",
    ")\n",
    "\n",
    "app_package.query_profile_type.add_fields(        \n",
    "    QueryTypeField(\n",
    "        name=\"ranking.features.query(linear_layer_long)\",\n",
    "        type=\"tensor<float>(x[1536])\"\n",
    "    )\n",
    ")\n",
    "\n",
    "app_package.query_profile_type.add_fields(        \n",
    "    QueryTypeField(\n",
    "        name=\"ranking.features.query(hidden_layer)\",\n",
    "        type=\"tensor<float>(x[768],y[768])\"\n",
    "    )\n",
    ")\n",
    "\n",
    "app_package.query_profile_type.add_fields(        \n",
    "    QueryTypeField(\n",
    "        name=\"ranking.features.query(linear_layer_64)\",\n",
    "        type=\"tensor<float>(x[64])\"\n",
    "    )\n",
    ")\n",
    "\n",
    "\n",
    "\n",
    "app_package.query_profile_type.add_fields(        \n",
    "    QueryTypeField(\n",
    "        name=\"ranking.features.query(bias_a)\",\n",
    "        type=\"tensor<float>(x[768])\"\n",
    "    )\n",
    ")\n",
    "\n",
    "app_package.query_profile_type.add_fields(        \n",
    "    QueryTypeField(\n",
    "        name=\"ranking.features.query(bias_b)\",\n",
    "        type=\"float\"\n",
    "    )\n",
    ")\n",
    "\n",
    "\n",
    "\n"
   ]
  },
  {
   "cell_type": "markdown",
   "metadata": {},
   "source": [
    "## Connecting to Docker Container"
   ]
  },
  {
   "cell_type": "code",
   "execution_count": 60,
   "metadata": {},
   "outputs": [],
   "source": [
    "from vespa.package import VespaDocker\n",
    "\n",
    "vespa_docker = VespaDocker()"
   ]
  },
  {
   "cell_type": "code",
   "execution_count": 64,
   "metadata": {
    "scrolled": true
   },
   "outputs": [],
   "source": [
    "name = \"cord_19_application\"\n",
    "\n",
    "path = \"C:\\\\Users\\\\User\\\\OneDrive - NTNU\\\\NTNU\\\\Prosjekt oppgave NLP\\\\docker_apps\\\\\"\n",
    "\n",
    "\n",
    "app = vespa_docker.deploy(application_package=app_package, \n",
    "                          disk_folder=path + name,\n",
    "                          container_memory = '8G')"
   ]
  },
  {
   "cell_type": "markdown",
   "metadata": {},
   "source": [
    "## Loading dataset \n",
    "\n",
    "Only relevant data"
   ]
  },
  {
   "cell_type": "code",
   "execution_count": 11,
   "metadata": {},
   "outputs": [
    {
     "name": "stderr",
     "output_type": "stream",
     "text": [
      "C:\\Users\\User\\AppData\\Local\\Continuum\\anaconda3\\lib\\site-packages\\IPython\\core\\interactiveshell.py:3063: DtypeWarning: Columns (15) have mixed types.Specify dtype option on import or set low_memory=False.\n",
      "  interactivity=interactivity, compiler=compiler, result=result)\n"
     ]
    },
    {
     "data": {
      "text/plain": [
       "(37279, 21)"
      ]
     },
     "execution_count": 11,
     "metadata": {},
     "output_type": "execute_result"
    }
   ],
   "source": [
    "from pandas import read_csv\n",
    "\n",
    "path = \"C:\\\\Users\\\\User\\\\OneDrive - NTNU\\\\NTNU\\\\Prosjekt oppgave NLP\\\\dataset\\\\CORD-19\\\\\"\n",
    "docs = read_csv(path + \"crod_19_only_rel.csv\")\n",
    "docs.shape"
   ]
  },
  {
   "cell_type": "code",
   "execution_count": 12,
   "metadata": {},
   "outputs": [
    {
     "data": {
      "text/html": [
       "<div>\n",
       "<style scoped>\n",
       "    .dataframe tbody tr th:only-of-type {\n",
       "        vertical-align: middle;\n",
       "    }\n",
       "\n",
       "    .dataframe tbody tr th {\n",
       "        vertical-align: top;\n",
       "    }\n",
       "\n",
       "    .dataframe thead th {\n",
       "        text-align: right;\n",
       "    }\n",
       "</style>\n",
       "<table border=\"1\" class=\"dataframe\">\n",
       "  <thead>\n",
       "    <tr style=\"text-align: right;\">\n",
       "      <th></th>\n",
       "      <th>Unnamed: 0</th>\n",
       "      <th>cord_uid</th>\n",
       "      <th>sha</th>\n",
       "      <th>source_x</th>\n",
       "      <th>title</th>\n",
       "      <th>doi</th>\n",
       "      <th>pmcid</th>\n",
       "      <th>pubmed_id</th>\n",
       "      <th>license</th>\n",
       "      <th>abstract</th>\n",
       "      <th>...</th>\n",
       "      <th>authors</th>\n",
       "      <th>journal</th>\n",
       "      <th>mag_id</th>\n",
       "      <th>who_covidence_id</th>\n",
       "      <th>arxiv_id</th>\n",
       "      <th>pdf_json_files</th>\n",
       "      <th>pmc_json_files</th>\n",
       "      <th>url</th>\n",
       "      <th>s2_id</th>\n",
       "      <th>body_text</th>\n",
       "    </tr>\n",
       "  </thead>\n",
       "  <tbody>\n",
       "    <tr>\n",
       "      <th>0</th>\n",
       "      <td>3</td>\n",
       "      <td>2b73a28n</td>\n",
       "      <td>348055649b6b8cf2b9a376498df9bf41f7123605</td>\n",
       "      <td>PMC</td>\n",
       "      <td>Role of endothelin-1 in lung disease</td>\n",
       "      <td>10.1186/rr44</td>\n",
       "      <td>PMC59574</td>\n",
       "      <td>11686871.0</td>\n",
       "      <td>no-cc</td>\n",
       "      <td>Endothelin-1 (ET-1) is a 21 amino acid peptide...</td>\n",
       "      <td>...</td>\n",
       "      <td>Fagan, Karen A; McMurtry, Ivan F; Rodman, David M</td>\n",
       "      <td>Respir Res</td>\n",
       "      <td>NaN</td>\n",
       "      <td>NaN</td>\n",
       "      <td>NaN</td>\n",
       "      <td>document_parses/pdf_json/348055649b6b8cf2b9a37...</td>\n",
       "      <td>document_parses/pmc_json/PMC59574.xml.json</td>\n",
       "      <td>https://www.ncbi.nlm.nih.gov/pmc/articles/PMC5...</td>\n",
       "      <td>NaN</td>\n",
       "      <td>from xenopus laevis [16] . eta receptors in no...</td>\n",
       "    </tr>\n",
       "    <tr>\n",
       "      <th>1</th>\n",
       "      <td>5</td>\n",
       "      <td>zjufx4fo</td>\n",
       "      <td>b2897e1277f56641193a6db73825f707eed3e4c9</td>\n",
       "      <td>PMC</td>\n",
       "      <td>Sequence requirements for RNA strand transfer ...</td>\n",
       "      <td>10.1093/emboj/20.24.7220</td>\n",
       "      <td>PMC125340</td>\n",
       "      <td>11742998.0</td>\n",
       "      <td>green-oa</td>\n",
       "      <td>Nidovirus subgenomic mRNAs contain a leader se...</td>\n",
       "      <td>...</td>\n",
       "      <td>Pasternak, Alexander O.; van den Born, Erwin; ...</td>\n",
       "      <td>The EMBO Journal</td>\n",
       "      <td>NaN</td>\n",
       "      <td>NaN</td>\n",
       "      <td>NaN</td>\n",
       "      <td>document_parses/pdf_json/b2897e1277f56641193a6...</td>\n",
       "      <td>document_parses/pmc_json/PMC125340.xml.json</td>\n",
       "      <td>http://europepmc.org/articles/pmc125340?pdf=re...</td>\n",
       "      <td>NaN</td>\n",
       "      <td>the genetic information of rna viruses is orga...</td>\n",
       "    </tr>\n",
       "    <tr>\n",
       "      <th>2</th>\n",
       "      <td>7</td>\n",
       "      <td>8zchiykl</td>\n",
       "      <td>5806726a24dc91de3954001effbdffd7a82d54e2</td>\n",
       "      <td>PMC</td>\n",
       "      <td>The 21st International Symposium on Intensive ...</td>\n",
       "      <td>10.1186/cc1013</td>\n",
       "      <td>PMC137274</td>\n",
       "      <td>11353930.0</td>\n",
       "      <td>no-cc</td>\n",
       "      <td>The 21st International Symposium on Intensive ...</td>\n",
       "      <td>...</td>\n",
       "      <td>Ball, Jonathan; Venn, Richard</td>\n",
       "      <td>Crit Care</td>\n",
       "      <td>NaN</td>\n",
       "      <td>NaN</td>\n",
       "      <td>NaN</td>\n",
       "      <td>document_parses/pdf_json/5806726a24dc91de39540...</td>\n",
       "      <td>document_parses/pmc_json/PMC137274.xml.json</td>\n",
       "      <td>https://www.ncbi.nlm.nih.gov/pmc/articles/PMC1...</td>\n",
       "      <td>NaN</td>\n",
       "      <td>this year's symposium was dominated by the res...</td>\n",
       "    </tr>\n",
       "    <tr>\n",
       "      <th>3</th>\n",
       "      <td>10</td>\n",
       "      <td>5tkvsudh</td>\n",
       "      <td>9d4e3e8eb092d5ed282d0aa4aadcaa8b7165b5e9</td>\n",
       "      <td>PMC</td>\n",
       "      <td>Conservation of polyamine regulation by transl...</td>\n",
       "      <td>10.1093/emboj/19.8.1907</td>\n",
       "      <td>PMC302018</td>\n",
       "      <td>10775274.0</td>\n",
       "      <td>no-cc</td>\n",
       "      <td>Regulation of ornithine decarboxylase in verte...</td>\n",
       "      <td>...</td>\n",
       "      <td>Ivanov, Ivaylo P.; Matsufuji, Senya; Murakami,...</td>\n",
       "      <td>EMBO J</td>\n",
       "      <td>NaN</td>\n",
       "      <td>NaN</td>\n",
       "      <td>NaN</td>\n",
       "      <td>document_parses/pdf_json/9d4e3e8eb092d5ed282d0...</td>\n",
       "      <td>document_parses/pmc_json/PMC302018.xml.json</td>\n",
       "      <td>https://www.ncbi.nlm.nih.gov/pmc/articles/PMC3...</td>\n",
       "      <td>NaN</td>\n",
       "      <td>the ef®ciency of +1 ribosomal frameshifting at...</td>\n",
       "    </tr>\n",
       "    <tr>\n",
       "      <th>4</th>\n",
       "      <td>12</td>\n",
       "      <td>tvxpckxo</td>\n",
       "      <td>d09b79026117ec9faebba46a8d13aa9b23ec751e</td>\n",
       "      <td>PMC</td>\n",
       "      <td>A Method to Identify p62's UBA Domain Interact...</td>\n",
       "      <td>10.1251/bpo66</td>\n",
       "      <td>PMC302190</td>\n",
       "      <td>14702098.0</td>\n",
       "      <td>no-cc</td>\n",
       "      <td>The UBA domain is a conserved sequence motif a...</td>\n",
       "      <td>...</td>\n",
       "      <td>Pridgeon, Julia W.; Geetha, Thangiah; Wooten, ...</td>\n",
       "      <td>Biol Proced Online</td>\n",
       "      <td>NaN</td>\n",
       "      <td>NaN</td>\n",
       "      <td>NaN</td>\n",
       "      <td>document_parses/pdf_json/d09b79026117ec9faebba...</td>\n",
       "      <td>document_parses/pmc_json/PMC302190.xml.json</td>\n",
       "      <td>https://www.ncbi.nlm.nih.gov/pmc/articles/PMC3...</td>\n",
       "      <td>NaN</td>\n",
       "      <td>p62 is a novel cellular protein which was init...</td>\n",
       "    </tr>\n",
       "  </tbody>\n",
       "</table>\n",
       "<p>5 rows × 21 columns</p>\n",
       "</div>"
      ],
      "text/plain": [
       "   Unnamed: 0  cord_uid                                       sha source_x  \\\n",
       "0           3  2b73a28n  348055649b6b8cf2b9a376498df9bf41f7123605      PMC   \n",
       "1           5  zjufx4fo  b2897e1277f56641193a6db73825f707eed3e4c9      PMC   \n",
       "2           7  8zchiykl  5806726a24dc91de3954001effbdffd7a82d54e2      PMC   \n",
       "3          10  5tkvsudh  9d4e3e8eb092d5ed282d0aa4aadcaa8b7165b5e9      PMC   \n",
       "4          12  tvxpckxo  d09b79026117ec9faebba46a8d13aa9b23ec751e      PMC   \n",
       "\n",
       "                                               title  \\\n",
       "0               Role of endothelin-1 in lung disease   \n",
       "1  Sequence requirements for RNA strand transfer ...   \n",
       "2  The 21st International Symposium on Intensive ...   \n",
       "3  Conservation of polyamine regulation by transl...   \n",
       "4  A Method to Identify p62's UBA Domain Interact...   \n",
       "\n",
       "                        doi      pmcid   pubmed_id   license  \\\n",
       "0              10.1186/rr44   PMC59574  11686871.0     no-cc   \n",
       "1  10.1093/emboj/20.24.7220  PMC125340  11742998.0  green-oa   \n",
       "2            10.1186/cc1013  PMC137274  11353930.0     no-cc   \n",
       "3   10.1093/emboj/19.8.1907  PMC302018  10775274.0     no-cc   \n",
       "4             10.1251/bpo66  PMC302190  14702098.0     no-cc   \n",
       "\n",
       "                                            abstract  ...  \\\n",
       "0  Endothelin-1 (ET-1) is a 21 amino acid peptide...  ...   \n",
       "1  Nidovirus subgenomic mRNAs contain a leader se...  ...   \n",
       "2  The 21st International Symposium on Intensive ...  ...   \n",
       "3  Regulation of ornithine decarboxylase in verte...  ...   \n",
       "4  The UBA domain is a conserved sequence motif a...  ...   \n",
       "\n",
       "                                             authors             journal  \\\n",
       "0  Fagan, Karen A; McMurtry, Ivan F; Rodman, David M          Respir Res   \n",
       "1  Pasternak, Alexander O.; van den Born, Erwin; ...    The EMBO Journal   \n",
       "2                      Ball, Jonathan; Venn, Richard           Crit Care   \n",
       "3  Ivanov, Ivaylo P.; Matsufuji, Senya; Murakami,...              EMBO J   \n",
       "4  Pridgeon, Julia W.; Geetha, Thangiah; Wooten, ...  Biol Proced Online   \n",
       "\n",
       "  mag_id  who_covidence_id arxiv_id  \\\n",
       "0    NaN               NaN      NaN   \n",
       "1    NaN               NaN      NaN   \n",
       "2    NaN               NaN      NaN   \n",
       "3    NaN               NaN      NaN   \n",
       "4    NaN               NaN      NaN   \n",
       "\n",
       "                                      pdf_json_files  \\\n",
       "0  document_parses/pdf_json/348055649b6b8cf2b9a37...   \n",
       "1  document_parses/pdf_json/b2897e1277f56641193a6...   \n",
       "2  document_parses/pdf_json/5806726a24dc91de39540...   \n",
       "3  document_parses/pdf_json/9d4e3e8eb092d5ed282d0...   \n",
       "4  document_parses/pdf_json/d09b79026117ec9faebba...   \n",
       "\n",
       "                                pmc_json_files  \\\n",
       "0   document_parses/pmc_json/PMC59574.xml.json   \n",
       "1  document_parses/pmc_json/PMC125340.xml.json   \n",
       "2  document_parses/pmc_json/PMC137274.xml.json   \n",
       "3  document_parses/pmc_json/PMC302018.xml.json   \n",
       "4  document_parses/pmc_json/PMC302190.xml.json   \n",
       "\n",
       "                                                 url s2_id  \\\n",
       "0  https://www.ncbi.nlm.nih.gov/pmc/articles/PMC5...   NaN   \n",
       "1  http://europepmc.org/articles/pmc125340?pdf=re...   NaN   \n",
       "2  https://www.ncbi.nlm.nih.gov/pmc/articles/PMC1...   NaN   \n",
       "3  https://www.ncbi.nlm.nih.gov/pmc/articles/PMC3...   NaN   \n",
       "4  https://www.ncbi.nlm.nih.gov/pmc/articles/PMC3...   NaN   \n",
       "\n",
       "                                           body_text  \n",
       "0  from xenopus laevis [16] . eta receptors in no...  \n",
       "1  the genetic information of rna viruses is orga...  \n",
       "2  this year's symposium was dominated by the res...  \n",
       "3  the ef®ciency of +1 ribosomal frameshifting at...  \n",
       "4  p62 is a novel cellular protein which was init...  \n",
       "\n",
       "[5 rows x 21 columns]"
      ]
     },
     "execution_count": 12,
     "metadata": {},
     "output_type": "execute_result"
    }
   ],
   "source": [
    "docs.head()"
   ]
  },
  {
   "cell_type": "markdown",
   "metadata": {},
   "source": [
    "## Loading BERT models"
   ]
  },
  {
   "cell_type": "code",
   "execution_count": 13,
   "metadata": {},
   "outputs": [
    {
     "name": "stderr",
     "output_type": "stream",
     "text": [
      "C:\\Users\\User\\AppData\\Local\\Continuum\\anaconda3\\lib\\site-packages\\tensorflow\\python\\framework\\dtypes.py:526: FutureWarning: Passing (type, 1) or '1type' as a synonym of type is deprecated; in a future version of numpy, it will be understood as (type, (1,)) / '(1,)type'.\n",
      "  _np_qint8 = np.dtype([(\"qint8\", np.int8, 1)])\n",
      "C:\\Users\\User\\AppData\\Local\\Continuum\\anaconda3\\lib\\site-packages\\tensorflow\\python\\framework\\dtypes.py:527: FutureWarning: Passing (type, 1) or '1type' as a synonym of type is deprecated; in a future version of numpy, it will be understood as (type, (1,)) / '(1,)type'.\n",
      "  _np_quint8 = np.dtype([(\"quint8\", np.uint8, 1)])\n",
      "C:\\Users\\User\\AppData\\Local\\Continuum\\anaconda3\\lib\\site-packages\\tensorflow\\python\\framework\\dtypes.py:528: FutureWarning: Passing (type, 1) or '1type' as a synonym of type is deprecated; in a future version of numpy, it will be understood as (type, (1,)) / '(1,)type'.\n",
      "  _np_qint16 = np.dtype([(\"qint16\", np.int16, 1)])\n",
      "C:\\Users\\User\\AppData\\Local\\Continuum\\anaconda3\\lib\\site-packages\\tensorflow\\python\\framework\\dtypes.py:529: FutureWarning: Passing (type, 1) or '1type' as a synonym of type is deprecated; in a future version of numpy, it will be understood as (type, (1,)) / '(1,)type'.\n",
      "  _np_quint16 = np.dtype([(\"quint16\", np.uint16, 1)])\n",
      "C:\\Users\\User\\AppData\\Local\\Continuum\\anaconda3\\lib\\site-packages\\tensorflow\\python\\framework\\dtypes.py:530: FutureWarning: Passing (type, 1) or '1type' as a synonym of type is deprecated; in a future version of numpy, it will be understood as (type, (1,)) / '(1,)type'.\n",
      "  _np_qint32 = np.dtype([(\"qint32\", np.int32, 1)])\n",
      "C:\\Users\\User\\AppData\\Local\\Continuum\\anaconda3\\lib\\site-packages\\tensorflow\\python\\framework\\dtypes.py:535: FutureWarning: Passing (type, 1) or '1type' as a synonym of type is deprecated; in a future version of numpy, it will be understood as (type, (1,)) / '(1,)type'.\n",
      "  np_resource = np.dtype([(\"resource\", np.ubyte, 1)])\n",
      "C:\\Users\\User\\AppData\\Local\\Continuum\\anaconda3\\lib\\site-packages\\tensorboard\\compat\\tensorflow_stub\\dtypes.py:541: FutureWarning: Passing (type, 1) or '1type' as a synonym of type is deprecated; in a future version of numpy, it will be understood as (type, (1,)) / '(1,)type'.\n",
      "  _np_qint8 = np.dtype([(\"qint8\", np.int8, 1)])\n",
      "C:\\Users\\User\\AppData\\Local\\Continuum\\anaconda3\\lib\\site-packages\\tensorboard\\compat\\tensorflow_stub\\dtypes.py:542: FutureWarning: Passing (type, 1) or '1type' as a synonym of type is deprecated; in a future version of numpy, it will be understood as (type, (1,)) / '(1,)type'.\n",
      "  _np_quint8 = np.dtype([(\"quint8\", np.uint8, 1)])\n",
      "C:\\Users\\User\\AppData\\Local\\Continuum\\anaconda3\\lib\\site-packages\\tensorboard\\compat\\tensorflow_stub\\dtypes.py:543: FutureWarning: Passing (type, 1) or '1type' as a synonym of type is deprecated; in a future version of numpy, it will be understood as (type, (1,)) / '(1,)type'.\n",
      "  _np_qint16 = np.dtype([(\"qint16\", np.int16, 1)])\n",
      "C:\\Users\\User\\AppData\\Local\\Continuum\\anaconda3\\lib\\site-packages\\tensorboard\\compat\\tensorflow_stub\\dtypes.py:544: FutureWarning: Passing (type, 1) or '1type' as a synonym of type is deprecated; in a future version of numpy, it will be understood as (type, (1,)) / '(1,)type'.\n",
      "  _np_quint16 = np.dtype([(\"quint16\", np.uint16, 1)])\n",
      "C:\\Users\\User\\AppData\\Local\\Continuum\\anaconda3\\lib\\site-packages\\tensorboard\\compat\\tensorflow_stub\\dtypes.py:545: FutureWarning: Passing (type, 1) or '1type' as a synonym of type is deprecated; in a future version of numpy, it will be understood as (type, (1,)) / '(1,)type'.\n",
      "  _np_qint32 = np.dtype([(\"qint32\", np.int32, 1)])\n",
      "C:\\Users\\User\\AppData\\Local\\Continuum\\anaconda3\\lib\\site-packages\\tensorboard\\compat\\tensorflow_stub\\dtypes.py:550: FutureWarning: Passing (type, 1) or '1type' as a synonym of type is deprecated; in a future version of numpy, it will be understood as (type, (1,)) / '(1,)type'.\n",
      "  np_resource = np.dtype([(\"resource\", np.ubyte, 1)])\n"
     ]
    }
   ],
   "source": [
    "from transformers import AutoTokenizer, AutoModel\n",
    "from transformers import BertTokenizer, BertModel"
   ]
  },
  {
   "cell_type": "code",
   "execution_count": 14,
   "metadata": {},
   "outputs": [],
   "source": [
    "\n",
    "bert_tokenizer = BertTokenizer.from_pretrained('bert-base-uncased')\n",
    "bert_model = BertModel.from_pretrained('bert-base-uncased')\n",
    "\n",
    "scibert_tokenizer = AutoTokenizer.from_pretrained(\"allenai/scibert_scivocab_uncased\")\n",
    "scibert_model = AutoModel.from_pretrained(\"allenai/scibert_scivocab_uncased\")\n",
    "\n",
    "covid_tokenizer = AutoTokenizer.from_pretrained(\"gsarti/covidbert-nli\")\n",
    "covid_model = AutoModel.from_pretrained(\"gsarti/covidbert-nli\")\n"
   ]
  },
  {
   "cell_type": "code",
   "execution_count": 15,
   "metadata": {},
   "outputs": [],
   "source": [
    "def tokenize(model, tokenizer, sentence):\n",
    "    # Tokens comes from a process that splits the input into sub-entities with interesting linguistic properties.\n",
    "    tokens = tokenizer.tokenize(sentence.lower())\n",
    "\n",
    "    # This is not sufficient for the model, as it requires integers as input,\n",
    "    # not a problem, let's convert tokens to ids.\n",
    "    tokens_ids = tokenizer.convert_tokens_to_ids(tokens)\n",
    "    # print(tokens_ids)\n",
    "\n",
    "    # Add the required special tokens\n",
    "    tokens_ids = tokenizer.build_inputs_with_special_tokens(tokens_ids)\n",
    "    # print(tokens_ids)\n",
    "\n",
    "    # We need to convert to a Deep Learning framework specific format, let's use PyTorch for now.\n",
    "    tokens_pt = torch.tensor([tokens_ids])\n",
    "\n",
    "    # The length of the tokens can not be more than 512\n",
    "    if len(tokens_pt[0]) > 512:\n",
    "        tokens_pt = torch.tensor([tokens_pt[0][0:512].tolist()])\n",
    "\n",
    "    # Now we're ready to go through BERT with out input\n",
    "    outputs, pooled = model(tokens_pt)\n",
    "    \n",
    "    #normalize tensor so norm(t)=1\n",
    "    norm = torch.norm(pooled)\n",
    "    if norm>0:\n",
    "        pooled = pooled/norm\n",
    "    return pooled"
   ]
  },
  {
   "cell_type": "code",
   "execution_count": 16,
   "metadata": {},
   "outputs": [],
   "source": [
    "def bert_encoder(sentence):\n",
    "    return tokenize(bert_model, bert_tokenizer, sentence)[0].tolist()\n",
    "\n",
    "def scibert_encoder(sentence):\n",
    "    return tokenize(scibert_model, scibert_tokenizer, sentence)[0].tolist()\n",
    "\n",
    "def covidbert_encoder(sentence):\n",
    "    return tokenize(covid_model, covid_tokenizer, sentence)[0].tolist()\n",
    "\n"
   ]
  },
  {
   "cell_type": "markdown",
   "metadata": {},
   "source": [
    "## Feeding data "
   ]
  },
  {
   "cell_type": "code",
   "execution_count": 1,
   "metadata": {},
   "outputs": [],
   "source": [
    "# Takes in a torch tensor and normalizes so ||t|| = 1\n",
    "# Returns tensor on list form because this is required by vespa\n",
    "def normalize(tensor):\n",
    "    vec = []\n",
    "    norm = torch.norm(tensor)\n",
    "    if norm>0:\n",
    "        vec = tensor/norm\n",
    "    return vec.tolist()"
   ]
  },
  {
   "cell_type": "code",
   "execution_count": null,
   "metadata": {},
   "outputs": [],
   "source": [
    "start = time.time()\n",
    "m = start\n",
    "\n",
    "embedding_path = \"C:/Users/User/Documents/NTNU/NLP/CORD-19/Embeddings/786/\"\n",
    "for idx, row in docs.iterrows():\n",
    "    if True:\n",
    "        if (idx % 5000 == 0):\n",
    "            # Each loop about 10 min or 600 s\n",
    "            print(idx,\" : \" ,idx)\n",
    "            print(\"Time:\", round(time.time() - m,1))\n",
    "            m = time.time()\n",
    "        \n",
    "        #print(len(row[\"title\"]), end = \"  \")\n",
    "        cord_uid = row[\"cord_uid\"]\n",
    "        embedding = {}\n",
    "        file_embedding = embedding_path + cord_uid + \".txt\"\n",
    "        with open(file_embedding, \"rb\") as fp:   # Unpickling\n",
    "            embedding = pickle.load(fp)\n",
    "        #print(embedding[\"models\"]['bert-base-uncased'][\"title\"][0].tolist())\n",
    "        response = app.feed_data_point(\n",
    "            schema = \"cord_19\",\n",
    "            data_id = str(row[\"cord_uid\"]),\n",
    "            fields = {\n",
    "                \"id\": str(row[\"cord_uid\"]),\n",
    "                \"title\": str(row[\"title\"]),\n",
    "                \"abstract\": str(row[\"abstract\"]),\n",
    "                \"body\": str(row[\"body_text\"]),\n",
    "                \"authors\": row[\"authors\"],\n",
    "                \"sha\": row[\"sha\"],\n",
    "                \"journal\": row[\"journal\"],\n",
    "                \"url\": row[\"url\"],\n",
    "                \n",
    "                \"title_embedding_bert\": {\"values\": normalize(embedding[\"models\"]['bert-base-uncased'][\"title\"][0])},\n",
    "                \"abstract_embedding_bert\": {\"values\": normalize(embedding[\"models\"]['bert-base-uncased'][\"abstract\"][0])},\n",
    "                \"title_embedding_scibert\": {\"values\": normalize(embedding[\"models\"][\"allenai/scibert_scivocab_uncased\"][\"title\"][0])},\n",
    "                \"abstract_embedding_scibert\": {\"values\": normalize(embedding[\"models\"][\"allenai/scibert_scivocab_uncased\"][\"abstract\"][0])},\n",
    "                \"title_embedding_cordbert\": {\"values\": normalize(embedding[\"models\"][\"gsarti/covidbert-nli\"][\"title\"][0])},\n",
    "                \"abstract_embedding_cordbert\": {\"values\": normalize(embedding[\"models\"][\"gsarti/covidbert-nli\"][\"abstract\"][0])} \n",
    "            }\n",
    "        )"
   ]
  },
  {
   "cell_type": "code",
   "execution_count": null,
   "metadata": {},
   "outputs": [],
   "source": []
  },
  {
   "cell_type": "markdown",
   "metadata": {},
   "source": [
    "### Loading labeled data"
   ]
  },
  {
   "cell_type": "code",
   "execution_count": 17,
   "metadata": {},
   "outputs": [],
   "source": [
    "path = \"C:\\\\Users\\\\User\\\\OneDrive - NTNU\\\\NTNU\\\\Prosjekt oppgave NLP\\\\dataset\\\\CORD-19\\\\\"\n",
    "\n",
    "labeled_data = []\n",
    "with open(path + \"labeled_data_cord_19.txt\", \"rb\") as fp:   # Unpickling\n",
    "    labeled_data = pickle.load(fp)\n"
   ]
  },
  {
   "cell_type": "code",
   "execution_count": 18,
   "metadata": {},
   "outputs": [],
   "source": [
    "path = \"C:\\\\Users\\\\User\\\\OneDrive - NTNU\\\\NTNU\\\\Prosjekt oppgave NLP\\\\dataset\\\\CORD-19\\\\\"\n",
    "\n",
    "labeled_data_question = []\n",
    "with open(path + \"labeled_data_cord_19_question.txt\", \"rb\") as fp:   # Unpickling\n",
    "    labeled_data_question = pickle.load(fp)"
   ]
  },
  {
   "cell_type": "code",
   "execution_count": 19,
   "metadata": {},
   "outputs": [],
   "source": [
    "path = \"C:\\\\Users\\\\User\\\\OneDrive - NTNU\\\\NTNU\\\\Prosjekt oppgave NLP\\\\dataset\\\\CORD-19\\\\\"\n",
    "\n",
    "# These topic cause issues for ndcg for some reason\n",
    "# ,but not for the other metrics\n",
    "exclude_list = [4,8,13,16,31,32,49]\n",
    "labeled_data_exclude = []\n",
    "with open(path + \"labeled_data_cord_19_exclude.txt\", \"rb\") as fp:   # Unpickling\n",
    "    labeled_data_exclude = pickle.load(fp)"
   ]
  },
  {
   "cell_type": "code",
   "execution_count": 20,
   "metadata": {},
   "outputs": [],
   "source": [
    "path = \"C:\\\\Users\\\\User\\\\OneDrive - NTNU\\\\NTNU\\\\Prosjekt oppgave NLP\\\\dataset\\\\CORD-19\\\\\"\n",
    "\n",
    "# only the topics 36-50 \n",
    "# For evaluation learning models\n",
    "labeled_data_first_topics = []\n",
    "with open(path + \"labeled_data_cord_19_topic_1_35.txt\", \"rb\") as fp:   # Unpickling\n",
    "    labeled_data_first_topics = pickle.load(fp)"
   ]
  },
  {
   "cell_type": "code",
   "execution_count": 21,
   "metadata": {},
   "outputs": [],
   "source": [
    "path = \"C:\\\\Users\\\\User\\\\OneDrive - NTNU\\\\NTNU\\\\Prosjekt oppgave NLP\\\\dataset\\\\CORD-19\\\\\"\n",
    "\n",
    "# only the topics 36-50 \n",
    "# For evaluation learning models\n",
    "labeled_data_last_topics = []\n",
    "with open(path + \"labeled_data_cord_19_topic_36_50.txt\", \"rb\") as fp:   # Unpickling\n",
    "    labeled_data_last_topics = pickle.load(fp)"
   ]
  },
  {
   "cell_type": "markdown",
   "metadata": {},
   "source": [
    "## Learing models:"
   ]
  },
  {
   "cell_type": "code",
   "execution_count": 83,
   "metadata": {},
   "outputs": [],
   "source": [
    "def simple_linreg_3_class(x):\n",
    "    return [-104.92164611816406, 67.773193359375, 18.0727481842041, -57.288578033447266, -54.86625289916992, -121.02210998535156, -38.8564567565918, 191.35922241210938, -5.0520405769348145, 53.92820739746094, 120.87737274169922, 66.43340301513672, -58.665283203125, -18.797203063964844, 5.787232875823975, -42.39042663574219, 7.365428924560547, -51.55762481689453, 27.737533569335938, -30.082237243652344, 34.754390716552734, -54.216243743896484, -85.36261749267578, 31.590076446533203, -227.89894104003906, -13.268838882446289, 27.370155334472656, 161.7223358154297, -11.23762321472168, -37.479576110839844, 16.738719940185547, -134.49966430664062, -3.766587257385254, 99.54354858398438, 1.6402342319488525, 15.845108032226562, -19.84698486328125, 98.45846557617188, 13.651260375976562, -190.55526733398438, -28.10480308532715, -215.4381866455078, -20.431516647338867, -17.55823516845703, -55.160858154296875, -361.5133972167969, -1.0937743186950684, -31.678665161132812, -76.64095306396484, -16.95630645751953, 28.811912536621094, -3.668766975402832, -57.15723419189453, 153.78057861328125, -57.38565444946289, 82.55632781982422, -269.2079772949219, -187.6962127685547, -15.305190086364746, -65.64583587646484, -9.252490043640137, 42.603763580322266, -80.04167175292969, -49.15602111816406, -30.852264404296875, -71.16804504394531, 517.6353759765625, -164.66217041015625, 216.59768676757812, 37.0073127746582, 54.40861129760742, -110.6803970336914, -26.56203269958496, 49.14006423950195, -39.04497146606445, 193.4814910888672, 6.798913955688477, 68.22575378417969, -4.612884521484375, -267.79852294921875, 29.360851287841797, 18.681468963623047, 65.58209228515625, 29.926544189453125, 51.623748779296875, 66.39525604248047, -76.11492919921875, -46.989742279052734, -41.87985610961914, 199.05628967285156, -5.70697546005249, 371.7994079589844, -57.758216857910156, 34.291786193847656, -5.20289945602417, -105.1949691772461, 46.475711822509766, 14.519928932189941, 251.64466857910156, -106.5175552368164, 7.019127368927002, -18.466705322265625, -144.59413146972656, 40.91450500488281, 270.71246337890625, 91.41454315185547, 210.53005981445312, 8.255102157592773, 16.359458923339844, -81.56983184814453, 210.5724639892578, 150.99972534179688, -40.50798034667969, 62.3935546875, 75.09534454345703, -484.1625061035156, -57.47157287597656, 58.229984283447266, 128.68821716308594, 66.06424713134766, 19.726741790771484, 34.70027160644531, 34.618263244628906, -27.48638153076172, -92.92829132080078, 330.06634521484375, -31.54470443725586, -45.91958999633789, 28.54609489440918, 106.78721618652344, 97.70858764648438, -267.95477294921875, -40.48027038574219, -33.198089599609375, 128.13088989257812, 37.049652099609375, 283.17279052734375, -90.3095474243164, -307.2254638671875, 213.32264709472656, -75.75812530517578, 6.086109161376953, 8.445971488952637, -127.94137573242188, -25.094697952270508, -63.879302978515625, 5.478021621704102, 110.4139633178711, 35.758663177490234, 61.7869987487793, 82.9278793334961, -7.721755504608154, -6.563212871551514, -1.3843193054199219, 76.85354614257812, -60.34700012207031, 153.6429901123047, 9.924995422363281, -128.8278350830078, 196.847900390625, 0.5260632038116455, -77.79155731201172, -74.48418426513672, 545.9605102539062, -33.49718475341797, -128.64016723632812, 36.124412536621094, 73.8199234008789, 63.85449981689453, -22.545799255371094, -174.5957794189453, -172.23789978027344, -7.892080783843994, -115.28033447265625, 219.14108276367188, -4.597542762756348, -3.847696304321289, -85.94964599609375, 202.2474365234375, -4.896606922149658, 78.2188720703125, -51.16665267944336, 15.968666076660156, 41.1453742980957, 134.3807373046875, 72.33405303955078, 9.517865180969238, 78.34260559082031, -57.26927185058594, -4.948623180389404, -39.43174743652344, 10.0863676071167, 85.64106750488281, -206.26551818847656, -129.8970489501953, 49.73386001586914, 29.497678756713867, 16.910390853881836, -38.137081146240234, 202.1165008544922, -130.05364990234375, 11.158478736877441, -14.739008903503418, 3.407405376434326, 54.087806701660156, -21.271448135375977, 0.3996528387069702, 264.3968811035156, -13.994600296020508, 93.21504211425781, 2.2137081623077393, -100.88098907470703, -22.632633209228516, 64.06906127929688, -43.05915832519531, 23.301218032836914, -137.556640625, 9.308293342590332, -20.63155174255371, 4.502974987030029, -43.3992805480957, 64.1604232788086, -97.46536254882812, -182.86614990234375, -14.432482719421387, 54.09025192260742, 158.57191467285156, 44.13446044921875, 138.61776733398438, -14.523042678833008, 54.93791580200195, -56.331695556640625, 184.25778198242188, -37.57598114013672, 86.75396728515625, -27.985132217407227, -40.535133361816406, 16.799884796142578, -116.09054565429688, 29.283008575439453, -252.1456756591797, 11.917963027954102, 3.512533664703369, -83.12818908691406, -15.68786334991455, 13.186747550964355, 14.08357048034668, 117.63597869873047, -164.48377990722656, 48.64525604248047, -78.6467514038086, -244.0575714111328, 128.93203735351562, -55.76106262207031, 69.94007110595703, 6.217000961303711, -72.72435760498047, 29.19985580444336, -9.291274070739746, 68.69754028320312, 22.3184814453125, 11.599109649658203, 327.1819152832031, -32.55509948730469, -264.9151611328125, 21.339717864990234, -121.07073211669922, -4.77006196975708, -134.99070739746094, -4.353046894073486, -34.60704803466797, 10.112273216247559, -32.977779388427734, -38.70383071899414, 12.195889472961426, -156.5968780517578, 16.060583114624023, 246.27084350585938, -18.9495906829834, 96.11296081542969, -5.478783130645752, 52.93661117553711, 23.651695251464844, -21.917512893676758, 4.6640214920043945, -29.066669464111328, -152.48403930664062, -70.57549285888672, 66.98048400878906, -13.533234596252441, 15.294891357421875, -3.482405185699463, -28.297714233398438, 18.01045036315918, 42.99061584472656, -19.788782119750977, 45.451141357421875, 221.01441955566406, 182.06175231933594, 43.74394226074219, 25.228803634643555, 45.61638641357422, 5.792258262634277, -9.481121063232422, 45.997047424316406, 28.506237030029297, 65.20975494384766, -64.10075378417969, 89.5433120727539, 155.12591552734375, 27.03156089782715, 67.46080017089844, -51.37321472167969, -192.6532440185547, 63.955535888671875, 22.879629135131836, 94.72689819335938, -15.581029891967773, 32.901676177978516, -299.11163330078125, -52.74994659423828, 91.53274536132812, -32.77324676513672, -29.428197860717773, -101.63099670410156, 74.1438980102539, -65.45030212402344, -61.56722640991211, 130.9562530517578, -63.43666076660156, 163.27735900878906, 6.3002214431762695, -52.02714920043945, 48.257755279541016, -82.48591613769531, -70.40605926513672, 1.0090641975402832, 34.64605712890625, 70.8923568725586, -61.49097442626953, -43.358009338378906, -42.2589111328125, -51.91921615600586, -97.91749572753906, 6.486165523529053, -3.7574641704559326, 29.773889541625977, 69.45972442626953, -77.4084701538086, 35.50070571899414, 45.46126937866211, -67.4378890991211, 98.55281829833984, 133.23548889160156, 58.440460205078125, 52.22452926635742, 0.5056338310241699, 32.01286697387695, -29.548967361450195, 88.75135040283203, 11.672468185424805, -10.928165435791016, -77.1060562133789, -40.817806243896484, -2.673444986343384, 34.56745147705078, -109.19351196289062, 11.252567291259766, 77.36116790771484, -19.338577270507812, 33.35544204711914, -0.532677173614502, -99.03667449951172, -31.183801651000977, -85.28277587890625, 62.68376159667969, 116.91898345947266, -385.1533508300781, -22.485851287841797, -6.893472671508789, -8.949666976928711, 164.82669067382812, 1.7035188674926758, -65.5428695678711, 0.6909326314926147, -260.0755615234375, 66.960205078125, 73.6292953491211, -254.2939910888672, 9.820601463317871, -69.86150360107422, 56.59122848510742, -98.13311004638672, -16.464540481567383, 4.6059184074401855, -3.404747486114502, -234.06549072265625, 215.95118713378906, -486.4309387207031, 135.01976013183594, -251.54159545898438, 113.80291748046875, 32.6478271484375, 69.42475128173828, -16.240236282348633, -40.92276382446289, 312.6758117675781, -250.2841339111328, 15.066609382629395, -39.53660583496094, -128.51136779785156, -47.644676208496094, 9.101251602172852, 243.37734985351562, -12.809798240661621, -18.327430725097656, 282.4678649902344, 88.36698150634766, -7.457574844360352, -9.215604782104492, 63.7127571105957, 41.95360565185547, 152.7301788330078, 229.0752410888672, -29.615890502929688, 186.29197692871094, -102.16907501220703, -24.918846130371094, 6.099515914916992, -52.22504425048828, 416.9241638183594, 17.800811767578125, 28.053634643554688, 37.77274703979492, -34.006736755371094, -9.225433349609375, -38.598793029785156, 18.809188842773438, -25.03200912475586, -38.7996940612793, 435.7631530761719, -26.566871643066406, 211.41998291015625, 91.23049926757812, -56.50514221191406, 119.40805053710938, -11.674276351928711, 10.2819185256958, 27.118879318237305, 79.72520446777344, -3.2964627742767334, -105.188232421875, -54.827091217041016, -7.8389177322387695, -61.4669189453125, -6.388521194458008, -50.24470901489258, -39.86137771606445, -116.01866912841797, -68.82447052001953, 190.1617431640625, 18.15692138671875, -15.628551483154297, 58.023258209228516, -16.9836368560791, -15.931796073913574, -5.623076915740967, 325.9154052734375, -64.9137954711914, -1.7129075527191162, -28.034513473510742, -44.82937240600586, 233.5684814453125, 108.19673919677734, 0.7219955921173096, -20.897390365600586, 33.97010803222656, -17.388141632080078, 134.0053253173828, 222.06512451171875, -26.422462463378906, 49.202388763427734, -33.33681106567383, 24.46408462524414, 7.046736717224121, -43.255916595458984, 75.91484069824219, -45.57060241699219, -25.891632080078125, 79.4311752319336, 4.507964134216309, -93.35246276855469, 556.571533203125, 74.23904418945312, -15.979720115661621, 137.3292236328125, 129.10574340820312, -94.72419738769531, 76.38396453857422, 99.15520477294922, -105.63948822021484, 62.84981918334961, -12.408466339111328, -19.279203414916992, -26.177282333374023, -1.935544729232788, -123.62269592285156, -12.045291900634766, -126.0075912475586, -116.2500228881836, 119.41252136230469, -67.8172378540039, 177.99607849121094, -46.84926986694336, 139.5924835205078, -227.29653930664062, 118.95314025878906, 172.3082275390625, 38.2816162109375, -93.8807373046875, 154.36233520507812, -53.8175048828125, 45.7920036315918, 39.29740524291992, -40.21931457519531, -121.70870971679688, -32.76991271972656, 176.6537322998047, -13.75889778137207, -10.771964073181152, -97.18441772460938, -29.09466552734375, -137.3087615966797, -368.5655517578125, -12.106950759887695, -108.35591888427734, 109.38423156738281, -117.71517181396484, -22.06723403930664, -67.98790740966797, -8.932416915893555, -73.3578109741211, -24.940750122070312, 40.627899169921875, -157.6544952392578, 35.74745178222656, 41.48221969604492, -8.873579025268555, -179.8745574951172, -4.004915714263916, -297.3798828125, -50.70056915283203, 30.2535400390625, 79.30140686035156, 36.964290618896484, 114.3005142211914, 109.50233459472656, 107.6305160522461, 27.06902313232422, 21.72307586669922, 87.11310577392578, -58.1566162109375, 155.6971435546875, 272.6250915527344, 50.52305603027344, -78.19801330566406, 168.2832794189453, -60.38069534301758, 48.10457992553711, -143.40167236328125, 4.906644821166992, 194.35440063476562, -39.43901443481445, 5.715436935424805, 73.01171875, -118.89262390136719, 64.74347686767578, 88.82916259765625, 18.250133514404297, 49.20518493652344, 106.11756896972656, -11.049832344055176, 9.384505271911621, -22.02611541748047, -50.05653762817383, -29.315582275390625, 267.0305480957031, 26.848052978515625, -137.80763244628906, -152.9119873046875, 44.269012451171875, -129.06700134277344, 64.31098937988281, -17.231828689575195, -156.14694213867188, -32.788604736328125, -98.46138000488281, -0.7114782333374023, 48.7819709777832, -396.8727111816406, 56.84866714477539, 23.75362777709961, -44.305084228515625, 100.09066009521484, 63.08802032470703, 70.51763916015625, -2.1600260734558105, 282.68450927734375, -351.2745056152344, -45.31775665283203, 19.467845916748047, -14.115544319152832, 45.942298889160156, 14.16151237487793, -0.9857814311981201, 58.14168167114258, -158.45352172851562, -268.6185302734375, -19.268421173095703, 21.496013641357422, 191.20684814453125, -19.721040725708008, -34.31242370605469, -11.284875869750977, -128.4213409423828, -66.64605712890625, 78.34089660644531, 282.5771484375, -5.813153266906738, 179.1700439453125, 99.44273376464844, 32.26345443725586, -12.098030090332031, -98.09233093261719, -9.231888771057129, -6.520497798919678, -171.73046875, -7.764942169189453, -194.66531372070312, -27.272811889648438, 74.24845123291016, -124.72418975830078, 12.774687767028809, -121.46180725097656, -43.3494873046875, 75.49018096923828, 44.33967971801758, 21.34844207763672, 74.80032348632812, -89.50215911865234, -41.39841079711914, 219.82717895507812, -177.4060821533203, -637.0667114257812, 53.010921478271484, -28.555164337158203, 77.58072662353516, -202.8982391357422, -49.707305908203125, -23.41506576538086, 19.358705520629883, -160.21414184570312, 468.9518127441406, -13.76858139038086, -78.64146423339844, -108.42113494873047, -52.9779167175293, 205.56639099121094, -136.18983459472656, -49.61515426635742, 59.37144088745117, 48.62525939941406, 22.77420425415039, -46.26621627807617, 8.997550010681152, 40.97601318359375, -2.3022332191467285, 32.618446350097656, -1.9878931045532227, -4.995430946350098, 66.68707275390625, -212.56690979003906, 25.391639709472656, -1.6745412349700928, 52.04939270019531, 47.60813903808594, 168.27224731445312, 97.2211685180664, 89.31298828125, -73.88380432128906, 24.197851181030273, 34.05489730834961, 33.58977508544922, 113.32514953613281, -45.473907470703125, -325.7002868652344, 21.647621154785156, -45.963768005371094, -110.55778503417969, -50.35871505737305, -26.28197479248047, -7.872187614440918, 125.46741485595703, 55.52351379394531, 18.82501792907715, -22.89018440246582, -95.65931701660156, 87.08348846435547, -127.33409881591797, -166.5781707763672, 3.704162120819092, 91.76586151123047, 16.806467056274414, 135.07852172851562, -71.34864807128906, 61.068904876708984, -9.554487228393555, -236.14370727539062, 337.8080139160156, -120.7771987915039, 95.00320434570312, -63.66881561279297, 52.8764533996582, -22.565662384033203, 83.75578308105469, 33.510684967041016, -34.093997955322266, -60.86794662475586, 0.44266319274902344, -117.11626434326172, 48.9420051574707, -14.2633695602417, 78.62931823730469, -22.066450119018555, -25.327083587646484, 119.14874267578125, -69.4368667602539, 229.0285186767578, 14.279241561889648, 41.20904541015625, -56.69758987426758, 55.5421257019043, 73.13653564453125, -165.73162841796875, -5.4566802978515625, 29.626754760742188, -47.41950607299805, 25.63741683959961, 39.31077575683594, 69.3382797241211, -25.15818977355957, -3.045382261276245, 9.68267822265625, -585.4238891601562, 12.433361053466797, 78.05413818359375, 149.66604614257812, -48.56211853027344, -69.81454467773438, 17.973487854003906, 1.6272938251495361, -86.81748962402344, -20.637142181396484, -24.166812896728516, -205.49964904785156, -64.03944396972656, -0.3616924285888672, 101.3681869506836]\n"
   ]
  },
  {
   "cell_type": "code",
   "execution_count": 82,
   "metadata": {},
   "outputs": [],
   "source": [
    "def simple_linreg_2_class(x):\n",
    "    return [-67.22865295410156, 33.84697723388672, 8.894780158996582, -29.867408752441406, -36.04802322387695, -59.652000427246094, -26.36978530883789, 100.67584991455078, 0.22536242008209229, 12.142648696899414, 93.88420867919922, 31.63746452331543, -42.44993591308594, -2.9788575172424316, 4.306394577026367, -33.84828567504883, 12.207566261291504, -36.3375129699707, 31.86775779724121, 0.2544832229614258, 17.064550399780273, -32.34665298461914, -59.446922302246094, 14.225259780883789, -130.19863891601562, -7.509146213531494, 30.470382690429688, 86.22372436523438, -7.796032905578613, -14.856891632080078, 13.258922576904297, -41.40819549560547, 20.103164672851562, 37.09154510498047, 6.5153374671936035, 10.548712730407715, -40.16718673706055, 65.62030029296875, -5.850339889526367, -116.92686462402344, -10.659756660461426, -142.33131408691406, -0.8095264434814453, -10.031197547912598, -38.45653533935547, -233.6504364013672, -0.2559633255004883, -71.07261657714844, -36.67536926269531, -7.477958679199219, 24.670347213745117, -6.352936744689941, -30.733463287353516, 81.01964569091797, -27.733463287353516, 50.517494201660156, -133.25491333007812, -82.96451568603516, -24.812211990356445, -8.486430168151855, 0.6361773014068604, 40.781612396240234, -38.41488265991211, -22.137649536132812, -11.60767936706543, -51.61986541748047, 261.87823486328125, -107.48751068115234, 109.67803955078125, -19.63546371459961, 26.982620239257812, -33.42692565917969, -8.413657188415527, 3.9709815979003906, -16.852935791015625, 86.81686401367188, 26.09738540649414, 33.35517883300781, -3.169098377227783, -144.02503967285156, 17.626115798950195, -0.6263916492462158, 36.62339401245117, 23.2294864654541, 21.347972869873047, 39.86286926269531, -55.339256286621094, -10.676498413085938, -7.780061721801758, 139.0648193359375, -19.35393524169922, 225.2820281982422, -39.8184928894043, 15.692873001098633, -4.184301376342773, -47.07895278930664, 12.434659957885742, 7.957988739013672, 135.8126678466797, -59.654998779296875, -9.08551025390625, -31.551471710205078, -66.83148193359375, 29.138044357299805, 164.90257263183594, 39.97061538696289, 134.5526123046875, -9.177512168884277, 11.75692081451416, -51.482398986816406, 118.31354522705078, 108.74191284179688, -49.89990234375, 47.96040725708008, 61.67989730834961, -260.2162780761719, -18.14311981201172, 23.96279525756836, 89.20634460449219, 24.578763961791992, 15.601821899414062, 19.48173713684082, 15.901111602783203, -27.712646484375, -98.43998718261719, 209.0067596435547, -16.27430534362793, -12.364057540893555, 12.381589889526367, 38.70061111450195, 63.2551155090332, -139.6768035888672, 2.4258899688720703, -38.60758590698242, 82.03308868408203, 40.98302459716797, 159.31076049804688, -65.02134704589844, -197.60391235351562, 122.97515106201172, -46.495670318603516, 0.33613836765289307, 2.3627190589904785, -62.76646423339844, -23.105091094970703, -29.195831298828125, 5.000372409820557, 33.4276237487793, 49.97926712036133, 31.34459114074707, 29.119630813598633, -19.63776969909668, 1.6955790519714355, 3.796346426010132, 39.19651412963867, -18.955781936645508, 95.41303253173828, 8.31790828704834, -72.16459655761719, 117.73479461669922, 16.970691680908203, -52.21984100341797, -37.490116119384766, 356.3572082519531, 3.7603487968444824, -78.0579833984375, 23.38939666748047, 48.403648376464844, 35.26484680175781, -6.153154373168945, -108.42056274414062, -79.69969940185547, -2.3473763465881348, -60.2334098815918, 55.779266357421875, 22.354001998901367, -6.669611930847168, -27.88897705078125, 104.43595886230469, -2.3261563777923584, 41.292572021484375, -31.986671447753906, -15.54588508605957, 15.72452163696289, 70.27471160888672, 46.598148345947266, 9.03927230834961, 38.771148681640625, -25.473649978637695, -16.924074172973633, -42.7006950378418, 7.553966522216797, 50.22870635986328, -107.77383422851562, -79.25303649902344, 33.54098892211914, 10.255520820617676, 1.1956738233566284, 0.6865398287773132, 109.94335174560547, -88.78587341308594, 3.182879686355591, -14.635863304138184, 12.31474494934082, 27.155651092529297, -13.990984916687012, 4.0745038986206055, 179.83567810058594, -64.89390563964844, 33.040138244628906, 9.43693733215332, -46.975624084472656, -7.793442249298096, 57.34014892578125, -18.098373413085938, 26.85442352294922, -71.63896942138672, -6.740105628967285, -26.101961135864258, 13.011555671691895, 1.6270750761032104, 42.734378814697266, -69.8842544555664, -119.32550811767578, -7.153584957122803, 21.520771026611328, 76.54037475585938, 22.33280372619629, 64.51325225830078, -23.837066650390625, 23.14193344116211, -38.28191375732422, 94.56553649902344, -22.804393768310547, 68.81878662109375, -11.400080680847168, -45.22537612915039, 7.89305305480957, -35.519195556640625, 6.828487396240234, -143.95953369140625, 7.778064727783203, 4.277530193328857, -51.13114929199219, -8.009714126586914, 9.37751579284668, 10.64538288116455, 66.97627258300781, -70.93250274658203, 38.00225830078125, -54.28060531616211, -139.52737426757812, 61.82563018798828, -42.672122955322266, 36.07347106933594, 6.670431613922119, -31.789464950561523, 1.5703420639038086, -15.129667282104492, 41.24231719970703, 17.78534698486328, 7.309428691864014, 164.6525421142578, -18.67356300354004, -154.51571655273438, 16.795860290527344, -68.73313903808594, 5.579783916473389, -59.36095428466797, 4.95579719543457, -14.931737899780273, 2.3733747005462646, -20.284805297851562, -12.847112655639648, 2.917875289916992, -59.397342681884766, 7.276721954345703, 125.28256225585938, -9.812573432922363, 66.70297241210938, 16.471881866455078, 29.05475616455078, 13.488234519958496, -11.094844818115234, -16.1109561920166, -30.50153923034668, -81.61922454833984, -26.230730056762695, 36.51491165161133, 9.298561096191406, 27.939687728881836, 6.105691909790039, 4.580837249755859, 8.378889083862305, 23.86236572265625, -9.23393440246582, 12.929550170898438, 89.03569793701172, 157.67657470703125, 18.06890106201172, 12.715115547180176, 17.708280563354492, 9.629562377929688, -11.231857299804688, 30.14318084716797, 1.6139259338378906, 42.05510711669922, -35.7171516418457, 56.477561950683594, 91.33370208740234, 23.255268096923828, 54.51899719238281, -38.430049896240234, -84.64683532714844, 40.767059326171875, 21.189407348632812, 47.07133102416992, -14.353877067565918, 13.048749923706055, -170.05679321289062, -35.860565185546875, 51.79713439941406, -30.224166870117188, -22.455976486206055, -49.000030517578125, 38.12947463989258, -49.001853942871094, -37.01680374145508, 74.51126098632812, -30.91269302368164, 77.99983978271484, -21.09501075744629, -38.23088836669922, 23.072467803955078, -57.15482711791992, -22.113344192504883, -10.596637725830078, 27.049880981445312, 45.41822814941406, -41.8254280090332, -22.036083221435547, -27.97149658203125, -36.46753692626953, -67.05933380126953, 0.32782721519470215, -9.76689338684082, 14.626731872558594, 36.23707580566406, -31.57825469970703, 13.733166694641113, 34.136009216308594, -35.04172897338867, 70.82905578613281, 76.93728637695312, 24.683120727539062, 18.831897735595703, -72.34417724609375, 30.752286911010742, -4.873251438140869, 52.302520751953125, -4.445589542388916, 9.667978286743164, -65.43646240234375, -20.610368728637695, 4.267061710357666, 10.113021850585938, -50.56528091430664, 5.0459885597229, 43.68207931518555, -33.95732116699219, 17.996402740478516, 25.90741539001465, -47.97677230834961, 42.77864074707031, -49.24521255493164, 44.73381042480469, 57.157249450683594, -227.65170288085938, -28.677873611450195, 1.449719786643982, -20.813817977905273, 63.64495849609375, 12.535964965820312, -40.993919372558594, 9.031655311584473, -158.9598846435547, 83.40948486328125, 65.32228088378906, -179.4552001953125, 3.1938133239746094, -49.89507293701172, 38.61073684692383, -64.98241424560547, -11.17715072631836, 9.027204513549805, -3.1309893131256104, -135.0000457763672, 85.5722885131836, -274.1089782714844, 89.31977081298828, -122.21258544921875, 78.5263442993164, 22.72517204284668, 38.25666427612305, -2.2635838985443115, -30.974409103393555, 145.19876098632812, -145.2570037841797, 6.91942834854126, -24.17814826965332, -84.57330322265625, -32.465476989746094, 9.308592796325684, 149.5115509033203, -12.355032920837402, 2.7806079387664795, 137.8082733154297, 38.71309280395508, -9.8819580078125, -13.22829818725586, 41.83534622192383, 28.845470428466797, 65.92256927490234, 141.70761108398438, -21.400287628173828, 115.86988067626953, -68.79573822021484, -18.34745216369629, 2.467003583908081, -28.183523178100586, 217.88873291015625, 1.4810941219329834, 18.15843391418457, 27.069000244140625, -26.24461555480957, -12.182477951049805, -22.4138126373291, 10.028975486755371, -19.96430778503418, -35.52175521850586, 295.4303283691406, -14.169798851013184, 127.71035766601562, 49.36281967163086, -27.59415626525879, 69.13309478759766, -4.788911819458008, 12.596190452575684, 24.325374603271484, 46.823123931884766, -3.0363545417785645, -48.0800666809082, -25.369842529296875, -7.80975341796875, -44.15369415283203, -9.429046630859375, -29.256912231445312, -22.00149917602539, -70.05642700195312, -40.68436050415039, 95.55450439453125, 9.715263366699219, -16.5595645904541, 34.85675811767578, -17.141727447509766, -8.522069931030273, -5.75519323348999, 202.2590789794922, -25.790706634521484, 7.446097373962402, -19.375802993774414, -26.491235733032227, 125.31316375732422, 59.128868103027344, 8.815754890441895, -5.735541820526123, 5.2856855392456055, -15.388179779052734, 35.48216247558594, 101.95244598388672, -8.366273880004883, 1.8659608364105225, -9.625115394592285, 9.340861320495605, 7.078431129455566, -17.666372299194336, 41.399654388427734, -32.257652282714844, -10.97148609161377, 55.4884147644043, 6.422743320465088, -45.07610321044922, 293.9567565917969, 35.54049301147461, -11.909053802490234, 62.75558853149414, 52.44871139526367, -33.92045974731445, 27.85249137878418, 81.11043548583984, -65.57398223876953, 28.07646942138672, -11.636907577514648, -8.050413131713867, -2.655160903930664, -7.012152671813965, -64.60748291015625, 0.5067343711853027, -67.85394287109375, -72.50251770019531, 66.89817810058594, -13.586596488952637, 120.34016418457031, -32.022457122802734, 99.94282531738281, -58.131038665771484, 50.659725189208984, 98.55812072753906, 2.3204898834228516, -85.18887329101562, 79.18830871582031, -45.7846565246582, 18.49039649963379, 30.19512939453125, -21.426265716552734, -94.22269439697266, -27.003816604614258, 102.31172180175781, -15.821907997131348, -6.25435209274292, -66.07828521728516, -16.173357009887695, -79.00421142578125, -198.37745666503906, -17.725156784057617, -11.766658782958984, 57.92833709716797, -83.88111877441406, -20.491270065307617, -31.52711296081543, 0.01453942060470581, -39.84230041503906, 0.7614597082138062, 21.389698028564453, -81.07283782958984, 14.475358963012695, 27.79611587524414, 1.5981545448303223, -134.58822631835938, -8.932915687561035, -187.63687133789062, -31.183923721313477, 20.406681060791016, 49.682273864746094, 37.10690689086914, 44.485565185546875, 71.4526596069336, 100.4927978515625, 23.718647003173828, 18.0091552734375, 62.47924041748047, 2.7545742988586426, 114.09154510498047, 135.23362731933594, 38.231632232666016, -44.8622932434082, 105.95513153076172, -58.50080108642578, 0.16352224349975586, -54.82379150390625, 12.224672317504883, 80.6519775390625, 7.592294692993164, -4.743964195251465, 50.40563201904297, -68.2854995727539, 29.303972244262695, 59.64180374145508, 7.414240837097168, 32.38132858276367, 51.15815734863281, -14.535259246826172, 20.014022827148438, -12.91302490234375, -29.39121437072754, -10.284915924072266, 133.3659210205078, 16.673782348632812, -103.89799499511719, -51.64341735839844, 12.583887100219727, -74.91722869873047, 44.01438903808594, -1.0260111093521118, -80.66720581054688, -8.90123462677002, -61.57651901245117, -5.412758827209473, 19.57466697692871, -232.86566162109375, 36.165443420410156, 26.630287170410156, -36.98105239868164, 70.22247314453125, 43.84029769897461, 45.13791275024414, -2.455491304397583, 142.1079559326172, -182.15016174316406, -34.833248138427734, 4.824354648590088, -10.112805366516113, 28.000202178955078, -26.09296417236328, 0.17998874187469482, 35.33708572387695, -117.30853271484375, -129.01809692382812, -14.11153507232666, -25.16781234741211, 107.82837677001953, -7.044336318969727, -22.41080665588379, 9.466286659240723, -61.69133377075195, -30.291303634643555, 46.97244644165039, 187.51876831054688, 5.82481050491333, 87.53668975830078, 59.53693771362305, 38.7065315246582, -15.68325424194336, -32.1672477722168, -9.1777925491333, 5.586300849914551, -95.4844741821289, 16.53197479248047, -56.46052551269531, -15.405985832214355, 39.74872970581055, -82.99430847167969, 8.829859733581543, -83.49813842773438, -36.50994110107422, 52.59700012207031, 2.5427026748657227, 3.5320847034454346, 26.504785537719727, -57.841529846191406, -32.868072509765625, 103.90597534179688, -107.37454986572266, -360.5893249511719, 107.14568328857422, -14.156769752502441, 47.969425201416016, -123.79865264892578, -30.02123260498047, -22.9237117767334, 2.6336755752563477, -105.43084716796875, 288.49981689453125, 10.509896278381348, -54.414329528808594, 6.628216743469238, -41.80491256713867, 127.25789642333984, -87.99620056152344, -30.938505172729492, 46.16728973388672, 34.9794921875, 22.896499633789062, -27.581457138061523, -7.149942398071289, 25.628040313720703, 6.593929290771484, 16.430980682373047, 0.9094927310943604, -12.215901374816895, 49.25440216064453, -81.70213317871094, 27.470685958862305, -3.2667036056518555, 33.4004020690918, 26.610002517700195, 113.29366302490234, 32.16999435424805, 44.90525436401367, -38.246402740478516, 12.898921012878418, 13.949211120605469, 31.144405364990234, 76.98925018310547, -21.839927673339844, -206.07972717285156, 30.583955764770508, -13.920496940612793, -54.9613037109375, -33.68269348144531, -19.676353454589844, 6.226467132568359, 64.25362396240234, 38.44211959838867, 9.167479515075684, 17.97099494934082, -36.82979202270508, 58.98658752441406, -67.8816146850586, -98.5902328491211, 13.482426643371582, 48.02423858642578, 0.9040684700012207, 56.794681549072266, -36.415122985839844, 25.201107025146484, -11.786053657531738, -168.62413024902344, 166.20233154296875, -37.4134407043457, 47.476158142089844, -32.13026809692383, 28.2756290435791, 5.528721809387207, 59.866886138916016, 14.222086906433105, -32.80234146118164, -27.446025848388672, 3.14310884475708, -38.21125030517578, 8.317298889160156, 1.240003228187561, 38.233055114746094, 2.0428268909454346, -18.050806045532227, 67.72358703613281, -41.96571350097656, 124.8697509765625, 13.923514366149902, 15.757031440734863, -42.74580383300781, 13.568906784057617, 38.052337646484375, -103.6191177368164, -14.006107330322266, 14.29674243927002, -10.835978507995605, 17.77713966369629, 16.35489273071289, 45.53737258911133, -22.589698791503906, -9.720537185668945, -6.6787028312683105, -381.9725036621094, 15.877677917480469, 35.613094329833984, 98.8542709350586, -25.96019172668457, -14.739801406860352, 9.966301918029785, -4.639369964599609, -45.091766357421875, -19.698068618774414, -19.987037658691406, -131.10455322265625, -41.0423698425293, -12.315970420837402, 67.84957122802734]"
   ]
  },
  {
   "cell_type": "code",
   "execution_count": 24,
   "metadata": {},
   "outputs": [],
   "source": [
    "# Trained on full dataset\n",
    "def simple_linreg_2_class(x):\n",
    "    return [-56.44219207763672, 45.34414291381836, 11.408117294311523, 7.739872455596924, -17.673076629638672, -5.375354766845703, -7.957225799560547, 102.551025390625, -16.692611694335938, -41.84577560424805, 70.15553283691406, 24.339065551757812, -40.13492965698242, -28.502222061157227, -27.827476501464844, -53.764251708984375, 1.8589820861816406, -72.57757568359375, 85.42713165283203, -0.6296224594116211, -1.8871502876281738, -29.618030548095703, -56.490020751953125, 24.319610595703125, -106.28038024902344, 4.261044025421143, 21.12202262878418, 57.7950439453125, 15.816831588745117, 29.78511619567871, -24.044921875, -8.302048683166504, 0.6363487243652344, 1.234715461730957, 0.5738862752914429, -3.3112735748291016, -4.826271057128906, 53.272647857666016, -85.91825866699219, -40.53690719604492, -4.218546390533447, -118.3902587890625, 3.1846561431884766, 8.914255142211914, -41.30788803100586, -100.72224426269531, 35.56937789916992, -96.56242370605469, -59.20832443237305, -13.949085235595703, 34.10618591308594, -21.29853057861328, -78.08830261230469, -30.496366500854492, -4.468425750732422, 74.15866088867188, -117.2573013305664, -45.43916702270508, -143.7622833251953, 36.906272888183594, -6.189228057861328, 17.195934295654297, -53.150062561035156, -47.925621032714844, -2.064527988433838, -0.18387293815612793, 98.4061508178711, 14.334821701049805, 95.84112548828125, -19.936199188232422, 17.77078628540039, -86.28565979003906, -13.660690307617188, 17.43442153930664, -8.485862731933594, 126.22637176513672, 14.173917770385742, 35.52065658569336, 30.60138511657715, -154.78292846679688, 12.405464172363281, 17.541702270507812, 25.524080276489258, 28.016338348388672, 37.19179916381836, 10.01080322265625, -42.669612884521484, -9.562612533569336, 14.573436737060547, 32.461082458496094, -12.930046081542969, 169.45384216308594, -27.727462768554688, -1.8968238830566406, -6.2990570068359375, -25.178363800048828, 42.70880126953125, 0.1579275131225586, 91.97373962402344, -21.399431228637695, -6.8414506912231445, 3.3179874420166016, -12.306201934814453, 36.81077575683594, 175.69229125976562, 13.799212455749512, 93.00274658203125, 2.6741151809692383, 18.06749153137207, 12.628822326660156, 89.87644958496094, 82.19664001464844, -29.32196807861328, 57.6932487487793, 49.9114990234375, -110.18482971191406, -41.29827117919922, -0.8024196624755859, 82.6894760131836, -43.47178268432617, 19.31612777709961, -2.184795379638672, 24.870651245117188, -3.4822521209716797, -79.2969741821289, 2.2182140350341797, -8.920108795166016, -43.87506103515625, 3.718822479248047, -0.027535438537597656, 55.48348617553711, 2.302713394165039, -15.865318298339844, 8.693017959594727, -17.11721420288086, 21.805946350097656, 71.41242218017578, -45.952884674072266, -183.41220092773438, 83.48248291015625, 2.3742799758911133, -0.3876311779022217, 6.45166540145874, -0.6649208068847656, 3.756704092025757, -2.0163393020629883, -3.910411834716797, 54.077972412109375, 32.32257080078125, 36.68341064453125, -3.1070871353149414, 52.20677947998047, 1.0339970588684082, -31.68902587890625, 40.773433685302734, 16.362224578857422, 46.90940856933594, 5.1467719078063965, -66.37376403808594, 122.25653839111328, 21.71857452392578, -66.12727355957031, -45.89258575439453, 207.46649169921875, -4.5934906005859375, -85.22232818603516, 12.49164867401123, 69.579833984375, 15.869084358215332, -6.976808547973633, -135.51708984375, 19.79095458984375, 2.2931742668151855, -71.71044921875, 56.89331817626953, 31.89385414123535, -47.172874450683594, -16.07520866394043, 150.34048461914062, -2.6678123474121094, -1.3967785835266113, -14.494558334350586, 0.29569101333618164, 16.100208282470703, 72.68742370605469, 90.17769622802734, 8.606258392333984, 24.184040069580078, -16.751914978027344, -33.1773567199707, -39.466243743896484, 16.032384872436523, 36.455936431884766, -36.700809478759766, -95.1324234008789, 52.77252960205078, 19.776416778564453, 3.501540184020996, -8.460735321044922, 93.69471740722656, 9.797971725463867, 45.249820709228516, -1.9354627132415771, 31.79113006591797, 27.55392074584961, -27.731264114379883, 12.962480545043945, 190.01524353027344, 47.99803924560547, 99.97573852539062, -50.2574577331543, 13.714667320251465, -21.537208557128906, 45.07677459716797, -24.87618637084961, 10.306232452392578, -133.5722198486328, 41.33732223510742, -103.75923156738281, 15.391905784606934, 9.510431289672852, 45.06963348388672, -57.62879943847656, -132.41612243652344, -3.913886308670044, 21.596128463745117, 103.7169189453125, -90.88772583007812, 95.498779296875, -74.83549499511719, 35.259178161621094, -15.462930679321289, 40.975563049316406, -43.33192443847656, 7.094608306884766, -8.628931045532227, 8.57174015045166, -24.629045486450195, -61.606117248535156, 10.771263122558594, -137.0013427734375, -1.1750516891479492, 8.881803512573242, -54.81275939941406, -28.47757911682129, 3.681359052658081, 4.084145545959473, 33.51350021362305, -61.471412658691406, 26.376379013061523, -30.204219818115234, -74.89505004882812, 11.315862655639648, -12.8145170211792, -2.5589160919189453, 13.000387191772461, -42.16255187988281, 49.950687408447266, -21.283172607421875, 34.026580810546875, 1.0427131652832031, 9.328350067138672, 93.9163818359375, 5.322338104248047, -141.78176879882812, -16.118459701538086, -56.738624572753906, -11.650018692016602, 106.26824188232422, 33.66997528076172, 9.08271312713623, 11.264957427978516, -9.139249801635742, -22.18912696838379, 37.24020767211914, -59.93540954589844, 58.27484893798828, 47.44374084472656, -25.967342376708984, 37.972023010253906, 7.744535446166992, 53.548187255859375, 2.4943504333496094, -11.338127136230469, 24.287799835205078, -34.00906753540039, -53.5495719909668, -46.3045654296875, 18.904754638671875, 3.4637889862060547, 47.874351501464844, 0.41175293922424316, 73.41383361816406, 15.050912857055664, -0.7679238319396973, -23.06360626220703, -36.480064392089844, 157.90255737304688, 144.32359313964844, 24.705810546875, 0.9832925796508789, 6.665802001953125, 14.611320495605469, -15.72553825378418, 22.14690589904785, -0.29723167419433594, 8.538752555847168, -28.997676849365234, -5.870803356170654, 81.85073852539062, 10.668752670288086, 45.435455322265625, -126.080078125, -145.81382751464844, 13.828264236450195, 15.916278839111328, 26.020179748535156, 19.81940269470215, -4.842301845550537, -98.84917449951172, -9.850231170654297, 39.801856994628906, -19.724716186523438, -53.60523986816406, -37.48207092285156, 36.072967529296875, -45.508453369140625, -10.407803535461426, 47.64470672607422, 56.114166259765625, 27.344093322753906, 1.443213939666748, -83.86766815185547, -4.9221906661987305, -33.70062255859375, -66.54833221435547, 12.792146682739258, 24.611988067626953, 23.745628356933594, 15.010449409484863, -22.10089683532715, 1.120927333831787, -33.22842788696289, 41.007484436035156, 8.614339828491211, 40.98326110839844, 13.147887229919434, 12.10241985321045, -33.253631591796875, 6.849111557006836, 20.68471336364746, -40.95134735107422, 50.38189697265625, 14.451248168945312, 16.54049301147461, 23.63837242126465, -32.12002944946289, 35.890052795410156, 24.328582763671875, 57.11785125732422, -14.090856552124023, 37.210227966308594, -39.84986114501953, -0.1931443214416504, -0.17405366897583008, 5.898621559143066, -7.420583724975586, -7.970185279846191, -29.771446228027344, -21.89997100830078, 26.681039810180664, -30.709575653076172, -16.635236740112305, -23.35446548461914, -48.80732345581055, 56.58384323120117, 42.7573356628418, -196.65762329101562, 5.847325325012207, 3.748763084411621, -2.742526054382324, 17.476036071777344, 8.600704193115234, -34.317344665527344, -5.23414421081543, -197.1807403564453, 33.77661895751953, 20.641719818115234, -114.33110809326172, -3.966747283935547, -17.400344848632812, 23.49007225036621, -61.23729705810547, -10.21153736114502, -13.175564765930176, 6.279559135437012, -95.0024185180664, -5.22334098815918, -138.8542938232422, 122.59334564208984, -69.72584533691406, 79.15057373046875, 46.386192321777344, 39.779273986816406, 4.814614295959473, -42.038360595703125, 163.68124389648438, -116.01670837402344, -5.046268939971924, -28.669897079467773, -84.74867248535156, 4.871351718902588, 2.908381700515747, 173.9987335205078, 34.37906265258789, 1.4319515228271484, 136.74456787109375, -75.9381103515625, -25.56721305847168, -13.688447952270508, 7.359449863433838, 84.66621398925781, 3.885028839111328, 94.28645324707031, -23.511112213134766, 55.99065399169922, -57.14684295654297, -15.583091735839844, -2.711559772491455, 2.7041072845458984, 212.30752563476562, 0.5090227127075195, 7.534970760345459, 28.56647491455078, 6.988979339599609, -23.783432006835938, -12.214500427246094, 19.025949478149414, -4.728527069091797, 10.02752685546875, 306.1292724609375, -6.3677520751953125, 61.258079528808594, 62.90692138671875, -54.57152557373047, 37.23060989379883, -29.599815368652344, 10.668825149536133, 3.825533866882324, 30.066852569580078, -4.788504600524902, 1.7642803192138672, -21.554664611816406, 2.4958090782165527, -51.42717361450195, 2.1144418716430664, 65.14435577392578, -63.440853118896484, -69.09298706054688, -8.759931564331055, 74.98164367675781, 5.919704437255859, -12.949716567993164, 26.623226165771484, 12.664297103881836, -11.472332000732422, 7.61350679397583, 178.1529541015625, -4.0203962326049805, -23.61725616455078, -39.024696350097656, -9.523825645446777, 47.682159423828125, 41.79806900024414, -14.509397506713867, 30.83047866821289, -3.596529483795166, -13.68986988067627, 107.310302734375, 139.79376220703125, -1.3518867492675781, 51.995609283447266, -6.334634780883789, 12.117051124572754, 28.145858764648438, 33.023033142089844, 20.508365631103516, -35.11130142211914, -11.519662857055664, 31.64730453491211, 25.835506439208984, -50.80085754394531, 134.46157836914062, 155.841796875, -17.65804672241211, 13.481725692749023, 103.20941162109375, -29.579334259033203, -3.477656364440918, 80.26983642578125, -50.409202575683594, 65.0589599609375, 26.955333709716797, 12.629132270812988, 57.41094970703125, -28.393085479736328, -22.411354064941406, -6.49615478515625, -68.83719635009766, -62.17774963378906, 42.49595642089844, 10.007713317871094, 96.75347900390625, -23.148208618164062, 121.30484771728516, -128.6782989501953, 37.38774490356445, 104.51853942871094, -12.009406089782715, -39.23314666748047, 90.13087463378906, -72.91275024414062, 38.84334182739258, 8.280411720275879, -17.54609489440918, -24.1325740814209, 3.9517173767089844, 119.20571899414062, -22.011390686035156, -10.336296081542969, -8.890865325927734, 4.0724639892578125, -53.11248779296875, -95.91706848144531, 14.64814567565918, -2.0101242065429688, 58.04237365722656, -71.38494110107422, -4.460696697235107, -17.450820922851562, -16.81035614013672, -23.205028533935547, -10.117319107055664, 11.974061012268066, -69.40725708007812, 1.6386337280273438, 115.81924438476562, 10.147822380065918, -90.34153747558594, 37.20976257324219, -169.52816772460938, -12.310277938842773, 2.3034069538116455, 24.47577476501465, -0.7795372009277344, -47.730613708496094, 89.32501220703125, 88.71717071533203, 16.998003005981445, 28.250579833984375, 82.00448608398438, -19.202842712402344, 121.09362030029297, 187.6360626220703, 58.423038482666016, -56.304351806640625, 98.23074340820312, -6.575145721435547, 13.634952545166016, -36.48841094970703, 32.548675537109375, 27.737913131713867, 21.421737670898438, 39.81745910644531, 67.76204681396484, -19.711387634277344, 28.790218353271484, 13.144621849060059, 65.76597595214844, 16.95682144165039, 22.245450973510742, 5.688464164733887, -9.107604026794434, -17.94744110107422, -10.228018760681152, -29.25845718383789, 59.80561065673828, -2.306412696838379, -92.55335235595703, 150.01193237304688, -75.8964614868164, -6.7538347244262695, 13.244283676147461, -15.123320579528809, -195.8166961669922, 14.286520004272461, -206.95645141601562, -6.350329399108887, 7.77332067489624, -144.790283203125, 105.29444885253906, -9.061186790466309, -47.87445068359375, 100.85371398925781, 32.18739318847656, 62.78302764892578, 10.267608642578125, 76.94065856933594, -99.42156982421875, 4.158629417419434, -9.607619285583496, 9.653547286987305, 37.73052215576172, -39.316871643066406, -15.801499366760254, -40.16642379760742, -67.68156433105469, -166.22364807128906, -13.243212699890137, -50.869632720947266, 70.90330505371094, 6.923959732055664, -19.933555603027344, 25.95067596435547, -85.02205657958984, -16.47303009033203, 22.33041763305664, 84.50396728515625, -16.035327911376953, 100.2745590209961, 79.45108032226562, 40.73333740234375, 1.8974723815917969, -28.30888557434082, 8.286829948425293, 72.45021057128906, -106.62136840820312, 44.77721405029297, -71.97673034667969, -15.332080841064453, 31.007232666015625, -67.3459701538086, -19.38997459411621, -61.79466247558594, -34.85844421386719, 31.8023681640625, 2.3665390014648438, 36.4863395690918, 44.88713455200195, -123.01598358154297, 5.174176216125488, 15.457771301269531, -101.22401428222656, -336.099609375, 135.08827209472656, -12.23983383178711, 46.5972900390625, -94.15127563476562, -25.709186553955078, -43.77790451049805, 39.950157165527344, -116.47369384765625, 259.7867126464844, 9.925507545471191, -43.4721794128418, 9.403301239013672, 36.69462585449219, 121.77550506591797, -84.47602844238281, -33.598388671875, 76.92011260986328, -36.65176773071289, 2.445638656616211, -34.269290924072266, -0.4238935708999634, -7.5519256591796875, -56.45954895019531, -9.033905029296875, -8.904852867126465, -5.852294921875, 18.60761070251465, -115.24305725097656, 5.057470798492432, -24.302013397216797, 36.93478775024414, 25.989459991455078, 150.45468139648438, 108.80650329589844, 34.732643127441406, -62.28532028198242, 23.880298614501953, -21.428600311279297, 38.69880294799805, 32.691349029541016, -8.330330848693848, -141.98422241210938, 22.148218154907227, 0.33835554122924805, -168.72006225585938, 39.41080856323242, -6.896365165710449, 34.059085845947266, 76.3977279663086, 15.235322952270508, 24.691417694091797, -30.597871780395508, -51.992794036865234, 77.2422103881836, -111.72776794433594, -305.93963623046875, -33.29560089111328, 38.67776870727539, -4.300971031188965, 53.706443786621094, -14.907031059265137, 29.978370666503906, 0.18235206604003906, -107.87718200683594, 126.18584442138672, -35.29356384277344, 8.124011039733887, 3.925480842590332, 21.42612075805664, 15.76735782623291, 21.80270767211914, 21.4344482421875, -88.42433166503906, -23.152557373046875, -1.3144195079803467, -3.7485923767089844, 2.5736312866210938, -22.689075469970703, 76.59573364257812, -37.75278854370117, 6.271345138549805, 63.80022430419922, -52.27357482910156, 181.49766540527344, -10.715612411499023, 13.063211441040039, -23.435871124267578, 6.959492206573486, 12.599047660827637, -178.25625610351562, 1.9848790168762207, -72.67375183105469, -119.57208251953125, 7.987409591674805, -1.6208295822143555, 31.24089241027832, -10.875871658325195, 2.075002908706665, -28.71881103515625, -248.93838500976562, 18.25283432006836, 6.304466247558594, 90.84947204589844, -22.517793655395508, -5.383235454559326, 9.68014144897461, -1.3554620742797852, 19.756351470947266, -14.075911521911621, -12.287307739257812, -43.93572998046875, -20.105297088623047, 17.138324737548828, 65.0606689453125]\n"
   ]
  },
  {
   "cell_type": "code",
   "execution_count": 25,
   "metadata": {},
   "outputs": [],
   "source": [
    "def simple_linreg_2_concat(x):\n",
    "    return [31.34142303466797, 109.64727783203125, 16.31890296936035, -23.123493194580078, 62.46254348754883, 64.23631286621094, 48.998146057128906, -105.64984893798828, 6.056998252868652, -10.252002716064453, -8.261943817138672, -4.025717258453369, -2.9879376888275146, 84.71240234375, 14.68504524230957, -27.786170959472656, -22.676477432250977, -89.03083038330078, -73.37715148925781, 90.72370147705078, -17.218421936035156, 5.796078205108643, 114.88401794433594, 2.450563907623291, 27.019508361816406, -13.191617012023926, -72.6622314453125, -23.903223037719727, -46.20671081542969, 13.09895133972168, 40.30657196044922, 171.86859130859375, 29.0289249420166, 44.63175582885742, -22.210948944091797, -10.53171157836914, -131.24554443359375, -15.505688667297363, 20.32180404663086, -33.66792297363281, 1.8587031364440918, -70.95091247558594, 5.806251049041748, 52.52223205566406, 39.365081787109375, 90.22359466552734, 15.332439422607422, -128.80694580078125, -17.45014190673828, 39.72248077392578, -12.938606262207031, -29.779186248779297, 29.011615753173828, 13.808257102966309, -0.4573402404785156, -54.348594665527344, -240.57708740234375, 79.36244201660156, 84.11719512939453, 3.055535078048706, 18.56056022644043, 61.48493194580078, 11.897665977478027, 2.715543746948242, -0.2221536636352539, 14.339212417602539, -201.725341796875, -0.6220393180847168, -100.21219635009766, -7.733434677124023, 65.20989990234375, -190.8921356201172, -5.326700687408447, -16.40010643005371, 6.4827070236206055, 69.79390716552734, -9.340612411499023, 45.983665466308594, 12.377342224121094, -31.315784454345703, -17.20189666748047, -19.383831024169922, 36.3715934753418, 40.78057861328125, 75.63692474365234, -8.272274017333984, -16.483715057373047, 49.40467834472656, -6.604972839355469, 38.27399444580078, 4.411584854125977, -99.49984741210938, 17.780601501464844, 16.10028648376465, 0.49619126319885254, 31.8211669921875, 72.98638916015625, -11.272377014160156, -87.99562072753906, 19.530529022216797, 24.954191207885742, 141.6837615966797, 145.00128173828125, 52.50685119628906, -111.09276580810547, -126.32038879394531, -54.495059967041016, -65.20611572265625, -41.36177062988281, 56.18993377685547, -44.5395393371582, -19.103879928588867, 68.01300811767578, -11.539494514465332, 25.53436279296875, 49.787532806396484, -16.650428771972656, 0.9371113777160645, -0.867041826248169, -9.7031831741333, -84.49111938476562, 100.82515716552734, -14.544665336608887, 29.825881958007812, -34.892616271972656, 221.49478149414062, -28.17718505859375, 13.994894981384277, -80.34597778320312, 69.8589859008789, -4.336427688598633, 61.83971405029297, 1.6078627109527588, -26.461349487304688, 101.20821380615234, -26.27240562438965, 208.24502563476562, -8.073774337768555, 139.39080810546875, 12.315101623535156, -6.039823532104492, -55.00927734375, -23.032127380371094, 0.5824413299560547, 24.732952117919922, -110.40065002441406, 30.66489601135254, -36.361534118652344, 129.48770141601562, 11.940710067749023, -130.34019470214844, -48.482093811035156, 13.448515892028809, -0.6691513061523438, -120.22891235351562, -69.316162109375, 1.0713779926300049, 1.9906730651855469, -10.619894027709961, -147.30392456054688, 20.594913482666016, 3.6120002269744873, -73.17101287841797, -9.694744110107422, 8.93867301940918, 69.53794860839844, -87.67151641845703, -13.828259468078613, 10.089008331298828, 9.99227523803711, 24.64995574951172, -21.505512237548828, -21.55715560913086, 14.41203498840332, 52.021732330322266, -41.395790100097656, 16.74409294128418, -1.9483036994934082, 199.71209716796875, 4.100030899047852, -106.16590118408203, 16.9859676361084, 16.764389038085938, 4.013503074645996, 143.47940063476562, 208.7705078125, 23.93301773071289, 20.061969757080078, -26.069299697875977, 33.29113006591797, -20.52594566345215, 21.611766815185547, 13.11629581451416, -65.72140502929688, -2.5695202350616455, -21.602432250976562, 48.000553131103516, 35.1696662902832, 7.859798431396484, 38.54655075073242, -1.4151229858398438, 17.498119354248047, 6.217072010040283, -21.11307144165039, 3.138883113861084, 26.421051025390625, 19.23332977294922, 159.95706176757812, 212.41494750976562, 41.95537185668945, 68.34132385253906, -1.444118618965149, 81.80308532714844, 8.113109588623047, 18.74960708618164, 17.607357025146484, 33.113914489746094, 21.425006866455078, 8.146425247192383, -39.535911560058594, -21.725692749023438, 30.42963409423828, 15.770698547363281, -8.323210716247559, -7.549589157104492, -47.333534240722656, 94.78897094726562, 34.50983428955078, -9.39631175994873, 5.374340534210205, -35.217681884765625, -163.77044677734375, 13.272909164428711, 48.07571792602539, -7.508184432983398, 3.3351597785949707, 38.07738494873047, 59.16813278198242, 44.14045715332031, -11.622186660766602, -48.88764190673828, -7.8100199699401855, -20.836368560791016, 36.319602966308594, 78.04076385498047, 5.488877773284912, 30.75107192993164, 27.904714584350586, -37.210487365722656, 22.125160217285156, 27.295757293701172, -22.600008010864258, 19.178409576416016, -32.329349517822266, 102.11067199707031, -37.30857467651367, 25.017404556274414, 7.214854717254639, 1.1215038299560547, 104.232666015625, -13.576029777526855, -25.94005012512207, -24.03881072998047, -12.359489440917969, -47.83110809326172, 66.97520446777344, 21.148239135742188, 34.98044204711914, -7.094720840454102, 29.896183013916016, -68.31757354736328, 8.07833480834961, -22.18376922607422, 7.937452793121338, -11.076075553894043, -57.922752380371094, 22.66237449645996, -177.08433532714844, -7.960408687591553, 14.70158576965332, 6.897948265075684, 29.312463760375977, 7.774096488952637, 15.452961921691895, 0.13091158866882324, -1.4539966583251953, 7.114356994628906, 119.9619140625, -54.711524963378906, 36.25361251831055, -8.81307601928711, -42.93608093261719, -25.357833862304688, -14.637249946594238, -85.51075744628906, -0.8848352432250977, 26.784908294677734, -75.18992614746094, -194.7888946533203, 33.024505615234375, 36.82218933105469, 54.802528381347656, 30.886898040771484, 4.718111515045166, -89.2021484375, 3.7449698448181152, -1.3952387571334839, -52.830570220947266, -10.458335876464844, -13.560486793518066, 2.4739127159118652, -40.19049835205078, 139.9091339111328, 8.238035202026367, 6.618110656738281, -33.902679443359375, 9.087902069091797, -62.19984436035156, -6.238947868347168, 55.059059143066406, -20.627487182617188, -16.23816680908203, 30.348588943481445, -46.54180908203125, -37.568756103515625, 38.15413284301758, 64.71589660644531, 13.249236106872559, 14.349787712097168, -75.66089630126953, -178.09519958496094, -51.43392562866211, 120.61864471435547, 14.357715606689453, -204.72337341308594, 53.10602569580078, 19.27737045288086, -9.187845230102539, 32.2391471862793, 12.32536792755127, 14.596513748168945, 11.495765686035156, -8.80714225769043, 158.49131774902344, 29.117231369018555, 26.926952362060547, 35.87489700317383, -20.917871475219727, 93.02944946289062, -65.09757232666016, 100.95063018798828, 23.078964233398438, -17.629520416259766, 4.247369766235352, -73.57015991210938, -23.50135612487793, 47.195709228515625, 82.85797119140625, 11.906607627868652, 55.1903190612793, 51.188899993896484, 58.49444580078125, -7.942776679992676, 15.484050750732422, 3.2787675857543945, 1.64053475856781, -28.03948974609375, -38.51649856567383, 1.4113588333129883, 43.738059997558594, 22.684852600097656, -60.46377944946289, 13.420186042785645, -38.29853820800781, 19.04106903076172, 117.84275817871094, 41.70608901977539, 63.852394104003906, 17.795555114746094, -1.3665542602539062, -18.885292053222656, -162.26988220214844, -106.24964141845703, -37.93354034423828, -38.28457260131836, -101.60323333740234, 53.96961975097656, -145.28184509277344, -53.17442321777344, 58.348304748535156, -50.83887481689453, 20.341299057006836, 26.999961853027344, -8.957117080688477, 62.94403076171875, -17.870878219604492, 15.279821395874023, -89.27896881103516, 6.362100124359131, -123.11500549316406, 87.23204803466797, 21.334774017333984, 1.3326268196105957, 4.85085391998291, 4.372178554534912, -14.039068222045898, -72.55437469482422, -67.13597106933594, -19.296239852905273, -33.1328125, 37.403961181640625, -115.383056640625, 22.226076126098633, -6.964588642120361, -20.53946304321289, -14.208521842956543, 16.223451614379883, -68.30197143554688, 11.648299217224121, -24.03282928466797, -18.304052352905273, -32.06257247924805, -37.646156311035156, -70.4569091796875, 6.395784378051758, -2.4648571014404297, -34.86874008178711, 5.827247142791748, 14.544526100158691, -25.827247619628906, 217.053955078125, 1.177769660949707, -9.2366361618042, -59.51692581176758, -2.1762027740478516, 106.73027801513672, 30.814777374267578, -34.08856964111328, -161.3379669189453, 2.116914749145508, 192.3798828125, 26.781166076660156, -24.867565155029297, 25.404247283935547, -35.91883087158203, 7.788297653198242, -19.927715301513672, 12.223925590515137, -11.422704696655273, -12.11488151550293, -19.026952743530273, -74.98528289794922, -1.6160554885864258, 2.0536201000213623, -42.15227127075195, 0.8221769332885742, -19.910568237304688, -10.077637672424316, -29.352529525756836, 29.707542419433594, -3.5375852584838867, -13.190988540649414, 45.467247009277344, -19.47104835510254, 3.455907106399536, -9.36164665222168, 76.50663757324219, -94.89219665527344, -40.171630859375, 1.294600486755371, 26.29882049560547, -11.763011932373047, 11.481334686279297, -27.439111709594727, 135.65838623046875, 18.812397003173828, 4.517233848571777, -17.007305145263672, -69.26370239257812, -32.601680755615234, 0.5450925827026367, 56.82682418823242, -6.91060733795166, 3.773573160171509, -7.109145641326904, 12.884424209594727, -1.9403715133666992, -18.61688995361328, 23.776243209838867, -8.033223152160645, -40.05433654785156, 13.741935729980469, -83.31196594238281, 51.58072280883789, -23.818195343017578, 67.2906723022461, 31.074825286865234, -78.23149108886719, -8.927907943725586, 0.42368876934051514, 64.35758972167969, 6.5756144523620605, -11.465754508972168, -7.950554847717285, 15.191253662109375, -19.915945053100586, -19.439184188842773, 19.049636840820312, -2.7019124031066895, -19.572072982788086, -36.33979415893555, 1.7377617359161377, -100.94342041015625, -1.0485877990722656, -47.02103805541992, 140.74090576171875, -21.26200294494629, 4.971045017242432, -14.960161209106445, -13.14337158203125, 18.92679786682129, -4.582598686218262, -88.65984344482422, -27.853187561035156, 10.36229419708252, -46.43494415283203, -25.145387649536133, -37.59803771972656, -20.534847259521484, 25.971437454223633, -176.47923278808594, 20.364728927612305, -15.010086059570312, -7.535540580749512, 17.538917541503906, -198.82379150390625, -34.00646209716797, -12.580131530761719, -29.714040756225586, -18.13701057434082, 11.741567611694336, 13.469841957092285, -22.65715217590332, 0.0003833770751953125, 22.121553421020508, -2.476734161376953, -23.550281524658203, 4.928504467010498, 230.11825561523438, -15.8854341506958, -48.0609245300293, -1.475635051727295, 34.86019515991211, 19.037418365478516, -36.7930908203125, 84.79425048828125, -17.213788986206055, 40.45037078857422, 17.244171142578125, 9.557318687438965, 104.83232116699219, 33.21052551269531, -14.747861862182617, 50.56227111816406, -7.012468338012695, -106.81209564208984, 33.25300598144531, 65.74480438232422, 4.779857158660889, -130.52423095703125, 10.767486572265625, 8.879873275756836, -18.744890213012695, 13.999702453613281, 11.067434310913086, -13.086357116699219, 3.7864785194396973, 29.160259246826172, 56.7137451171875, 14.309678077697754, -48.991905212402344, -0.04576754570007324, -23.654747009277344, -21.258913040161133, 1.1070280075073242, -20.376468658447266, -98.36215209960938, -20.72262191772461, -53.33216094970703, -42.12944793701172, -147.48692321777344, -217.3843994140625, -42.82405090332031, 12.788500785827637, -134.88644409179688, -10.656312942504883, 117.29791259765625, -0.680513858795166, -31.80655288696289, -48.731632232666016, 23.647136688232422, 28.416133880615234, -17.361278533935547, 8.311963081359863, -18.3486328125, 51.98130798339844, -2.5293099880218506, 9.380329132080078, 190.2814483642578, -134.2707061767578, 34.63772964477539, 43.156089782714844, -39.08797836303711, 20.96451759338379, -0.4375476837158203, -30.435203552246094, -19.000560760498047, 0.24805545806884766, -28.655433654785156, 8.075029373168945, -84.28822326660156, 9.369481086730957, 50.39600372314453, -54.958473205566406, -4.9224677085876465, 23.9488525390625, 51.76365280151367, 15.875393867492676, -4.589380741119385, -25.26668930053711, -24.69589614868164, -6.609203338623047, 19.421083450317383, 53.84461212158203, 10.590253829956055, -16.11823272705078, 26.799121856689453, 3.5332748889923096, -60.20459747314453, -27.442489624023438, -21.550003051757812, -9.850470542907715, -44.313289642333984, -31.385879516601562, 49.12367630004883, -47.46311950683594, -2.076629161834717, 41.17749786376953, -109.30960083007812, 0.5449450016021729, -10.77159309387207, -13.172687530517578, 64.10260772705078, -127.09552764892578, -97.91360473632812, 5.995229721069336, 10.255159378051758, -33.35324478149414, -27.395681381225586, -5.484894752502441, -49.260887145996094, 134.2606201171875, -44.39599609375, 23.161039352416992, -18.753986358642578, 78.25823974609375, 15.118375778198242, 35.19610595703125, 19.680620193481445, -25.984115600585938, 18.38389015197754, 6.240530967712402, 4.131108283996582, -3.929622173309326, 16.557235717773438, -7.924391746520996, 71.135009765625, 8.10301685333252, 18.923160552978516, -21.398094177246094, 23.45948028564453, 86.01612091064453, 4.815466403961182, 4.246820449829102, -52.75992202758789, -58.837791442871094, -5.657382011413574, 127.45095825195312, 29.20568084716797, 1.957730770111084, 19.59811782836914, -11.429128646850586, -5.214752197265625, 24.593950271606445, -14.134129524230957, -201.17347717285156, -30.233570098876953, -11.581034660339355, 138.28311157226562, 25.303791046142578, -96.73604583740234, 9.343202590942383, 5.473404407501221, 1.2364411354064941, -1.908184289932251, 56.60063934326172, 5.532599449157715, 103.23835754394531, -85.42317199707031, -115.25848388671875, -149.20004272460938, 14.670845031738281, 5.196505546569824, -28.637117385864258, -22.233131408691406, -51.42648696899414, 11.084451675415039, 99.1715087890625, 126.13530731201172, -52.34291076660156, -21.788818359375, 46.099788665771484, -121.19819641113281, 20.981693267822266, -52.840843200683594, -9.354558944702148, -36.52342224121094, -70.60382080078125, 5.346377372741699, -120.49935913085938, 101.91211700439453, 42.659366607666016, 120.58355712890625, 22.331676483154297, 7.878875255584717, -20.405488967895508, 114.83296966552734, 104.09931945800781, -2.178778648376465, 34.12102508544922, -13.542588233947754, 8.224431037902832, -94.05365753173828, 70.34307098388672, 36.24208068847656, 11.674422264099121, 128.10289001464844, -54.37338638305664, -3.1952877044677734, -91.67701721191406, 84.01049041748047, 31.393714904785156, 25.271804809570312, -27.17505645751953, 2.5232019424438477, -98.91452026367188, 21.369462966918945, -22.57636260986328, 34.17917251586914, -64.40388488769531, 13.598952293395996, -9.599788665771484, 8.03243350982666, -51.90343475341797, 18.63650131225586, 11.702255249023438, 36.159366607666016, 12.347734451293945, 1.911194086074829, -3.5831377506256104, -1.0802043676376343, 1.4066895246505737, -1.9331119060516357, 2.1709842681884766, -1.2928231954574585, -3.185711145401001, 2.995793342590332, 1.4313596487045288, -2.1215555667877197, -0.0928599089384079, -2.6213502883911133, -2.4123308658599854, 0.08663617819547653, 0.40115928649902344, 0.1184781938791275, -0.13669942319393158, -1.5756710767745972, -1.2153842449188232, -2.0373568534851074, -0.9008516669273376, -3.3028156757354736, 4.108252048492432, -4.014392375946045, 0.38063758611679077, 1.2175769805908203, 2.33764910697937, -0.4274682402610779, 1.0278607606887817, 1.137384057044983, 3.778378963470459, -3.543987512588501, -5.295290470123291, 0.09114515036344528, -1.7647063732147217, 1.424356460571289, -1.151656985282898, -0.4144454002380371, 4.849881172180176, -2.056913375854492, -4.7843708992004395, -1.2291100025177002, -0.5817300081253052, -2.3137876987457275, 7.088261604309082, 0.44341203570365906, -6.809722900390625, 3.801442861557007, 2.5303797721862793, -1.2630785703659058, -1.713093638420105, -1.8507659435272217, 2.742821216583252, 2.629298448562622, -2.3681230545043945, 2.5255191326141357, 0.13337957859039307, 2.628265619277954, -0.07083216309547424, -1.780748724937439, -0.19732074439525604, 0.13328364491462708, 1.908471941947937, 1.5335519313812256, 2.4594650268554688, 0.5600170493125916, 0.5908276438713074, -1.9978703260421753, -1.442909598350525, 0.198142871260643, 4.569738864898682, 0.1268937736749649, 0.46834132075309753, -0.4052860736846924, -0.9894360303878784, 1.1684446334838867, -1.1636135578155518, -0.9551052451133728, 3.18353009223938, -1.6891950368881226, -1.81502103805542, -2.837155342102051, -3.3405582904815674, 0.35241878032684326, -2.999192237854004, 3.080707311630249, -0.6983795166015625, 5.791928768157959, 4.308517932891846, 3.2550487518310547, 5.435665607452393, 4.438085556030273, 2.7235658168792725, -5.2539591789245605, -3.9266674518585205, 2.6872763633728027, 1.0609233379364014, 0.9480987191200256, -0.6576181054115295, 3.15689754486084, 3.511121988296509, -1.4848142862319946, -2.8452517986297607, 2.6818835735321045, 4.804903507232666, 0.20988795161247253, -0.8023601174354553, -0.6386091709136963, -5.41090202331543, 2.3195083141326904, -0.9250875115394592, -2.051198959350586, -4.747486114501953, 4.711465358734131, 1.3025223016738892, 1.02073073387146, -0.8701157569885254, -9.101605415344238, 1.6990424394607544, -2.6003682613372803, -0.9445149898529053, -2.6236908435821533, -1.4715049266815186, -1.0708063840866089, -2.836843967437744, -0.22045467793941498, 2.1830997467041016, 0.7760743498802185, 1.5090222358703613, 4.77697229385376, 0.042568497359752655, -0.7902759313583374, 3.8223557472229004, 0.34214645624160767, -0.33602020144462585, 2.1609814167022705, -3.664166212081909, -1.3245728015899658, 1.0681997537612915, -4.285057067871094, 1.7875268459320068, 0.9652504324913025, 2.1343228816986084, -1.7885721921920776, -0.20230266451835632, 2.535278081893921, 1.6777756214141846, 0.8087112307548523, -1.5805631875991821, 2.5889594554901123, -1.5513668060302734, 2.721553087234497, -3.7128169536590576, -0.5070340037345886, -1.742323875427246, -0.8624237775802612, 0.8784955739974976, -1.2243024110794067, -1.6501655578613281, -0.7863632440567017, 1.883527398109436, 0.5243493318557739, 8.464540481567383, 0.44452837109565735, -0.10368921607732773, -1.2634987831115723, -0.9062820672988892, -3.3655591011047363, -1.490157127380371, 3.7983410358428955, 3.3129539489746094, -1.449150562286377, 1.2673107385635376, 0.03505988419055939, 0.10787969082593918, 0.5536088943481445, 1.0928846597671509, -2.434102773666382, 0.4081805944442749, -3.0146427154541016, 0.16181553900241852, 1.3874608278274536, 2.264232873916626, 0.31230759620666504, 2.98272967338562, 0.9276515245437622, -1.1683425903320312, -2.174921751022339, -1.3849948644638062, 0.8507175445556641, 1.8288298845291138, -0.46695178747177124, 4.6398468017578125, 4.1777663230896, 0.7851367592811584, -0.13441796600818634, 3.2019288539886475, 0.46703585982322693, 3.0034422874450684, 1.6862537860870361, 3.701655387878418, -2.630873203277588, -3.1421384811401367, -1.475474238395691, -1.1835548877716064, 0.5578983426094055, -1.6574556827545166, -2.627779483795166, -1.1467933654785156, 4.15571403503418, -0.3511938750743866, 1.4070988893508911, 3.6285560131073, 0.9125158786773682, -3.1079649925231934, -2.349580764770508, 3.279911756515503, 0.8185218572616577, -0.8020948767662048, 3.4215667247772217, -0.08215309679508209, 3.7335712909698486, 4.405756950378418, 0.23812738060951233, -0.8136634230613708, 0.997864842414856, -3.175845146179199, 1.8934500217437744, -0.3734731674194336, 1.1556893587112427, 3.5631473064422607, -1.6922714710235596, -0.6587473750114441, 3.2545955181121826, -0.8314229846000671, 1.9051350355148315, -1.706533432006836, 2.2777867317199707, -1.7584975957870483, 0.568541407585144, 0.0569731667637825, -0.2873968482017517, -0.7308683395385742, -0.2963905930519104, 0.7806256413459778, -1.4025447368621826, 3.4953160285949707, 0.4217597544193268, 0.1578419953584671, 1.7451250553131104, -2.1825058460235596, 1.607028603553772, 2.4021236896514893, -3.6743640899658203, -0.19936338067054749, 1.2530770301818848, -4.956514835357666, 1.2014104127883911, 0.6394548416137695, -0.7568498849868774, -0.5819679498672485, 0.8752505779266357, 1.3454071283340454, 2.7614333629608154, -2.6469898223876953, 2.593197822570801, -0.716346025466919, 1.1523230075836182, 2.11513614654541, 4.631881237030029, -0.6361252069473267, 2.3743326663970947, 0.19012607634067535, -3.4125120639801025, -3.6026363372802734, -1.1637946367263794, 2.136892080307007, -2.4030213356018066, 0.5650454759597778, -0.6513132452964783, 0.1770308017730713, -0.8836506605148315, -0.0728876143693924, -1.530536413192749, 0.9375667572021484, -0.6400835514068604, 1.5753626823425293, -0.7347576022148132, -1.1714589595794678, 3.9428133964538574, 1.8192505836486816, -0.30699947476387024, 1.0838189125061035, 0.16857418417930603, -1.0241994857788086, -1.2356873750686646, -0.43336787819862366, 1.6682491302490234, -2.041077136993408, 0.06866876780986786, -4.637567043304443, 1.2943881750106812, 2.755638360977173, 0.4411465525627136, 1.5965602397918701, 1.4340994358062744, -0.5245962142944336, -2.733952045440674, 4.9188456535339355, 0.30175599455833435, 1.3629581928253174, 1.1245707273483276, -4.5437445640563965, 0.9672463536262512, -2.4854326248168945, 3.047157049179077, -1.5829269886016846, 1.3497114181518555, 1.364561676979065, 3.833944082260132, -1.7258316278457642, -1.319460391998291, 2.0189809799194336, -0.08745218813419342, 3.7753336429595947, -0.15021824836730957, 1.008100152015686, 1.1467697620391846, 0.029715172946453094, -0.9954423308372498, 1.2986985445022583, 4.709725379943848, 0.4743788242340088, 2.233354091644287, -1.6962968111038208, 1.526921272277832, 1.966931700706482, -1.1776773929595947, 2.871840238571167, -2.5998804569244385, -0.13938912749290466, -0.814424991607666, 0.16135485470294952, 0.9326919913291931, -2.0178685188293457, -0.2903439998626709, 1.1096481084823608, -0.41770780086517334, 7.187812805175781, -0.9768196940422058, -0.6079261302947998, 2.46498441696167, -3.165229320526123, -0.8666160106658936, -1.8946641683578491, 2.5285353660583496, -3.1107420921325684, 1.0493205785751343, 0.29641932249069214, 1.2746535539627075, -1.1446373462677002, -6.736220359802246, -0.8178525567054749, 0.10243981331586838, -0.689476490020752, 7.619655132293701, 1.8742738962173462, -2.3749144077301025, -0.3929201364517212, -0.23524025082588196, 0.13004663586616516, -1.4728631973266602, 0.8472485542297363, -0.018231548368930817, 2.726900339126587, -0.7385312914848328, 0.722502589225769, -2.7202911376953125, -1.9607610702514648, 2.2816126346588135, -1.8957856893539429, 1.3195981979370117, 1.3644981384277344, 0.7823700904846191, -4.41698694229126, -0.5272765159606934, 2.2105712890625, -2.10495662689209, -0.3887603282928467, -0.41212373971939087, -1.0869477987289429, 0.5805611610412598, -3.1735458374023438, -0.5978628993034363, 2.229782819747925, 3.5332446098327637, 2.444943904876709, 2.388803720474243, -5.09028434753418, 1.0131174325942993, -2.2591376304626465, -1.2530226707458496, -0.3549669086933136, 1.576575517654419, -1.4063677787780762, -1.648093581199646, 3.401520252227783, 0.39537134766578674, 1.1877920627593994, -2.7611682415008545, -0.40014931559562683, -0.18381187319755554, 2.606029987335205, -0.7110402584075928, 0.21074922382831573, 5.8408203125, -2.349095106124878, -4.38810920715332, -1.4642452001571655, 1.5655062198638916, -3.15798020362854, 0.45248889923095703, -1.5047459602355957, -0.13532695174217224, -0.18688884377479553, 4.7757792472839355, 2.8459064960479736, -0.28635096549987793, 2.298135280609131, -3.2433199882507324, -1.2856801748275757, 4.993274211883545, -0.6526766419410706, 1.0626760721206665, -1.4174838066101074, -1.4474326372146606, 1.361404299736023, -2.3964085578918457, 2.7098946571350098, -2.9453160762786865, -3.2513203620910645, -7.718553066253662, 0.4168744683265686, 2.0910468101501465, -1.792127013206482, 1.1988065242767334, -0.7255170941352844, 0.06538030505180359, 0.23074296116828918, 0.04432624205946922, -4.153977394104004, -1.3362419605255127, 3.056248903274536, -2.765233039855957, 0.5506706237792969, 0.6685654520988464, -0.4099148213863373, -0.7262946367263794, 1.715421199798584, 2.041640281677246, -3.4835705757141113, -3.6325855255126953, 0.5235509872436523, -4.003748893737793, -1.183336853981018, 2.9626009464263916, -3.22314453125, -0.14721541106700897, -0.5313701629638672, -2.034820079803467, 0.4456619620323181, -3.495232343673706, 4.292718410491943, 0.7659717202186584, -1.4871639013290405, -0.21155042946338654, 1.7857627868652344, 0.1268635094165802, 1.720339059829712, 0.001476675271987915, -1.7998065948486328, 0.10963596403598785, -1.6062277555465698, 1.0549312829971313, -0.16769477725028992, -3.258974552154541, -0.23555538058280945, -1.5998399257659912, 3.6525909900665283, -2.2163889408111572, -1.7213835716247559, -1.2087301015853882, 0.44023293256759644, 0.2974890470504761, 0.07400472462177277, 0.9919571876525879, 3.871581792831421, 0.6903427839279175, -1.9074475765228271, 1.1199729442596436, 0.3947190046310425, 0.28118079900741577, -0.7492460012435913, 1.9896297454833984, -1.0075644254684448, 1.7150951623916626, -0.03830013424158096, -2.710728883743286, 1.2344257831573486, 3.163238048553467, -5.0949602127075195, 4.455873966217041, 1.5962145328521729, -2.5006215572357178, -4.630935192108154, -0.043470315635204315, -0.11927340924739838, -0.6964852809906006, -1.1708120107650757, 3.980231285095215, 4.530250549316406, 2.3586888313293457, -0.11101526767015457, 0.3507460057735443, -0.62983238697052, 4.190859317779541, -3.848788022994995, -0.43007805943489075, -0.31986331939697266, 3.20086407661438, 2.261176824569702, 5.8102030754089355, -5.421737194061279, 0.8138614296913147, -0.21424928307533264, -8.257316589355469, 1.6793394088745117, 0.036255158483982086, -1.2161122560501099, 1.6338871717453003, 4.325242519378662, 1.3525586128234863, 0.3455877900123596, -1.701862096786499, 1.5478591918945312, 3.704075813293457, 0.4099363088607788, -0.20236562192440033, -2.944491147994995, -5.295626640319824, -0.44179439544677734, 1.3330676555633545, -1.4029271602630615, 1.702609896659851, 3.736834764480591, 3.204437494277954, 0.10034003853797913, -0.5441387295722961, 1.6097646951675415, 2.8268609046936035, -0.7705170512199402, -2.83172607421875, 0.6218793988227844, -0.8224559426307678, 0.5474783182144165, -2.3377938270568848, -0.9768233895301819, 3.534303665161133, 2.1593570709228516, -2.912900924682617, 1.1358251571655273, -0.5390276312828064, -0.30302694439888, 1.5588339567184448, 2.835219144821167, 0.3693660795688629, -0.8769703507423401, 4.675081253051758, 3.646152973175049, -0.5850555896759033, -0.1300058215856552, -3.6270525455474854, 0.8536055088043213, 3.1443865299224854, 1.7144103050231934, -4.00492525100708, 2.1707217693328857, 3.7223846912384033, -2.354182481765747, 3.3835105895996094, 5.00015926361084, -1.3055098056793213, 1.3535164594650269, 1.1945654153823853, -2.3307485580444336, -0.026701301336288452, 1.7398077249526978, -1.108609914779663, -3.796264410018921, -1.0022618770599365, 0.6419002413749695, -0.4197210669517517, -4.053933143615723, -2.0204899311065674, -1.122644305229187, -3.268383026123047, -4.055316925048828, -1.5752300024032593, 1.0909535884857178, 0.19550925493240356, -1.5510063171386719, 1.6957809925079346, -6.877270221710205, 0.3980294466018677, -3.075300455093384, -0.38656288385391235, 0.6592273116111755, 0.8444693684577942, 1.4461909532546997, -1.0473145246505737, -0.897101640701294, 0.686423659324646, -2.5558691024780273, -0.6231177449226379, 1.4626240730285645, -0.030731400474905968, 1.986744999885559, -1.3331177234649658, 0.2781316339969635, -0.25844934582710266, 0.19998766481876373, -0.6595125794410706, 2.057265281677246, 1.0184800624847412, -1.0561485290527344, 0.29186028242111206, 2.843614101409912, 2.0052082538604736, -1.4053359031677246, 2.452167510986328, -2.3143208026885986, -0.12248079478740692, -0.0662434846162796, -3.479185104370117, -1.0445228815078735, 0.7147538065910339, -4.911679267883301, 0.48718369007110596, 3.552874803543091, -1.0598479509353638, 4.587538242340088, -3.454179286956787, -3.5156171321868896, -2.1641430854797363, -0.13026773929595947, 3.63425612449646, -1.5692259073257446, 0.36958998441696167, 2.0606892108917236, -2.2254843711853027, 1.4917101860046387, -2.5592122077941895, 5.566503047943115, 1.1908073425292969, -1.8168725967407227, 0.4905758202075958, 0.09326661378145218, -3.1372437477111816, -3.0148894786834717, 1.524146318435669, -2.56587290763855, -1.3324764966964722, -1.2533725500106812, 1.1041350364685059, -1.9906165599822998, -1.1362110376358032, -2.0641205310821533, -0.1175813376903534, 3.231461524963379, -1.294157862663269, 0.6126310229301453, 3.133676767349243, 0.4917825162410736, 0.2875829339027405, 2.1911911964416504, -0.11935661733150482, -1.9586610794067383, -1.1895251274108887, 2.0912811756134033, -1.246059775352478, -3.706059217453003, -0.15323495864868164, -1.596445083618164, -0.08372563868761063, 1.4153902530670166, 0.5422223806381226, 3.5498108863830566, 7.8668293952941895, -0.9891149997711182, -0.5369052886962891, -1.9213666915893555, -2.6121034622192383, 0.3519545793533325, -0.6699689626693726, 1.6151809692382812, 2.760397434234619, -3.1285879611968994, 3.713883876800537, 2.8000876903533936, 0.15009921789169312, -0.21721544861793518, 0.3068833351135254, 4.823396682739258, -1.8131009340286255, 1.5830154418945312, 1.339226484298706, -1.1196630001068115, 3.2744743824005127, -1.0361318588256836, 2.7414934635162354, 3.208723306655884, 1.4987517595291138, -2.092505693435669, 1.7471522092819214, -0.42729559540748596, -0.0012192502617835999, 0.11853446066379547, -0.7593653202056885, -6.100424766540527, 0.43538928031921387, 2.529332160949707, -0.10440591722726822, -1.1403452157974243, 6.470125675201416, 2.683777093887329, 0.9660458564758301, 2.834202289581299, 1.1170356273651123, 0.1734200119972229, 2.062798261642456, -1.8779494762420654, -0.5822644829750061, 0.30251145362854004, 0.9415261149406433, -0.22935882210731506, 0.30083295702934265, -0.39979201555252075, -0.9982677102088928, 1.178612470626831, 0.42385396361351013, -0.018010351806879044, 1.9060375690460205, -0.673471212387085, -0.17856769263744354, 0.4282907247543335, -2.2485318183898926, 0.214197039604187, 0.4789597988128662, -0.9965530633926392, 0.9333246946334839, -8.174921035766602, 0.14582033455371857, 0.7750295996665955, -2.6119511127471924, -1.932154893875122, -0.4606670141220093, 0.8493689298629761]\n"
   ]
  },
  {
   "cell_type": "code",
   "execution_count": 26,
   "metadata": {},
   "outputs": [],
   "source": [
    "# Trained on full dataset\n",
    "def simple_linreg_3_class(x):\n",
    "    return [-74.2149429321289, 66.770751953125, 23.594148635864258, 16.17131805419922, -30.30195426940918, 2.877124786376953, -11.22172737121582, 213.64193725585938, -40.193763732910156, -37.15701675415039, 93.04492950439453, 53.66206359863281, -47.530860900878906, -56.188873291015625, -59.86149215698242, -84.24314880371094, 10.465469360351562, -124.29415893554688, 113.50855255126953, -27.726783752441406, 2.0170516967773438, -47.298484802246094, -84.87086486816406, 49.94475555419922, -206.79293823242188, 12.010665893554688, 11.827800750732422, 122.87882232666016, 35.2109260559082, 45.0687255859375, -31.573062896728516, -69.01289367675781, -61.557044982910156, 1.9404420852661133, -13.082361221313477, 2.4068565368652344, 12.13156509399414, 77.26667785644531, -131.82962036132812, -98.0163345336914, -19.73452377319336, -172.197021484375, -11.950614929199219, 20.042293548583984, -62.41545486450195, -122.85948181152344, 63.19929504394531, -129.07501220703125, -120.98316192626953, -17.337919235229492, 59.784912109375, -28.437808990478516, -156.30654907226562, -60.00126647949219, -26.778345108032227, 141.3712921142578, -181.25283813476562, -110.51570129394531, -229.100341796875, 51.510276794433594, -24.521080017089844, 23.672321319580078, -99.05375671386719, -77.56745910644531, -16.848356246948242, 22.381244659423828, 173.53924560546875, 41.67908477783203, 157.3410186767578, 37.78315734863281, 27.653993606567383, -206.2635955810547, -39.507118225097656, 62.97773742675781, -26.505510330200195, 261.1258544921875, 13.694360733032227, 71.81008911132812, 63.82978439331055, -247.22439575195312, 26.0289249420166, 55.33477020263672, 28.43975067138672, 44.40058898925781, 83.32195281982422, 30.309823989868164, -34.40118408203125, -33.00719451904297, -19.721820831298828, 47.670780181884766, 7.290374755859375, 279.95037841796875, -43.124046325683594, -13.493263244628906, -10.116310119628906, -51.16790771484375, 81.3874282836914, 8.584796905517578, 191.975830078125, -27.279468536376953, 3.73129940032959, 50.991966247558594, -28.244110107421875, 42.70799255371094, 279.91522216796875, 43.088748931884766, 146.47071838378906, 17.113239288330078, 27.99436378479004, 16.081478118896484, 145.9126434326172, 95.95335388183594, -18.342355728149414, 84.9138412475586, 61.68061828613281, -176.72801208496094, -76.37091064453125, 25.5029239654541, 131.07315063476562, -73.70263671875, 47.85252380371094, -19.558330535888672, 47.4993896484375, -10.061920166015625, -70.83695983886719, 15.237268447875977, -20.091556549072266, -85.28378295898438, 10.47920036315918, 26.011198043823242, 88.7114028930664, 3.542787551879883, -74.83878326416016, 50.07764434814453, -30.10645294189453, 15.86468505859375, 146.6149139404297, -59.87311935424805, -309.31201171875, 137.3301239013672, 2.526714324951172, -6.228690147399902, 15.957067489624023, -36.96417236328125, 18.679147720336914, 3.9973392486572266, -3.3894853591918945, 131.30813598632812, 22.053258895874023, 57.68155288696289, 14.43162727355957, 77.17950439453125, 10.21958065032959, -76.98295593261719, 83.61127471923828, 5.563232421875, 83.61426544189453, 7.046931743621826, -134.36427307128906, 195.38951110839844, 17.91783905029297, -105.9598388671875, -96.64610290527344, 333.62237548828125, -30.129478454589844, -142.0748291015625, 30.79348373413086, 130.19351196289062, 32.078880310058594, -15.919743537902832, -246.05686950683594, -11.45639419555664, 3.636852741241455, -140.60357666015625, 175.02598571777344, 24.043045043945312, -84.21141052246094, -45.68049240112305, 307.1455078125, -16.521183013916016, 13.068962097167969, -21.076772689819336, 33.74781036376953, 27.0009765625, 143.36949157714844, 119.67427062988281, 2.2934064865112305, 60.23662567138672, -37.87578201293945, -32.780174255371094, -23.958412170410156, 20.2415828704834, 45.11559295654297, -80.30917358398438, -149.20538330078125, 36.96437072753906, 35.81806564331055, 12.887310028076172, -69.17369079589844, 163.9636993408203, 23.169187545776367, 76.41305541992188, 4.798151016235352, 55.82647705078125, 69.49832153320312, -28.790390014648438, 20.066816329956055, 298.4419250488281, 107.36978912353516, 184.938232421875, -74.25038146972656, -0.44272422790527344, -47.349952697753906, 48.69943618774414, -32.518898010253906, -5.5910797119140625, -167.08755493164062, 90.81512451171875, -143.46560668945312, 12.571145057678223, -31.350269317626953, 65.62287139892578, -82.59390258789062, -196.06959533691406, -16.30744171142578, 49.109169006347656, 192.2294921875, -147.79153442382812, 176.7171630859375, -119.7786865234375, 77.82575225830078, -22.439924240112305, 105.97248840332031, -72.68952941894531, -10.55008316040039, -27.428071975708008, 44.484657287597656, -34.19658660888672, -166.825927734375, 28.326622009277344, -212.28721618652344, 5.060462951660156, 4.329110145568848, -88.95428466796875, -61.34226989746094, 6.122711658477783, 9.153520584106445, 55.87488555908203, -169.51876831054688, 23.413516998291016, -48.53034973144531, -143.9543914794922, 74.71931457519531, -6.694496154785156, 10.125542640686035, 22.830825805664062, -81.19818878173828, 112.35581970214844, -23.77254867553711, 74.31007385253906, 32.14817810058594, 24.29623031616211, 182.03985595703125, 15.937999725341797, -261.20068359375, -28.51108741760254, -99.25216674804688, -36.66377258300781, 206.25460815429688, 57.5244140625, 17.748729705810547, 19.0107479095459, -22.807559967041016, -47.74911117553711, 76.95956420898438, -143.69259643554688, 105.53404235839844, 102.1671142578125, -54.251529693603516, 41.0915412902832, -17.13901138305664, 92.7166976928711, 6.320217132568359, -26.968616485595703, 68.58291625976562, -43.30305480957031, -101.88213348388672, -98.54452514648438, 39.397987365722656, -13.44038200378418, 52.958335876464844, -12.574630737304688, 85.03721618652344, 30.510089874267578, -15.810685157775879, -26.01248550415039, -46.2989387512207, 312.66241455078125, 168.18734741210938, 49.484535217285156, -0.36057043075561523, 14.089466094970703, 21.343074798583984, -14.653022766113281, 25.429447174072266, 19.981369018554688, -9.875572204589844, -50.41972351074219, -25.419044494628906, 155.28575134277344, 16.012941360473633, 60.10163497924805, -213.07241821289062, -289.69488525390625, 27.12946319580078, 27.211410522460938, 57.4591064453125, 45.679603576660156, -8.412311553955078, -143.96083068847656, -20.40042495727539, 76.358154296875, -8.961254119873047, -94.19554138183594, -62.63146209716797, 53.718345642089844, -64.62318420410156, -7.5486345291137695, 93.47550964355469, 95.63619995117188, 60.818328857421875, 18.772499084472656, -150.85122680664062, -0.8408679962158203, -48.38844299316406, -106.50546264648438, 23.41718292236328, 45.6683235168457, 36.576942443847656, 38.71366500854492, -41.20035934448242, 3.8697640895843506, -43.48445510864258, 78.4893798828125, 21.59188461303711, 76.67123413085938, 33.185394287109375, 31.31610107421875, -76.22474670410156, 24.654050827026367, 30.155214309692383, -72.06876373291016, 79.22367858886719, 37.24163818359375, 47.99037551879883, 41.62059783935547, 10.65565299987793, 55.1991081237793, 12.923187255859375, 101.7664794921875, -10.218669891357422, 61.8080940246582, -28.702159881591797, -27.34359359741211, -3.698883056640625, 22.957942962646484, -35.37635803222656, 1.618734359741211, -32.03099060058594, -20.986587524414062, 50.258949279785156, -98.43869018554688, -45.4434928894043, -85.21528625488281, -86.94822692871094, 84.53823852539062, 83.47348022460938, -313.0169982910156, 23.11370086669922, -3.1416873931884766, 19.3692626953125, 37.85913848876953, 5.080898284912109, -51.10390853881836, -13.415061950683594, -362.5072021484375, 3.9287796020507812, 7.197980880737305, -119.62198638916016, -7.627862930297852, -20.066059112548828, 27.042964935302734, -107.76973724365234, -18.097204208374023, -34.05005645751953, 31.307910919189453, -151.7063446044922, -3.096475601196289, -242.7085418701172, 201.72210693359375, -159.41650390625, 125.59127807617188, 74.04179382324219, 76.87528991699219, 10.3616943359375, -74.20730590820312, 301.6572265625, -207.12046813964844, -8.280685424804688, -49.51588439941406, -160.0758056640625, 13.85157585144043, 6.4635820388793945, 302.83953857421875, 65.76240539550781, -19.48049545288086, 279.9622802734375, -104.00077819824219, -22.22486686706543, -43.02600860595703, 15.298096656799316, 118.21855926513672, 67.57062530517578, 161.2469482421875, -40.05061340332031, 113.54068756103516, -76.7833480834961, -24.056734085083008, -14.943647384643555, 2.057037353515625, 370.18865966796875, 6.210235595703125, 6.124958038330078, 29.19429588317871, 10.205818176269531, -38.13514709472656, -34.7721061706543, 32.626792907714844, 0.16791629791259766, 20.585262298583984, 459.5864562988281, -15.279909133911133, 85.36955261230469, 126.81497192382812, -101.65670013427734, 74.65653991699219, -41.19841766357422, 22.80976104736328, -19.794261932373047, 55.930030822753906, -13.690685272216797, -17.393047332763672, -39.7441520690918, 17.122468948364258, -66.42610168457031, 6.235591888427734, 106.86720275878906, -80.29930114746094, -106.77798461914062, -9.642406463623047, 152.0146026611328, 55.49143981933594, -24.998779296875, 41.459983825683594, 31.222543716430664, -12.20117473602295, 18.05065155029297, 284.3358154296875, -14.651422500610352, -61.986236572265625, -63.29329299926758, -14.775117874145508, 101.30247497558594, 74.45193481445312, -30.009822845458984, 33.70997619628906, 29.227848052978516, -9.970856666564941, 236.55389404296875, 234.5231475830078, -15.736052513122559, 71.18424224853516, -20.622596740722656, 22.166086196899414, 50.847869873046875, 41.62640380859375, 31.8229923248291, -58.1319580078125, -20.034996032714844, 65.65823364257812, 45.18849182128906, -111.47026062011719, 259.36041259765625, 207.3123779296875, -28.33800506591797, 50.560943603515625, 201.7816925048828, -92.8485107421875, 13.982498168945312, 103.1880874633789, -79.73074340820312, 133.60076904296875, 67.22180938720703, 19.642438888549805, 64.47410583496094, -45.93849182128906, -65.22615051269531, -30.737850189208984, -140.63926696777344, -98.24699401855469, 95.34589385986328, -5.130038261413574, 159.74705505371094, -35.472652435302734, 203.06906127929688, -322.44879150390625, 91.04522705078125, 192.15170288085938, 0.7021923065185547, 0.7878608703613281, 170.02157592773438, -109.295654296875, 82.48260498046875, 11.274971961975098, -29.58025360107422, 21.4725399017334, 30.920272827148438, 204.44668579101562, -32.437095642089844, -20.237009048461914, 53.041709899902344, 2.4707794189453125, -74.52296447753906, -192.62789916992188, 33.69752502441406, -75.78034973144531, 115.35214233398438, -100.70909118652344, -6.574169158935547, -41.08314895629883, -52.71147155761719, -59.871883392333984, -13.287551879882812, 30.34162139892578, -148.7222137451172, 3.898512840270996, 196.92494201660156, 15.400328636169434, -149.06565856933594, 59.61328887939453, -292.7380676269531, -20.240015029907227, 6.619761943817139, 27.94240951538086, -44.069000244140625, -77.77710723876953, 111.68601989746094, 74.22803497314453, 21.024831771850586, 38.68244171142578, 136.9255828857422, -74.10213470458984, 178.52899169921875, 354.2760925292969, 105.59062194824219, -93.28170013427734, 170.20248413085938, -36.66457748413086, 82.18596649169922, -70.98348236083984, 28.911882400512695, 66.2002182006836, 34.036865234375, 79.78945922851562, 110.52924346923828, -41.066749572753906, 49.339569091796875, 12.989712715148926, 98.84007263183594, 5.974950790405273, 45.567779541015625, 18.02483558654785, -21.234710693359375, -32.107357025146484, -10.47646713256836, -58.37982177734375, 103.86479949951172, -5.397456169128418, -138.0697021484375, 260.22186279296875, -108.22582244873047, 4.665229797363281, 17.943233489990234, -58.01448440551758, -342.69500732421875, 6.158870697021484, -355.7149963378906, -18.315576553344727, 19.645709991455078, -207.9525909423828, 169.7891387939453, -34.3760986328125, -78.67825317382812, 143.0228271484375, 53.524803161621094, 103.17155456542969, 31.017154693603516, 146.993896484375, -162.87432861328125, 17.425724029541016, -14.130346298217773, 22.198867797851562, 68.22512817382812, -28.010644912719727, -32.921600341796875, -67.02162170410156, -107.23270416259766, -352.0867004394531, -20.780271530151367, -56.67173767089844, 126.4698486328125, -4.8779191970825195, -35.027099609375, 37.819419860839844, -168.59780883789062, -3.4778575897216797, 36.24836349487305, 117.57732391357422, -29.282161712646484, 195.9591064453125, 117.42472839355469, 46.761627197265625, 21.44942855834961, -40.638267517089844, 13.277935981750488, 140.12925720214844, -175.50506591796875, 59.23381042480469, -170.12808227539062, -16.805007934570312, 57.432823181152344, -120.55545043945312, -37.337833404541016, -99.69416809082031, -27.787721633911133, 45.88199234008789, 33.73401641845703, 77.0364990234375, 109.6451416015625, -241.49928283691406, 6.721026420593262, 84.8315200805664, -189.7073974609375, -659.3222045898438, 183.33155822753906, -27.22266960144043, 79.21176147460938, -131.59420776367188, -46.57049560546875, -60.55250930786133, 73.20994567871094, -170.88821411132812, 459.7191162109375, -8.930843353271484, -62.447837829589844, -45.950626373291016, 88.62740325927734, 203.49298095703125, -136.9084014892578, -72.66645812988281, 144.42759704589844, -84.57159423828125, 0.29978370666503906, -54.85073471069336, 12.858545303344727, -14.874038696289062, -85.37438201904297, -18.381004333496094, -16.27155303955078, 15.177383422851562, 14.175469398498535, -279.5018005371094, 1.5609307289123535, -45.35917663574219, 67.24534606933594, 44.63020324707031, 247.3478546142578, 241.24610900878906, 72.66393280029297, -124.55742645263672, 41.652931213378906, -12.49423599243164, 49.953285217285156, 57.10341262817383, -3.026073455810547, -238.7052764892578, 29.335908889770508, -12.160408020019531, -256.30694580078125, 86.20063781738281, -3.217988967895508, 50.14103698730469, 143.17776489257812, 15.825722694396973, 43.066654205322266, -106.52801513671875, -125.83915710449219, 134.80650329589844, -203.25460815429688, -492.65350341796875, -70.5267333984375, 70.50144958496094, -20.700956344604492, 110.3259048461914, -48.760215759277344, 56.84228515625, 10.112773895263672, -145.24118041992188, 245.10000610351562, -121.766357421875, 15.284570693969727, -3.354402542114258, 47.17795944213867, 3.2978134155273438, 18.15535545349121, 39.219825744628906, -144.62664794921875, -46.04243850708008, -12.847495079040527, -92.8780517578125, 57.70537567138672, -45.84349822998047, 148.29171752929688, -92.79457092285156, -9.808012008666992, 104.88601684570312, -98.26966094970703, 312.4189453125, -28.71027946472168, 27.199676513671875, -27.500709533691406, 33.36528396606445, 43.56419372558594, -309.093994140625, 11.322370529174805, -110.7997817993164, -245.66058349609375, 9.53628921508789, -6.161131858825684, 42.35611343383789, -9.267745971679688, 7.580368518829346, -35.06011199951172, -403.0709228515625, 12.165950775146484, 11.531566619873047, 130.8067626953125, -32.22361755371094, -36.040008544921875, 19.07748794555664, 9.47407054901123, 27.077037811279297, -13.077664375305176, -21.535675048828125, -83.19144439697266, -27.595949172973633, 41.1231575012207, 107.59835815429688]\n"
   ]
  },
  {
   "cell_type": "code",
   "execution_count": 27,
   "metadata": {},
   "outputs": [],
   "source": [
    "def simple_linreg_3_concat(x):\n",
    "    return [31.34142303466797, 109.64727783203125, 16.31890296936035, -23.123493194580078, 62.46254348754883, 64.23631286621094, 48.998146057128906, -105.64984893798828, 6.056998252868652, -10.252002716064453, -8.261943817138672, -4.025717258453369, -2.9879376888275146, 84.71240234375, 14.68504524230957, -27.786170959472656, -22.676477432250977, -89.03083038330078, -73.37715148925781, 90.72370147705078, -17.218421936035156, 5.796078205108643, 114.88401794433594, 2.450563907623291, 27.019508361816406, -13.191617012023926, -72.6622314453125, -23.903223037719727, -46.20671081542969, 13.09895133972168, 40.30657196044922, 171.86859130859375, 29.0289249420166, 44.63175582885742, -22.210948944091797, -10.53171157836914, -131.24554443359375, -15.505688667297363, 20.32180404663086, -33.66792297363281, 1.8587031364440918, -70.95091247558594, 5.806251049041748, 52.52223205566406, 39.365081787109375, 90.22359466552734, 15.332439422607422, -128.80694580078125, -17.45014190673828, 39.72248077392578, -12.938606262207031, -29.779186248779297, 29.011615753173828, 13.808257102966309, -0.4573402404785156, -54.348594665527344, -240.57708740234375, 79.36244201660156, 84.11719512939453, 3.055535078048706, 18.56056022644043, 61.48493194580078, 11.897665977478027, 2.715543746948242, -0.2221536636352539, 14.339212417602539, -201.725341796875, -0.6220393180847168, -100.21219635009766, -7.733434677124023, 65.20989990234375, -190.8921356201172, -5.326700687408447, -16.40010643005371, 6.4827070236206055, 69.79390716552734, -9.340612411499023, 45.983665466308594, 12.377342224121094, -31.315784454345703, -17.20189666748047, -19.383831024169922, 36.3715934753418, 40.78057861328125, 75.63692474365234, -8.272274017333984, -16.483715057373047, 49.40467834472656, -6.604972839355469, 38.27399444580078, 4.411584854125977, -99.49984741210938, 17.780601501464844, 16.10028648376465, 0.49619126319885254, 31.8211669921875, 72.98638916015625, -11.272377014160156, -87.99562072753906, 19.530529022216797, 24.954191207885742, 141.6837615966797, 145.00128173828125, 52.50685119628906, -111.09276580810547, -126.32038879394531, -54.495059967041016, -65.20611572265625, -41.36177062988281, 56.18993377685547, -44.5395393371582, -19.103879928588867, 68.01300811767578, -11.539494514465332, 25.53436279296875, 49.787532806396484, -16.650428771972656, 0.9371113777160645, -0.867041826248169, -9.7031831741333, -84.49111938476562, 100.82515716552734, -14.544665336608887, 29.825881958007812, -34.892616271972656, 221.49478149414062, -28.17718505859375, 13.994894981384277, -80.34597778320312, 69.8589859008789, -4.336427688598633, 61.83971405029297, 1.6078627109527588, -26.461349487304688, 101.20821380615234, -26.27240562438965, 208.24502563476562, -8.073774337768555, 139.39080810546875, 12.315101623535156, -6.039823532104492, -55.00927734375, -23.032127380371094, 0.5824413299560547, 24.732952117919922, -110.40065002441406, 30.66489601135254, -36.361534118652344, 129.48770141601562, 11.940710067749023, -130.34019470214844, -48.482093811035156, 13.448515892028809, -0.6691513061523438, -120.22891235351562, -69.316162109375, 1.0713779926300049, 1.9906730651855469, -10.619894027709961, -147.30392456054688, 20.594913482666016, 3.6120002269744873, -73.17101287841797, -9.694744110107422, 8.93867301940918, 69.53794860839844, -87.67151641845703, -13.828259468078613, 10.089008331298828, 9.99227523803711, 24.64995574951172, -21.505512237548828, -21.55715560913086, 14.41203498840332, 52.021732330322266, -41.395790100097656, 16.74409294128418, -1.9483036994934082, 199.71209716796875, 4.100030899047852, -106.16590118408203, 16.9859676361084, 16.764389038085938, 4.013503074645996, 143.47940063476562, 208.7705078125, 23.93301773071289, 20.061969757080078, -26.069299697875977, 33.29113006591797, -20.52594566345215, 21.611766815185547, 13.11629581451416, -65.72140502929688, -2.5695202350616455, -21.602432250976562, 48.000553131103516, 35.1696662902832, 7.859798431396484, 38.54655075073242, -1.4151229858398438, 17.498119354248047, 6.217072010040283, -21.11307144165039, 3.138883113861084, 26.421051025390625, 19.23332977294922, 159.95706176757812, 212.41494750976562, 41.95537185668945, 68.34132385253906, -1.444118618965149, 81.80308532714844, 8.113109588623047, 18.74960708618164, 17.607357025146484, 33.113914489746094, 21.425006866455078, 8.146425247192383, -39.535911560058594, -21.725692749023438, 30.42963409423828, 15.770698547363281, -8.323210716247559, -7.549589157104492, -47.333534240722656, 94.78897094726562, 34.50983428955078, -9.39631175994873, 5.374340534210205, -35.217681884765625, -163.77044677734375, 13.272909164428711, 48.07571792602539, -7.508184432983398, 3.3351597785949707, 38.07738494873047, 59.16813278198242, 44.14045715332031, -11.622186660766602, -48.88764190673828, -7.8100199699401855, -20.836368560791016, 36.319602966308594, 78.04076385498047, 5.488877773284912, 30.75107192993164, 27.904714584350586, -37.210487365722656, 22.125160217285156, 27.295757293701172, -22.600008010864258, 19.178409576416016, -32.329349517822266, 102.11067199707031, -37.30857467651367, 25.017404556274414, 7.214854717254639, 1.1215038299560547, 104.232666015625, -13.576029777526855, -25.94005012512207, -24.03881072998047, -12.359489440917969, -47.83110809326172, 66.97520446777344, 21.148239135742188, 34.98044204711914, -7.094720840454102, 29.896183013916016, -68.31757354736328, 8.07833480834961, -22.18376922607422, 7.937452793121338, -11.076075553894043, -57.922752380371094, 22.66237449645996, -177.08433532714844, -7.960408687591553, 14.70158576965332, 6.897948265075684, 29.312463760375977, 7.774096488952637, 15.452961921691895, 0.13091158866882324, -1.4539966583251953, 7.114356994628906, 119.9619140625, -54.711524963378906, 36.25361251831055, -8.81307601928711, -42.93608093261719, -25.357833862304688, -14.637249946594238, -85.51075744628906, -0.8848352432250977, 26.784908294677734, -75.18992614746094, -194.7888946533203, 33.024505615234375, 36.82218933105469, 54.802528381347656, 30.886898040771484, 4.718111515045166, -89.2021484375, 3.7449698448181152, -1.3952387571334839, -52.830570220947266, -10.458335876464844, -13.560486793518066, 2.4739127159118652, -40.19049835205078, 139.9091339111328, 8.238035202026367, 6.618110656738281, -33.902679443359375, 9.087902069091797, -62.19984436035156, -6.238947868347168, 55.059059143066406, -20.627487182617188, -16.23816680908203, 30.348588943481445, -46.54180908203125, -37.568756103515625, 38.15413284301758, 64.71589660644531, 13.249236106872559, 14.349787712097168, -75.66089630126953, -178.09519958496094, -51.43392562866211, 120.61864471435547, 14.357715606689453, -204.72337341308594, 53.10602569580078, 19.27737045288086, -9.187845230102539, 32.2391471862793, 12.32536792755127, 14.596513748168945, 11.495765686035156, -8.80714225769043, 158.49131774902344, 29.117231369018555, 26.926952362060547, 35.87489700317383, -20.917871475219727, 93.02944946289062, -65.09757232666016, 100.95063018798828, 23.078964233398438, -17.629520416259766, 4.247369766235352, -73.57015991210938, -23.50135612487793, 47.195709228515625, 82.85797119140625, 11.906607627868652, 55.1903190612793, 51.188899993896484, 58.49444580078125, -7.942776679992676, 15.484050750732422, 3.2787675857543945, 1.64053475856781, -28.03948974609375, -38.51649856567383, 1.4113588333129883, 43.738059997558594, 22.684852600097656, -60.46377944946289, 13.420186042785645, -38.29853820800781, 19.04106903076172, 117.84275817871094, 41.70608901977539, 63.852394104003906, 17.795555114746094, -1.3665542602539062, -18.885292053222656, -162.26988220214844, -106.24964141845703, -37.93354034423828, -38.28457260131836, -101.60323333740234, 53.96961975097656, -145.28184509277344, -53.17442321777344, 58.348304748535156, -50.83887481689453, 20.341299057006836, 26.999961853027344, -8.957117080688477, 62.94403076171875, -17.870878219604492, 15.279821395874023, -89.27896881103516, 6.362100124359131, -123.11500549316406, 87.23204803466797, 21.334774017333984, 1.3326268196105957, 4.85085391998291, 4.372178554534912, -14.039068222045898, -72.55437469482422, -67.13597106933594, -19.296239852905273, -33.1328125, 37.403961181640625, -115.383056640625, 22.226076126098633, -6.964588642120361, -20.53946304321289, -14.208521842956543, 16.223451614379883, -68.30197143554688, 11.648299217224121, -24.03282928466797, -18.304052352905273, -32.06257247924805, -37.646156311035156, -70.4569091796875, 6.395784378051758, -2.4648571014404297, -34.86874008178711, 5.827247142791748, 14.544526100158691, -25.827247619628906, 217.053955078125, 1.177769660949707, -9.2366361618042, -59.51692581176758, -2.1762027740478516, 106.73027801513672, 30.814777374267578, -34.08856964111328, -161.3379669189453, 2.116914749145508, 192.3798828125, 26.781166076660156, -24.867565155029297, 25.404247283935547, -35.91883087158203, 7.788297653198242, -19.927715301513672, 12.223925590515137, -11.422704696655273, -12.11488151550293, -19.026952743530273, -74.98528289794922, -1.6160554885864258, 2.0536201000213623, -42.15227127075195, 0.8221769332885742, -19.910568237304688, -10.077637672424316, -29.352529525756836, 29.707542419433594, -3.5375852584838867, -13.190988540649414, 45.467247009277344, -19.47104835510254, 3.455907106399536, -9.36164665222168, 76.50663757324219, -94.89219665527344, -40.171630859375, 1.294600486755371, 26.29882049560547, -11.763011932373047, 11.481334686279297, -27.439111709594727, 135.65838623046875, 18.812397003173828, 4.517233848571777, -17.007305145263672, -69.26370239257812, -32.601680755615234, 0.5450925827026367, 56.82682418823242, -6.91060733795166, 3.773573160171509, -7.109145641326904, 12.884424209594727, -1.9403715133666992, -18.61688995361328, 23.776243209838867, -8.033223152160645, -40.05433654785156, 13.741935729980469, -83.31196594238281, 51.58072280883789, -23.818195343017578, 67.2906723022461, 31.074825286865234, -78.23149108886719, -8.927907943725586, 0.42368876934051514, 64.35758972167969, 6.5756144523620605, -11.465754508972168, -7.950554847717285, 15.191253662109375, -19.915945053100586, -19.439184188842773, 19.049636840820312, -2.7019124031066895, -19.572072982788086, -36.33979415893555, 1.7377617359161377, -100.94342041015625, -1.0485877990722656, -47.02103805541992, 140.74090576171875, -21.26200294494629, 4.971045017242432, -14.960161209106445, -13.14337158203125, 18.92679786682129, -4.582598686218262, -88.65984344482422, -27.853187561035156, 10.36229419708252, -46.43494415283203, -25.145387649536133, -37.59803771972656, -20.534847259521484, 25.971437454223633, -176.47923278808594, 20.364728927612305, -15.010086059570312, -7.535540580749512, 17.538917541503906, -198.82379150390625, -34.00646209716797, -12.580131530761719, -29.714040756225586, -18.13701057434082, 11.741567611694336, 13.469841957092285, -22.65715217590332, 0.0003833770751953125, 22.121553421020508, -2.476734161376953, -23.550281524658203, 4.928504467010498, 230.11825561523438, -15.8854341506958, -48.0609245300293, -1.475635051727295, 34.86019515991211, 19.037418365478516, -36.7930908203125, 84.79425048828125, -17.213788986206055, 40.45037078857422, 17.244171142578125, 9.557318687438965, 104.83232116699219, 33.21052551269531, -14.747861862182617, 50.56227111816406, -7.012468338012695, -106.81209564208984, 33.25300598144531, 65.74480438232422, 4.779857158660889, -130.52423095703125, 10.767486572265625, 8.879873275756836, -18.744890213012695, 13.999702453613281, 11.067434310913086, -13.086357116699219, 3.7864785194396973, 29.160259246826172, 56.7137451171875, 14.309678077697754, -48.991905212402344, -0.04576754570007324, -23.654747009277344, -21.258913040161133, 1.1070280075073242, -20.376468658447266, -98.36215209960938, -20.72262191772461, -53.33216094970703, -42.12944793701172, -147.48692321777344, -217.3843994140625, -42.82405090332031, 12.788500785827637, -134.88644409179688, -10.656312942504883, 117.29791259765625, -0.680513858795166, -31.80655288696289, -48.731632232666016, 23.647136688232422, 28.416133880615234, -17.361278533935547, 8.311963081359863, -18.3486328125, 51.98130798339844, -2.5293099880218506, 9.380329132080078, 190.2814483642578, -134.2707061767578, 34.63772964477539, 43.156089782714844, -39.08797836303711, 20.96451759338379, -0.4375476837158203, -30.435203552246094, -19.000560760498047, 0.24805545806884766, -28.655433654785156, 8.075029373168945, -84.28822326660156, 9.369481086730957, 50.39600372314453, -54.958473205566406, -4.9224677085876465, 23.9488525390625, 51.76365280151367, 15.875393867492676, -4.589380741119385, -25.26668930053711, -24.69589614868164, -6.609203338623047, 19.421083450317383, 53.84461212158203, 10.590253829956055, -16.11823272705078, 26.799121856689453, 3.5332748889923096, -60.20459747314453, -27.442489624023438, -21.550003051757812, -9.850470542907715, -44.313289642333984, -31.385879516601562, 49.12367630004883, -47.46311950683594, -2.076629161834717, 41.17749786376953, -109.30960083007812, 0.5449450016021729, -10.77159309387207, -13.172687530517578, 64.10260772705078, -127.09552764892578, -97.91360473632812, 5.995229721069336, 10.255159378051758, -33.35324478149414, -27.395681381225586, -5.484894752502441, -49.260887145996094, 134.2606201171875, -44.39599609375, 23.161039352416992, -18.753986358642578, 78.25823974609375, 15.118375778198242, 35.19610595703125, 19.680620193481445, -25.984115600585938, 18.38389015197754, 6.240530967712402, 4.131108283996582, -3.929622173309326, 16.557235717773438, -7.924391746520996, 71.135009765625, 8.10301685333252, 18.923160552978516, -21.398094177246094, 23.45948028564453, 86.01612091064453, 4.815466403961182, 4.246820449829102, -52.75992202758789, -58.837791442871094, -5.657382011413574, 127.45095825195312, 29.20568084716797, 1.957730770111084, 19.59811782836914, -11.429128646850586, -5.214752197265625, 24.593950271606445, -14.134129524230957, -201.17347717285156, -30.233570098876953, -11.581034660339355, 138.28311157226562, 25.303791046142578, -96.73604583740234, 9.343202590942383, 5.473404407501221, 1.2364411354064941, -1.908184289932251, 56.60063934326172, 5.532599449157715, 103.23835754394531, -85.42317199707031, -115.25848388671875, -149.20004272460938, 14.670845031738281, 5.196505546569824, -28.637117385864258, -22.233131408691406, -51.42648696899414, 11.084451675415039, 99.1715087890625, 126.13530731201172, -52.34291076660156, -21.788818359375, 46.099788665771484, -121.19819641113281, 20.981693267822266, -52.840843200683594, -9.354558944702148, -36.52342224121094, -70.60382080078125, 5.346377372741699, -120.49935913085938, 101.91211700439453, 42.659366607666016, 120.58355712890625, 22.331676483154297, 7.878875255584717, -20.405488967895508, 114.83296966552734, 104.09931945800781, -2.178778648376465, 34.12102508544922, -13.542588233947754, 8.224431037902832, -94.05365753173828, 70.34307098388672, 36.24208068847656, 11.674422264099121, 128.10289001464844, -54.37338638305664, -3.1952877044677734, -91.67701721191406, 84.01049041748047, 31.393714904785156, 25.271804809570312, -27.17505645751953, 2.5232019424438477, -98.91452026367188, 21.369462966918945, -22.57636260986328, 34.17917251586914, -64.40388488769531, 13.598952293395996, -9.599788665771484, 8.03243350982666, -51.90343475341797, 18.63650131225586, 11.702255249023438, 36.159366607666016, 12.347734451293945, 1.911194086074829, -3.5831377506256104, -1.0802043676376343, 1.4066895246505737, -1.9331119060516357, 2.1709842681884766, -1.2928231954574585, -3.185711145401001, 2.995793342590332, 1.4313596487045288, -2.1215555667877197, -0.0928599089384079, -2.6213502883911133, -2.4123308658599854, 0.08663617819547653, 0.40115928649902344, 0.1184781938791275, -0.13669942319393158, -1.5756710767745972, -1.2153842449188232, -2.0373568534851074, -0.9008516669273376, -3.3028156757354736, 4.108252048492432, -4.014392375946045, 0.38063758611679077, 1.2175769805908203, 2.33764910697937, -0.4274682402610779, 1.0278607606887817, 1.137384057044983, 3.778378963470459, -3.543987512588501, -5.295290470123291, 0.09114515036344528, -1.7647063732147217, 1.424356460571289, -1.151656985282898, -0.4144454002380371, 4.849881172180176, -2.056913375854492, -4.7843708992004395, -1.2291100025177002, -0.5817300081253052, -2.3137876987457275, 7.088261604309082, 0.44341203570365906, -6.809722900390625, 3.801442861557007, 2.5303797721862793, -1.2630785703659058, -1.713093638420105, -1.8507659435272217, 2.742821216583252, 2.629298448562622, -2.3681230545043945, 2.5255191326141357, 0.13337957859039307, 2.628265619277954, -0.07083216309547424, -1.780748724937439, -0.19732074439525604, 0.13328364491462708, 1.908471941947937, 1.5335519313812256, 2.4594650268554688, 0.5600170493125916, 0.5908276438713074, -1.9978703260421753, -1.442909598350525, 0.198142871260643, 4.569738864898682, 0.1268937736749649, 0.46834132075309753, -0.4052860736846924, -0.9894360303878784, 1.1684446334838867, -1.1636135578155518, -0.9551052451133728, 3.18353009223938, -1.6891950368881226, -1.81502103805542, -2.837155342102051, -3.3405582904815674, 0.35241878032684326, -2.999192237854004, 3.080707311630249, -0.6983795166015625, 5.791928768157959, 4.308517932891846, 3.2550487518310547, 5.435665607452393, 4.438085556030273, 2.7235658168792725, -5.2539591789245605, -3.9266674518585205, 2.6872763633728027, 1.0609233379364014, 0.9480987191200256, -0.6576181054115295, 3.15689754486084, 3.511121988296509, -1.4848142862319946, -2.8452517986297607, 2.6818835735321045, 4.804903507232666, 0.20988795161247253, -0.8023601174354553, -0.6386091709136963, -5.41090202331543, 2.3195083141326904, -0.9250875115394592, -2.051198959350586, -4.747486114501953, 4.711465358734131, 1.3025223016738892, 1.02073073387146, -0.8701157569885254, -9.101605415344238, 1.6990424394607544, -2.6003682613372803, -0.9445149898529053, -2.6236908435821533, -1.4715049266815186, -1.0708063840866089, -2.836843967437744, -0.22045467793941498, 2.1830997467041016, 0.7760743498802185, 1.5090222358703613, 4.77697229385376, 0.042568497359752655, -0.7902759313583374, 3.8223557472229004, 0.34214645624160767, -0.33602020144462585, 2.1609814167022705, -3.664166212081909, -1.3245728015899658, 1.0681997537612915, -4.285057067871094, 1.7875268459320068, 0.9652504324913025, 2.1343228816986084, -1.7885721921920776, -0.20230266451835632, 2.535278081893921, 1.6777756214141846, 0.8087112307548523, -1.5805631875991821, 2.5889594554901123, -1.5513668060302734, 2.721553087234497, -3.7128169536590576, -0.5070340037345886, -1.742323875427246, -0.8624237775802612, 0.8784955739974976, -1.2243024110794067, -1.6501655578613281, -0.7863632440567017, 1.883527398109436, 0.5243493318557739, 8.464540481567383, 0.44452837109565735, -0.10368921607732773, -1.2634987831115723, -0.9062820672988892, -3.3655591011047363, -1.490157127380371, 3.7983410358428955, 3.3129539489746094, -1.449150562286377, 1.2673107385635376, 0.03505988419055939, 0.10787969082593918, 0.5536088943481445, 1.0928846597671509, -2.434102773666382, 0.4081805944442749, -3.0146427154541016, 0.16181553900241852, 1.3874608278274536, 2.264232873916626, 0.31230759620666504, 2.98272967338562, 0.9276515245437622, -1.1683425903320312, -2.174921751022339, -1.3849948644638062, 0.8507175445556641, 1.8288298845291138, -0.46695178747177124, 4.6398468017578125, 4.1777663230896, 0.7851367592811584, -0.13441796600818634, 3.2019288539886475, 0.46703585982322693, 3.0034422874450684, 1.6862537860870361, 3.701655387878418, -2.630873203277588, -3.1421384811401367, -1.475474238395691, -1.1835548877716064, 0.5578983426094055, -1.6574556827545166, -2.627779483795166, -1.1467933654785156, 4.15571403503418, -0.3511938750743866, 1.4070988893508911, 3.6285560131073, 0.9125158786773682, -3.1079649925231934, -2.349580764770508, 3.279911756515503, 0.8185218572616577, -0.8020948767662048, 3.4215667247772217, -0.08215309679508209, 3.7335712909698486, 4.405756950378418, 0.23812738060951233, -0.8136634230613708, 0.997864842414856, -3.175845146179199, 1.8934500217437744, -0.3734731674194336, 1.1556893587112427, 3.5631473064422607, -1.6922714710235596, -0.6587473750114441, 3.2545955181121826, -0.8314229846000671, 1.9051350355148315, -1.706533432006836, 2.2777867317199707, -1.7584975957870483, 0.568541407585144, 0.0569731667637825, -0.2873968482017517, -0.7308683395385742, -0.2963905930519104, 0.7806256413459778, -1.4025447368621826, 3.4953160285949707, 0.4217597544193268, 0.1578419953584671, 1.7451250553131104, -2.1825058460235596, 1.607028603553772, 2.4021236896514893, -3.6743640899658203, -0.19936338067054749, 1.2530770301818848, -4.956514835357666, 1.2014104127883911, 0.6394548416137695, -0.7568498849868774, -0.5819679498672485, 0.8752505779266357, 1.3454071283340454, 2.7614333629608154, -2.6469898223876953, 2.593197822570801, -0.716346025466919, 1.1523230075836182, 2.11513614654541, 4.631881237030029, -0.6361252069473267, 2.3743326663970947, 0.19012607634067535, -3.4125120639801025, -3.6026363372802734, -1.1637946367263794, 2.136892080307007, -2.4030213356018066, 0.5650454759597778, -0.6513132452964783, 0.1770308017730713, -0.8836506605148315, -0.0728876143693924, -1.530536413192749, 0.9375667572021484, -0.6400835514068604, 1.5753626823425293, -0.7347576022148132, -1.1714589595794678, 3.9428133964538574, 1.8192505836486816, -0.30699947476387024, 1.0838189125061035, 0.16857418417930603, -1.0241994857788086, -1.2356873750686646, -0.43336787819862366, 1.6682491302490234, -2.041077136993408, 0.06866876780986786, -4.637567043304443, 1.2943881750106812, 2.755638360977173, 0.4411465525627136, 1.5965602397918701, 1.4340994358062744, -0.5245962142944336, -2.733952045440674, 4.9188456535339355, 0.30175599455833435, 1.3629581928253174, 1.1245707273483276, -4.5437445640563965, 0.9672463536262512, -2.4854326248168945, 3.047157049179077, -1.5829269886016846, 1.3497114181518555, 1.364561676979065, 3.833944082260132, -1.7258316278457642, -1.319460391998291, 2.0189809799194336, -0.08745218813419342, 3.7753336429595947, -0.15021824836730957, 1.008100152015686, 1.1467697620391846, 0.029715172946453094, -0.9954423308372498, 1.2986985445022583, 4.709725379943848, 0.4743788242340088, 2.233354091644287, -1.6962968111038208, 1.526921272277832, 1.966931700706482, -1.1776773929595947, 2.871840238571167, -2.5998804569244385, -0.13938912749290466, -0.814424991607666, 0.16135485470294952, 0.9326919913291931, -2.0178685188293457, -0.2903439998626709, 1.1096481084823608, -0.41770780086517334, 7.187812805175781, -0.9768196940422058, -0.6079261302947998, 2.46498441696167, -3.165229320526123, -0.8666160106658936, -1.8946641683578491, 2.5285353660583496, -3.1107420921325684, 1.0493205785751343, 0.29641932249069214, 1.2746535539627075, -1.1446373462677002, -6.736220359802246, -0.8178525567054749, 0.10243981331586838, -0.689476490020752, 7.619655132293701, 1.8742738962173462, -2.3749144077301025, -0.3929201364517212, -0.23524025082588196, 0.13004663586616516, -1.4728631973266602, 0.8472485542297363, -0.018231548368930817, 2.726900339126587, -0.7385312914848328, 0.722502589225769, -2.7202911376953125, -1.9607610702514648, 2.2816126346588135, -1.8957856893539429, 1.3195981979370117, 1.3644981384277344, 0.7823700904846191, -4.41698694229126, -0.5272765159606934, 2.2105712890625, -2.10495662689209, -0.3887603282928467, -0.41212373971939087, -1.0869477987289429, 0.5805611610412598, -3.1735458374023438, -0.5978628993034363, 2.229782819747925, 3.5332446098327637, 2.444943904876709, 2.388803720474243, -5.09028434753418, 1.0131174325942993, -2.2591376304626465, -1.2530226707458496, -0.3549669086933136, 1.576575517654419, -1.4063677787780762, -1.648093581199646, 3.401520252227783, 0.39537134766578674, 1.1877920627593994, -2.7611682415008545, -0.40014931559562683, -0.18381187319755554, 2.606029987335205, -0.7110402584075928, 0.21074922382831573, 5.8408203125, -2.349095106124878, -4.38810920715332, -1.4642452001571655, 1.5655062198638916, -3.15798020362854, 0.45248889923095703, -1.5047459602355957, -0.13532695174217224, -0.18688884377479553, 4.7757792472839355, 2.8459064960479736, -0.28635096549987793, 2.298135280609131, -3.2433199882507324, -1.2856801748275757, 4.993274211883545, -0.6526766419410706, 1.0626760721206665, -1.4174838066101074, -1.4474326372146606, 1.361404299736023, -2.3964085578918457, 2.7098946571350098, -2.9453160762786865, -3.2513203620910645, -7.718553066253662, 0.4168744683265686, 2.0910468101501465, -1.792127013206482, 1.1988065242767334, -0.7255170941352844, 0.06538030505180359, 0.23074296116828918, 0.04432624205946922, -4.153977394104004, -1.3362419605255127, 3.056248903274536, -2.765233039855957, 0.5506706237792969, 0.6685654520988464, -0.4099148213863373, -0.7262946367263794, 1.715421199798584, 2.041640281677246, -3.4835705757141113, -3.6325855255126953, 0.5235509872436523, -4.003748893737793, -1.183336853981018, 2.9626009464263916, -3.22314453125, -0.14721541106700897, -0.5313701629638672, -2.034820079803467, 0.4456619620323181, -3.495232343673706, 4.292718410491943, 0.7659717202186584, -1.4871639013290405, -0.21155042946338654, 1.7857627868652344, 0.1268635094165802, 1.720339059829712, 0.001476675271987915, -1.7998065948486328, 0.10963596403598785, -1.6062277555465698, 1.0549312829971313, -0.16769477725028992, -3.258974552154541, -0.23555538058280945, -1.5998399257659912, 3.6525909900665283, -2.2163889408111572, -1.7213835716247559, -1.2087301015853882, 0.44023293256759644, 0.2974890470504761, 0.07400472462177277, 0.9919571876525879, 3.871581792831421, 0.6903427839279175, -1.9074475765228271, 1.1199729442596436, 0.3947190046310425, 0.28118079900741577, -0.7492460012435913, 1.9896297454833984, -1.0075644254684448, 1.7150951623916626, -0.03830013424158096, -2.710728883743286, 1.2344257831573486, 3.163238048553467, -5.0949602127075195, 4.455873966217041, 1.5962145328521729, -2.5006215572357178, -4.630935192108154, -0.043470315635204315, -0.11927340924739838, -0.6964852809906006, -1.1708120107650757, 3.980231285095215, 4.530250549316406, 2.3586888313293457, -0.11101526767015457, 0.3507460057735443, -0.62983238697052, 4.190859317779541, -3.848788022994995, -0.43007805943489075, -0.31986331939697266, 3.20086407661438, 2.261176824569702, 5.8102030754089355, -5.421737194061279, 0.8138614296913147, -0.21424928307533264, -8.257316589355469, 1.6793394088745117, 0.036255158483982086, -1.2161122560501099, 1.6338871717453003, 4.325242519378662, 1.3525586128234863, 0.3455877900123596, -1.701862096786499, 1.5478591918945312, 3.704075813293457, 0.4099363088607788, -0.20236562192440033, -2.944491147994995, -5.295626640319824, -0.44179439544677734, 1.3330676555633545, -1.4029271602630615, 1.702609896659851, 3.736834764480591, 3.204437494277954, 0.10034003853797913, -0.5441387295722961, 1.6097646951675415, 2.8268609046936035, -0.7705170512199402, -2.83172607421875, 0.6218793988227844, -0.8224559426307678, 0.5474783182144165, -2.3377938270568848, -0.9768233895301819, 3.534303665161133, 2.1593570709228516, -2.912900924682617, 1.1358251571655273, -0.5390276312828064, -0.30302694439888, 1.5588339567184448, 2.835219144821167, 0.3693660795688629, -0.8769703507423401, 4.675081253051758, 3.646152973175049, -0.5850555896759033, -0.1300058215856552, -3.6270525455474854, 0.8536055088043213, 3.1443865299224854, 1.7144103050231934, -4.00492525100708, 2.1707217693328857, 3.7223846912384033, -2.354182481765747, 3.3835105895996094, 5.00015926361084, -1.3055098056793213, 1.3535164594650269, 1.1945654153823853, -2.3307485580444336, -0.026701301336288452, 1.7398077249526978, -1.108609914779663, -3.796264410018921, -1.0022618770599365, 0.6419002413749695, -0.4197210669517517, -4.053933143615723, -2.0204899311065674, -1.122644305229187, -3.268383026123047, -4.055316925048828, -1.5752300024032593, 1.0909535884857178, 0.19550925493240356, -1.5510063171386719, 1.6957809925079346, -6.877270221710205, 0.3980294466018677, -3.075300455093384, -0.38656288385391235, 0.6592273116111755, 0.8444693684577942, 1.4461909532546997, -1.0473145246505737, -0.897101640701294, 0.686423659324646, -2.5558691024780273, -0.6231177449226379, 1.4626240730285645, -0.030731400474905968, 1.986744999885559, -1.3331177234649658, 0.2781316339969635, -0.25844934582710266, 0.19998766481876373, -0.6595125794410706, 2.057265281677246, 1.0184800624847412, -1.0561485290527344, 0.29186028242111206, 2.843614101409912, 2.0052082538604736, -1.4053359031677246, 2.452167510986328, -2.3143208026885986, -0.12248079478740692, -0.0662434846162796, -3.479185104370117, -1.0445228815078735, 0.7147538065910339, -4.911679267883301, 0.48718369007110596, 3.552874803543091, -1.0598479509353638, 4.587538242340088, -3.454179286956787, -3.5156171321868896, -2.1641430854797363, -0.13026773929595947, 3.63425612449646, -1.5692259073257446, 0.36958998441696167, 2.0606892108917236, -2.2254843711853027, 1.4917101860046387, -2.5592122077941895, 5.566503047943115, 1.1908073425292969, -1.8168725967407227, 0.4905758202075958, 0.09326661378145218, -3.1372437477111816, -3.0148894786834717, 1.524146318435669, -2.56587290763855, -1.3324764966964722, -1.2533725500106812, 1.1041350364685059, -1.9906165599822998, -1.1362110376358032, -2.0641205310821533, -0.1175813376903534, 3.231461524963379, -1.294157862663269, 0.6126310229301453, 3.133676767349243, 0.4917825162410736, 0.2875829339027405, 2.1911911964416504, -0.11935661733150482, -1.9586610794067383, -1.1895251274108887, 2.0912811756134033, -1.246059775352478, -3.706059217453003, -0.15323495864868164, -1.596445083618164, -0.08372563868761063, 1.4153902530670166, 0.5422223806381226, 3.5498108863830566, 7.8668293952941895, -0.9891149997711182, -0.5369052886962891, -1.9213666915893555, -2.6121034622192383, 0.3519545793533325, -0.6699689626693726, 1.6151809692382812, 2.760397434234619, -3.1285879611968994, 3.713883876800537, 2.8000876903533936, 0.15009921789169312, -0.21721544861793518, 0.3068833351135254, 4.823396682739258, -1.8131009340286255, 1.5830154418945312, 1.339226484298706, -1.1196630001068115, 3.2744743824005127, -1.0361318588256836, 2.7414934635162354, 3.208723306655884, 1.4987517595291138, -2.092505693435669, 1.7471522092819214, -0.42729559540748596, -0.0012192502617835999, 0.11853446066379547, -0.7593653202056885, -6.100424766540527, 0.43538928031921387, 2.529332160949707, -0.10440591722726822, -1.1403452157974243, 6.470125675201416, 2.683777093887329, 0.9660458564758301, 2.834202289581299, 1.1170356273651123, 0.1734200119972229, 2.062798261642456, -1.8779494762420654, -0.5822644829750061, 0.30251145362854004, 0.9415261149406433, -0.22935882210731506, 0.30083295702934265, -0.39979201555252075, -0.9982677102088928, 1.178612470626831, 0.42385396361351013, -0.018010351806879044, 1.9060375690460205, -0.673471212387085, -0.17856769263744354, 0.4282907247543335, -2.2485318183898926, 0.214197039604187, 0.4789597988128662, -0.9965530633926392, 0.9333246946334839, -8.174921035766602, 0.14582033455371857, 0.7750295996665955, -2.6119511127471924, -1.932154893875122, -0.4606670141220093, 0.8493689298629761]"
   ]
  },
  {
   "cell_type": "code",
   "execution_count": 110,
   "metadata": {},
   "outputs": [],
   "source": [
    "def simple_linreg_3_abs(x):\n",
    "    return [1.2206486463546753, -2.2899551391601562, -1.3862780332565308, 2.3471317291259766, 0.7623217105865479, -0.24870091676712036, -0.9258395433425903, -3.2108561992645264, 0.8017182350158691, 0.7199126482009888, -0.9987918138504028, 0.5267919301986694, -0.6276278495788574, 1.027318000793457, 1.4180384874343872, -0.23857372999191284, -0.7850512862205505, -0.04300212860107422, 0.43746066093444824, 1.1916028261184692, 0.7341361045837402, 0.9358571767807007, 3.23012375831604, -0.06331521272659302, 1.7600364685058594, -0.24068665504455566, -0.2846471965312958, -4.641317367553711, 0.4588947594165802, -0.7063465714454651, 0.6996437311172485, 0.11399827897548676, -2.3020100593566895, 1.1085178852081299, 0.08491866290569305, -1.00325608253479, 1.457753300666809, -1.0699517726898193, 1.5103063583374023, 2.7706751823425293, -1.2231197357177734, -1.9195080995559692, 5.611811637878418, 0.631514310836792, 1.094817876815796, 4.043010234832764, 0.7182504534721375, 0.7049270868301392, -0.8663316965103149, 0.008503168821334839, -2.5155773162841797, 0.5097794532775879, 1.6986318826675415, 1.132422685623169, 3.361849546432495, -0.7706983089447021, 1.4806541204452515, 0.4871481657028198, -0.6612758636474609, 1.4804627895355225, 0.14493447542190552, 1.2431224584579468, 1.4530055522918701, 1.6530694961547852, 0.03826051950454712, -0.16716432571411133, -1.4305198192596436, -0.12667784094810486, 0.8115078210830688, -0.7239046096801758, 1.01163649559021, 1.558567762374878, 0.05633747577667236, 1.9080935716629028, -0.2867296636104584, -2.445770263671875, -4.797826766967773, -10.604780197143555, -1.9120149612426758, 3.960963249206543, 0.13156025111675262, -1.4304972887039185, -0.9676733613014221, -0.5837163329124451, -2.166841983795166, 3.051180839538574, -0.4567711353302002, 0.6927955150604248, 2.899188756942749, 0.5767073035240173, -1.359968662261963, -2.2950057983398438, 1.074152946472168, -0.5816453695297241, 0.004966616630554199, 1.3355945348739624, -2.8137741088867188, -0.300276517868042, -0.565079927444458, 2.010979652404785, 1.5710763931274414, -1.8071945905685425, 1.3207002878189087, -0.29840314388275146, -3.5517923831939697, -1.2530239820480347, -0.9051105976104736, 0.34371480345726013, -0.6550244688987732, 0.0498213917016983, -0.042430371046066284, -0.7480106949806213, 1.9673519134521484, -1.6880496740341187, -2.4880924224853516, -0.9038509130477905, 3.6070597171783447, 1.844022274017334, -2.1210923194885254, 0.7975791692733765, 0.7605205774307251, -0.22614987194538116, -1.3548892736434937, 0.22105559706687927, 1.0152093172073364, -2.6303749084472656, 3.3538706302642822, -7.997849464416504, -0.7553961873054504, 0.03348557651042938, -1.457943320274353, 1.1032404899597168, 0.072013258934021, -2.6763603687286377, 1.3148915767669678, -0.7926397919654846, -0.5810660719871521, -2.1756958961486816, 1.6959178447723389, -4.734440803527832, 1.0390146970748901, 0.593396782875061, 1.1550370454788208, -1.7364201545715332, -1.0227477550506592, 1.3636022806167603, -0.7383804321289062, -1.8373446464538574, -0.2562580704689026, 0.3695027828216553, -0.8443243503570557, -0.8734363317489624, -1.9846192598342896, -0.18831376731395721, 2.336195945739746, -3.5604007244110107, -0.1253373622894287, 1.1081500053405762, 1.6151849031448364, -0.667095422744751, -1.632929801940918, 2.5699150562286377, 1.0615592002868652, -0.610162615776062, 2.2124898433685303, 3.2496519088745117, -0.6211273670196533, -2.3255462646484375, 1.0069763660430908, 1.9266364574432373, 2.146655797958374, -3.6474123001098633, -0.633738100528717, -0.27306681871414185, -1.878554105758667, 1.2537827491760254, -1.966672658920288, 2.1858839988708496, -3.4585862159729004, -1.2063260078430176, -0.9867159128189087, 0.3086099624633789, -2.9173243045806885, -3.1409759521484375, -0.349192351102829, 1.060497522354126, -0.7102879285812378, 0.23278850317001343, -0.4023735225200653, 1.4459285736083984, 0.522098183631897, -2.0036754608154297, 0.4598987102508545, 2.786363363265991, -0.2948748469352722, -0.2058505415916443, -0.6712470054626465, -2.3605172634124756, -0.5682945251464844, -0.5029279589653015, -0.43823540210723877, 2.1836934089660645, 0.03971192240715027, 0.025571517646312714, -2.8321633338928223, 3.051137924194336, 1.4866223335266113, -1.7598390579223633, 1.1433541774749756, -0.2407272458076477, 0.5212634801864624, 3.8068113327026367, 0.4503233730792999, -1.5472667217254639, -0.8115025758743286, -3.001431941986084, 1.622161865234375, 4.273287773132324, -1.6059231758117676, -0.7217882871627808, -0.28915292024612427, -1.5160434246063232, -0.2573317885398865, 5.512815475463867, 0.8694517016410828, -0.3556789755821228, -3.5898337364196777, 1.4663015604019165, -0.37525925040245056, 0.9428688883781433, -1.909897804260254, 1.2417962551116943, 1.5333938598632812, -0.7432025074958801, 2.3723678588867188, -0.5576233267784119, -0.9818987250328064, 1.4792661666870117, -0.7337442636489868, -0.10455840826034546, 2.412841558456421, 0.836086630821228, -0.5443437099456787, 2.1692898273468018, 1.2237809896469116, -0.6358984112739563, -0.5907927751541138, -1.4089943170547485, 1.2075494527816772, 0.9122065305709839, 1.433588981628418, 2.2884140014648438, -0.312589168548584, 0.8487256765365601, 0.8378326892852783, -0.09979674220085144, -0.04832705855369568, -4.338405609130859, 1.6257227659225464, -1.309650182723999, 3.5538246631622314, -1.6751878261566162, 0.0433376282453537, -0.00824706256389618, 1.1574835777282715, 0.27564966678619385, -0.6108523607254028, 1.4667537212371826, -2.9559264183044434, -3.7899398803710938, 0.11994367837905884, 0.28833919763565063, -0.784278154373169, 1.469628095626831, -1.708223581314087, 2.6999311447143555, -3.7430078983306885, -0.22695311903953552, 2.177051305770874, -0.6507465243339539, -0.022410452365875244, -0.5748617649078369, 0.17374026775360107, -0.8583592176437378, -0.5550240278244019, 5.040336608886719, -2.3369638919830322, 3.3613617420196533, -0.3176535367965698, 0.4859805107116699, -7.2707414627075195, -0.6313962936401367, -12.14686393737793, -1.7293263673782349, 2.635674476623535, 1.66954505443573, 12.308891296386719, 1.298912763595581, -1.8260303735733032, -1.5896711349487305, -0.18431952595710754, 4.955122947692871, -0.6649631261825562, -0.5113077163696289, -0.46090513467788696, -0.31911081075668335, 4.080737113952637, 0.7080185413360596, 0.6367262005805969, -1.3144118785858154, 1.0727858543395996, -1.2313991785049438, 1.5809786319732666, 3.473681926727295, -1.1305549144744873, -5.168230056762695, -0.44127172231674194, -2.4501395225524902, 2.5006513595581055, 1.486666202545166, -0.7999740839004517, -2.6073641777038574, 2.4684367179870605, 0.35785990953445435, 3.1670634746551514, 7.60710334777832, 3.0928263664245605, 0.2795136570930481, 0.024559713900089264, -1.3743709325790405, 1.4899758100509644, 1.441728115081787, 1.535698652267456, -0.648169755935669, 2.6068274974823, -0.2776743173599243, -0.5815734267234802, -0.19969642162322998, 0.41275230050086975, 0.4261929988861084, -1.5751794576644897, -2.161665916442871, -2.3132686614990234, -1.4234368801116943, -2.350257158279419, -4.156819820404053, -1.0343862771987915, -1.431715488433838, 2.591402292251587, 0.4427167475223541, 0.6793261766433716, 4.549468040466309, -1.5401394367218018, 0.8152451515197754, -1.495715856552124, -1.8534728288650513, -0.9172236323356628, -5.286481857299805, 0.8119854927062988, -0.6490480303764343, 1.6017296314239502, -1.2303403615951538, 3.8388257026672363, 2.351806879043579, -0.8830491304397583, 2.1805295944213867, -1.428558349609375, 2.037661552429199, 1.1455308198928833, -0.7876667380332947, 0.04459702968597412, 1.0496838092803955, 0.2758646309375763, 0.1305657923221588, -0.28003400564193726, 0.17625616490840912, 0.46361032128334045, 0.13879764080047607, 2.487987995147705, 0.5572835206985474, -0.1375347077846527, 2.7941930294036865, -1.0018105506896973, 0.355516642332077, 0.14022418856620789, -1.1884278059005737, 2.686617851257324, 0.1332782506942749, -0.4242478609085083, -1.00111722946167, -3.1752266883850098, -0.6661829948425293, 10.715232849121094, -0.1743728071451187, 1.0342599153518677, 1.2993088960647583, 1.075000286102295, -1.6802459955215454, 3.5333614349365234, -0.9085371494293213, 1.348483920097351, -2.1250617504119873, -1.7112371921539307, -1.2500922679901123, -0.06338858604431152, 0.23990964889526367, -1.7095414400100708, 5.189625263214111, -2.149364471435547, 1.2902328968048096, 0.6269793510437012, 0.7092075347900391, -0.06329318881034851, -2.5602617263793945, 0.43473875522613525, 0.9544851183891296, -1.1759610176086426, 1.1154764890670776, 1.2147941589355469, 0.9336812496185303, -0.9686437845230103, -0.24511635303497314, -1.1997556686401367, -0.6057061553001404, -2.1063036918640137, 0.325206995010376, 3.630037307739258, 7.747302532196045, 0.2304317206144333, -0.8830589056015015, 0.17495477199554443, -0.4698030948638916, 2.049537420272827, -0.5773800611495972, 2.2767722606658936, 2.4053027629852295, 1.4734196662902832, -0.20832765102386475, -0.19609558582305908, 0.9838413000106812, -4.735151290893555, -0.3606942892074585, -2.525595188140869, -2.2413887977600098, -0.30094820261001587, -2.916874885559082, 0.7313308715820312, 0.8724395036697388, 0.516864538192749, -3.9495534896850586, -0.26357945799827576, 0.4423152804374695, 0.29914239048957825, -1.0335110425949097, 2.225404739379883, -0.833816647529602, -0.7388343811035156, -0.12302747368812561, 1.2245266437530518, -1.4666922092437744, -1.4696741104125977, -0.1090298742055893, -1.5245859622955322, -1.6972870826721191, -1.0468313694000244, -0.802344024181366, -0.14823782444000244, -4.998892784118652, 2.1892502307891846, 1.5077638626098633, 1.03079092502594, 0.48950517177581787, -3.0038557052612305, 0.7808699607849121, 1.671873688697815, -0.4777839183807373, -1.7540992498397827, -0.30805158615112305, -1.6282904148101807, -0.9111202955245972, 2.748913288116455, -1.1513867378234863, 0.7527222633361816, 0.3647298216819763, -0.4983155429363251, -0.9431613087654114, -0.11146727949380875, 0.5977272391319275, 2.0237936973571777, 0.8257456421852112, -0.40963879227638245, 1.7215049266815186, -3.56744122505188, 0.41204094886779785, -0.6093565821647644, -0.12072160840034485, -1.8933169841766357, 0.1719280481338501, -0.9667699337005615, 1.9614664316177368, 2.716538190841675, -3.827198028564453, -1.4034297466278076, -0.9467385411262512, -2.685229539871216, 2.990220308303833, 1.680619716644287, -1.0503758192062378, 7.374365329742432, 0.4156731963157654, -0.20727483928203583, -0.7303084135055542, 1.1196725368499756, 0.254863440990448, -3.910468101501465, -0.8972963094711304, -1.7342318296432495, 0.5431538820266724, -2.1155245304107666, -0.3418053388595581, -1.9681824445724487, -4.3846540451049805, -0.38772308826446533, 1.2890346050262451, 0.6752347946166992, 0.07111524045467377, -2.4696760177612305, -0.8507857918739319, 3.128800868988037, -0.7597260475158691, 0.7509795427322388, -0.8484829068183899, -0.6496458053588867, 0.7542047500610352, 4.32182502746582, -0.03044283390045166, -4.525967597961426, 1.0468103885650635, 0.5446810722351074, 0.23545899987220764, 1.7317496538162231, 0.9402583241462708, 2.7124645709991455, 0.5466823577880859, 2.8806405067443848, 0.3039054870605469, -0.5886651873588562, 0.08716097474098206, 0.8177098035812378, -1.4208335876464844, 3.417703628540039, 0.5213567018508911, 1.0244903564453125, 4.569404602050781, 0.645207941532135, 0.9919346570968628, -2.9628195762634277, -3.3556511402130127, -0.070990651845932, 1.0923821926116943, -0.6082940101623535, 3.97054386138916, -0.4052949547767639, 0.5055950880050659, -1.2683756351470947, 1.821448802947998, -2.3204615116119385, -0.36690956354141235, 1.58292818069458, 1.5353870391845703, 0.37258976697921753, -1.4994330406188965, 0.05636996030807495, -3.0515880584716797, -3.061164140701294, 8.944391250610352, -3.8090124130249023, 0.7517437934875488, -0.602770209312439, -3.805461883544922, -0.03101678192615509, -0.22870154678821564, -1.2045599222183228, 1.4587286710739136, -1.538724422454834, 1.3634660243988037, -1.9552605152130127, -0.024259746074676514, 1.0107933282852173, -0.22564232349395752, -0.8546358942985535, -1.1107069253921509, -0.4184306859970093, 0.7325238585472107, 2.8716907501220703, -7.992508888244629, 3.073214292526245, 1.3064903020858765, -2.5918619632720947, 4.501121520996094, 0.21561181545257568, 3.3078722953796387, 0.2890990078449249, 0.09691073000431061, 0.41123467683792114, -2.347067356109619, 0.738646388053894, -1.1046676635742188, 2.5507256984710693, -1.1679017543792725, 0.8147502541542053, -0.7210875749588013, -0.9262385964393616, 2.0352184772491455, 1.241884469985962, -2.5657637119293213, 1.2011082172393799, 3.718677520751953, 0.820651650428772, -2.0391547679901123, -1.3740174770355225, -0.2105281949043274, 0.4323171377182007, -0.3111999034881592, 0.8060662746429443, -0.9171242713928223, 1.132344365119934, -0.22981387376785278, -0.4693387746810913, 0.8518943786621094, -4.217169761657715, 1.07645845413208, -1.5576984882354736, -1.4163496494293213, 1.8576149940490723, -0.8412066698074341, 0.4920031726360321, -2.5934839248657227, 3.2139644622802734, -0.6571173667907715, -0.8537567257881165, 2.216479539871216, 0.7585922479629517, 3.498472213745117, -1.7234060764312744, -0.865498960018158, 0.6621164083480835, 0.20226195454597473, -0.2643740177154541, 2.692962169647217, 0.7304623126983643, -3.0646235942840576, 3.076274871826172, 3.557309627532959, 1.6858822107315063, 1.5029494762420654, 1.4202933311462402, 0.8229274749755859, -0.40713316202163696, -2.2080342769622803, -1.0041558742523193, 3.3409008979797363, -3.2478389739990234, -1.0678136348724365, 0.8015672564506531, -0.6106857657432556, 0.576557993888855, -1.4506515264511108, -0.11872053146362305, 4.4488725662231445, -1.7447208166122437, -1.0823466777801514, -0.003675311803817749, 1.1160638332366943, 1.448219895362854, -2.5279998779296875, -2.9311342239379883, -0.6191610097885132, 0.47367438673973083, -4.479655742645264, -1.2655930519104004, 1.360286831855774, 0.5493766069412231, -0.6954179406166077, -0.24123509228229523, -0.5919686555862427, -1.8232860565185547, -1.9294040203094482, -2.0055737495422363, 3.4515552520751953, -3.619016647338867, -2.8542098999023438, -2.03629732131958, 0.30912724137306213, -0.8728040456771851, 0.8397010564804077, 1.0417366027832031, 1.4956424236297607, 6.654775619506836, -1.920853853225708, -0.9238640069961548, -1.5762510299682617, -1.5273404121398926, 1.4454143047332764, -1.0563831329345703, 2.526618480682373, 2.3063082695007324, -1.818525791168213, 0.046130407601594925, 3.8298912048339844, -1.313123106956482, -0.5971031785011292, 0.48297908902168274, 0.3321816325187683, -0.005852103233337402, -2.0025525093078613, 0.11770129203796387, 5.891471862792969, -1.557861089706421, -0.6721147298812866, 1.5075409412384033, -1.352626085281372, -0.5486070513725281, 0.9277831315994263, 0.11609415709972382, -0.7017279863357544, 0.38621577620506287, 1.2504684925079346, 0.22327733039855957, 3.7808287143707275, -4.804050445556641, 0.5934901833534241, -2.3386454582214355, -0.3396036922931671, 2.2035818099975586, -2.2684261798858643, 0.488533616065979, -3.1881070137023926, -0.7638506889343262, 1.0016393661499023, 0.8136799931526184, -2.7660601139068604, -0.444252073764801, 2.285360336303711, 0.03545582294464111, 3.907672643661499, 2.373866319656372, 2.0866522789001465, -0.16711455583572388, 1.4285895824432373, 0.7622979879379272, -0.809042751789093, -2.363267421722412, 4.657247543334961, 0.5992382168769836, 0.3831617534160614, -0.6128374338150024, 0.9090876579284668, -1.478454351425171, 0.316722571849823, -0.9677050709724426, -0.44358646869659424, -0.16055205464363098, 1.7411210536956787, 2.3655903339385986, 0.8516228795051575, 0.6459762454032898, -2.5963516235351562]"
   ]
  },
  {
   "cell_type": "code",
   "execution_count": 29,
   "metadata": {},
   "outputs": [],
   "source": [
    "def simple_linreg_3_sub(x):\n",
    "    return [2.34012508392334, 4.323265552520752, 0.6835417747497559, -2.8037540912628174, 3.09631609916687, -4.891146659851074, 1.40422785282135, 9.880019187927246, -6.548496246337891, -2.7810535430908203, 7.877922058105469, 0.5430044531822205, 6.314934253692627, 6.115757465362549, -5.167918682098389, -0.2775730788707733, -0.21261517703533173, -2.4328489303588867, 7.8705291748046875, 2.949211835861206, 2.6998302936553955, 2.326549768447876, 4.638134479522705, -10.216567039489746, 7.500153541564941, -2.03110933303833, -7.6850762367248535, -3.574547052383423, -3.4819159507751465, 1.2038499116897583, -2.542799711227417, -9.672941207885742, -1.68820059299469, 10.725447654724121, 1.0630687475204468, 5.347079277038574, -0.1065678596496582, 0.7521093487739563, -2.7424755096435547, -5.046140193939209, 4.813346862792969, 6.36706018447876, 2.8027000427246094, -0.12463337182998657, 6.143534183502197, -9.319950103759766, -1.6256963014602661, 9.75016975402832, -8.535768508911133, -6.89393949508667, 0.7926267385482788, 3.9944963455200195, 1.1178061962127686, -5.900786399841309, -5.740401744842529, 5.3756608963012695, -4.622744560241699, -6.417055606842041, -4.251184940338135, 2.090442419052124, 5.574657917022705, -2.5650460720062256, 1.809267520904541, -0.2984466254711151, -4.510108470916748, -3.319338798522949, 2.190304756164551, -5.616219997406006, 1.1445083618164062, -0.14205732941627502, 3.073801279067993, -6.314854621887207, -0.1713884323835373, -5.6051716804504395, 1.4134043455123901, -0.730566680431366, -4.619608402252197, 6.978129863739014, 2.0556135177612305, -5.77683687210083, -0.7400295734405518, 5.578105449676514, -1.0061273574829102, 6.506557941436768, -0.318581223487854, 4.771095275878906, -3.301271915435791, 1.6530131101608276, -7.315322399139404, -5.638437271118164, -9.520407676696777, -10.790771484375, -4.914636611938477, -2.1493301391601562, 8.707629203796387, 6.710409641265869, -4.642977714538574, -1.4105756282806396, 1.0227261781692505, -0.9098327159881592, -6.716974258422852, -4.384405612945557, 5.747491836547852, 5.725964069366455, -6.96409797668457, -4.455890655517578, -1.0769731998443604, 1.8018563985824585, 1.590221881866455, 11.363303184509277, 1.495956540107727, 0.38787227869033813, 0.021829554811120033, 7.104202747344971, -6.1193928718566895, -4.369694709777832, -3.0283477306365967, 4.76370096206665, 13.140361785888672, -7.465930938720703, 3.7469513416290283, 3.8024697303771973, 4.4039106369018555, 1.2237037420272827, -0.3772016167640686, 5.1519670486450195, 0.5137926936149597, -3.2657132148742676, -3.8902013301849365, -2.470755100250244, -7.924558162689209, -1.4787626266479492, 2.952775478363037, -6.648590564727783, 1.6887824535369873, -3.3006415367126465, -6.656888008117676, 5.410211563110352, -1.6649463176727295, -3.875208616256714, 11.305411338806152, -0.30514204502105713, -0.4144216775894165, -9.013945579528809, 1.9071890115737915, 1.4534094333648682, -2.2696540355682373, -5.750936031341553, -0.4559139609336853, 4.110779285430908, -3.849543333053589, 2.4323184490203857, -2.9074597358703613, 4.498172760009766, 7.818914890289307, 4.081334590911865, 3.3676304817199707, -1.762800931930542, 3.2675535678863525, 3.2461469173431396, 4.9980268478393555, -1.645373821258545, -1.133920669555664, -12.31713581085205, -0.8880890607833862, 2.9455461502075195, 3.4860873222351074, -0.1457352191209793, 2.3352015018463135, -0.22926588356494904, -11.028847694396973, -6.704127788543701, 2.7915706634521484, -3.6649253368377686, -5.248998641967773, -1.8747413158416748, -4.003718852996826, 3.16731595993042, 9.988872528076172, 0.6121912002563477, 5.253894805908203, -1.5007492303848267, -0.2519706189632416, -0.4496394991874695, -1.939736008644104, -1.3047823905944824, -0.5957342386245728, 2.9603662490844727, -0.11864733695983887, 0.3355575203895569, -5.9472198486328125, -3.615607976913452, 2.0523881912231445, -8.517594337463379, -7.280749320983887, -4.60889196395874, 0.047463156282901764, -5.572380542755127, -4.424371719360352, -2.7392539978027344, -2.1172590255737305, -3.3504743576049805, 4.603564739227295, -1.0244195461273193, 1.980340838432312, -0.8204784989356995, -1.991787314414978, 6.796248435974121, 5.364920616149902, -0.5967859029769897, -5.279340744018555, 4.223764419555664, -2.16746187210083, -7.233057498931885, -2.6062228679656982, 7.121342182159424, 6.570788860321045, -6.329588890075684, 0.3247556984424591, -2.2804713249206543, -9.863622665405273, 0.9990875720977783, -5.283201694488525, -4.305230617523193, -0.8955416679382324, 3.4412784576416016, 0.39151686429977417, 6.45836877822876, -2.298699140548706, -0.9150830507278442, -2.869039297103882, -6.7184834480285645, 3.6748206615448, -1.4999815225601196, -8.978293418884277, 1.2676645517349243, -6.284552574157715, 4.975512504577637, -3.619083881378174, 1.3090561628341675, 0.6295566558837891, -0.6177948713302612, 0.3855140209197998, 0.4496229290962219, -0.6344171166419983, 0.6103404760360718, 0.8278846144676208, -8.121718406677246, -1.195310115814209, -0.556326150894165, -1.4088764190673828, 6.054444313049316, 1.8819526433944702, -7.420060634613037, 3.5553669929504395, 2.0972089767456055, -3.3199236392974854, 6.692795276641846, -1.4069838523864746, 4.527048587799072, -1.5834184885025024, 1.9378100633621216, -7.493651866912842, -0.8809428215026855, -7.311600685119629, 2.5643415451049805, -5.595986843109131, 2.327136754989624, -2.1813302040100098, -3.799345016479492, -9.909902572631836, 0.5795542001724243, -2.951718330383301, -1.0433814525604248, 2.1360719203948975, 2.0559470653533936, -6.513271808624268, 0.41001033782958984, 1.5399657487869263, 0.27491211891174316, 3.9077582359313965, -0.09134133160114288, 0.8078669905662537, -1.7802008390426636, 2.9515185356140137, -0.09813843667507172, 4.636330604553223, -0.9256239533424377, 0.13669057190418243, 3.4694666862487793, -4.88288688659668, -3.7336137294769287, -0.4445111155509949, -0.3328219950199127, -2.847229480743408, 1.7695523500442505, 11.377243041992188, 2.5730133056640625, -6.023032188415527, 3.3446438312530518, 2.635833501815796, 6.042355060577393, -3.7010769844055176, -4.948060035705566, -1.7195976972579956, -4.324296474456787, 0.526658833026886, 1.4182928800582886, 5.243042945861816, -10.291805267333984, -2.013062000274658, -3.1884756088256836, -4.341240406036377, 8.827901840209961, -0.22055523097515106, 5.217031002044678, -5.424774646759033, 1.885042428970337, -2.387629270553589, -0.8804872632026672, -4.944218158721924, 4.116855144500732, 1.140109896659851, -0.8320868611335754, 2.1478750705718994, -9.141571044921875, 1.9423878192901611, -5.1078667640686035, -3.8040316104888916, -1.7021217346191406, 1.0396994352340698, -1.63184654712677, -10.977132797241211, -1.8234423398971558, -2.580848455429077, -4.9815521240234375, -3.671560525894165, -0.848930835723877, 1.2242450714111328, -3.4667348861694336, 2.3550024032592773, -4.554280757904053, 0.005334505811333656, 0.5510613918304443, 1.0655934810638428, 2.529512643814087, -0.20099206268787384, 2.1774160861968994, 0.24718791246414185, -9.383469581604004, 1.7114218473434448, -3.0693717002868652, -2.9192283153533936, 4.735754489898682, 0.612349808216095, 2.4564154148101807, -4.861459255218506, 4.214303493499756, -1.2447384595870972, -0.6509932279586792, -0.018855132162570953, 3.5063188076019287, 10.529869079589844, 1.96576988697052, -0.07219113409519196, 1.4509435892105103, -6.74031400680542, -2.2465925216674805, 5.0557942390441895, -0.855556070804596, -0.517475962638855, 5.733035564422607, 1.400160312652588, 3.6326053142547607, -0.7174881100654602, -2.304053783416748, 7.296474933624268, -1.3868027925491333, 1.4224882125854492, 3.00605845451355, -3.248406410217285, -0.7358676195144653, -1.3731895685195923, 0.31890374422073364, -2.625504970550537, 7.5418548583984375, -0.9129118323326111, -6.060996055603027, -1.366755485534668, 1.487754464149475, 2.5265700817108154, 3.250314235687256, -7.6067423820495605, 5.624985218048096, 1.9888854026794434, -1.7748517990112305, -5.334083080291748, -4.804561138153076, -0.578541100025177, 6.286437511444092, 0.26315656304359436, 2.6857826709747314, 4.119162559509277, 1.110115647315979, -0.1586492955684662, 2.3137197494506836, 1.0941399335861206, -9.218905448913574, -0.08674228191375732, -3.6450605392456055, 9.185203552246094, 2.5341827869415283, 0.8195226192474365, -5.308423042297363, 1.09038507938385, -2.4167566299438477, -15.89477825164795, 2.4294309616088867, 9.913446426391602, 4.700692176818848, -3.3455188274383545, -2.2422122955322266, 1.4157496690750122, 0.03138186037540436, 2.6626670360565186, 1.4423052072525024, -2.8908674716949463, 0.9975272417068481, 0.8907105922698975, -2.7802577018737793, -1.531164288520813, 1.1754157543182373, -5.901057243347168, -1.2002825736999512, -1.504054069519043, 1.2463493347167969, 5.378133296966553, -1.3049131631851196, 6.595728397369385, -3.506096124649048, 7.59621000289917, 6.5482258796691895, 11.951520919799805, 2.9686741828918457, -3.85280704498291, 0.9689104557037354, -4.095249176025391, 2.3964953422546387, 0.04482896625995636, -0.8493152856826782, 1.7016451358795166, 6.841819763183594, 2.540771722793579, -2.027395248413086, 9.991002082824707, -0.15352033078670502, 1.3567144870758057, -1.5656696557998657, 0.7184096574783325, -1.465242862701416, -4.051506996154785, 8.812676429748535, 3.474095106124878, -2.742159128189087, 4.952371597290039, 0.8764289021492004, -3.1079843044281006, 5.902806282043457, -5.019461154937744, -0.558873176574707, 3.772352933883667, 0.8885176777839661, 8.303389549255371, -5.256938457489014, -0.6418836116790771, 4.770819664001465, 0.48702681064605713, -2.679516553878784, 2.549250364303589, -4.473897457122803, 2.7586331367492676, 0.024846822023391724, 4.120076656341553, 1.4451253414154053, -3.251483678817749, -0.4371054172515869, 2.7385263442993164, 1.6253341436386108, 4.401093482971191, -2.8495051860809326, 1.8812521696090698, 8.989058494567871, 0.9173876643180847, -2.6144118309020996, -1.3994817733764648, -2.6610264778137207, -1.0126296281814575, -5.12927770614624, -6.690840721130371, 3.5825395584106445, -1.5120333433151245, 0.21708445250988007, 0.9488290548324585, -0.9000959396362305, -2.846803903579712, 2.190033197402954, -5.452608585357666, -1.2776005268096924, 6.714700222015381, -1.9283578395843506, -5.857924938201904, 10.380230903625488, -7.006200313568115, -3.3929121494293213, -3.215287923812866, 10.801403999328613, 0.8092342019081116, 1.1857428550720215, -0.8795939683914185, 3.4575579166412354, -2.3174972534179688, -6.07198429107666, -5.524562358856201, -1.1811950206756592, -0.884756863117218, 4.456864833831787, -5.087152481079102, 7.019486904144287, -2.0709195137023926, 0.3731399178504944, -2.1444528102874756, -4.732037544250488, -12.108823776245117, 5.893568515777588, -3.5455400943756104, 1.9023194313049316, 11.848437309265137, -3.0028951168060303, 1.8804022073745728, 0.3299185633659363, -3.60231351852417, -5.35697603225708, 0.29816216230392456, -1.829016089439392, 2.66923451423645, -1.452161431312561, -3.435331106185913, -1.368098497390747, 2.1913444995880127, 4.603423118591309, 6.99787712097168, 1.5141719579696655, 1.7853354215621948, 2.468569755554199, -8.769620895385742, -5.411906719207764, -0.48240312933921814, 0.18428362905979156, 1.5468485355377197, -1.1840945482254028, -5.969033241271973, 1.4892276525497437, 2.718653678894043, 0.9329348802566528, -2.731754779815674, -0.5462087392807007, 5.3624773025512695, 3.9904825687408447, -4.103094577789307, -3.453859567642212, 5.712953090667725, -2.384328603744507, -3.5250604152679443, 3.420442581176758, -0.7579444646835327, -8.936455726623535, -1.637024998664856, -0.6785595417022705, -7.566622734069824, -8.406061172485352, -0.8190174102783203, 2.017038106918335, 3.7309842109680176, 0.6419810056686401, -2.1682119369506836, -4.65132999420166, 6.4324164390563965, -7.015275478363037, -6.066415309906006, 0.48040056228637695, -2.210635185241699, -8.997986793518066, 4.04193639755249, 0.2448243349790573, -4.441612243652344, 6.109386444091797, 0.7711651921272278, -4.324999809265137, 3.6372101306915283, 5.718752861022949, -4.98207426071167, 0.3506941795349121, 4.201211929321289, 6.5589799880981445, 4.8375325202941895, -0.8675493001937866, 6.52182674407959, 7.311033248901367, 0.28916436433792114, -1.4510794878005981, -1.5517399311065674, 3.607229709625244, -1.587197184562683, 6.9903883934021, 2.5429928302764893, 1.6196625232696533, -0.05423913896083832, -4.891899585723877, -1.6984502077102661, -4.2506208419799805, 3.0148255825042725, 3.7248525619506836, -0.02313145250082016, 2.7973382472991943, 3.1561951637268066, -4.813027381896973, -2.2847111225128174, -0.014045163989067078, 3.3416683673858643, -0.015658289194107056, -2.513866662979126, -0.04463629424571991, 3.4979941844940186, -9.815794944763184, -3.1185388565063477, 4.485724449157715, 3.0826833248138428, -3.0670418739318848, -1.7323949337005615, 1.2951159477233887, -7.75895881652832, 3.497285842895508, 2.1888113021850586, -3.0103092193603516, 2.6755731105804443, 3.04638409614563, -1.2843296527862549, 9.889613151550293, -1.7305606603622437, -7.298532485961914, 3.8059253692626953, -11.647320747375488, 9.250155448913574, 7.231436252593994, 0.9858108162879944, -1.6016587018966675, -6.655168533325195, -1.9857337474822998, -0.7582418918609619, -4.874502182006836, 2.6605610847473145, -6.209164619445801, 8.190640449523926, -9.816934585571289, -1.3638476133346558, 9.289084434509277, 5.1045145988464355, -3.069251537322998, 3.5575897693634033, 3.682730197906494, 0.8927620649337769, 2.7564280033111572, -2.1496434211730957, 1.90513277053833, -2.240318775177002, 6.339818954467773, 0.6743937134742737, 0.2705942988395691, 0.9348036646842957, -7.026481628417969, 0.3081415593624115, -1.2067338228225708, -1.664172887802124, -3.9030256271362305, -0.3215632140636444, -2.197779893875122, 0.3272574245929718, 8.50240707397461, -1.0566531419754028, 1.5423294305801392, 3.9378418922424316, 9.852734565734863, 1.528078556060791, 2.966362476348877, 0.5045421123504639, 0.6681445837020874, -0.81522136926651, -5.930091857910156, -15.38041877746582, 0.00278298556804657, -0.7631558179855347, 0.1387847363948822, 8.118243217468262, -0.7584069967269897, 3.591881275177002, -9.123616218566895, -3.4969756603240967, 8.848308563232422, -4.106710433959961, -3.478858709335327, 3.998056411743164, 4.821338176727295, 1.8905121088027954, -3.6683030128479004, 5.067473888397217, -0.3495944142341614, -0.63470458984375, 2.482015371322632, -4.1573896408081055, 2.3678152561187744, -1.6442826986312866, -7.990808963775635, -3.0568504333496094, 2.000452995300293, -0.8240057826042175, -2.046356201171875, 0.2390749603509903, 0.29038113355636597, 1.3285088539123535, 5.1035919189453125, 5.126436233520508, -2.312263011932373, 1.160108208656311, 4.79401969909668, -9.038200378417969, -2.4691853523254395, -2.097545623779297, -6.715906143188477, -0.8123613595962524, -1.8564643859863281, -2.8514304161071777, 2.0007712841033936, 3.567774534225464, -0.306819885969162, 0.9020966291427612, 1.1702226400375366, 1.716734766960144, 0.8934646844863892, 2.942286968231201, -4.0015645027160645, -1.2688863277435303, 0.6429023742675781, -4.915957450866699, 3.41335391998291, 0.5998488068580627, -0.2380153089761734, 3.2951486110687256, -1.0088022947311401, -1.179099678993225, 3.0606887340545654, -1.8545069694519043, 13.388426780700684, -0.4898548126220703, -0.6962376236915588, 4.919735908508301, 3.4409704208374023, 0.5345283150672913, -2.027878522872925]"
   ]
  },
  {
   "cell_type": "code",
   "execution_count": 111,
   "metadata": {},
   "outputs": [],
   "source": [
    "def simple_linreg_2_abs(x):\n",
    "    return [-0.275711327791214, -0.9579051733016968, -0.21285977959632874, 1.9191452264785767, 0.9902377724647522, -0.245993971824646, 0.43304839730262756, -1.4768311977386475, 0.429371178150177, -0.014279641211032867, -0.5326818823814392, 0.32794633507728577, -0.6499625444412231, 0.4379815459251404, -0.8723558187484741, -0.16990286111831665, -1.2196412086486816, -0.45577046275138855, 0.022901033982634544, -0.00921543501317501, 0.9029095768928528, 1.526623249053955, 1.8800325393676758, 0.2588297724723816, 1.204516887664795, 0.14309117197990417, -0.5270747542381287, -2.6460113525390625, 0.17976701259613037, 0.7935696244239807, 1.254613995552063, 2.0626142024993896, -2.369608163833618, 0.6239756345748901, -0.8689465522766113, -0.7985843420028687, 0.8857169151306152, -0.9400039911270142, 0.654610812664032, 2.775740623474121, 0.08568044751882553, -0.9433769583702087, 2.0909252166748047, 0.3236237168312073, -0.5915678143501282, 3.8343231678009033, 0.879970133304596, 0.2229350209236145, -1.2379776239395142, 0.9989583492279053, -0.6806269288063049, 0.5302178263664246, 1.2100136280059814, -0.9841565489768982, 1.5088660717010498, -0.11858221143484116, 0.8411378860473633, -0.6782385110855103, -0.9225319027900696, 2.864816904067993, -0.6630061268806458, 0.3893952965736389, 0.329036682844162, 0.6676413416862488, 0.5345104336738586, 0.33749860525131226, -2.1314990520477295, -0.2467222958803177, 0.16790512204170227, -0.8214666247367859, 0.27382275462150574, 0.3660164177417755, -0.09799297153949738, 1.0781266689300537, 0.015857484191656113, -1.0949351787567139, -1.3493692874908447, -5.448580265045166, -0.9411574006080627, 2.4594855308532715, 0.21321478486061096, -0.3390073776245117, -0.5036129355430603, -0.38383087515830994, -0.953207790851593, -1.0796765089035034, -0.3028523325920105, -0.0018353466875851154, 2.808758020401001, -0.675650417804718, 0.17111551761627197, -1.9934247732162476, 1.130130648612976, -0.6252051591873169, 0.16941119730472565, 0.8605836033821106, -1.9028137922286987, -0.4542676508426666, -0.17472805082798004, 0.7188011407852173, 0.8624964952468872, -0.8908502459526062, 1.0873618125915527, 0.4409012794494629, -1.0508729219436646, 0.409341961145401, -0.6096773743629456, 0.26971331238746643, -0.08054379373788834, 0.051816944032907486, -0.9984685778617859, 0.07582639157772064, 1.6539838314056396, -1.1384388208389282, -2.0665221214294434, 0.06084291636943817, 3.285583972930908, 1.0798475742340088, -2.700305938720703, 0.28542596101760864, 0.8261719942092896, -0.5563554167747498, 0.20869940519332886, 0.4416980445384979, 1.272025227546692, -2.514286756515503, 1.3676167726516724, -2.912776231765747, -0.12836934626102448, 0.26537662744522095, -2.702941417694092, 0.6254869103431702, -0.5026296973228455, -1.0147497653961182, 0.23100340366363525, -0.8010024428367615, -0.6957194209098816, 0.06716616451740265, 0.8885059356689453, -2.3863258361816406, 2.024057626724243, 0.4683536887168884, -0.12608635425567627, -1.4260092973709106, -0.43487054109573364, 0.5197199583053589, -0.749941349029541, 0.1386827826499939, -0.48487865924835205, 0.19783377647399902, -0.6765249967575073, -0.07229043543338776, -0.5097911357879639, 0.40281182527542114, 1.716759204864502, -1.8049567937850952, -1.0443545579910278, 0.5941794514656067, 0.6828941702842712, -1.0143717527389526, -1.3616293668746948, 0.9061015844345093, 0.05133311450481415, 0.5358472466468811, 1.2114226818084717, 1.8994896411895752, -0.6786561608314514, -0.9525123238563538, 0.5357145071029663, 0.9245012998580933, 0.9024273157119751, -1.716997504234314, -0.029877521097660065, -1.422813057899475, -1.6043168306350708, 0.803619921207428, -1.3011130094528198, 0.9080097079277039, -2.08162260055542, -0.28951236605644226, -0.4157717823982239, 0.48958688974380493, -1.8734674453735352, 0.3037949502468109, -0.2232474833726883, 1.5216243267059326, -0.3752725422382355, -0.14300096035003662, -0.7068672180175781, 0.10690241307020187, 0.21884313225746155, -1.2265881299972534, -0.6205465197563171, 2.104980945587158, -0.33977147936820984, -0.7631128430366516, -0.24697262048721313, -1.086848497390747, -0.6064300537109375, -0.6568572521209717, 0.6244196891784668, 0.2505732476711273, 0.0425897054374218, 0.5673031210899353, -0.5863276124000549, 1.3179948329925537, 0.5480799078941345, -1.0784621238708496, 1.956494688987732, 0.5639470815658569, 0.3586800694465637, 1.2066476345062256, 0.1761171817779541, -0.1679907739162445, -0.498364120721817, -2.453927993774414, -0.07471290230751038, 2.465590238571167, -0.6304582953453064, -2.0300052165985107, -0.21058574318885803, -0.9682002663612366, 0.5081135034561157, 3.184319257736206, 0.26893705129623413, -0.372442364692688, -1.8980121612548828, 0.24771565198898315, 0.396664559841156, -0.6750356554985046, -1.2028508186340332, 1.4494978189468384, 1.6160067319869995, 0.08376132696866989, -1.3669836521148682, 0.19424521923065186, 1.1108732223510742, 0.5803359150886536, 0.03705178201198578, -0.26681163907051086, 0.9155591726303101, -0.05040346831083298, -0.49413084983825684, 1.412405252456665, 0.008122863247990608, -0.6571028232574463, -0.4341648817062378, -1.1535940170288086, 0.47044092416763306, 0.01714768260717392, 1.3710509538650513, 2.672664165496826, -0.7063823938369751, 0.7776225209236145, 0.47015148401260376, 0.3228009045124054, -0.37868571281433105, -1.647191047668457, 0.5698327422142029, -0.7465873956680298, 0.9689520597457886, -0.6343827843666077, -0.23865479230880737, 0.4257153570652008, 0.8543631434440613, -0.061111077666282654, 0.10700414329767227, 0.9038421511650085, -0.5628299713134766, -1.0832312107086182, -0.4729607105255127, 0.427396684885025, 0.033507391810417175, 1.2147732973098755, -0.3453752398490906, 1.4896891117095947, -0.6551573276519775, -0.5958346724510193, 1.771748661994934, -0.24237561225891113, -0.5444031357765198, 0.6972008347511292, -0.15137755870819092, 0.1621437519788742, 1.5385065078735352, 0.882154107093811, -1.3192226886749268, 1.2405368089675903, -0.7472935914993286, 0.1961458921432495, -3.9471371173858643, -0.5403484106063843, -2.7850887775421143, 0.24994580447673798, 1.2609039545059204, 1.5170124769210815, 4.0323100090026855, 1.3821723461151123, -1.1206344366073608, -0.607712984085083, -0.8294526934623718, 2.2152860164642334, -0.989457368850708, 0.8789730668067932, -0.06054002791643143, 0.1479482799768448, 0.2150835543870926, 0.7385695576667786, 0.20693111419677734, -0.8008958697319031, 0.35019269585609436, -0.910016655921936, 0.8116722702980042, 1.090208649635315, -1.0710465908050537, -3.4931576251983643, -0.5409950613975525, -0.20168201625347137, 1.411076307296753, 0.6182479858398438, -0.3580782413482666, -2.857926607131958, 1.486160159111023, -0.28820040822029114, 1.4193116426467896, 0.9855096340179443, 1.5998361110687256, 0.8880870938301086, -0.14511701464653015, -0.8669131398200989, 0.14944681525230408, 1.2617769241333008, 0.6792944073677063, -0.7500896453857422, 1.5852562189102173, -0.26635411381721497, 0.29568108916282654, -0.36785584688186646, -0.13884879648685455, 0.9311580657958984, -1.0419634580612183, -1.9793874025344849, -0.16285401582717896, -0.46833717823028564, -1.0815255641937256, -0.738800048828125, -0.14031484723091125, -0.874278724193573, 1.320719599723816, 0.7558489441871643, 0.04535122960805893, 1.2992151975631714, -0.935301661491394, -1.6831761598587036, 0.2157432734966278, -0.9069823622703552, -0.07247541844844818, -2.907252788543701, 0.7549771070480347, 0.3265431523323059, 0.633898138999939, -0.8015629053115845, 4.2807488441467285, 2.110373020172119, -0.6544883251190186, 1.5857205390930176, 2.0827889442443848, 0.9201550483703613, 1.4405229091644287, 0.17728972434997559, -0.1659332811832428, 0.35844364762306213, 1.1512880325317383, 0.5244839191436768, 0.18626543879508972, -0.23132628202438354, 0.6821247935295105, 1.065200924873352, 3.3817920684814453, -0.022087328135967255, -0.22239361703395844, -0.302651971578598, -0.9776413440704346, 0.7257059216499329, -0.1918797641992569, -1.3615608215332031, 2.0063960552215576, 0.2270156592130661, 0.3076653480529785, -0.4296562671661377, -1.5097970962524414, -0.26838284730911255, 6.580678462982178, -0.379882276058197, -0.03844770789146423, 0.5371677875518799, 0.5008543729782104, -1.1989820003509521, 2.196286201477051, -0.23534473776817322, -0.2230902910232544, -1.321481466293335, -0.8181271553039551, -0.20003370940685272, 0.45968005061149597, -0.5458732843399048, -0.7078744173049927, 3.5074920654296875, -1.2047231197357178, 0.6337952017784119, 0.41082680225372314, 0.5343645811080933, -0.15333499014377594, -1.0982314348220825, 0.7789443731307983, 0.6189003586769104, -1.412038803100586, -0.1892840713262558, 0.8548794984817505, -0.29493248462677, -1.1369702816009521, -0.31560802459716797, -0.8607944846153259, -0.27343833446502686, -2.3092637062072754, 0.021182572469115257, 3.993276834487915, 2.0994069576263428, -0.14719992876052856, -1.1447830200195312, -0.7839658856391907, 0.3962501883506775, -2.244473457336426, -0.6243748664855957, 1.2528860569000244, 0.8290531635284424, 0.7873561382293701, -0.09043781459331512, -0.9426925182342529, 1.40651535987854, -2.6348438262939453, 0.30314913392066956, -2.025468111038208, -0.5447561144828796, -1.7095868587493896, -2.1584343910217285, 0.12534621357917786, -0.08152402937412262, 0.6600639820098877, -2.7032742500305176, 0.10190331935882568, 0.7104296088218689, 0.624984085559845, -1.1379457712173462, 1.2904587984085083, -0.4691149592399597, 1.295913815498352, -1.336238145828247, 0.7900346517562866, 0.13769935071468353, -1.4101800918579102, 0.2305155098438263, -1.2253494262695312, -0.2048412263393402, 0.03542669117450714, -0.33638009428977966, 0.019778545945882797, -2.083345890045166, 0.6520726680755615, 0.22414231300354004, 1.1625847816467285, 0.4274582266807556, -2.060863971710205, -0.10343722999095917, 0.4275236129760742, -0.06754076480865479, -0.8269641995429993, -0.5443573594093323, -0.2174919843673706, 0.042917363345623016, 1.2099525928497314, -0.277376264333725, 0.2756485939025879, 0.05791110545396805, 0.3032536804676056, -0.4261251389980316, -0.9242850542068481, 0.34568554162979126, 0.9999245405197144, 0.9009041786193848, 0.11203888058662415, 1.9353212118148804, -2.3470335006713867, 0.017131051048636436, -0.7457499504089355, -0.5969871878623962, -0.36803486943244934, -0.5750540494918823, -0.7750571370124817, 0.16091027855873108, 2.330223798751831, -0.44700348377227783, -0.5161176323890686, -0.15365201234817505, -2.1498491764068604, 1.0710142850875854, 2.109635353088379, 0.3223773241043091, 4.034576892852783, 0.1891310065984726, 0.8919690847396851, -0.00814760196954012, -0.7352501153945923, 0.40968358516693115, -1.3640633821487427, -2.018625259399414, -0.8066470623016357, 1.8210008144378662, 0.361186146736145, -0.6083123087882996, 0.909507691860199, -1.7841429710388184, -0.2577570080757141, -0.8803977966308594, -0.5072831511497498, 1.24917471408844, -1.0465507507324219, -0.426764577627182, 1.4283957481384277, -0.06361217051744461, 0.3751591145992279, 0.16021643579006195, -1.1046991348266602, 0.42033201456069946, 4.236485481262207, 0.021668557077646255, -3.770219564437866, 1.00776207447052, 0.15059518814086914, 0.2454260140657425, -0.2371538281440735, 0.2908170223236084, 1.0972399711608887, 0.945648729801178, 0.7836887836456299, -0.9913296103477478, -0.3771253824234009, 0.7832148671150208, 1.084518551826477, -0.4503060281276703, 2.363917350769043, 0.3597039580345154, 0.37807708978652954, 2.4306514263153076, 0.4043256342411041, 0.3489488959312439, -0.21930040419101715, -1.6261250972747803, -0.4110822379589081, 0.16239237785339355, 0.34202009439468384, 1.540932059288025, -0.7985972166061401, 1.3050898313522339, -0.9107821583747864, 1.0008094310760498, -1.8842498064041138, -0.3063575327396393, 1.5316946506500244, 0.9892674088478088, -1.1673381328582764, 0.02793768234550953, 0.45168930292129517, -0.07604461908340454, -0.8595608472824097, 3.824697256088257, -1.6452158689498901, -1.6697415113449097, 0.5559929013252258, -2.249574661254883, -0.38514962792396545, 0.14274293184280396, 0.26833921670913696, 0.25849801301956177, -0.24615921080112457, 0.8978127241134644, -1.2295929193496704, -0.08912159502506256, 0.7877213358879089, 0.2518090307712555, -0.20899450778961182, 0.08686884492635727, -0.8063595294952393, 0.6254020929336548, 0.9605141282081604, -1.585050106048584, 1.6455875635147095, 0.794755220413208, -1.4263544082641602, 1.6726815700531006, -0.0133326705545187, -0.6797692775726318, 0.0988321453332901, 0.3417065739631653, 0.4878445863723755, -0.7847515344619751, 0.6764667630195618, -0.925882875919342, 1.5414048433303833, -0.6558656692504883, -0.07114453613758087, 0.5145728588104248, -0.5219944715499878, 1.3368351459503174, 0.46359702944755554, -1.4752647876739502, 1.307388186454773, 2.3824827671051025, 0.2687097191810608, -0.6927585005760193, -0.9849470257759094, -1.1030241250991821, 0.32587966322898865, -0.3927936851978302, -0.13797929883003235, -0.8733742833137512, 0.15787717700004578, -1.6345374584197998, 0.8136045932769775, 1.425272822380066, -2.9024338722229004, 0.3547509014606476, 0.4586215913295746, -0.6345112323760986, -0.014435971155762672, -0.1530260145664215, -0.6915407180786133, -1.1026942729949951, 1.5929925441741943, 0.09401679784059525, -0.7037225961685181, 1.7152849435806274, -0.14748874306678772, 2.3127024173736572, -1.076716661453247, -0.5966919660568237, 0.09806306660175323, -0.6853857636451721, -0.4164264500141144, 1.519522786140442, -0.3275693356990814, -1.6815543174743652, 1.292508840560913, 2.369572639465332, 1.5296456813812256, -1.2212876081466675, -0.20099176466464996, 1.2339342832565308, -0.004957202821969986, -1.8137315511703491, -0.42375171184539795, 1.49080491065979, -1.4178199768066406, 0.3039950430393219, 1.1968802213668823, -0.6621929407119751, 0.48796582221984863, -1.3190042972564697, 0.35545065999031067, 1.6196751594543457, -1.0301322937011719, -3.2670304775238037, -0.6141796708106995, 0.7976963520050049, 0.6116824150085449, -2.159385919570923, -0.619023859500885, -0.46578091382980347, 0.7679885625839233, -1.4321571588516235, -1.2382502555847168, 0.4535156488418579, 0.3019291162490845, -0.6406950354576111, -0.26583802700042725, -0.12580354511737823, -1.7546011209487915, -1.2080368995666504, -1.78607177734375, 2.254218101501465, -1.2639185190200806, -1.8996551036834717, -1.0946589708328247, 0.47596144676208496, -0.46788594126701355, 1.4453794956207275, 0.27400654554367065, 1.798668622970581, 4.133157253265381, 0.026031959801912308, -0.6848611831665039, -0.627704918384552, -1.0351202487945557, 0.37242111563682556, 0.09498997032642365, 1.718055009841919, 1.4045673608779907, -1.5568900108337402, -1.1398228406906128, 0.874437153339386, -1.2377053499221802, -0.23944251239299774, 0.3705151677131653, 0.03910593315958977, -0.10449578613042831, -1.059923768043518, 0.7525869607925415, 3.4877092838287354, -1.439191222190857, -0.5500727295875549, 0.09954097121953964, 0.35470494627952576, -0.16702362895011902, -0.5737749338150024, -0.6179653406143188, -0.15156228840351105, 0.3923429846763611, 0.12859846651554108, -0.28966638445854187, 1.9877835512161255, -2.620837688446045, 0.676116943359375, -0.6477044224739075, -0.05230662226676941, 1.7641487121582031, -1.52577543258667, 0.4650447368621826, -1.8053820133209229, -1.205028772354126, 0.581513524055481, 0.05291473865509033, -0.8959354758262634, -0.509997546672821, -0.9344414472579956, -0.06382754445075989, 0.8515738248825073, 0.14353634417057037, 0.13597740232944489, -0.28785571455955505, 0.8496628999710083, 0.8221539855003357, -0.1286158561706543, -1.4339003562927246, 1.6302984952926636, -0.2764124274253845, -0.10342094302177429, 0.3174149990081787, 0.5102756023406982, -0.817526638507843, -0.0025490233674645424, -0.4437720477581024, -0.25718116760253906, 0.16861262917518616, 0.8441593050956726, 1.8501018285751343, 0.552670955657959, 0.3638516068458557, -2.847398281097412]"
   ]
  },
  {
   "cell_type": "code",
   "execution_count": 31,
   "metadata": {},
   "outputs": [],
   "source": [
    "\n",
    "def random_matrix(a):\n",
    "    return np.random.rand(768, 768).tolist()"
   ]
  },
  {
   "cell_type": "code",
   "execution_count": 32,
   "metadata": {},
   "outputs": [
    {
     "name": "stdout",
     "output_type": "stream",
     "text": [
      "[768, 768]\n",
      "[768]\n",
      "[2, 768]\n",
      "[2]\n",
      "0.5580787658691406\n"
     ]
    }
   ],
   "source": [
    "# Deep model\n",
    "mod = []\n",
    "path = \"C:/Users/User/Documents/NTNU/NLP/CORD-19/results/\"\n",
    "name = \"deep_model\"\n",
    "file = path + name + \".txt\"\n",
    "with open(file, \"rb\") as fp:   # Unpickling\n",
    "    mod = pickle.load(fp)\n",
    "\n",
    "for m in mod:\n",
    "    print(list(m.size()))\n",
    "hidden = mod[0].t().tolist()\n",
    "bias1 = mod[1].tolist()\n",
    "linear_layer = mod[2][1].tolist()\n",
    "\n",
    "for i in range(len(linear_layer)):\n",
    "    if abs(linear_layer[i]) < 0.0001:\n",
    "        linear_layer[i] = 0\n",
    "bias2 = mod[3][1].tolist()\n",
    "print(bias2)\n"
   ]
  },
  {
   "cell_type": "code",
   "execution_count": 33,
   "metadata": {},
   "outputs": [],
   "source": [
    "def hidden_l(x):\n",
    "    return hidden"
   ]
  },
  {
   "cell_type": "code",
   "execution_count": 34,
   "metadata": {},
   "outputs": [],
   "source": [
    "def bias_a(x):\n",
    "    return bias1"
   ]
  },
  {
   "cell_type": "code",
   "execution_count": 35,
   "metadata": {},
   "outputs": [],
   "source": [
    "def linear_layer_deep(x):\n",
    "    return linear_layer\n"
   ]
  },
  {
   "cell_type": "code",
   "execution_count": 36,
   "metadata": {},
   "outputs": [],
   "source": [
    "def bias_b(x):\n",
    "    return bias2"
   ]
  },
  {
   "cell_type": "markdown",
   "metadata": {},
   "source": [
    "## Quick test to check if the app is functioning"
   ]
  },
  {
   "cell_type": "markdown",
   "metadata": {},
   "source": [
    "#### bm25 testing"
   ]
  },
  {
   "cell_type": "code",
   "execution_count": 38,
   "metadata": {},
   "outputs": [],
   "source": [
    "from vespa.query import QueryModel, OR, AND, WeakAnd, ANN, RankProfile as Ranking\n",
    "\n",
    "\n",
    "results = app.query(\n",
    "    query=\"coVID CORONA SARS mers infections\",\n",
    "    query_model = QueryModel(\n",
    "        match_phase=OR(),\n",
    "        rank_profile=Ranking(name=\"bm25w\")\n",
    "    ),\n",
    "    hits = 10\n",
    ")"
   ]
  },
  {
   "cell_type": "markdown",
   "metadata": {},
   "source": [
    "### Testing cos-sim ranking"
   ]
  },
  {
   "cell_type": "code",
   "execution_count": 39,
   "metadata": {},
   "outputs": [
    {
     "ename": "RetryError",
     "evalue": "HTTPConnectionPool(host='localhost', port=8080): Max retries exceeded with url: /search/ (Caused by ResponseError('too many 504 error responses'))",
     "output_type": "error",
     "traceback": [
      "\u001b[1;31m---------------------------------------------------------------------------\u001b[0m",
      "\u001b[1;31mMaxRetryError\u001b[0m                             Traceback (most recent call last)",
      "\u001b[1;32m~\\AppData\\Local\\Continuum\\anaconda3\\lib\\site-packages\\requests\\adapters.py\u001b[0m in \u001b[0;36msend\u001b[1;34m(self, request, stream, timeout, verify, cert, proxies)\u001b[0m\n\u001b[0;32m    448\u001b[0m                     \u001b[0mretries\u001b[0m\u001b[1;33m=\u001b[0m\u001b[0mself\u001b[0m\u001b[1;33m.\u001b[0m\u001b[0mmax_retries\u001b[0m\u001b[1;33m,\u001b[0m\u001b[1;33m\u001b[0m\u001b[1;33m\u001b[0m\u001b[0m\n\u001b[1;32m--> 449\u001b[1;33m                     \u001b[0mtimeout\u001b[0m\u001b[1;33m=\u001b[0m\u001b[0mtimeout\u001b[0m\u001b[1;33m\u001b[0m\u001b[1;33m\u001b[0m\u001b[0m\n\u001b[0m\u001b[0;32m    450\u001b[0m                 )\n",
      "\u001b[1;32m~\\AppData\\Local\\Continuum\\anaconda3\\lib\\site-packages\\urllib3\\connectionpool.py\u001b[0m in \u001b[0;36murlopen\u001b[1;34m(self, method, url, body, headers, retries, redirect, assert_same_host, timeout, pool_timeout, release_conn, chunked, body_pos, **response_kw)\u001b[0m\n\u001b[0;32m    845\u001b[0m                 \u001b[0mbody_pos\u001b[0m\u001b[1;33m=\u001b[0m\u001b[0mbody_pos\u001b[0m\u001b[1;33m,\u001b[0m\u001b[1;33m\u001b[0m\u001b[1;33m\u001b[0m\u001b[0m\n\u001b[1;32m--> 846\u001b[1;33m                 \u001b[1;33m**\u001b[0m\u001b[0mresponse_kw\u001b[0m\u001b[1;33m\u001b[0m\u001b[1;33m\u001b[0m\u001b[0m\n\u001b[0m\u001b[0;32m    847\u001b[0m             )\n",
      "\u001b[1;32m~\\AppData\\Local\\Continuum\\anaconda3\\lib\\site-packages\\urllib3\\connectionpool.py\u001b[0m in \u001b[0;36murlopen\u001b[1;34m(self, method, url, body, headers, retries, redirect, assert_same_host, timeout, pool_timeout, release_conn, chunked, body_pos, **response_kw)\u001b[0m\n\u001b[0;32m    845\u001b[0m                 \u001b[0mbody_pos\u001b[0m\u001b[1;33m=\u001b[0m\u001b[0mbody_pos\u001b[0m\u001b[1;33m,\u001b[0m\u001b[1;33m\u001b[0m\u001b[1;33m\u001b[0m\u001b[0m\n\u001b[1;32m--> 846\u001b[1;33m                 \u001b[1;33m**\u001b[0m\u001b[0mresponse_kw\u001b[0m\u001b[1;33m\u001b[0m\u001b[1;33m\u001b[0m\u001b[0m\n\u001b[0m\u001b[0;32m    847\u001b[0m             )\n",
      "\u001b[1;32m~\\AppData\\Local\\Continuum\\anaconda3\\lib\\site-packages\\urllib3\\connectionpool.py\u001b[0m in \u001b[0;36murlopen\u001b[1;34m(self, method, url, body, headers, retries, redirect, assert_same_host, timeout, pool_timeout, release_conn, chunked, body_pos, **response_kw)\u001b[0m\n\u001b[0;32m    845\u001b[0m                 \u001b[0mbody_pos\u001b[0m\u001b[1;33m=\u001b[0m\u001b[0mbody_pos\u001b[0m\u001b[1;33m,\u001b[0m\u001b[1;33m\u001b[0m\u001b[1;33m\u001b[0m\u001b[0m\n\u001b[1;32m--> 846\u001b[1;33m                 \u001b[1;33m**\u001b[0m\u001b[0mresponse_kw\u001b[0m\u001b[1;33m\u001b[0m\u001b[1;33m\u001b[0m\u001b[0m\n\u001b[0m\u001b[0;32m    847\u001b[0m             )\n",
      "\u001b[1;32m~\\AppData\\Local\\Continuum\\anaconda3\\lib\\site-packages\\urllib3\\connectionpool.py\u001b[0m in \u001b[0;36murlopen\u001b[1;34m(self, method, url, body, headers, retries, redirect, assert_same_host, timeout, pool_timeout, release_conn, chunked, body_pos, **response_kw)\u001b[0m\n\u001b[0;32m    818\u001b[0m             \u001b[1;32mtry\u001b[0m\u001b[1;33m:\u001b[0m\u001b[1;33m\u001b[0m\u001b[1;33m\u001b[0m\u001b[0m\n\u001b[1;32m--> 819\u001b[1;33m                 \u001b[0mretries\u001b[0m \u001b[1;33m=\u001b[0m \u001b[0mretries\u001b[0m\u001b[1;33m.\u001b[0m\u001b[0mincrement\u001b[0m\u001b[1;33m(\u001b[0m\u001b[0mmethod\u001b[0m\u001b[1;33m,\u001b[0m \u001b[0murl\u001b[0m\u001b[1;33m,\u001b[0m \u001b[0mresponse\u001b[0m\u001b[1;33m=\u001b[0m\u001b[0mresponse\u001b[0m\u001b[1;33m,\u001b[0m \u001b[0m_pool\u001b[0m\u001b[1;33m=\u001b[0m\u001b[0mself\u001b[0m\u001b[1;33m)\u001b[0m\u001b[1;33m\u001b[0m\u001b[1;33m\u001b[0m\u001b[0m\n\u001b[0m\u001b[0;32m    820\u001b[0m             \u001b[1;32mexcept\u001b[0m \u001b[0mMaxRetryError\u001b[0m\u001b[1;33m:\u001b[0m\u001b[1;33m\u001b[0m\u001b[1;33m\u001b[0m\u001b[0m\n",
      "\u001b[1;32m~\\AppData\\Local\\Continuum\\anaconda3\\lib\\site-packages\\urllib3\\util\\retry.py\u001b[0m in \u001b[0;36mincrement\u001b[1;34m(self, method, url, response, error, _pool, _stacktrace)\u001b[0m\n\u001b[0;32m    435\u001b[0m         \u001b[1;32mif\u001b[0m \u001b[0mnew_retry\u001b[0m\u001b[1;33m.\u001b[0m\u001b[0mis_exhausted\u001b[0m\u001b[1;33m(\u001b[0m\u001b[1;33m)\u001b[0m\u001b[1;33m:\u001b[0m\u001b[1;33m\u001b[0m\u001b[1;33m\u001b[0m\u001b[0m\n\u001b[1;32m--> 436\u001b[1;33m             \u001b[1;32mraise\u001b[0m \u001b[0mMaxRetryError\u001b[0m\u001b[1;33m(\u001b[0m\u001b[0m_pool\u001b[0m\u001b[1;33m,\u001b[0m \u001b[0murl\u001b[0m\u001b[1;33m,\u001b[0m \u001b[0merror\u001b[0m \u001b[1;32mor\u001b[0m \u001b[0mResponseError\u001b[0m\u001b[1;33m(\u001b[0m\u001b[0mcause\u001b[0m\u001b[1;33m)\u001b[0m\u001b[1;33m)\u001b[0m\u001b[1;33m\u001b[0m\u001b[1;33m\u001b[0m\u001b[0m\n\u001b[0m\u001b[0;32m    437\u001b[0m \u001b[1;33m\u001b[0m\u001b[0m\n",
      "\u001b[1;31mMaxRetryError\u001b[0m: HTTPConnectionPool(host='localhost', port=8080): Max retries exceeded with url: /search/ (Caused by ResponseError('too many 504 error responses'))",
      "\nDuring handling of the above exception, another exception occurred:\n",
      "\u001b[1;31mRetryError\u001b[0m                                Traceback (most recent call last)",
      "\u001b[1;32m<ipython-input-39-d84cc3318bcc>\u001b[0m in \u001b[0;36m<module>\u001b[1;34m\u001b[0m\n\u001b[0;32m     17\u001b[0m     \u001b[0mquery\u001b[0m\u001b[1;33m=\u001b[0m\u001b[1;34m\"coronavirus death rate\"\u001b[0m\u001b[1;33m,\u001b[0m\u001b[1;33m\u001b[0m\u001b[1;33m\u001b[0m\u001b[0m\n\u001b[0;32m     18\u001b[0m     \u001b[0mquery_model\u001b[0m \u001b[1;33m=\u001b[0m \u001b[0mmodel\u001b[0m\u001b[1;33m,\u001b[0m\u001b[1;33m\u001b[0m\u001b[1;33m\u001b[0m\u001b[0m\n\u001b[1;32m---> 19\u001b[1;33m     \u001b[0mhits\u001b[0m \u001b[1;33m=\u001b[0m \u001b[1;36m10\u001b[0m\u001b[1;33m\u001b[0m\u001b[1;33m\u001b[0m\u001b[0m\n\u001b[0m\u001b[0;32m     20\u001b[0m )\n\u001b[0;32m     21\u001b[0m \u001b[1;33m\u001b[0m\u001b[0m\n",
      "\u001b[1;32m~\\AppData\\Local\\Continuum\\anaconda3\\lib\\site-packages\\vespa\\application.py\u001b[0m in \u001b[0;36mquery\u001b[1;34m(self, body, query, query_model, debug_request, recall, **kwargs)\u001b[0m\n\u001b[0;32m    123\u001b[0m             \u001b[1;32mreturn\u001b[0m \u001b[0mVespaResult\u001b[0m\u001b[1;33m(\u001b[0m\u001b[0mvespa_result\u001b[0m\u001b[1;33m=\u001b[0m\u001b[1;33m{\u001b[0m\u001b[1;33m}\u001b[0m\u001b[1;33m,\u001b[0m \u001b[0mrequest_body\u001b[0m\u001b[1;33m=\u001b[0m\u001b[0mbody\u001b[0m\u001b[1;33m)\u001b[0m\u001b[1;33m\u001b[0m\u001b[1;33m\u001b[0m\u001b[0m\n\u001b[0;32m    124\u001b[0m         \u001b[1;32melse\u001b[0m\u001b[1;33m:\u001b[0m\u001b[1;33m\u001b[0m\u001b[1;33m\u001b[0m\u001b[0m\n\u001b[1;32m--> 125\u001b[1;33m             \u001b[0mr\u001b[0m \u001b[1;33m=\u001b[0m \u001b[0mhttp\u001b[0m\u001b[1;33m.\u001b[0m\u001b[0mpost\u001b[0m\u001b[1;33m(\u001b[0m\u001b[0mself\u001b[0m\u001b[1;33m.\u001b[0m\u001b[0msearch_end_point\u001b[0m\u001b[1;33m,\u001b[0m \u001b[0mjson\u001b[0m\u001b[1;33m=\u001b[0m\u001b[0mbody\u001b[0m\u001b[1;33m,\u001b[0m \u001b[0mcert\u001b[0m\u001b[1;33m=\u001b[0m\u001b[0mself\u001b[0m\u001b[1;33m.\u001b[0m\u001b[0mcert\u001b[0m\u001b[1;33m)\u001b[0m\u001b[1;33m\u001b[0m\u001b[1;33m\u001b[0m\u001b[0m\n\u001b[0m\u001b[0;32m    126\u001b[0m             \u001b[1;32mreturn\u001b[0m \u001b[0mVespaResult\u001b[0m\u001b[1;33m(\u001b[0m\u001b[0mvespa_result\u001b[0m\u001b[1;33m=\u001b[0m\u001b[0mr\u001b[0m\u001b[1;33m.\u001b[0m\u001b[0mjson\u001b[0m\u001b[1;33m(\u001b[0m\u001b[1;33m)\u001b[0m\u001b[1;33m)\u001b[0m\u001b[1;33m\u001b[0m\u001b[1;33m\u001b[0m\u001b[0m\n\u001b[0;32m    127\u001b[0m \u001b[1;33m\u001b[0m\u001b[0m\n",
      "\u001b[1;32m~\\AppData\\Local\\Continuum\\anaconda3\\lib\\site-packages\\requests\\sessions.py\u001b[0m in \u001b[0;36mpost\u001b[1;34m(self, url, data, json, **kwargs)\u001b[0m\n\u001b[0;32m    576\u001b[0m         \"\"\"\n\u001b[0;32m    577\u001b[0m \u001b[1;33m\u001b[0m\u001b[0m\n\u001b[1;32m--> 578\u001b[1;33m         \u001b[1;32mreturn\u001b[0m \u001b[0mself\u001b[0m\u001b[1;33m.\u001b[0m\u001b[0mrequest\u001b[0m\u001b[1;33m(\u001b[0m\u001b[1;34m'POST'\u001b[0m\u001b[1;33m,\u001b[0m \u001b[0murl\u001b[0m\u001b[1;33m,\u001b[0m \u001b[0mdata\u001b[0m\u001b[1;33m=\u001b[0m\u001b[0mdata\u001b[0m\u001b[1;33m,\u001b[0m \u001b[0mjson\u001b[0m\u001b[1;33m=\u001b[0m\u001b[0mjson\u001b[0m\u001b[1;33m,\u001b[0m \u001b[1;33m**\u001b[0m\u001b[0mkwargs\u001b[0m\u001b[1;33m)\u001b[0m\u001b[1;33m\u001b[0m\u001b[1;33m\u001b[0m\u001b[0m\n\u001b[0m\u001b[0;32m    579\u001b[0m \u001b[1;33m\u001b[0m\u001b[0m\n\u001b[0;32m    580\u001b[0m     \u001b[1;32mdef\u001b[0m \u001b[0mput\u001b[0m\u001b[1;33m(\u001b[0m\u001b[0mself\u001b[0m\u001b[1;33m,\u001b[0m \u001b[0murl\u001b[0m\u001b[1;33m,\u001b[0m \u001b[0mdata\u001b[0m\u001b[1;33m=\u001b[0m\u001b[1;32mNone\u001b[0m\u001b[1;33m,\u001b[0m \u001b[1;33m**\u001b[0m\u001b[0mkwargs\u001b[0m\u001b[1;33m)\u001b[0m\u001b[1;33m:\u001b[0m\u001b[1;33m\u001b[0m\u001b[1;33m\u001b[0m\u001b[0m\n",
      "\u001b[1;32m~\\AppData\\Local\\Continuum\\anaconda3\\lib\\site-packages\\requests\\sessions.py\u001b[0m in \u001b[0;36mrequest\u001b[1;34m(self, method, url, params, data, headers, cookies, files, auth, timeout, allow_redirects, proxies, hooks, stream, verify, cert, json)\u001b[0m\n\u001b[0;32m    528\u001b[0m         }\n\u001b[0;32m    529\u001b[0m         \u001b[0msend_kwargs\u001b[0m\u001b[1;33m.\u001b[0m\u001b[0mupdate\u001b[0m\u001b[1;33m(\u001b[0m\u001b[0msettings\u001b[0m\u001b[1;33m)\u001b[0m\u001b[1;33m\u001b[0m\u001b[1;33m\u001b[0m\u001b[0m\n\u001b[1;32m--> 530\u001b[1;33m         \u001b[0mresp\u001b[0m \u001b[1;33m=\u001b[0m \u001b[0mself\u001b[0m\u001b[1;33m.\u001b[0m\u001b[0msend\u001b[0m\u001b[1;33m(\u001b[0m\u001b[0mprep\u001b[0m\u001b[1;33m,\u001b[0m \u001b[1;33m**\u001b[0m\u001b[0msend_kwargs\u001b[0m\u001b[1;33m)\u001b[0m\u001b[1;33m\u001b[0m\u001b[1;33m\u001b[0m\u001b[0m\n\u001b[0m\u001b[0;32m    531\u001b[0m \u001b[1;33m\u001b[0m\u001b[0m\n\u001b[0;32m    532\u001b[0m         \u001b[1;32mreturn\u001b[0m \u001b[0mresp\u001b[0m\u001b[1;33m\u001b[0m\u001b[1;33m\u001b[0m\u001b[0m\n",
      "\u001b[1;32m~\\AppData\\Local\\Continuum\\anaconda3\\lib\\site-packages\\requests\\sessions.py\u001b[0m in \u001b[0;36msend\u001b[1;34m(self, request, **kwargs)\u001b[0m\n\u001b[0;32m    641\u001b[0m \u001b[1;33m\u001b[0m\u001b[0m\n\u001b[0;32m    642\u001b[0m         \u001b[1;31m# Send the request\u001b[0m\u001b[1;33m\u001b[0m\u001b[1;33m\u001b[0m\u001b[1;33m\u001b[0m\u001b[0m\n\u001b[1;32m--> 643\u001b[1;33m         \u001b[0mr\u001b[0m \u001b[1;33m=\u001b[0m \u001b[0madapter\u001b[0m\u001b[1;33m.\u001b[0m\u001b[0msend\u001b[0m\u001b[1;33m(\u001b[0m\u001b[0mrequest\u001b[0m\u001b[1;33m,\u001b[0m \u001b[1;33m**\u001b[0m\u001b[0mkwargs\u001b[0m\u001b[1;33m)\u001b[0m\u001b[1;33m\u001b[0m\u001b[1;33m\u001b[0m\u001b[0m\n\u001b[0m\u001b[0;32m    644\u001b[0m \u001b[1;33m\u001b[0m\u001b[0m\n\u001b[0;32m    645\u001b[0m         \u001b[1;31m# Total elapsed time of the request (approximately)\u001b[0m\u001b[1;33m\u001b[0m\u001b[1;33m\u001b[0m\u001b[1;33m\u001b[0m\u001b[0m\n",
      "\u001b[1;32m~\\AppData\\Local\\Continuum\\anaconda3\\lib\\site-packages\\requests\\adapters.py\u001b[0m in \u001b[0;36msend\u001b[1;34m(self, request, stream, timeout, verify, cert, proxies)\u001b[0m\n\u001b[0;32m    505\u001b[0m \u001b[1;33m\u001b[0m\u001b[0m\n\u001b[0;32m    506\u001b[0m             \u001b[1;32mif\u001b[0m \u001b[0misinstance\u001b[0m\u001b[1;33m(\u001b[0m\u001b[0me\u001b[0m\u001b[1;33m.\u001b[0m\u001b[0mreason\u001b[0m\u001b[1;33m,\u001b[0m \u001b[0mResponseError\u001b[0m\u001b[1;33m)\u001b[0m\u001b[1;33m:\u001b[0m\u001b[1;33m\u001b[0m\u001b[1;33m\u001b[0m\u001b[0m\n\u001b[1;32m--> 507\u001b[1;33m                 \u001b[1;32mraise\u001b[0m \u001b[0mRetryError\u001b[0m\u001b[1;33m(\u001b[0m\u001b[0me\u001b[0m\u001b[1;33m,\u001b[0m \u001b[0mrequest\u001b[0m\u001b[1;33m=\u001b[0m\u001b[0mrequest\u001b[0m\u001b[1;33m)\u001b[0m\u001b[1;33m\u001b[0m\u001b[1;33m\u001b[0m\u001b[0m\n\u001b[0m\u001b[0;32m    508\u001b[0m \u001b[1;33m\u001b[0m\u001b[0m\n\u001b[0;32m    509\u001b[0m             \u001b[1;32mif\u001b[0m \u001b[0misinstance\u001b[0m\u001b[1;33m(\u001b[0m\u001b[0me\u001b[0m\u001b[1;33m.\u001b[0m\u001b[0mreason\u001b[0m\u001b[1;33m,\u001b[0m \u001b[0m_ProxyError\u001b[0m\u001b[1;33m)\u001b[0m\u001b[1;33m:\u001b[0m\u001b[1;33m\u001b[0m\u001b[1;33m\u001b[0m\u001b[0m\n",
      "\u001b[1;31mRetryError\u001b[0m: HTTPConnectionPool(host='localhost', port=8080): Max retries exceeded with url: /search/ (Caused by ResponseError('too many 504 error responses'))"
     ]
    }
   ],
   "source": [
    "from vespa.query import QueryModel, QueryRankingFeature, OR, AND, WeakAnd, ANN, Union, RankProfile as Ranking\n",
    "\n",
    "query_prop = [\n",
    "    QueryRankingFeature(name=\"tensor\", mapping=covidbert_encoder),\n",
    "    QueryRankingFeature(name=\"linear_layer\", mapping=linear_layer_deep),\n",
    "    QueryRankingFeature(name=\"hidden_layer\", mapping=hidden_l),\n",
    "    QueryRankingFeature(name=\"bias_a\", mapping=bias_a),\n",
    "    QueryRankingFeature(name=\"bias_b\", mapping=bias_b)\n",
    "]\n",
    "\n",
    "model = QueryModel(\n",
    "        query_properties=query_prop,\n",
    "        match_phase=OR(),\n",
    "        rank_profile=Ranking(name=\"deep_model\"))\n",
    "#query_prop = [QueryRankingFeature(name=\"tensor\", mapping=covidbert_encoder)]\n",
    "results = app.query(\n",
    "    query=\"coronavirus death rate\",\n",
    "    query_model = model,\n",
    "    hits = 10\n",
    ")\n",
    "\n",
    "\"cos_sim_cordbert_title\"\n",
    "    "
   ]
  },
  {
   "cell_type": "code",
   "execution_count": null,
   "metadata": {},
   "outputs": [],
   "source": [
    "print(len(results.hits))\n",
    "for result in results.hits:\n",
    "    #print(result)\n",
    "    print(result[\"id\"], \"  \", result['relevance'])"
   ]
  },
  {
   "cell_type": "code",
   "execution_count": 132,
   "metadata": {},
   "outputs": [
    {
     "data": {
      "text/plain": [
       "'cos_sim_cordbert_title'"
      ]
     },
     "execution_count": 132,
     "metadata": {},
     "output_type": "execute_result"
    }
   ],
   "source": [
    "query_prop = [\n",
    "    QueryRankingFeature(name=\"tensor\", mapping=covidbert_encoder),\n",
    "    QueryRankingFeature(name=\"linear_layer\", mapping=linear_layer_deep),\n",
    "    QueryRankingFeature(name=\"hidden_layer\", mapping=hidden_l),\n",
    "    QueryRankingFeature(name=\"bias_a\", mapping=bias_a),\n",
    "    QueryRankingFeature(name=\"bias_b\", mapping=bias_b)\n",
    "]\n",
    "\n",
    "model = QueryModel(\n",
    "       query_properties=[QueryRankingFeature(name=\"tensor\", mapping=covidbert_encoder),\n",
    "                         QueryRankingFeature(name=\"linear_layer\", mapping=simple_linreg_2_class)],\n",
    "        match_phase=OR(),\n",
    "        rank_profile=Ranking(name=\"cos_sim_cordbert_title\"))\n",
    "#query_prop = [QueryRankingFeature(name=\"tensor\", mapping=covidbert_encoder)]\n",
    "results = app.query(\n",
    "    query=\"COVID and MERS similarities\",\n",
    "    query_model = model,\n",
    "    hits = 10\n",
    ")\n",
    "\n",
    "\"cos_sim_cordbert_title\""
   ]
  },
  {
   "cell_type": "code",
   "execution_count": 133,
   "metadata": {},
   "outputs": [
    {
     "name": "stdout",
     "output_type": "stream",
     "text": [
      "10\n",
      "id:cord_19:cord_19::1vimqhdp    2310362025.84375\n",
      "36th International Symposium on Intensive Care and Emergency Medicine: Brussels, Belgium. 15-18 March 2016\n",
      "id:cord_19:cord_19::3taykdr1    2065366069.140625\n",
      "Head-to-head comparison of four antigen-based rapid detection tests for the diagnosis of SARS-CoV-2 in respiratory samples\n",
      "id:cord_19:cord_19::peq6kyyz    2044350300.0625\n",
      "Comparison of four new commercial serologic assays for determination of SARS-CoV-2 IgG\n",
      "id:cord_19:cord_19::swfqwdue    1931915961.0195312\n",
      "Ensuring Equitable Access to School Meals\n",
      "id:cord_19:cord_19::5efzormt    1857319888.75\n",
      "No adequate evidence indicating hypertension as an independent risk factor for COVID-19 severity\n",
      "id:cord_19:cord_19::uffxyas1    1853629059.953125\n",
      "COVID-19 Epidemic in the Middle Province of Northern Italy: Impact, Logistics, and Strategy in the First Line Hospital\n",
      "id:cord_19:cord_19::vng4sdn8    1841103084.9082031\n",
      "Report from the World Health Organization's Product Development for Vaccines Advisory Committee (PDVAC) meeting, Geneva, 7–9th Sep 2015\n",
      "id:cord_19:cord_19::kw8psrmz    1778225906.8867188\n",
      "Structure of the Ebola virus glycoprotein spike within the virion envelope at 11 Å resolution\n",
      "id:cord_19:cord_19::vby3aan7    1747200890.515625\n",
      "The international imperative to rapidly and inexpensively monitor community-wide Covid-19 infection status and trends\n",
      "id:cord_19:cord_19::hiact7xj    1716029842.171875\n",
      "Modern veterinary vaccines and the Shaman's apprentice\n"
     ]
    }
   ],
   "source": [
    "print(len(results.hits))\n",
    "for result in results.hits:\n",
    "    #print(result)\n",
    "    print(result[\"id\"], \"  \", result['relevance'])\n",
    "    print(result[\"fields\"][\"title\"])"
   ]
  },
  {
   "cell_type": "code",
   "execution_count": 40,
   "metadata": {},
   "outputs": [
    {
     "ename": "NameError",
     "evalue": "name 'MatchRatio' is not defined",
     "output_type": "error",
     "traceback": [
      "\u001b[1;31m---------------------------------------------------------------------------\u001b[0m",
      "\u001b[1;31mNameError\u001b[0m                                 Traceback (most recent call last)",
      "\u001b[1;32m<ipython-input-40-246ca92a773c>\u001b[0m in \u001b[0;36m<module>\u001b[1;34m\u001b[0m\n\u001b[0;32m      1\u001b[0m eval_metrics = [\n\u001b[1;32m----> 2\u001b[1;33m     \u001b[0mMatchRatio\u001b[0m\u001b[1;33m(\u001b[0m\u001b[1;33m)\u001b[0m\u001b[1;33m,\u001b[0m\u001b[1;33m\u001b[0m\u001b[1;33m\u001b[0m\u001b[0m\n\u001b[0m\u001b[0;32m      3\u001b[0m     \u001b[0mRecall\u001b[0m\u001b[1;33m(\u001b[0m\u001b[0mat\u001b[0m\u001b[1;33m=\u001b[0m\u001b[1;36m10\u001b[0m\u001b[1;33m)\u001b[0m\u001b[1;33m,\u001b[0m\u001b[1;33m\u001b[0m\u001b[1;33m\u001b[0m\u001b[0m\n\u001b[0;32m      4\u001b[0m     \u001b[0mReciprocalRank\u001b[0m\u001b[1;33m(\u001b[0m\u001b[0mat\u001b[0m\u001b[1;33m=\u001b[0m\u001b[1;36m10\u001b[0m\u001b[1;33m)\u001b[0m\u001b[1;33m,\u001b[0m\u001b[1;33m\u001b[0m\u001b[1;33m\u001b[0m\u001b[0m\n\u001b[0;32m      5\u001b[0m     \u001b[0mNormalizedDiscountedCumulativeGain\u001b[0m\u001b[1;33m(\u001b[0m\u001b[0mat\u001b[0m\u001b[1;33m=\u001b[0m\u001b[1;36m10\u001b[0m\u001b[1;33m)\u001b[0m\u001b[1;33m\u001b[0m\u001b[1;33m\u001b[0m\u001b[0m\n",
      "\u001b[1;31mNameError\u001b[0m: name 'MatchRatio' is not defined"
     ]
    }
   ],
   "source": [
    "eval_metrics = [\n",
    "    MatchRatio(),\n",
    "    Recall(at=10),\n",
    "    ReciprocalRank(at=10),\n",
    "    NormalizedDiscountedCumulativeGain(at=10)\n",
    "]"
   ]
  },
  {
   "cell_type": "code",
   "execution_count": null,
   "metadata": {},
   "outputs": [],
   "source": [
    "query_prop = [\n",
    "    QueryRankingFeature(name=\"tensor\", mapping=covidbert_encoder),\n",
    "    QueryRankingFeature(name=\"linear_layer\", mapping=linear_layer_deep),\n",
    "    QueryRankingFeature(name=\"hidden_layer\", mapping=hidden_l),\n",
    "    QueryRankingFeature(name=\"bias_a\", mapping=bias_a),\n",
    "    QueryRankingFeature(name=\"bias_b\", mapping=bias_b)\n",
    "]\n",
    "model = QueryModel(\n",
    "        query_properties=query_prop,\n",
    "        match_phase=OR(),\n",
    "        rank_profile=Ranking(name=\"deep_model\"))"
   ]
  },
  {
   "cell_type": "code",
   "execution_count": null,
   "metadata": {},
   "outputs": [],
   "source": [
    "model = QueryModel(\n",
    "        query_properties=[QueryRankingFeature(name=\"tensor\", mapping=covidbert_encoder)],\n",
    "        match_phase=Union(\n",
    "            ANN(doc_vector=\"title_embedding_cordbert\",\n",
    "                       query_vector=\"tensor\",\n",
    "                       hits=10,\n",
    "                       label=\"ann_title\"),\n",
    "            \n",
    "            ANN(doc_vector=\"abstract_embedding_cordbert\",\n",
    "                       query_vector=\"tensor\",\n",
    "                       hits=10,\n",
    "                       label=\"ann_abstract\")),\n",
    "        rank_profile=Ranking(name=\"bm25\")\n",
    "    )"
   ]
  },
  {
   "cell_type": "code",
   "execution_count": null,
   "metadata": {},
   "outputs": [],
   "source": [
    "model = QueryModel(\n",
    "        query_properties=[QueryRankingFeature(name=\"tensor\", mapping=bert_encoder)],\n",
    "        match_phase=Union(ANN(doc_vector=\"title_embedding_cordbert\",\n",
    "                       query_vector=\"tensor\",\n",
    "                       hits=100,\n",
    "                       label=\"ann_title\"),\n",
    "                        ANN(doc_vector=\"abstract_embedding_cordbert\",\n",
    "                       query_vector=\"tensor\",\n",
    "                       hits=10,\n",
    "                       label=\"ann_abstract\"),\n",
    "                         AND()),\n",
    "        rank_profile=Ranking(name=\"bm25\")\n",
    "    )"
   ]
  },
  {
   "cell_type": "code",
   "execution_count": null,
   "metadata": {},
   "outputs": [],
   "source": [
    "evaluation = app.evaluate(\n",
    "        labeled_data = labeled_data,\n",
    "        eval_metrics = eval_metrics,\n",
    "        query_model = model,\n",
    "        id_field = \"id\",\n",
    "        hits = 10\n",
    "    )"
   ]
  },
  {
   "cell_type": "code",
   "execution_count": null,
   "metadata": {},
   "outputs": [],
   "source": [
    "evaluation"
   ]
  },
  {
   "cell_type": "code",
   "execution_count": null,
   "metadata": {},
   "outputs": [],
   "source": [
    "evaluation.mean()"
   ]
  },
  {
   "cell_type": "markdown",
   "metadata": {},
   "source": [
    "# Evaluating app"
   ]
  },
  {
   "cell_type": "markdown",
   "metadata": {},
   "source": [
    "## First TEST"
   ]
  },
  {
   "cell_type": "code",
   "execution_count": 41,
   "metadata": {},
   "outputs": [],
   "source": [
    "from vespa.evaluation import MatchRatio, Recall, ReciprocalRank, NormalizedDiscountedCumulativeGain\n",
    "\n",
    "eval_metrics = [\n",
    "    MatchRatio(),\n",
    "    Recall(at=10),\n",
    "    ReciprocalRank(at=10),\n",
    "    NormalizedDiscountedCumulativeGain(at=10)\n",
    "]"
   ]
  },
  {
   "cell_type": "code",
   "execution_count": null,
   "metadata": {},
   "outputs": [],
   "source": [
    "model = QueryModel(match_phase=AND(),\n",
    "      rank_profile=Ranking(name=\"bm25\")\n",
    "    )"
   ]
  },
  {
   "cell_type": "code",
   "execution_count": 91,
   "metadata": {},
   "outputs": [],
   "source": [
    "model = QueryModel(\n",
    "        query_properties=[QueryRankingFeature(name=\"tensor\", mapping=covidbert_encoder),\n",
    "                         QueryRankingFeature(name=\"linear_layer\", mapping=simple_linreg_3_abs)],\n",
    "        match_phase=OR(),\n",
    "        rank_profile=Ranking(name=\"linear_regression_substract\")\n",
    "    )"
   ]
  },
  {
   "cell_type": "code",
   "execution_count": 92,
   "metadata": {},
   "outputs": [],
   "source": [
    "\n",
    "bm25_evaluation = app.evaluate(\n",
    "        labeled_data = labeled_data,\n",
    "        eval_metrics = eval_metrics,\n",
    "        query_model = model,\n",
    "        id_field = \"id\",\n",
    "        hits = 10\n",
    "    )"
   ]
  },
  {
   "cell_type": "code",
   "execution_count": 93,
   "metadata": {},
   "outputs": [
    {
     "data": {
      "text/html": [
       "<div>\n",
       "<style scoped>\n",
       "    .dataframe tbody tr th:only-of-type {\n",
       "        vertical-align: middle;\n",
       "    }\n",
       "\n",
       "    .dataframe tbody tr th {\n",
       "        vertical-align: top;\n",
       "    }\n",
       "\n",
       "    .dataframe thead th {\n",
       "        text-align: right;\n",
       "    }\n",
       "</style>\n",
       "<table border=\"1\" class=\"dataframe\">\n",
       "  <thead>\n",
       "    <tr style=\"text-align: right;\">\n",
       "      <th></th>\n",
       "      <th>query_id</th>\n",
       "      <th>match_ratio_retrieved_docs</th>\n",
       "      <th>match_ratio_docs_available</th>\n",
       "      <th>match_ratio_value</th>\n",
       "      <th>recall_10_value</th>\n",
       "      <th>reciprocal_rank_10_value</th>\n",
       "      <th>ndcg_10_ideal_dcg</th>\n",
       "      <th>ndcg_10_dcg</th>\n",
       "      <th>ndcg_10_value</th>\n",
       "    </tr>\n",
       "  </thead>\n",
       "  <tbody>\n",
       "    <tr>\n",
       "      <th>0</th>\n",
       "      <td>1</td>\n",
       "      <td>15921</td>\n",
       "      <td>21424</td>\n",
       "      <td>0.743139</td>\n",
       "      <td>0.0</td>\n",
       "      <td>0</td>\n",
       "      <td>0.0</td>\n",
       "      <td>0.0</td>\n",
       "      <td>0</td>\n",
       "    </tr>\n",
       "    <tr>\n",
       "      <th>1</th>\n",
       "      <td>2</td>\n",
       "      <td>21079</td>\n",
       "      <td>21424</td>\n",
       "      <td>0.983897</td>\n",
       "      <td>0.0</td>\n",
       "      <td>0</td>\n",
       "      <td>0.0</td>\n",
       "      <td>0.0</td>\n",
       "      <td>0</td>\n",
       "    </tr>\n",
       "    <tr>\n",
       "      <th>2</th>\n",
       "      <td>3</td>\n",
       "      <td>17329</td>\n",
       "      <td>21424</td>\n",
       "      <td>0.808859</td>\n",
       "      <td>0.0</td>\n",
       "      <td>0</td>\n",
       "      <td>0.0</td>\n",
       "      <td>0.0</td>\n",
       "      <td>0</td>\n",
       "    </tr>\n",
       "    <tr>\n",
       "      <th>3</th>\n",
       "      <td>4</td>\n",
       "      <td>21159</td>\n",
       "      <td>21424</td>\n",
       "      <td>0.987631</td>\n",
       "      <td>0.0</td>\n",
       "      <td>0</td>\n",
       "      <td>0.0</td>\n",
       "      <td>0.0</td>\n",
       "      <td>0</td>\n",
       "    </tr>\n",
       "    <tr>\n",
       "      <th>4</th>\n",
       "      <td>5</td>\n",
       "      <td>21196</td>\n",
       "      <td>21424</td>\n",
       "      <td>0.989358</td>\n",
       "      <td>0.0</td>\n",
       "      <td>0</td>\n",
       "      <td>0.0</td>\n",
       "      <td>0.0</td>\n",
       "      <td>0</td>\n",
       "    </tr>\n",
       "    <tr>\n",
       "      <th>5</th>\n",
       "      <td>6</td>\n",
       "      <td>19920</td>\n",
       "      <td>21424</td>\n",
       "      <td>0.929798</td>\n",
       "      <td>0.0</td>\n",
       "      <td>0</td>\n",
       "      <td>0.0</td>\n",
       "      <td>0.0</td>\n",
       "      <td>0</td>\n",
       "    </tr>\n",
       "    <tr>\n",
       "      <th>6</th>\n",
       "      <td>7</td>\n",
       "      <td>21058</td>\n",
       "      <td>21424</td>\n",
       "      <td>0.982916</td>\n",
       "      <td>0.0</td>\n",
       "      <td>0</td>\n",
       "      <td>0.0</td>\n",
       "      <td>0.0</td>\n",
       "      <td>0</td>\n",
       "    </tr>\n",
       "    <tr>\n",
       "      <th>7</th>\n",
       "      <td>8</td>\n",
       "      <td>20234</td>\n",
       "      <td>21424</td>\n",
       "      <td>0.944455</td>\n",
       "      <td>0.0</td>\n",
       "      <td>0</td>\n",
       "      <td>0.0</td>\n",
       "      <td>0.0</td>\n",
       "      <td>0</td>\n",
       "    </tr>\n",
       "    <tr>\n",
       "      <th>8</th>\n",
       "      <td>9</td>\n",
       "      <td>21136</td>\n",
       "      <td>21424</td>\n",
       "      <td>0.986557</td>\n",
       "      <td>0.0</td>\n",
       "      <td>0</td>\n",
       "      <td>0.0</td>\n",
       "      <td>0.0</td>\n",
       "      <td>0</td>\n",
       "    </tr>\n",
       "    <tr>\n",
       "      <th>9</th>\n",
       "      <td>10</td>\n",
       "      <td>18791</td>\n",
       "      <td>21424</td>\n",
       "      <td>0.877100</td>\n",
       "      <td>0.0</td>\n",
       "      <td>0</td>\n",
       "      <td>0.0</td>\n",
       "      <td>0.0</td>\n",
       "      <td>0</td>\n",
       "    </tr>\n",
       "    <tr>\n",
       "      <th>10</th>\n",
       "      <td>11</td>\n",
       "      <td>17337</td>\n",
       "      <td>21424</td>\n",
       "      <td>0.809233</td>\n",
       "      <td>0.0</td>\n",
       "      <td>0</td>\n",
       "      <td>0.0</td>\n",
       "      <td>0.0</td>\n",
       "      <td>0</td>\n",
       "    </tr>\n",
       "    <tr>\n",
       "      <th>11</th>\n",
       "      <td>12</td>\n",
       "      <td>15524</td>\n",
       "      <td>21424</td>\n",
       "      <td>0.724608</td>\n",
       "      <td>0.0</td>\n",
       "      <td>0</td>\n",
       "      <td>0.0</td>\n",
       "      <td>0.0</td>\n",
       "      <td>0</td>\n",
       "    </tr>\n",
       "    <tr>\n",
       "      <th>12</th>\n",
       "      <td>13</td>\n",
       "      <td>19872</td>\n",
       "      <td>21424</td>\n",
       "      <td>0.927558</td>\n",
       "      <td>0.0</td>\n",
       "      <td>0</td>\n",
       "      <td>0.0</td>\n",
       "      <td>0.0</td>\n",
       "      <td>0</td>\n",
       "    </tr>\n",
       "    <tr>\n",
       "      <th>13</th>\n",
       "      <td>14</td>\n",
       "      <td>17575</td>\n",
       "      <td>21424</td>\n",
       "      <td>0.820342</td>\n",
       "      <td>0.0</td>\n",
       "      <td>0</td>\n",
       "      <td>0.0</td>\n",
       "      <td>0.0</td>\n",
       "      <td>0</td>\n",
       "    </tr>\n",
       "    <tr>\n",
       "      <th>14</th>\n",
       "      <td>15</td>\n",
       "      <td>17530</td>\n",
       "      <td>21424</td>\n",
       "      <td>0.818241</td>\n",
       "      <td>0.0</td>\n",
       "      <td>0</td>\n",
       "      <td>0.0</td>\n",
       "      <td>0.0</td>\n",
       "      <td>0</td>\n",
       "    </tr>\n",
       "    <tr>\n",
       "      <th>15</th>\n",
       "      <td>16</td>\n",
       "      <td>20974</td>\n",
       "      <td>21424</td>\n",
       "      <td>0.978996</td>\n",
       "      <td>0.0</td>\n",
       "      <td>0</td>\n",
       "      <td>0.0</td>\n",
       "      <td>0.0</td>\n",
       "      <td>0</td>\n",
       "    </tr>\n",
       "    <tr>\n",
       "      <th>16</th>\n",
       "      <td>17</td>\n",
       "      <td>18694</td>\n",
       "      <td>21424</td>\n",
       "      <td>0.872573</td>\n",
       "      <td>0.0</td>\n",
       "      <td>0</td>\n",
       "      <td>0.0</td>\n",
       "      <td>0.0</td>\n",
       "      <td>0</td>\n",
       "    </tr>\n",
       "    <tr>\n",
       "      <th>17</th>\n",
       "      <td>18</td>\n",
       "      <td>18106</td>\n",
       "      <td>21424</td>\n",
       "      <td>0.845127</td>\n",
       "      <td>0.0</td>\n",
       "      <td>0</td>\n",
       "      <td>0.0</td>\n",
       "      <td>0.0</td>\n",
       "      <td>0</td>\n",
       "    </tr>\n",
       "    <tr>\n",
       "      <th>18</th>\n",
       "      <td>19</td>\n",
       "      <td>17473</td>\n",
       "      <td>21424</td>\n",
       "      <td>0.815581</td>\n",
       "      <td>0.0</td>\n",
       "      <td>0</td>\n",
       "      <td>0.0</td>\n",
       "      <td>0.0</td>\n",
       "      <td>0</td>\n",
       "    </tr>\n",
       "    <tr>\n",
       "      <th>19</th>\n",
       "      <td>20</td>\n",
       "      <td>21174</td>\n",
       "      <td>21424</td>\n",
       "      <td>0.988331</td>\n",
       "      <td>0.0</td>\n",
       "      <td>0</td>\n",
       "      <td>0.0</td>\n",
       "      <td>0.0</td>\n",
       "      <td>0</td>\n",
       "    </tr>\n",
       "    <tr>\n",
       "      <th>20</th>\n",
       "      <td>21</td>\n",
       "      <td>17160</td>\n",
       "      <td>21424</td>\n",
       "      <td>0.800971</td>\n",
       "      <td>0.0</td>\n",
       "      <td>0</td>\n",
       "      <td>0.0</td>\n",
       "      <td>0.0</td>\n",
       "      <td>0</td>\n",
       "    </tr>\n",
       "    <tr>\n",
       "      <th>21</th>\n",
       "      <td>22</td>\n",
       "      <td>18418</td>\n",
       "      <td>21424</td>\n",
       "      <td>0.859690</td>\n",
       "      <td>0.0</td>\n",
       "      <td>0</td>\n",
       "      <td>0.0</td>\n",
       "      <td>0.0</td>\n",
       "      <td>0</td>\n",
       "    </tr>\n",
       "    <tr>\n",
       "      <th>22</th>\n",
       "      <td>23</td>\n",
       "      <td>15317</td>\n",
       "      <td>21424</td>\n",
       "      <td>0.714946</td>\n",
       "      <td>0.0</td>\n",
       "      <td>0</td>\n",
       "      <td>0.0</td>\n",
       "      <td>0.0</td>\n",
       "      <td>0</td>\n",
       "    </tr>\n",
       "    <tr>\n",
       "      <th>23</th>\n",
       "      <td>24</td>\n",
       "      <td>15558</td>\n",
       "      <td>21424</td>\n",
       "      <td>0.726195</td>\n",
       "      <td>0.0</td>\n",
       "      <td>0</td>\n",
       "      <td>0.0</td>\n",
       "      <td>0.0</td>\n",
       "      <td>0</td>\n",
       "    </tr>\n",
       "    <tr>\n",
       "      <th>24</th>\n",
       "      <td>25</td>\n",
       "      <td>15162</td>\n",
       "      <td>21424</td>\n",
       "      <td>0.707711</td>\n",
       "      <td>0.0</td>\n",
       "      <td>0</td>\n",
       "      <td>0.0</td>\n",
       "      <td>0.0</td>\n",
       "      <td>0</td>\n",
       "    </tr>\n",
       "    <tr>\n",
       "      <th>25</th>\n",
       "      <td>26</td>\n",
       "      <td>19244</td>\n",
       "      <td>21424</td>\n",
       "      <td>0.898245</td>\n",
       "      <td>0.0</td>\n",
       "      <td>0</td>\n",
       "      <td>0.0</td>\n",
       "      <td>0.0</td>\n",
       "      <td>0</td>\n",
       "    </tr>\n",
       "    <tr>\n",
       "      <th>26</th>\n",
       "      <td>27</td>\n",
       "      <td>15712</td>\n",
       "      <td>21424</td>\n",
       "      <td>0.733383</td>\n",
       "      <td>0.0</td>\n",
       "      <td>0</td>\n",
       "      <td>0.0</td>\n",
       "      <td>0.0</td>\n",
       "      <td>0</td>\n",
       "    </tr>\n",
       "    <tr>\n",
       "      <th>27</th>\n",
       "      <td>28</td>\n",
       "      <td>14931</td>\n",
       "      <td>21424</td>\n",
       "      <td>0.696929</td>\n",
       "      <td>0.0</td>\n",
       "      <td>0</td>\n",
       "      <td>0.0</td>\n",
       "      <td>0.0</td>\n",
       "      <td>0</td>\n",
       "    </tr>\n",
       "    <tr>\n",
       "      <th>28</th>\n",
       "      <td>29</td>\n",
       "      <td>16954</td>\n",
       "      <td>21424</td>\n",
       "      <td>0.791355</td>\n",
       "      <td>0.0</td>\n",
       "      <td>0</td>\n",
       "      <td>0.0</td>\n",
       "      <td>0.0</td>\n",
       "      <td>0</td>\n",
       "    </tr>\n",
       "    <tr>\n",
       "      <th>29</th>\n",
       "      <td>30</td>\n",
       "      <td>14826</td>\n",
       "      <td>21424</td>\n",
       "      <td>0.692028</td>\n",
       "      <td>0.0</td>\n",
       "      <td>0</td>\n",
       "      <td>0.0</td>\n",
       "      <td>0.0</td>\n",
       "      <td>0</td>\n",
       "    </tr>\n",
       "    <tr>\n",
       "      <th>30</th>\n",
       "      <td>31</td>\n",
       "      <td>21178</td>\n",
       "      <td>21424</td>\n",
       "      <td>0.988518</td>\n",
       "      <td>0.0</td>\n",
       "      <td>0</td>\n",
       "      <td>0.0</td>\n",
       "      <td>0.0</td>\n",
       "      <td>0</td>\n",
       "    </tr>\n",
       "    <tr>\n",
       "      <th>31</th>\n",
       "      <td>32</td>\n",
       "      <td>15509</td>\n",
       "      <td>21424</td>\n",
       "      <td>0.723908</td>\n",
       "      <td>0.0</td>\n",
       "      <td>0</td>\n",
       "      <td>0.0</td>\n",
       "      <td>0.0</td>\n",
       "      <td>0</td>\n",
       "    </tr>\n",
       "    <tr>\n",
       "      <th>32</th>\n",
       "      <td>33</td>\n",
       "      <td>17062</td>\n",
       "      <td>21424</td>\n",
       "      <td>0.796397</td>\n",
       "      <td>0.0</td>\n",
       "      <td>0</td>\n",
       "      <td>0.0</td>\n",
       "      <td>0.0</td>\n",
       "      <td>0</td>\n",
       "    </tr>\n",
       "    <tr>\n",
       "      <th>33</th>\n",
       "      <td>34</td>\n",
       "      <td>15875</td>\n",
       "      <td>21424</td>\n",
       "      <td>0.740991</td>\n",
       "      <td>0.0</td>\n",
       "      <td>0</td>\n",
       "      <td>0.0</td>\n",
       "      <td>0.0</td>\n",
       "      <td>0</td>\n",
       "    </tr>\n",
       "    <tr>\n",
       "      <th>34</th>\n",
       "      <td>35</td>\n",
       "      <td>17962</td>\n",
       "      <td>21424</td>\n",
       "      <td>0.838406</td>\n",
       "      <td>0.0</td>\n",
       "      <td>0</td>\n",
       "      <td>0.0</td>\n",
       "      <td>0.0</td>\n",
       "      <td>0</td>\n",
       "    </tr>\n",
       "    <tr>\n",
       "      <th>35</th>\n",
       "      <td>36</td>\n",
       "      <td>14748</td>\n",
       "      <td>21424</td>\n",
       "      <td>0.688387</td>\n",
       "      <td>0.0</td>\n",
       "      <td>0</td>\n",
       "      <td>0.0</td>\n",
       "      <td>0.0</td>\n",
       "      <td>0</td>\n",
       "    </tr>\n",
       "    <tr>\n",
       "      <th>36</th>\n",
       "      <td>37</td>\n",
       "      <td>17345</td>\n",
       "      <td>21424</td>\n",
       "      <td>0.809606</td>\n",
       "      <td>0.0</td>\n",
       "      <td>0</td>\n",
       "      <td>0.0</td>\n",
       "      <td>0.0</td>\n",
       "      <td>0</td>\n",
       "    </tr>\n",
       "    <tr>\n",
       "      <th>37</th>\n",
       "      <td>38</td>\n",
       "      <td>17510</td>\n",
       "      <td>21424</td>\n",
       "      <td>0.817308</td>\n",
       "      <td>0.0</td>\n",
       "      <td>0</td>\n",
       "      <td>0.0</td>\n",
       "      <td>0.0</td>\n",
       "      <td>0</td>\n",
       "    </tr>\n",
       "    <tr>\n",
       "      <th>38</th>\n",
       "      <td>39</td>\n",
       "      <td>13229</td>\n",
       "      <td>21424</td>\n",
       "      <td>0.617485</td>\n",
       "      <td>0.0</td>\n",
       "      <td>0</td>\n",
       "      <td>0.0</td>\n",
       "      <td>0.0</td>\n",
       "      <td>0</td>\n",
       "    </tr>\n",
       "    <tr>\n",
       "      <th>39</th>\n",
       "      <td>40</td>\n",
       "      <td>15824</td>\n",
       "      <td>21424</td>\n",
       "      <td>0.738611</td>\n",
       "      <td>0.0</td>\n",
       "      <td>0</td>\n",
       "      <td>0.0</td>\n",
       "      <td>0.0</td>\n",
       "      <td>0</td>\n",
       "    </tr>\n",
       "    <tr>\n",
       "      <th>40</th>\n",
       "      <td>41</td>\n",
       "      <td>21154</td>\n",
       "      <td>21424</td>\n",
       "      <td>0.987397</td>\n",
       "      <td>0.0</td>\n",
       "      <td>0</td>\n",
       "      <td>0.0</td>\n",
       "      <td>0.0</td>\n",
       "      <td>0</td>\n",
       "    </tr>\n",
       "    <tr>\n",
       "      <th>41</th>\n",
       "      <td>42</td>\n",
       "      <td>21216</td>\n",
       "      <td>21424</td>\n",
       "      <td>0.990291</td>\n",
       "      <td>0.0</td>\n",
       "      <td>0</td>\n",
       "      <td>0.0</td>\n",
       "      <td>0.0</td>\n",
       "      <td>0</td>\n",
       "    </tr>\n",
       "    <tr>\n",
       "      <th>42</th>\n",
       "      <td>43</td>\n",
       "      <td>18458</td>\n",
       "      <td>21424</td>\n",
       "      <td>0.861557</td>\n",
       "      <td>0.0</td>\n",
       "      <td>0</td>\n",
       "      <td>0.0</td>\n",
       "      <td>0.0</td>\n",
       "      <td>0</td>\n",
       "    </tr>\n",
       "    <tr>\n",
       "      <th>43</th>\n",
       "      <td>44</td>\n",
       "      <td>21179</td>\n",
       "      <td>21424</td>\n",
       "      <td>0.988564</td>\n",
       "      <td>0.0</td>\n",
       "      <td>0</td>\n",
       "      <td>0.0</td>\n",
       "      <td>0.0</td>\n",
       "      <td>0</td>\n",
       "    </tr>\n",
       "    <tr>\n",
       "      <th>44</th>\n",
       "      <td>45</td>\n",
       "      <td>19536</td>\n",
       "      <td>21424</td>\n",
       "      <td>0.911875</td>\n",
       "      <td>0.0</td>\n",
       "      <td>0</td>\n",
       "      <td>0.0</td>\n",
       "      <td>0.0</td>\n",
       "      <td>0</td>\n",
       "    </tr>\n",
       "    <tr>\n",
       "      <th>45</th>\n",
       "      <td>46</td>\n",
       "      <td>14844</td>\n",
       "      <td>21424</td>\n",
       "      <td>0.692868</td>\n",
       "      <td>0.0</td>\n",
       "      <td>0</td>\n",
       "      <td>0.0</td>\n",
       "      <td>0.0</td>\n",
       "      <td>0</td>\n",
       "    </tr>\n",
       "    <tr>\n",
       "      <th>46</th>\n",
       "      <td>47</td>\n",
       "      <td>21156</td>\n",
       "      <td>21424</td>\n",
       "      <td>0.987491</td>\n",
       "      <td>0.0</td>\n",
       "      <td>0</td>\n",
       "      <td>0.0</td>\n",
       "      <td>0.0</td>\n",
       "      <td>0</td>\n",
       "    </tr>\n",
       "    <tr>\n",
       "      <th>47</th>\n",
       "      <td>48</td>\n",
       "      <td>15848</td>\n",
       "      <td>21424</td>\n",
       "      <td>0.739731</td>\n",
       "      <td>0.0</td>\n",
       "      <td>0</td>\n",
       "      <td>0.0</td>\n",
       "      <td>0.0</td>\n",
       "      <td>0</td>\n",
       "    </tr>\n",
       "    <tr>\n",
       "      <th>48</th>\n",
       "      <td>49</td>\n",
       "      <td>17235</td>\n",
       "      <td>21424</td>\n",
       "      <td>0.804472</td>\n",
       "      <td>0.0</td>\n",
       "      <td>0</td>\n",
       "      <td>0.0</td>\n",
       "      <td>0.0</td>\n",
       "      <td>0</td>\n",
       "    </tr>\n",
       "    <tr>\n",
       "      <th>49</th>\n",
       "      <td>50</td>\n",
       "      <td>16964</td>\n",
       "      <td>21424</td>\n",
       "      <td>0.791822</td>\n",
       "      <td>0.0</td>\n",
       "      <td>0</td>\n",
       "      <td>0.0</td>\n",
       "      <td>0.0</td>\n",
       "      <td>0</td>\n",
       "    </tr>\n",
       "  </tbody>\n",
       "</table>\n",
       "</div>"
      ],
      "text/plain": [
       "   query_id  match_ratio_retrieved_docs  match_ratio_docs_available  \\\n",
       "0         1                       15921                       21424   \n",
       "1         2                       21079                       21424   \n",
       "2         3                       17329                       21424   \n",
       "3         4                       21159                       21424   \n",
       "4         5                       21196                       21424   \n",
       "5         6                       19920                       21424   \n",
       "6         7                       21058                       21424   \n",
       "7         8                       20234                       21424   \n",
       "8         9                       21136                       21424   \n",
       "9        10                       18791                       21424   \n",
       "10       11                       17337                       21424   \n",
       "11       12                       15524                       21424   \n",
       "12       13                       19872                       21424   \n",
       "13       14                       17575                       21424   \n",
       "14       15                       17530                       21424   \n",
       "15       16                       20974                       21424   \n",
       "16       17                       18694                       21424   \n",
       "17       18                       18106                       21424   \n",
       "18       19                       17473                       21424   \n",
       "19       20                       21174                       21424   \n",
       "20       21                       17160                       21424   \n",
       "21       22                       18418                       21424   \n",
       "22       23                       15317                       21424   \n",
       "23       24                       15558                       21424   \n",
       "24       25                       15162                       21424   \n",
       "25       26                       19244                       21424   \n",
       "26       27                       15712                       21424   \n",
       "27       28                       14931                       21424   \n",
       "28       29                       16954                       21424   \n",
       "29       30                       14826                       21424   \n",
       "30       31                       21178                       21424   \n",
       "31       32                       15509                       21424   \n",
       "32       33                       17062                       21424   \n",
       "33       34                       15875                       21424   \n",
       "34       35                       17962                       21424   \n",
       "35       36                       14748                       21424   \n",
       "36       37                       17345                       21424   \n",
       "37       38                       17510                       21424   \n",
       "38       39                       13229                       21424   \n",
       "39       40                       15824                       21424   \n",
       "40       41                       21154                       21424   \n",
       "41       42                       21216                       21424   \n",
       "42       43                       18458                       21424   \n",
       "43       44                       21179                       21424   \n",
       "44       45                       19536                       21424   \n",
       "45       46                       14844                       21424   \n",
       "46       47                       21156                       21424   \n",
       "47       48                       15848                       21424   \n",
       "48       49                       17235                       21424   \n",
       "49       50                       16964                       21424   \n",
       "\n",
       "    match_ratio_value  recall_10_value  reciprocal_rank_10_value  \\\n",
       "0            0.743139              0.0                         0   \n",
       "1            0.983897              0.0                         0   \n",
       "2            0.808859              0.0                         0   \n",
       "3            0.987631              0.0                         0   \n",
       "4            0.989358              0.0                         0   \n",
       "5            0.929798              0.0                         0   \n",
       "6            0.982916              0.0                         0   \n",
       "7            0.944455              0.0                         0   \n",
       "8            0.986557              0.0                         0   \n",
       "9            0.877100              0.0                         0   \n",
       "10           0.809233              0.0                         0   \n",
       "11           0.724608              0.0                         0   \n",
       "12           0.927558              0.0                         0   \n",
       "13           0.820342              0.0                         0   \n",
       "14           0.818241              0.0                         0   \n",
       "15           0.978996              0.0                         0   \n",
       "16           0.872573              0.0                         0   \n",
       "17           0.845127              0.0                         0   \n",
       "18           0.815581              0.0                         0   \n",
       "19           0.988331              0.0                         0   \n",
       "20           0.800971              0.0                         0   \n",
       "21           0.859690              0.0                         0   \n",
       "22           0.714946              0.0                         0   \n",
       "23           0.726195              0.0                         0   \n",
       "24           0.707711              0.0                         0   \n",
       "25           0.898245              0.0                         0   \n",
       "26           0.733383              0.0                         0   \n",
       "27           0.696929              0.0                         0   \n",
       "28           0.791355              0.0                         0   \n",
       "29           0.692028              0.0                         0   \n",
       "30           0.988518              0.0                         0   \n",
       "31           0.723908              0.0                         0   \n",
       "32           0.796397              0.0                         0   \n",
       "33           0.740991              0.0                         0   \n",
       "34           0.838406              0.0                         0   \n",
       "35           0.688387              0.0                         0   \n",
       "36           0.809606              0.0                         0   \n",
       "37           0.817308              0.0                         0   \n",
       "38           0.617485              0.0                         0   \n",
       "39           0.738611              0.0                         0   \n",
       "40           0.987397              0.0                         0   \n",
       "41           0.990291              0.0                         0   \n",
       "42           0.861557              0.0                         0   \n",
       "43           0.988564              0.0                         0   \n",
       "44           0.911875              0.0                         0   \n",
       "45           0.692868              0.0                         0   \n",
       "46           0.987491              0.0                         0   \n",
       "47           0.739731              0.0                         0   \n",
       "48           0.804472              0.0                         0   \n",
       "49           0.791822              0.0                         0   \n",
       "\n",
       "    ndcg_10_ideal_dcg  ndcg_10_dcg  ndcg_10_value  \n",
       "0                 0.0          0.0              0  \n",
       "1                 0.0          0.0              0  \n",
       "2                 0.0          0.0              0  \n",
       "3                 0.0          0.0              0  \n",
       "4                 0.0          0.0              0  \n",
       "5                 0.0          0.0              0  \n",
       "6                 0.0          0.0              0  \n",
       "7                 0.0          0.0              0  \n",
       "8                 0.0          0.0              0  \n",
       "9                 0.0          0.0              0  \n",
       "10                0.0          0.0              0  \n",
       "11                0.0          0.0              0  \n",
       "12                0.0          0.0              0  \n",
       "13                0.0          0.0              0  \n",
       "14                0.0          0.0              0  \n",
       "15                0.0          0.0              0  \n",
       "16                0.0          0.0              0  \n",
       "17                0.0          0.0              0  \n",
       "18                0.0          0.0              0  \n",
       "19                0.0          0.0              0  \n",
       "20                0.0          0.0              0  \n",
       "21                0.0          0.0              0  \n",
       "22                0.0          0.0              0  \n",
       "23                0.0          0.0              0  \n",
       "24                0.0          0.0              0  \n",
       "25                0.0          0.0              0  \n",
       "26                0.0          0.0              0  \n",
       "27                0.0          0.0              0  \n",
       "28                0.0          0.0              0  \n",
       "29                0.0          0.0              0  \n",
       "30                0.0          0.0              0  \n",
       "31                0.0          0.0              0  \n",
       "32                0.0          0.0              0  \n",
       "33                0.0          0.0              0  \n",
       "34                0.0          0.0              0  \n",
       "35                0.0          0.0              0  \n",
       "36                0.0          0.0              0  \n",
       "37                0.0          0.0              0  \n",
       "38                0.0          0.0              0  \n",
       "39                0.0          0.0              0  \n",
       "40                0.0          0.0              0  \n",
       "41                0.0          0.0              0  \n",
       "42                0.0          0.0              0  \n",
       "43                0.0          0.0              0  \n",
       "44                0.0          0.0              0  \n",
       "45                0.0          0.0              0  \n",
       "46                0.0          0.0              0  \n",
       "47                0.0          0.0              0  \n",
       "48                0.0          0.0              0  \n",
       "49                0.0          0.0              0  "
      ]
     },
     "execution_count": 93,
     "metadata": {},
     "output_type": "execute_result"
    }
   ],
   "source": [
    "bm25_evaluation"
   ]
  },
  {
   "cell_type": "code",
   "execution_count": 94,
   "metadata": {},
   "outputs": [
    {
     "data": {
      "text/plain": [
       "query_id                      2.469136e+88\n",
       "match_ratio_retrieved_docs    1.798392e+04\n",
       "match_ratio_docs_available    2.142400e+04\n",
       "match_ratio_value             8.394287e-01\n",
       "recall_10_value               0.000000e+00\n",
       "reciprocal_rank_10_value      0.000000e+00\n",
       "ndcg_10_ideal_dcg             0.000000e+00\n",
       "ndcg_10_dcg                   0.000000e+00\n",
       "ndcg_10_value                 0.000000e+00\n",
       "dtype: float64"
      ]
     },
     "execution_count": 94,
     "metadata": {},
     "output_type": "execute_result"
    }
   ],
   "source": [
    "bm25_evaluation.mean()"
   ]
  },
  {
   "cell_type": "code",
   "execution_count": null,
   "metadata": {},
   "outputs": [],
   "source": [
    "model = QueryModel(match_phase=OR(),\n",
    "      rank_profile=Ranking(name=\"bm25w\")\n",
    "    )\n",
    "bm25w_evaluation = app.evaluate(\n",
    "        labeled_data = labeled_data,\n",
    "        eval_metrics = eval_metrics,\n",
    "        query_model = model,\n",
    "        id_field = \"id\",\n",
    "        hits = 10\n",
    "    )"
   ]
  },
  {
   "cell_type": "code",
   "execution_count": null,
   "metadata": {},
   "outputs": [],
   "source": [
    "bm25w_evaluation.mean()"
   ]
  },
  {
   "cell_type": "markdown",
   "metadata": {},
   "source": [
    "## Testing what fields is most valuable for BM25\n"
   ]
  },
  {
   "cell_type": "code",
   "execution_count": null,
   "metadata": {},
   "outputs": [],
   "source": [
    "eval_metrics = [\n",
    "    MatchRatio(),\n",
    "    Recall(at=20),\n",
    "    ReciprocalRank(at=20),\n",
    "    NormalizedDiscountedCumulativeGain(at=20)\n",
    "]"
   ]
  },
  {
   "cell_type": "code",
   "execution_count": null,
   "metadata": {},
   "outputs": [],
   "source": [
    "\n",
    "query_models = {\n",
    "    \"or_bm25w\": QueryModel(\n",
    "        match_phase = OR(),\n",
    "        rank_profile = Ranking(name=\"bm25w\")\n",
    "    ),\n",
    "    \"and_bm25w\": QueryModel(\n",
    "        match_phase = AND(),\n",
    "        rank_profile = Ranking(name=\"bm25w\")\n",
    "    )\n",
    "}\n",
    "\"\"\"\n",
    "    ,\n",
    "    \"or_bm25\": QueryModel(\n",
    "        match_phase = OR(),\n",
    "        rank_profile = Ranking(name=\"bm25\")\n",
    "    ),\n",
    "    \"or_bm25w\": QueryModel(\n",
    "        match_phase = OR(),\n",
    "        rank_profile = Ranking(name=\"bm25w\")\n",
    "    )\n",
    "}\n",
    "\"\"\""
   ]
  },
  {
   "cell_type": "code",
   "execution_count": null,
   "metadata": {},
   "outputs": [],
   "source": [
    "query_models = {\n",
    "    \"or_bm25w\": QueryModel(\n",
    "        match_phase = OR(),\n",
    "        rank_profile = Ranking(name=\"bm25w\")\n",
    "    ),\n",
    "    \"and_bm25w\": QueryModel(\n",
    "        match_phase = AND(),\n",
    "        rank_profile = Ranking(name=\"bm25w\")\n",
    "    ),\n",
    "     \"ann_t_bm25w\": QueryModel(\n",
    "        query_properties=[QueryRankingFeature(name=\"tensor\", mapping=covidbert_encoder)],\n",
    "        match_phase = ANN(doc_vector=\"title_embedding_cordbert\",\n",
    "                       query_vector=\"tensor\",\n",
    "                       hits=20000,\n",
    "                       label=\"ann_title\"),\n",
    "        rank_profile = Ranking(name=\"bm25w\")\n",
    "    ),\n",
    "     \"ann_a_bm25w\": QueryModel(\n",
    "        query_properties=[QueryRankingFeature(name=\"tensor\", mapping=covidbert_encoder)],\n",
    "        match_phase = ANN(doc_vector=\"abstract_embedding_cordbert\",\n",
    "                       query_vector=\"tensor\",\n",
    "                       hits=100000,\n",
    "                       label=\"ann_abstract\"),\n",
    "        rank_profile = Ranking(name=\"bm25w\")\n",
    "    ),\n",
    "     \"ann_a_m_bm25w\": QueryModel(\n",
    "        query_properties=[QueryRankingFeature(name=\"tensor\", mapping=covidbert_encoder)],\n",
    "        match_phase = Union(\n",
    "                        ANN(doc_vector=\"abstract_embedding_cordbert\",\n",
    "                       query_vector=\"tensor\",\n",
    "                       hits=5000,\n",
    "                       label=\"ann_abstract\"),\n",
    "                        ANN(doc_vector=\"title_embedding_cordbert\",\n",
    "                       query_vector=\"tensor\",\n",
    "                       hits=5000,\n",
    "                       label=\"ann_title\"),\n",
    "                        AND()),\n",
    "                            \n",
    "        rank_profile = Ranking(name=\"bm25w\")\n",
    "    )\n",
    "}\n",
    "\"\"\"\n",
    "ANN(doc_vector=\"title_embedding_cordbert\",\n",
    "                       query_vector=\"tensor\",\n",
    "                       hits=100,\n",
    "                       label=\"ann_title\"),\n",
    "                        ANN(doc_vector=\"abstract_embedding_cordbert\",\n",
    "                       query_vector=\"tensor\",\n",
    "                       hits=10,\n",
    "                       label=\"ann_abstract\"),\n",
    "                         AND()),\n",
    "\"\"\""
   ]
  },
  {
   "cell_type": "code",
   "execution_count": null,
   "metadata": {},
   "outputs": [],
   "source": [
    "query_models = {\n",
    "    \"and_bm25w\": QueryModel(\n",
    "        match_phase = AND(),\n",
    "        rank_profile = Ranking(name=\"bm25w\")\n",
    "    ),\n",
    "     \"ann_t_bm25w\": QueryModel(\n",
    "        query_properties=[QueryRankingFeature(name=\"tensor\", mapping=covidbert_encoder)],\n",
    "        match_phase = ANN(doc_vector=\"title_embedding_cordbert\",\n",
    "                       query_vector=\"tensor\",\n",
    "                       hits=20000,\n",
    "                       label=\"ann_title\"),\n",
    "        rank_profile = Ranking(name=\"cos_sim_cordbert_title\")\n",
    "    ),\n",
    "     \"ann_a_m_bm25w\": QueryModel(\n",
    "        query_properties=[QueryRankingFeature(name=\"tensor\", mapping=covidbert_encoder)],\n",
    "        match_phase = Union(\n",
    "                        ANN(doc_vector=\"title_embedding_cordbert\",\n",
    "                       query_vector=\"tensor\",\n",
    "                       hits=5000,\n",
    "                       label=\"ann_title\"),\n",
    "                        AND()),        \n",
    "        rank_profile = Ranking(name=\"bm25w\")\n",
    "    )\n",
    "}"
   ]
  },
  {
   "cell_type": "code",
   "execution_count": null,
   "metadata": {},
   "outputs": [],
   "source": [
    "evaluations = {}\n",
    "for query_model in query_models:\n",
    "    evaluations[query_model] = app.evaluate(\n",
    "        labeled_data = labeled_data_question,\n",
    "        eval_metrics = eval_metrics,\n",
    "        query_model = query_models[query_model],\n",
    "        id_field = \"id\",\n",
    "        hits = 10\n",
    "    )"
   ]
  },
  {
   "cell_type": "code",
   "execution_count": null,
   "metadata": {},
   "outputs": [],
   "source": [
    "evaluations[\"ann_t_bm25w\"]"
   ]
  },
  {
   "cell_type": "code",
   "execution_count": null,
   "metadata": {},
   "outputs": [],
   "source": []
  },
  {
   "cell_type": "code",
   "execution_count": null,
   "metadata": {},
   "outputs": [],
   "source": [
    "\n",
    "\n",
    "metric_values = []\n",
    "for query_model in query_models:\n",
    "    for metric in eval_metrics:\n",
    "        metric_values.append(\n",
    "            pd.DataFrame(\n",
    "                data={\n",
    "                    \"query_model\": query_model,\n",
    "                    \"metric\": metric.name,\n",
    "                    \"value\": evaluations[query_model][metric.name + \"_value\"].to_list()\n",
    "                }\n",
    "            )\n",
    "        )\n",
    "metric_values = pd.concat(metric_values, ignore_index=True)\n",
    "metric_values.head()"
   ]
  },
  {
   "cell_type": "code",
   "execution_count": null,
   "metadata": {
    "scrolled": true
   },
   "outputs": [],
   "source": [
    "metric_values.groupby(['query_model', 'metric']).mean()"
   ]
  },
  {
   "cell_type": "code",
   "execution_count": null,
   "metadata": {},
   "outputs": [],
   "source": [
    "\n",
    "\n",
    "\n",
    "fig = px.box(\n",
    "    metric_values[metric_values.metric == \"ndcg_20\"],\n",
    "    x=\"query_model\",\n",
    "    y=\"value\",\n",
    "    title=\"Ndgc @ 10\",\n",
    "    points=\"all\"\n",
    ")\n",
    "fig.show()\n",
    "\n"
   ]
  },
  {
   "cell_type": "code",
   "execution_count": null,
   "metadata": {},
   "outputs": [],
   "source": [
    "evaluation.mean()[\"ndcg_10_value\"]"
   ]
  },
  {
   "cell_type": "code",
   "execution_count": null,
   "metadata": {},
   "outputs": [],
   "source": [
    "def eval_query_models(models, eval_metric, label_dat,plot=True):\n",
    "    evaluations = {}\n",
    "    for query_model in query_models:\n",
    "        evaluations[query_model] = app.evaluate(\n",
    "            labeled_data = labeled_data,\n",
    "            eval_metrics = eval_metrics,\n",
    "            query_model = query_models[query_model],\n",
    "            id_field = \"id\",\n",
    "            hits = 10\n",
    "        )\n",
    "    metric_values = []\n",
    "    for query_model in query_models:\n",
    "        for metric in eval_metrics:\n",
    "            metric_values.append(\n",
    "                pd.DataFrame(\n",
    "                    data={\n",
    "                        \"query_model\": query_model,\n",
    "                        \"metric\": metric.name,\n",
    "                        \"value\": evaluations[query_model][metric.name + \"_value\"].to_list()\n",
    "                    }\n",
    "                )\n",
    "            )\n",
    "    metric_values = pd.concat(metric_values, ignore_index=True)\n",
    "    return metric_values\n",
    "    \n",
    "\n"
   ]
  },
  {
   "cell_type": "markdown",
   "metadata": {},
   "source": [
    "## Testing weighting of BM25\n",
    "\n",
    "Here we will stest what is the optimal weginthing of the bm25 formula\n",
    "\n",
    "$$\n",
    "    bm25_w = \\alpha \\cdot bm25(title) + \\beta \\cdot bm25(abstract) + (1 - \\alpha - \\beta) \\cdot bm25(body)\n",
    "$$\n",
    "\n",
    "Whith te restriction that $\\alpha,\\beta \\in [0,1]$ and $\\alpha + \\beta  \\leq 1$. "
   ]
  },
  {
   "cell_type": "code",
   "execution_count": null,
   "metadata": {},
   "outputs": [],
   "source": [
    "ranking_name = []\n",
    "ranking_detail = []\n",
    "alpha = [i/20 for i in range(21)]\n",
    "beta = [i/20 for i in range(21)]\n"
   ]
  },
  {
   "cell_type": "code",
   "execution_count": null,
   "metadata": {},
   "outputs": [],
   "source": [
    "\n",
    "print(alpha)\n",
    "\n",
    "for a in alpha:\n",
    "    for b in beta:\n",
    "        if a + b <= 1 + 0.001:\n",
    "            # Can get c= -0.0, but this will give issues so we add 0.01\n",
    "            c = round(1 - a - b + 0.001,2)\n",
    "            #print(a,b,c,\"\\t\",round(a+b+c,1))\n",
    "            name = \"bm25_\" + str(a) + \"t\" + str(b) + \"a\" + str(c) + \"b\"\n",
    "            print(name)\n",
    "            rank = str(a) + \"*bm25(title)+\" + str(b) + \"*bm25(abstract)+\"+ str(c) + \"*bm25(body)\"\n",
    "            ranking_name.append(name)\n",
    "            ranking_detail.append(rank)\n",
    "            \n",
    "            app_package.schema.add_rank_profile(\n",
    "                RankProfile(name = name,\n",
    "                inherits = \"default\",\n",
    "                first_phase = rank))"
   ]
  },
  {
   "cell_type": "code",
   "execution_count": null,
   "metadata": {},
   "outputs": [],
   "source": [
    "name = \"cord_19_application\"\n",
    "\n",
    "path = \"C:\\\\Users\\\\User\\\\OneDrive - NTNU\\\\NTNU\\\\Prosjekt oppgave NLP\\\\docker_apps\\\\\"\n",
    "\n",
    "\n",
    "app = vespa_docker.deploy(application_package=app_package, \n",
    "                          disk_folder=path + name,\n",
    "                          container_memory = '8G')"
   ]
  },
  {
   "cell_type": "code",
   "execution_count": null,
   "metadata": {},
   "outputs": [],
   "source": [
    "mean_values = []\n",
    "std_values = []\n",
    "\n",
    "\n",
    "for n in ranking_name:\n",
    "    model = QueryModel(match_phase=OR(),\n",
    "      rank_profile=Ranking(name=n)\n",
    "    )\n",
    "    evaluation = app.evaluate(\n",
    "        labeled_data = labeled_data_question,\n",
    "        eval_metrics = eval_metrics,\n",
    "        query_model = model,\n",
    "        id_field = \"id\",\n",
    "        hits = 10\n",
    "    )\n",
    "    mean = evaluation.mean()\n",
    "    std = evaluation.std()\n",
    "    mean_values.append(mean)\n",
    "    std_values.append(std)\n",
    "    print(\"name: \", n, \"\\t\" , \"ndcg@10 mean value: \", round(mean[\"ndcg_10_value\"],3),\n",
    "         \"\\t ndcg@10 std value: \", round(std[\"ndcg_10_value\"],3))\n",
    "    "
   ]
  },
  {
   "cell_type": "code",
   "execution_count": null,
   "metadata": {},
   "outputs": [],
   "source": [
    "path = \"C:/Users/User/Documents/NTNU/NLP/CORD-19/results/\"\n",
    "name = \"bm25_weighting_mean_question\"\n",
    "file = path + name + \".txt\"\n",
    "with open(file, \"wb\") as fp:   #Pickling\n",
    "    pickle.dump(mean_values, fp)\n",
    "    \n",
    "name = \"bm25_weighting_std_question\"\n",
    "file = path + name + \".txt\"\n",
    "with open(file, \"wb\") as fp:   #Pickling\n",
    "    pickle.dump(std_values, fp)\n",
    "    \n"
   ]
  },
  {
   "cell_type": "code",
   "execution_count": null,
   "metadata": {},
   "outputs": [],
   "source": [
    "mean_values = []\n",
    "path = \"C:/Users/User/Documents/NTNU/NLP/CORD-19/results/\"\n",
    "name = \"bm25_weighting_mean\"\n",
    "file = path + name + \".txt\"\n",
    "with open(file, \"rb\") as fp:   # Unpickling\n",
    "    mean_values = pickle.load(fp)\n",
    "\n",
    "    \n",
    "std_values = []\n",
    "path = \"C:/Users/User/Documents/NTNU/NLP/CORD-19/results/\"\n",
    "name = \"bm25_weighting_std\"\n",
    "file = path + name + \".txt\"\n",
    "with open(file, \"rb\") as fp:   # Unpickling\n",
    "    std_values = pickle.load(fp)"
   ]
  },
  {
   "cell_type": "code",
   "execution_count": null,
   "metadata": {},
   "outputs": [],
   "source": [
    "mean_matrix = np.zeros((21,21))\n",
    "std_matrix = np.zeros((21,21))\n",
    "mask = np.zeros((21,21))\n",
    "k = 0\n",
    "for i in range(21):\n",
    "    for j in range(21):\n",
    "        if (i + j) <= 20:\n",
    "            mean_matrix[i][j] = mean_values[k][\"ndcg_10_value\"]\n",
    "            std_matrix[i][j] = std_values[k][\"ndcg_10_value\"]\n",
    "            k += 1\n",
    "        else:\n",
    "            mask[i][j] = 1"
   ]
  },
  {
   "cell_type": "code",
   "execution_count": null,
   "metadata": {},
   "outputs": [],
   "source": [
    "f, ax = plt.subplots(figsize=(12, 10))\n",
    "sns.heatmap(mean_matrix, vmin = 0.72, cmap=\"inferno\", mask = mask, xticklabels = alpha, yticklabels = beta)"
   ]
  },
  {
   "cell_type": "code",
   "execution_count": null,
   "metadata": {},
   "outputs": [],
   "source": [
    "sns.heatmap(std_matrix, vmin = 0.03, cmap=\"YlGnBu\", mask = mask)"
   ]
  },
  {
   "cell_type": "code",
   "execution_count": null,
   "metadata": {},
   "outputs": [],
   "source": [
    "mean_matrix = np.zeros((21,21))\n",
    "std_matrix = np.zeros((21,21))\n",
    "mask = np.zeros((21,21))\n",
    "k = 0\n",
    "for i in range(21):\n",
    "    for j in range(21):\n",
    "        if (i + j) <= 20:\n",
    "            #print(mean_values[k])\n",
    "            \n",
    "            mean_matrix[i][j] = mean_values[k][\"recall_10_value\"]\n",
    "            std_matrix[i][j] = std_values[k][\"recall_10_value\"]\n",
    "            k += 1\n",
    "        else:\n",
    "            mask[i][j] = 1"
   ]
  },
  {
   "cell_type": "code",
   "execution_count": null,
   "metadata": {
    "scrolled": true
   },
   "outputs": [],
   "source": [
    "#f, ax = plt.subplots(figsize=(12, 10))\n",
    "sns.heatmap(mean_matrix ,vmin = 0.0070,cmap=\"inferno\", xticklabels = alpha, yticklabels = beta ,mask = mask)"
   ]
  },
  {
   "cell_type": "code",
   "execution_count": null,
   "metadata": {},
   "outputs": [],
   "source": [
    "sns.heatmap(std_matrix,vmin = 0.0015, cmap=\"YlGnBu\", mask = mask)"
   ]
  },
  {
   "cell_type": "code",
   "execution_count": null,
   "metadata": {},
   "outputs": [],
   "source": [
    "mean_matrix = np.zeros((21,21))\n",
    "std_matrix = np.zeros((21,21))\n",
    "mask = np.zeros((21,21))\n",
    "k = 0\n",
    "for i in range(21):\n",
    "    for j in range(21):\n",
    "        if (i + j) <= 20:\n",
    "            #print(mean_values[k])\n",
    "            mean_matrix[i][j] = mean_values[k][\"reciprocal_rank_10_value\"]\n",
    "            std_matrix[i][j] = std_values[k][\"reciprocal_rank_10_value\"]\n",
    "            k += 1\n",
    "        else:\n",
    "            mask[i][j] = 1"
   ]
  },
  {
   "cell_type": "code",
   "execution_count": null,
   "metadata": {},
   "outputs": [],
   "source": [
    "f, ax = plt.subplots(figsize=(12, 10))\n",
    "sns.heatmap(mean_matrix, vmin = 0.96 ,cmap=\"inferno\", xticklabels = alpha, yticklabels = beta , mask = mask)"
   ]
  },
  {
   "cell_type": "code",
   "execution_count": null,
   "metadata": {},
   "outputs": [],
   "source": [
    "sns.heatmap(std_matrix,vmin = 0.0015, cmap=\"YlGnBu\", mask = mask)"
   ]
  },
  {
   "cell_type": "code",
   "execution_count": null,
   "metadata": {},
   "outputs": [],
   "source": [
    "print(mean_values)"
   ]
  },
  {
   "cell_type": "code",
   "execution_count": null,
   "metadata": {},
   "outputs": [],
   "source": [
    "def get_max(metric, dat):\n",
    "    n = len(dat)\n",
    "    fofr i in range(n):\n",
    "        for j in range"
   ]
  },
  {
   "cell_type": "markdown",
   "metadata": {},
   "source": [
    "## Testing Bert Cos-sim "
   ]
  },
  {
   "cell_type": "markdown",
   "metadata": {},
   "source": [
    "### Title"
   ]
  },
  {
   "cell_type": "code",
   "execution_count": 134,
   "metadata": {},
   "outputs": [],
   "source": [
    "query_models = {\n",
    "    \"or_cos_sim_bert_title\": QueryModel(\n",
    "        query_properties=[QueryRankingFeature(name=\"tensor\", mapping=bert_encoder)],\n",
    "        match_phase = OR(),\n",
    "        rank_profile = Ranking(name=\"cos_sim_bert_title\")\n",
    "    ),\n",
    "    \"or_cos_sim_scibert_title\": QueryModel(\n",
    "        query_properties=[QueryRankingFeature(name=\"tensor\", mapping=scibert_encoder)],\n",
    "        match_phase = OR(),\n",
    "        rank_profile = Ranking(name=\"cos_sim_scibert_title\")\n",
    "    ),\n",
    "     \"or_cos_sim_cordbert_title\": QueryModel(\n",
    "        query_properties=[QueryRankingFeature(name=\"tensor\", mapping=covidbert_encoder)],\n",
    "        match_phase = OR(),\n",
    "        rank_profile = Ranking(name=\"cos_sim_cordbert_title\")\n",
    "    )\n",
    "}"
   ]
  },
  {
   "cell_type": "code",
   "execution_count": 135,
   "metadata": {},
   "outputs": [],
   "source": [
    "evaluations = {}\n",
    "for query_model in query_models:\n",
    "    evaluations[query_model] = app.evaluate(\n",
    "        labeled_data = labeled_data,\n",
    "        eval_metrics = eval_metrics,\n",
    "        query_model = query_models[query_model],\n",
    "        id_field = \"id\",\n",
    "        hits = 10\n",
    "    )"
   ]
  },
  {
   "cell_type": "code",
   "execution_count": 136,
   "metadata": {},
   "outputs": [
    {
     "data": {
      "text/html": [
       "<div>\n",
       "<style scoped>\n",
       "    .dataframe tbody tr th:only-of-type {\n",
       "        vertical-align: middle;\n",
       "    }\n",
       "\n",
       "    .dataframe tbody tr th {\n",
       "        vertical-align: top;\n",
       "    }\n",
       "\n",
       "    .dataframe thead th {\n",
       "        text-align: right;\n",
       "    }\n",
       "</style>\n",
       "<table border=\"1\" class=\"dataframe\">\n",
       "  <thead>\n",
       "    <tr style=\"text-align: right;\">\n",
       "      <th></th>\n",
       "      <th>query_model</th>\n",
       "      <th>metric</th>\n",
       "      <th>value</th>\n",
       "    </tr>\n",
       "  </thead>\n",
       "  <tbody>\n",
       "    <tr>\n",
       "      <th>0</th>\n",
       "      <td>or_cos_sim_bert_title</td>\n",
       "      <td>match_ratio</td>\n",
       "      <td>0.626041</td>\n",
       "    </tr>\n",
       "    <tr>\n",
       "      <th>1</th>\n",
       "      <td>or_cos_sim_bert_title</td>\n",
       "      <td>match_ratio</td>\n",
       "      <td>0.969718</td>\n",
       "    </tr>\n",
       "    <tr>\n",
       "      <th>2</th>\n",
       "      <td>or_cos_sim_bert_title</td>\n",
       "      <td>match_ratio</td>\n",
       "      <td>0.787440</td>\n",
       "    </tr>\n",
       "    <tr>\n",
       "      <th>3</th>\n",
       "      <td>or_cos_sim_bert_title</td>\n",
       "      <td>match_ratio</td>\n",
       "      <td>0.985020</td>\n",
       "    </tr>\n",
       "    <tr>\n",
       "      <th>4</th>\n",
       "      <td>or_cos_sim_bert_title</td>\n",
       "      <td>match_ratio</td>\n",
       "      <td>0.988233</td>\n",
       "    </tr>\n",
       "  </tbody>\n",
       "</table>\n",
       "</div>"
      ],
      "text/plain": [
       "             query_model       metric     value\n",
       "0  or_cos_sim_bert_title  match_ratio  0.626041\n",
       "1  or_cos_sim_bert_title  match_ratio  0.969718\n",
       "2  or_cos_sim_bert_title  match_ratio  0.787440\n",
       "3  or_cos_sim_bert_title  match_ratio  0.985020\n",
       "4  or_cos_sim_bert_title  match_ratio  0.988233"
      ]
     },
     "execution_count": 136,
     "metadata": {},
     "output_type": "execute_result"
    }
   ],
   "source": [
    "metric_values = []\n",
    "for query_model in query_models:\n",
    "    for metric in eval_metrics:\n",
    "        metric_values.append(\n",
    "            pd.DataFrame(\n",
    "                data={\n",
    "                    \"query_model\": query_model,\n",
    "                    \"metric\": metric.name,\n",
    "                    \"value\": evaluations[query_model][metric.name + \"_value\"].to_list()\n",
    "                }\n",
    "            )\n",
    "        )\n",
    "metric_values_bert_title = pd.concat(metric_values, ignore_index=True)\n",
    "metric_values_bert_title.head()"
   ]
  },
  {
   "cell_type": "code",
   "execution_count": 137,
   "metadata": {},
   "outputs": [
    {
     "data": {
      "text/html": [
       "<div>\n",
       "<style scoped>\n",
       "    .dataframe tbody tr th:only-of-type {\n",
       "        vertical-align: middle;\n",
       "    }\n",
       "\n",
       "    .dataframe tbody tr th {\n",
       "        vertical-align: top;\n",
       "    }\n",
       "\n",
       "    .dataframe thead th {\n",
       "        text-align: right;\n",
       "    }\n",
       "</style>\n",
       "<table border=\"1\" class=\"dataframe\">\n",
       "  <thead>\n",
       "    <tr style=\"text-align: right;\">\n",
       "      <th></th>\n",
       "      <th></th>\n",
       "      <th>value</th>\n",
       "    </tr>\n",
       "    <tr>\n",
       "      <th>query_model</th>\n",
       "      <th>metric</th>\n",
       "      <th></th>\n",
       "    </tr>\n",
       "  </thead>\n",
       "  <tbody>\n",
       "    <tr>\n",
       "      <th rowspan=\"4\" valign=\"top\">or_cos_sim_bert_title</th>\n",
       "      <th>match_ratio</th>\n",
       "      <td>0.836300</td>\n",
       "    </tr>\n",
       "    <tr>\n",
       "      <th>ndcg_10</th>\n",
       "      <td>0.052176</td>\n",
       "    </tr>\n",
       "    <tr>\n",
       "      <th>recall_10</th>\n",
       "      <td>0.000229</td>\n",
       "    </tr>\n",
       "    <tr>\n",
       "      <th>reciprocal_rank_10</th>\n",
       "      <td>0.031389</td>\n",
       "    </tr>\n",
       "    <tr>\n",
       "      <th rowspan=\"4\" valign=\"top\">or_cos_sim_cordbert_title</th>\n",
       "      <th>match_ratio</th>\n",
       "      <td>0.839429</td>\n",
       "    </tr>\n",
       "    <tr>\n",
       "      <th>ndcg_10</th>\n",
       "      <td>0.032619</td>\n",
       "    </tr>\n",
       "    <tr>\n",
       "      <th>recall_10</th>\n",
       "      <td>0.000109</td>\n",
       "    </tr>\n",
       "    <tr>\n",
       "      <th>reciprocal_rank_10</th>\n",
       "      <td>0.023333</td>\n",
       "    </tr>\n",
       "    <tr>\n",
       "      <th rowspan=\"4\" valign=\"top\">or_cos_sim_scibert_title</th>\n",
       "      <th>match_ratio</th>\n",
       "      <td>0.830056</td>\n",
       "    </tr>\n",
       "    <tr>\n",
       "      <th>ndcg_10</th>\n",
       "      <td>0.030108</td>\n",
       "    </tr>\n",
       "    <tr>\n",
       "      <th>recall_10</th>\n",
       "      <td>0.000114</td>\n",
       "    </tr>\n",
       "    <tr>\n",
       "      <th>reciprocal_rank_10</th>\n",
       "      <td>0.015222</td>\n",
       "    </tr>\n",
       "  </tbody>\n",
       "</table>\n",
       "</div>"
      ],
      "text/plain": [
       "                                                 value\n",
       "query_model               metric                      \n",
       "or_cos_sim_bert_title     match_ratio         0.836300\n",
       "                          ndcg_10             0.052176\n",
       "                          recall_10           0.000229\n",
       "                          reciprocal_rank_10  0.031389\n",
       "or_cos_sim_cordbert_title match_ratio         0.839429\n",
       "                          ndcg_10             0.032619\n",
       "                          recall_10           0.000109\n",
       "                          reciprocal_rank_10  0.023333\n",
       "or_cos_sim_scibert_title  match_ratio         0.830056\n",
       "                          ndcg_10             0.030108\n",
       "                          recall_10           0.000114\n",
       "                          reciprocal_rank_10  0.015222"
      ]
     },
     "execution_count": 137,
     "metadata": {},
     "output_type": "execute_result"
    }
   ],
   "source": [
    "metric_values_bert_title.groupby(['query_model', 'metric']).mean()"
   ]
  },
  {
   "cell_type": "code",
   "execution_count": 138,
   "metadata": {},
   "outputs": [
    {
     "data": {
      "application/vnd.plotly.v1+json": {
       "config": {
        "plotlyServerURL": "https://plot.ly"
       },
       "data": [
        {
         "alignmentgroup": "True",
         "boxpoints": "all",
         "hovertemplate": "query_model=%{x}<br>value=%{y}<extra></extra>",
         "legendgroup": "",
         "marker": {
          "color": "#636efa"
         },
         "name": "",
         "notched": false,
         "offsetgroup": "",
         "orientation": "v",
         "showlegend": false,
         "type": "box",
         "x": [
          "or_cos_sim_bert_title",
          "or_cos_sim_bert_title",
          "or_cos_sim_bert_title",
          "or_cos_sim_bert_title",
          "or_cos_sim_bert_title",
          "or_cos_sim_bert_title",
          "or_cos_sim_bert_title",
          "or_cos_sim_bert_title",
          "or_cos_sim_bert_title",
          "or_cos_sim_bert_title",
          "or_cos_sim_bert_title",
          "or_cos_sim_bert_title",
          "or_cos_sim_bert_title",
          "or_cos_sim_bert_title",
          "or_cos_sim_bert_title",
          "or_cos_sim_bert_title",
          "or_cos_sim_bert_title",
          "or_cos_sim_bert_title",
          "or_cos_sim_bert_title",
          "or_cos_sim_bert_title",
          "or_cos_sim_bert_title",
          "or_cos_sim_bert_title",
          "or_cos_sim_bert_title",
          "or_cos_sim_bert_title",
          "or_cos_sim_bert_title",
          "or_cos_sim_bert_title",
          "or_cos_sim_bert_title",
          "or_cos_sim_bert_title",
          "or_cos_sim_bert_title",
          "or_cos_sim_bert_title",
          "or_cos_sim_bert_title",
          "or_cos_sim_bert_title",
          "or_cos_sim_bert_title",
          "or_cos_sim_bert_title",
          "or_cos_sim_bert_title",
          "or_cos_sim_bert_title",
          "or_cos_sim_bert_title",
          "or_cos_sim_bert_title",
          "or_cos_sim_bert_title",
          "or_cos_sim_bert_title",
          "or_cos_sim_bert_title",
          "or_cos_sim_bert_title",
          "or_cos_sim_bert_title",
          "or_cos_sim_bert_title",
          "or_cos_sim_bert_title",
          "or_cos_sim_bert_title",
          "or_cos_sim_bert_title",
          "or_cos_sim_bert_title",
          "or_cos_sim_bert_title",
          "or_cos_sim_bert_title",
          "or_cos_sim_scibert_title",
          "or_cos_sim_scibert_title",
          "or_cos_sim_scibert_title",
          "or_cos_sim_scibert_title",
          "or_cos_sim_scibert_title",
          "or_cos_sim_scibert_title",
          "or_cos_sim_scibert_title",
          "or_cos_sim_scibert_title",
          "or_cos_sim_scibert_title",
          "or_cos_sim_scibert_title",
          "or_cos_sim_scibert_title",
          "or_cos_sim_scibert_title",
          "or_cos_sim_scibert_title",
          "or_cos_sim_scibert_title",
          "or_cos_sim_scibert_title",
          "or_cos_sim_scibert_title",
          "or_cos_sim_scibert_title",
          "or_cos_sim_scibert_title",
          "or_cos_sim_scibert_title",
          "or_cos_sim_scibert_title",
          "or_cos_sim_scibert_title",
          "or_cos_sim_scibert_title",
          "or_cos_sim_scibert_title",
          "or_cos_sim_scibert_title",
          "or_cos_sim_scibert_title",
          "or_cos_sim_scibert_title",
          "or_cos_sim_scibert_title",
          "or_cos_sim_scibert_title",
          "or_cos_sim_scibert_title",
          "or_cos_sim_scibert_title",
          "or_cos_sim_scibert_title",
          "or_cos_sim_scibert_title",
          "or_cos_sim_scibert_title",
          "or_cos_sim_scibert_title",
          "or_cos_sim_scibert_title",
          "or_cos_sim_scibert_title",
          "or_cos_sim_scibert_title",
          "or_cos_sim_scibert_title",
          "or_cos_sim_scibert_title",
          "or_cos_sim_scibert_title",
          "or_cos_sim_scibert_title",
          "or_cos_sim_scibert_title",
          "or_cos_sim_scibert_title",
          "or_cos_sim_scibert_title",
          "or_cos_sim_scibert_title",
          "or_cos_sim_scibert_title",
          "or_cos_sim_scibert_title",
          "or_cos_sim_scibert_title",
          "or_cos_sim_scibert_title",
          "or_cos_sim_scibert_title",
          "or_cos_sim_cordbert_title",
          "or_cos_sim_cordbert_title",
          "or_cos_sim_cordbert_title",
          "or_cos_sim_cordbert_title",
          "or_cos_sim_cordbert_title",
          "or_cos_sim_cordbert_title",
          "or_cos_sim_cordbert_title",
          "or_cos_sim_cordbert_title",
          "or_cos_sim_cordbert_title",
          "or_cos_sim_cordbert_title",
          "or_cos_sim_cordbert_title",
          "or_cos_sim_cordbert_title",
          "or_cos_sim_cordbert_title",
          "or_cos_sim_cordbert_title",
          "or_cos_sim_cordbert_title",
          "or_cos_sim_cordbert_title",
          "or_cos_sim_cordbert_title",
          "or_cos_sim_cordbert_title",
          "or_cos_sim_cordbert_title",
          "or_cos_sim_cordbert_title",
          "or_cos_sim_cordbert_title",
          "or_cos_sim_cordbert_title",
          "or_cos_sim_cordbert_title",
          "or_cos_sim_cordbert_title",
          "or_cos_sim_cordbert_title",
          "or_cos_sim_cordbert_title",
          "or_cos_sim_cordbert_title",
          "or_cos_sim_cordbert_title",
          "or_cos_sim_cordbert_title",
          "or_cos_sim_cordbert_title",
          "or_cos_sim_cordbert_title",
          "or_cos_sim_cordbert_title",
          "or_cos_sim_cordbert_title",
          "or_cos_sim_cordbert_title",
          "or_cos_sim_cordbert_title",
          "or_cos_sim_cordbert_title",
          "or_cos_sim_cordbert_title",
          "or_cos_sim_cordbert_title",
          "or_cos_sim_cordbert_title",
          "or_cos_sim_cordbert_title",
          "or_cos_sim_cordbert_title",
          "or_cos_sim_cordbert_title",
          "or_cos_sim_cordbert_title",
          "or_cos_sim_cordbert_title",
          "or_cos_sim_cordbert_title",
          "or_cos_sim_cordbert_title",
          "or_cos_sim_cordbert_title",
          "or_cos_sim_cordbert_title",
          "or_cos_sim_cordbert_title",
          "or_cos_sim_cordbert_title"
         ],
         "x0": " ",
         "xaxis": "x",
         "y": [
          0,
          0,
          0,
          0,
          0,
          0,
          0,
          0,
          0,
          0,
          0,
          0,
          0,
          0,
          0,
          0,
          0,
          0,
          0,
          0,
          0,
          0.6309297535714575,
          0,
          0.43067655807339306,
          0,
          0,
          0,
          0,
          0,
          0,
          0.5,
          0,
          0,
          0,
          0,
          0,
          0,
          0,
          0.31546487678572877,
          0.43067655807339306,
          0,
          0,
          0,
          0,
          0,
          0,
          0.3010299956639812,
          0,
          0,
          0,
          0,
          0,
          0,
          0,
          0,
          0,
          0,
          0,
          0,
          0,
          0.3010299956639812,
          0,
          0,
          0,
          0,
          0,
          0,
          0,
          0,
          0,
          0,
          0,
          0,
          0,
          0,
          0.38685280723454163,
          0.38685280723454163,
          0,
          0,
          0,
          0,
          0,
          0,
          0,
          0,
          0,
          0,
          0,
          0,
          0,
          0,
          0,
          0,
          0,
          0.43067655807339306,
          0,
          0,
          0,
          0,
          0,
          0,
          0,
          0,
          0,
          0,
          0.6309297535714575,
          0.5,
          0,
          0,
          0,
          0,
          0,
          0,
          0,
          0,
          0,
          0,
          0,
          0,
          0,
          0,
          0,
          0.5,
          0,
          0,
          0,
          0,
          0,
          0,
          0,
          0,
          0,
          0,
          0,
          0,
          0,
          0,
          0,
          0,
          0,
          0,
          0,
          0,
          0,
          0,
          0,
          0,
          0,
          0,
          0
         ],
         "y0": " ",
         "yaxis": "y"
        }
       ],
       "layout": {
        "boxmode": "group",
        "legend": {
         "tracegroupgap": 0
        },
        "template": {
         "data": {
          "bar": [
           {
            "error_x": {
             "color": "#2a3f5f"
            },
            "error_y": {
             "color": "#2a3f5f"
            },
            "marker": {
             "line": {
              "color": "#E5ECF6",
              "width": 0.5
             }
            },
            "type": "bar"
           }
          ],
          "barpolar": [
           {
            "marker": {
             "line": {
              "color": "#E5ECF6",
              "width": 0.5
             }
            },
            "type": "barpolar"
           }
          ],
          "carpet": [
           {
            "aaxis": {
             "endlinecolor": "#2a3f5f",
             "gridcolor": "white",
             "linecolor": "white",
             "minorgridcolor": "white",
             "startlinecolor": "#2a3f5f"
            },
            "baxis": {
             "endlinecolor": "#2a3f5f",
             "gridcolor": "white",
             "linecolor": "white",
             "minorgridcolor": "white",
             "startlinecolor": "#2a3f5f"
            },
            "type": "carpet"
           }
          ],
          "choropleth": [
           {
            "colorbar": {
             "outlinewidth": 0,
             "ticks": ""
            },
            "type": "choropleth"
           }
          ],
          "contour": [
           {
            "colorbar": {
             "outlinewidth": 0,
             "ticks": ""
            },
            "colorscale": [
             [
              0,
              "#0d0887"
             ],
             [
              0.1111111111111111,
              "#46039f"
             ],
             [
              0.2222222222222222,
              "#7201a8"
             ],
             [
              0.3333333333333333,
              "#9c179e"
             ],
             [
              0.4444444444444444,
              "#bd3786"
             ],
             [
              0.5555555555555556,
              "#d8576b"
             ],
             [
              0.6666666666666666,
              "#ed7953"
             ],
             [
              0.7777777777777778,
              "#fb9f3a"
             ],
             [
              0.8888888888888888,
              "#fdca26"
             ],
             [
              1,
              "#f0f921"
             ]
            ],
            "type": "contour"
           }
          ],
          "contourcarpet": [
           {
            "colorbar": {
             "outlinewidth": 0,
             "ticks": ""
            },
            "type": "contourcarpet"
           }
          ],
          "heatmap": [
           {
            "colorbar": {
             "outlinewidth": 0,
             "ticks": ""
            },
            "colorscale": [
             [
              0,
              "#0d0887"
             ],
             [
              0.1111111111111111,
              "#46039f"
             ],
             [
              0.2222222222222222,
              "#7201a8"
             ],
             [
              0.3333333333333333,
              "#9c179e"
             ],
             [
              0.4444444444444444,
              "#bd3786"
             ],
             [
              0.5555555555555556,
              "#d8576b"
             ],
             [
              0.6666666666666666,
              "#ed7953"
             ],
             [
              0.7777777777777778,
              "#fb9f3a"
             ],
             [
              0.8888888888888888,
              "#fdca26"
             ],
             [
              1,
              "#f0f921"
             ]
            ],
            "type": "heatmap"
           }
          ],
          "heatmapgl": [
           {
            "colorbar": {
             "outlinewidth": 0,
             "ticks": ""
            },
            "colorscale": [
             [
              0,
              "#0d0887"
             ],
             [
              0.1111111111111111,
              "#46039f"
             ],
             [
              0.2222222222222222,
              "#7201a8"
             ],
             [
              0.3333333333333333,
              "#9c179e"
             ],
             [
              0.4444444444444444,
              "#bd3786"
             ],
             [
              0.5555555555555556,
              "#d8576b"
             ],
             [
              0.6666666666666666,
              "#ed7953"
             ],
             [
              0.7777777777777778,
              "#fb9f3a"
             ],
             [
              0.8888888888888888,
              "#fdca26"
             ],
             [
              1,
              "#f0f921"
             ]
            ],
            "type": "heatmapgl"
           }
          ],
          "histogram": [
           {
            "marker": {
             "colorbar": {
              "outlinewidth": 0,
              "ticks": ""
             }
            },
            "type": "histogram"
           }
          ],
          "histogram2d": [
           {
            "colorbar": {
             "outlinewidth": 0,
             "ticks": ""
            },
            "colorscale": [
             [
              0,
              "#0d0887"
             ],
             [
              0.1111111111111111,
              "#46039f"
             ],
             [
              0.2222222222222222,
              "#7201a8"
             ],
             [
              0.3333333333333333,
              "#9c179e"
             ],
             [
              0.4444444444444444,
              "#bd3786"
             ],
             [
              0.5555555555555556,
              "#d8576b"
             ],
             [
              0.6666666666666666,
              "#ed7953"
             ],
             [
              0.7777777777777778,
              "#fb9f3a"
             ],
             [
              0.8888888888888888,
              "#fdca26"
             ],
             [
              1,
              "#f0f921"
             ]
            ],
            "type": "histogram2d"
           }
          ],
          "histogram2dcontour": [
           {
            "colorbar": {
             "outlinewidth": 0,
             "ticks": ""
            },
            "colorscale": [
             [
              0,
              "#0d0887"
             ],
             [
              0.1111111111111111,
              "#46039f"
             ],
             [
              0.2222222222222222,
              "#7201a8"
             ],
             [
              0.3333333333333333,
              "#9c179e"
             ],
             [
              0.4444444444444444,
              "#bd3786"
             ],
             [
              0.5555555555555556,
              "#d8576b"
             ],
             [
              0.6666666666666666,
              "#ed7953"
             ],
             [
              0.7777777777777778,
              "#fb9f3a"
             ],
             [
              0.8888888888888888,
              "#fdca26"
             ],
             [
              1,
              "#f0f921"
             ]
            ],
            "type": "histogram2dcontour"
           }
          ],
          "mesh3d": [
           {
            "colorbar": {
             "outlinewidth": 0,
             "ticks": ""
            },
            "type": "mesh3d"
           }
          ],
          "parcoords": [
           {
            "line": {
             "colorbar": {
              "outlinewidth": 0,
              "ticks": ""
             }
            },
            "type": "parcoords"
           }
          ],
          "pie": [
           {
            "automargin": true,
            "type": "pie"
           }
          ],
          "scatter": [
           {
            "marker": {
             "colorbar": {
              "outlinewidth": 0,
              "ticks": ""
             }
            },
            "type": "scatter"
           }
          ],
          "scatter3d": [
           {
            "line": {
             "colorbar": {
              "outlinewidth": 0,
              "ticks": ""
             }
            },
            "marker": {
             "colorbar": {
              "outlinewidth": 0,
              "ticks": ""
             }
            },
            "type": "scatter3d"
           }
          ],
          "scattercarpet": [
           {
            "marker": {
             "colorbar": {
              "outlinewidth": 0,
              "ticks": ""
             }
            },
            "type": "scattercarpet"
           }
          ],
          "scattergeo": [
           {
            "marker": {
             "colorbar": {
              "outlinewidth": 0,
              "ticks": ""
             }
            },
            "type": "scattergeo"
           }
          ],
          "scattergl": [
           {
            "marker": {
             "colorbar": {
              "outlinewidth": 0,
              "ticks": ""
             }
            },
            "type": "scattergl"
           }
          ],
          "scattermapbox": [
           {
            "marker": {
             "colorbar": {
              "outlinewidth": 0,
              "ticks": ""
             }
            },
            "type": "scattermapbox"
           }
          ],
          "scatterpolar": [
           {
            "marker": {
             "colorbar": {
              "outlinewidth": 0,
              "ticks": ""
             }
            },
            "type": "scatterpolar"
           }
          ],
          "scatterpolargl": [
           {
            "marker": {
             "colorbar": {
              "outlinewidth": 0,
              "ticks": ""
             }
            },
            "type": "scatterpolargl"
           }
          ],
          "scatterternary": [
           {
            "marker": {
             "colorbar": {
              "outlinewidth": 0,
              "ticks": ""
             }
            },
            "type": "scatterternary"
           }
          ],
          "surface": [
           {
            "colorbar": {
             "outlinewidth": 0,
             "ticks": ""
            },
            "colorscale": [
             [
              0,
              "#0d0887"
             ],
             [
              0.1111111111111111,
              "#46039f"
             ],
             [
              0.2222222222222222,
              "#7201a8"
             ],
             [
              0.3333333333333333,
              "#9c179e"
             ],
             [
              0.4444444444444444,
              "#bd3786"
             ],
             [
              0.5555555555555556,
              "#d8576b"
             ],
             [
              0.6666666666666666,
              "#ed7953"
             ],
             [
              0.7777777777777778,
              "#fb9f3a"
             ],
             [
              0.8888888888888888,
              "#fdca26"
             ],
             [
              1,
              "#f0f921"
             ]
            ],
            "type": "surface"
           }
          ],
          "table": [
           {
            "cells": {
             "fill": {
              "color": "#EBF0F8"
             },
             "line": {
              "color": "white"
             }
            },
            "header": {
             "fill": {
              "color": "#C8D4E3"
             },
             "line": {
              "color": "white"
             }
            },
            "type": "table"
           }
          ]
         },
         "layout": {
          "annotationdefaults": {
           "arrowcolor": "#2a3f5f",
           "arrowhead": 0,
           "arrowwidth": 1
          },
          "coloraxis": {
           "colorbar": {
            "outlinewidth": 0,
            "ticks": ""
           }
          },
          "colorscale": {
           "diverging": [
            [
             0,
             "#8e0152"
            ],
            [
             0.1,
             "#c51b7d"
            ],
            [
             0.2,
             "#de77ae"
            ],
            [
             0.3,
             "#f1b6da"
            ],
            [
             0.4,
             "#fde0ef"
            ],
            [
             0.5,
             "#f7f7f7"
            ],
            [
             0.6,
             "#e6f5d0"
            ],
            [
             0.7,
             "#b8e186"
            ],
            [
             0.8,
             "#7fbc41"
            ],
            [
             0.9,
             "#4d9221"
            ],
            [
             1,
             "#276419"
            ]
           ],
           "sequential": [
            [
             0,
             "#0d0887"
            ],
            [
             0.1111111111111111,
             "#46039f"
            ],
            [
             0.2222222222222222,
             "#7201a8"
            ],
            [
             0.3333333333333333,
             "#9c179e"
            ],
            [
             0.4444444444444444,
             "#bd3786"
            ],
            [
             0.5555555555555556,
             "#d8576b"
            ],
            [
             0.6666666666666666,
             "#ed7953"
            ],
            [
             0.7777777777777778,
             "#fb9f3a"
            ],
            [
             0.8888888888888888,
             "#fdca26"
            ],
            [
             1,
             "#f0f921"
            ]
           ],
           "sequentialminus": [
            [
             0,
             "#0d0887"
            ],
            [
             0.1111111111111111,
             "#46039f"
            ],
            [
             0.2222222222222222,
             "#7201a8"
            ],
            [
             0.3333333333333333,
             "#9c179e"
            ],
            [
             0.4444444444444444,
             "#bd3786"
            ],
            [
             0.5555555555555556,
             "#d8576b"
            ],
            [
             0.6666666666666666,
             "#ed7953"
            ],
            [
             0.7777777777777778,
             "#fb9f3a"
            ],
            [
             0.8888888888888888,
             "#fdca26"
            ],
            [
             1,
             "#f0f921"
            ]
           ]
          },
          "colorway": [
           "#636efa",
           "#EF553B",
           "#00cc96",
           "#ab63fa",
           "#FFA15A",
           "#19d3f3",
           "#FF6692",
           "#B6E880",
           "#FF97FF",
           "#FECB52"
          ],
          "font": {
           "color": "#2a3f5f"
          },
          "geo": {
           "bgcolor": "white",
           "lakecolor": "white",
           "landcolor": "#E5ECF6",
           "showlakes": true,
           "showland": true,
           "subunitcolor": "white"
          },
          "hoverlabel": {
           "align": "left"
          },
          "hovermode": "closest",
          "mapbox": {
           "style": "light"
          },
          "paper_bgcolor": "white",
          "plot_bgcolor": "#E5ECF6",
          "polar": {
           "angularaxis": {
            "gridcolor": "white",
            "linecolor": "white",
            "ticks": ""
           },
           "bgcolor": "#E5ECF6",
           "radialaxis": {
            "gridcolor": "white",
            "linecolor": "white",
            "ticks": ""
           }
          },
          "scene": {
           "xaxis": {
            "backgroundcolor": "#E5ECF6",
            "gridcolor": "white",
            "gridwidth": 2,
            "linecolor": "white",
            "showbackground": true,
            "ticks": "",
            "zerolinecolor": "white"
           },
           "yaxis": {
            "backgroundcolor": "#E5ECF6",
            "gridcolor": "white",
            "gridwidth": 2,
            "linecolor": "white",
            "showbackground": true,
            "ticks": "",
            "zerolinecolor": "white"
           },
           "zaxis": {
            "backgroundcolor": "#E5ECF6",
            "gridcolor": "white",
            "gridwidth": 2,
            "linecolor": "white",
            "showbackground": true,
            "ticks": "",
            "zerolinecolor": "white"
           }
          },
          "shapedefaults": {
           "line": {
            "color": "#2a3f5f"
           }
          },
          "ternary": {
           "aaxis": {
            "gridcolor": "white",
            "linecolor": "white",
            "ticks": ""
           },
           "baxis": {
            "gridcolor": "white",
            "linecolor": "white",
            "ticks": ""
           },
           "bgcolor": "#E5ECF6",
           "caxis": {
            "gridcolor": "white",
            "linecolor": "white",
            "ticks": ""
           }
          },
          "title": {
           "x": 0.05
          },
          "xaxis": {
           "automargin": true,
           "gridcolor": "white",
           "linecolor": "white",
           "ticks": "",
           "title": {
            "standoff": 15
           },
           "zerolinecolor": "white",
           "zerolinewidth": 2
          },
          "yaxis": {
           "automargin": true,
           "gridcolor": "white",
           "linecolor": "white",
           "ticks": "",
           "title": {
            "standoff": 15
           },
           "zerolinecolor": "white",
           "zerolinewidth": 2
          }
         }
        },
        "title": {
         "text": "Ndgc @ 10"
        },
        "xaxis": {
         "anchor": "y",
         "domain": [
          0,
          1
         ],
         "title": {
          "text": "query_model"
         }
        },
        "yaxis": {
         "anchor": "x",
         "domain": [
          0,
          1
         ],
         "title": {
          "text": "value"
         }
        }
       }
      },
      "text/html": [
       "<div>\n",
       "        \n",
       "        \n",
       "            <div id=\"ac4af566-0fd4-4685-a9f4-8485f4bcc8a6\" class=\"plotly-graph-div\" style=\"height:525px; width:100%;\"></div>\n",
       "            <script type=\"text/javascript\">\n",
       "                require([\"plotly\"], function(Plotly) {\n",
       "                    window.PLOTLYENV=window.PLOTLYENV || {};\n",
       "                    \n",
       "                if (document.getElementById(\"ac4af566-0fd4-4685-a9f4-8485f4bcc8a6\")) {\n",
       "                    Plotly.newPlot(\n",
       "                        'ac4af566-0fd4-4685-a9f4-8485f4bcc8a6',\n",
       "                        [{\"alignmentgroup\": \"True\", \"boxpoints\": \"all\", \"hovertemplate\": \"query_model=%{x}<br>value=%{y}<extra></extra>\", \"legendgroup\": \"\", \"marker\": {\"color\": \"#636efa\"}, \"name\": \"\", \"notched\": false, \"offsetgroup\": \"\", \"orientation\": \"v\", \"showlegend\": false, \"type\": \"box\", \"x\": [\"or_cos_sim_bert_title\", \"or_cos_sim_bert_title\", \"or_cos_sim_bert_title\", \"or_cos_sim_bert_title\", \"or_cos_sim_bert_title\", \"or_cos_sim_bert_title\", \"or_cos_sim_bert_title\", \"or_cos_sim_bert_title\", \"or_cos_sim_bert_title\", \"or_cos_sim_bert_title\", \"or_cos_sim_bert_title\", \"or_cos_sim_bert_title\", \"or_cos_sim_bert_title\", \"or_cos_sim_bert_title\", \"or_cos_sim_bert_title\", \"or_cos_sim_bert_title\", \"or_cos_sim_bert_title\", \"or_cos_sim_bert_title\", \"or_cos_sim_bert_title\", \"or_cos_sim_bert_title\", \"or_cos_sim_bert_title\", \"or_cos_sim_bert_title\", \"or_cos_sim_bert_title\", \"or_cos_sim_bert_title\", \"or_cos_sim_bert_title\", \"or_cos_sim_bert_title\", \"or_cos_sim_bert_title\", \"or_cos_sim_bert_title\", \"or_cos_sim_bert_title\", \"or_cos_sim_bert_title\", \"or_cos_sim_bert_title\", \"or_cos_sim_bert_title\", \"or_cos_sim_bert_title\", \"or_cos_sim_bert_title\", \"or_cos_sim_bert_title\", \"or_cos_sim_bert_title\", \"or_cos_sim_bert_title\", \"or_cos_sim_bert_title\", \"or_cos_sim_bert_title\", \"or_cos_sim_bert_title\", \"or_cos_sim_bert_title\", \"or_cos_sim_bert_title\", \"or_cos_sim_bert_title\", \"or_cos_sim_bert_title\", \"or_cos_sim_bert_title\", \"or_cos_sim_bert_title\", \"or_cos_sim_bert_title\", \"or_cos_sim_bert_title\", \"or_cos_sim_bert_title\", \"or_cos_sim_bert_title\", \"or_cos_sim_scibert_title\", \"or_cos_sim_scibert_title\", \"or_cos_sim_scibert_title\", \"or_cos_sim_scibert_title\", \"or_cos_sim_scibert_title\", \"or_cos_sim_scibert_title\", \"or_cos_sim_scibert_title\", \"or_cos_sim_scibert_title\", \"or_cos_sim_scibert_title\", \"or_cos_sim_scibert_title\", \"or_cos_sim_scibert_title\", \"or_cos_sim_scibert_title\", \"or_cos_sim_scibert_title\", \"or_cos_sim_scibert_title\", \"or_cos_sim_scibert_title\", \"or_cos_sim_scibert_title\", \"or_cos_sim_scibert_title\", \"or_cos_sim_scibert_title\", \"or_cos_sim_scibert_title\", \"or_cos_sim_scibert_title\", \"or_cos_sim_scibert_title\", \"or_cos_sim_scibert_title\", \"or_cos_sim_scibert_title\", \"or_cos_sim_scibert_title\", \"or_cos_sim_scibert_title\", \"or_cos_sim_scibert_title\", \"or_cos_sim_scibert_title\", \"or_cos_sim_scibert_title\", \"or_cos_sim_scibert_title\", \"or_cos_sim_scibert_title\", \"or_cos_sim_scibert_title\", \"or_cos_sim_scibert_title\", \"or_cos_sim_scibert_title\", \"or_cos_sim_scibert_title\", \"or_cos_sim_scibert_title\", \"or_cos_sim_scibert_title\", \"or_cos_sim_scibert_title\", \"or_cos_sim_scibert_title\", \"or_cos_sim_scibert_title\", \"or_cos_sim_scibert_title\", \"or_cos_sim_scibert_title\", \"or_cos_sim_scibert_title\", \"or_cos_sim_scibert_title\", \"or_cos_sim_scibert_title\", \"or_cos_sim_scibert_title\", \"or_cos_sim_scibert_title\", \"or_cos_sim_scibert_title\", \"or_cos_sim_scibert_title\", \"or_cos_sim_scibert_title\", \"or_cos_sim_scibert_title\", \"or_cos_sim_cordbert_title\", \"or_cos_sim_cordbert_title\", \"or_cos_sim_cordbert_title\", \"or_cos_sim_cordbert_title\", \"or_cos_sim_cordbert_title\", \"or_cos_sim_cordbert_title\", \"or_cos_sim_cordbert_title\", \"or_cos_sim_cordbert_title\", \"or_cos_sim_cordbert_title\", \"or_cos_sim_cordbert_title\", \"or_cos_sim_cordbert_title\", \"or_cos_sim_cordbert_title\", \"or_cos_sim_cordbert_title\", \"or_cos_sim_cordbert_title\", \"or_cos_sim_cordbert_title\", \"or_cos_sim_cordbert_title\", \"or_cos_sim_cordbert_title\", \"or_cos_sim_cordbert_title\", \"or_cos_sim_cordbert_title\", \"or_cos_sim_cordbert_title\", \"or_cos_sim_cordbert_title\", \"or_cos_sim_cordbert_title\", \"or_cos_sim_cordbert_title\", \"or_cos_sim_cordbert_title\", \"or_cos_sim_cordbert_title\", \"or_cos_sim_cordbert_title\", \"or_cos_sim_cordbert_title\", \"or_cos_sim_cordbert_title\", \"or_cos_sim_cordbert_title\", \"or_cos_sim_cordbert_title\", \"or_cos_sim_cordbert_title\", \"or_cos_sim_cordbert_title\", \"or_cos_sim_cordbert_title\", \"or_cos_sim_cordbert_title\", \"or_cos_sim_cordbert_title\", \"or_cos_sim_cordbert_title\", \"or_cos_sim_cordbert_title\", \"or_cos_sim_cordbert_title\", \"or_cos_sim_cordbert_title\", \"or_cos_sim_cordbert_title\", \"or_cos_sim_cordbert_title\", \"or_cos_sim_cordbert_title\", \"or_cos_sim_cordbert_title\", \"or_cos_sim_cordbert_title\", \"or_cos_sim_cordbert_title\", \"or_cos_sim_cordbert_title\", \"or_cos_sim_cordbert_title\", \"or_cos_sim_cordbert_title\", \"or_cos_sim_cordbert_title\", \"or_cos_sim_cordbert_title\"], \"x0\": \" \", \"xaxis\": \"x\", \"y\": [0.0, 0.0, 0.0, 0.0, 0.0, 0.0, 0.0, 0.0, 0.0, 0.0, 0.0, 0.0, 0.0, 0.0, 0.0, 0.0, 0.0, 0.0, 0.0, 0.0, 0.0, 0.6309297535714575, 0.0, 0.43067655807339306, 0.0, 0.0, 0.0, 0.0, 0.0, 0.0, 0.5, 0.0, 0.0, 0.0, 0.0, 0.0, 0.0, 0.0, 0.31546487678572877, 0.43067655807339306, 0.0, 0.0, 0.0, 0.0, 0.0, 0.0, 0.3010299956639812, 0.0, 0.0, 0.0, 0.0, 0.0, 0.0, 0.0, 0.0, 0.0, 0.0, 0.0, 0.0, 0.0, 0.3010299956639812, 0.0, 0.0, 0.0, 0.0, 0.0, 0.0, 0.0, 0.0, 0.0, 0.0, 0.0, 0.0, 0.0, 0.0, 0.38685280723454163, 0.38685280723454163, 0.0, 0.0, 0.0, 0.0, 0.0, 0.0, 0.0, 0.0, 0.0, 0.0, 0.0, 0.0, 0.0, 0.0, 0.0, 0.0, 0.0, 0.43067655807339306, 0.0, 0.0, 0.0, 0.0, 0.0, 0.0, 0.0, 0.0, 0.0, 0.0, 0.6309297535714575, 0.5, 0.0, 0.0, 0.0, 0.0, 0.0, 0.0, 0.0, 0.0, 0.0, 0.0, 0.0, 0.0, 0.0, 0.0, 0.0, 0.5, 0.0, 0.0, 0.0, 0.0, 0.0, 0.0, 0.0, 0.0, 0.0, 0.0, 0.0, 0.0, 0.0, 0.0, 0.0, 0.0, 0.0, 0.0, 0.0, 0.0, 0.0, 0.0, 0.0, 0.0, 0.0, 0.0, 0.0], \"y0\": \" \", \"yaxis\": \"y\"}],\n",
       "                        {\"boxmode\": \"group\", \"legend\": {\"tracegroupgap\": 0}, \"template\": {\"data\": {\"bar\": [{\"error_x\": {\"color\": \"#2a3f5f\"}, \"error_y\": {\"color\": \"#2a3f5f\"}, \"marker\": {\"line\": {\"color\": \"#E5ECF6\", \"width\": 0.5}}, \"type\": \"bar\"}], \"barpolar\": [{\"marker\": {\"line\": {\"color\": \"#E5ECF6\", \"width\": 0.5}}, \"type\": \"barpolar\"}], \"carpet\": [{\"aaxis\": {\"endlinecolor\": \"#2a3f5f\", \"gridcolor\": \"white\", \"linecolor\": \"white\", \"minorgridcolor\": \"white\", \"startlinecolor\": \"#2a3f5f\"}, \"baxis\": {\"endlinecolor\": \"#2a3f5f\", \"gridcolor\": \"white\", \"linecolor\": \"white\", \"minorgridcolor\": \"white\", \"startlinecolor\": \"#2a3f5f\"}, \"type\": \"carpet\"}], \"choropleth\": [{\"colorbar\": {\"outlinewidth\": 0, \"ticks\": \"\"}, \"type\": \"choropleth\"}], \"contour\": [{\"colorbar\": {\"outlinewidth\": 0, \"ticks\": \"\"}, \"colorscale\": [[0.0, \"#0d0887\"], [0.1111111111111111, \"#46039f\"], [0.2222222222222222, \"#7201a8\"], [0.3333333333333333, \"#9c179e\"], [0.4444444444444444, \"#bd3786\"], [0.5555555555555556, \"#d8576b\"], [0.6666666666666666, \"#ed7953\"], [0.7777777777777778, \"#fb9f3a\"], [0.8888888888888888, \"#fdca26\"], [1.0, \"#f0f921\"]], \"type\": \"contour\"}], \"contourcarpet\": [{\"colorbar\": {\"outlinewidth\": 0, \"ticks\": \"\"}, \"type\": \"contourcarpet\"}], \"heatmap\": [{\"colorbar\": {\"outlinewidth\": 0, \"ticks\": \"\"}, \"colorscale\": [[0.0, \"#0d0887\"], [0.1111111111111111, \"#46039f\"], [0.2222222222222222, \"#7201a8\"], [0.3333333333333333, \"#9c179e\"], [0.4444444444444444, \"#bd3786\"], [0.5555555555555556, \"#d8576b\"], [0.6666666666666666, \"#ed7953\"], [0.7777777777777778, \"#fb9f3a\"], [0.8888888888888888, \"#fdca26\"], [1.0, \"#f0f921\"]], \"type\": \"heatmap\"}], \"heatmapgl\": [{\"colorbar\": {\"outlinewidth\": 0, \"ticks\": \"\"}, \"colorscale\": [[0.0, \"#0d0887\"], [0.1111111111111111, \"#46039f\"], [0.2222222222222222, \"#7201a8\"], [0.3333333333333333, \"#9c179e\"], [0.4444444444444444, \"#bd3786\"], [0.5555555555555556, \"#d8576b\"], [0.6666666666666666, \"#ed7953\"], [0.7777777777777778, \"#fb9f3a\"], [0.8888888888888888, \"#fdca26\"], [1.0, \"#f0f921\"]], \"type\": \"heatmapgl\"}], \"histogram\": [{\"marker\": {\"colorbar\": {\"outlinewidth\": 0, \"ticks\": \"\"}}, \"type\": \"histogram\"}], \"histogram2d\": [{\"colorbar\": {\"outlinewidth\": 0, \"ticks\": \"\"}, \"colorscale\": [[0.0, \"#0d0887\"], [0.1111111111111111, \"#46039f\"], [0.2222222222222222, \"#7201a8\"], [0.3333333333333333, \"#9c179e\"], [0.4444444444444444, \"#bd3786\"], [0.5555555555555556, \"#d8576b\"], [0.6666666666666666, \"#ed7953\"], [0.7777777777777778, \"#fb9f3a\"], [0.8888888888888888, \"#fdca26\"], [1.0, \"#f0f921\"]], \"type\": \"histogram2d\"}], \"histogram2dcontour\": [{\"colorbar\": {\"outlinewidth\": 0, \"ticks\": \"\"}, \"colorscale\": [[0.0, \"#0d0887\"], [0.1111111111111111, \"#46039f\"], [0.2222222222222222, \"#7201a8\"], [0.3333333333333333, \"#9c179e\"], [0.4444444444444444, \"#bd3786\"], [0.5555555555555556, \"#d8576b\"], [0.6666666666666666, \"#ed7953\"], [0.7777777777777778, \"#fb9f3a\"], [0.8888888888888888, \"#fdca26\"], [1.0, \"#f0f921\"]], \"type\": \"histogram2dcontour\"}], \"mesh3d\": [{\"colorbar\": {\"outlinewidth\": 0, \"ticks\": \"\"}, \"type\": \"mesh3d\"}], \"parcoords\": [{\"line\": {\"colorbar\": {\"outlinewidth\": 0, \"ticks\": \"\"}}, \"type\": \"parcoords\"}], \"pie\": [{\"automargin\": true, \"type\": \"pie\"}], \"scatter\": [{\"marker\": {\"colorbar\": {\"outlinewidth\": 0, \"ticks\": \"\"}}, \"type\": \"scatter\"}], \"scatter3d\": [{\"line\": {\"colorbar\": {\"outlinewidth\": 0, \"ticks\": \"\"}}, \"marker\": {\"colorbar\": {\"outlinewidth\": 0, \"ticks\": \"\"}}, \"type\": \"scatter3d\"}], \"scattercarpet\": [{\"marker\": {\"colorbar\": {\"outlinewidth\": 0, \"ticks\": \"\"}}, \"type\": \"scattercarpet\"}], \"scattergeo\": [{\"marker\": {\"colorbar\": {\"outlinewidth\": 0, \"ticks\": \"\"}}, \"type\": \"scattergeo\"}], \"scattergl\": [{\"marker\": {\"colorbar\": {\"outlinewidth\": 0, \"ticks\": \"\"}}, \"type\": \"scattergl\"}], \"scattermapbox\": [{\"marker\": {\"colorbar\": {\"outlinewidth\": 0, \"ticks\": \"\"}}, \"type\": \"scattermapbox\"}], \"scatterpolar\": [{\"marker\": {\"colorbar\": {\"outlinewidth\": 0, \"ticks\": \"\"}}, \"type\": \"scatterpolar\"}], \"scatterpolargl\": [{\"marker\": {\"colorbar\": {\"outlinewidth\": 0, \"ticks\": \"\"}}, \"type\": \"scatterpolargl\"}], \"scatterternary\": [{\"marker\": {\"colorbar\": {\"outlinewidth\": 0, \"ticks\": \"\"}}, \"type\": \"scatterternary\"}], \"surface\": [{\"colorbar\": {\"outlinewidth\": 0, \"ticks\": \"\"}, \"colorscale\": [[0.0, \"#0d0887\"], [0.1111111111111111, \"#46039f\"], [0.2222222222222222, \"#7201a8\"], [0.3333333333333333, \"#9c179e\"], [0.4444444444444444, \"#bd3786\"], [0.5555555555555556, \"#d8576b\"], [0.6666666666666666, \"#ed7953\"], [0.7777777777777778, \"#fb9f3a\"], [0.8888888888888888, \"#fdca26\"], [1.0, \"#f0f921\"]], \"type\": \"surface\"}], \"table\": [{\"cells\": {\"fill\": {\"color\": \"#EBF0F8\"}, \"line\": {\"color\": \"white\"}}, \"header\": {\"fill\": {\"color\": \"#C8D4E3\"}, \"line\": {\"color\": \"white\"}}, \"type\": \"table\"}]}, \"layout\": {\"annotationdefaults\": {\"arrowcolor\": \"#2a3f5f\", \"arrowhead\": 0, \"arrowwidth\": 1}, \"coloraxis\": {\"colorbar\": {\"outlinewidth\": 0, \"ticks\": \"\"}}, \"colorscale\": {\"diverging\": [[0, \"#8e0152\"], [0.1, \"#c51b7d\"], [0.2, \"#de77ae\"], [0.3, \"#f1b6da\"], [0.4, \"#fde0ef\"], [0.5, \"#f7f7f7\"], [0.6, \"#e6f5d0\"], [0.7, \"#b8e186\"], [0.8, \"#7fbc41\"], [0.9, \"#4d9221\"], [1, \"#276419\"]], \"sequential\": [[0.0, \"#0d0887\"], [0.1111111111111111, \"#46039f\"], [0.2222222222222222, \"#7201a8\"], [0.3333333333333333, \"#9c179e\"], [0.4444444444444444, \"#bd3786\"], [0.5555555555555556, \"#d8576b\"], [0.6666666666666666, \"#ed7953\"], [0.7777777777777778, \"#fb9f3a\"], [0.8888888888888888, \"#fdca26\"], [1.0, \"#f0f921\"]], \"sequentialminus\": [[0.0, \"#0d0887\"], [0.1111111111111111, \"#46039f\"], [0.2222222222222222, \"#7201a8\"], [0.3333333333333333, \"#9c179e\"], [0.4444444444444444, \"#bd3786\"], [0.5555555555555556, \"#d8576b\"], [0.6666666666666666, \"#ed7953\"], [0.7777777777777778, \"#fb9f3a\"], [0.8888888888888888, \"#fdca26\"], [1.0, \"#f0f921\"]]}, \"colorway\": [\"#636efa\", \"#EF553B\", \"#00cc96\", \"#ab63fa\", \"#FFA15A\", \"#19d3f3\", \"#FF6692\", \"#B6E880\", \"#FF97FF\", \"#FECB52\"], \"font\": {\"color\": \"#2a3f5f\"}, \"geo\": {\"bgcolor\": \"white\", \"lakecolor\": \"white\", \"landcolor\": \"#E5ECF6\", \"showlakes\": true, \"showland\": true, \"subunitcolor\": \"white\"}, \"hoverlabel\": {\"align\": \"left\"}, \"hovermode\": \"closest\", \"mapbox\": {\"style\": \"light\"}, \"paper_bgcolor\": \"white\", \"plot_bgcolor\": \"#E5ECF6\", \"polar\": {\"angularaxis\": {\"gridcolor\": \"white\", \"linecolor\": \"white\", \"ticks\": \"\"}, \"bgcolor\": \"#E5ECF6\", \"radialaxis\": {\"gridcolor\": \"white\", \"linecolor\": \"white\", \"ticks\": \"\"}}, \"scene\": {\"xaxis\": {\"backgroundcolor\": \"#E5ECF6\", \"gridcolor\": \"white\", \"gridwidth\": 2, \"linecolor\": \"white\", \"showbackground\": true, \"ticks\": \"\", \"zerolinecolor\": \"white\"}, \"yaxis\": {\"backgroundcolor\": \"#E5ECF6\", \"gridcolor\": \"white\", \"gridwidth\": 2, \"linecolor\": \"white\", \"showbackground\": true, \"ticks\": \"\", \"zerolinecolor\": \"white\"}, \"zaxis\": {\"backgroundcolor\": \"#E5ECF6\", \"gridcolor\": \"white\", \"gridwidth\": 2, \"linecolor\": \"white\", \"showbackground\": true, \"ticks\": \"\", \"zerolinecolor\": \"white\"}}, \"shapedefaults\": {\"line\": {\"color\": \"#2a3f5f\"}}, \"ternary\": {\"aaxis\": {\"gridcolor\": \"white\", \"linecolor\": \"white\", \"ticks\": \"\"}, \"baxis\": {\"gridcolor\": \"white\", \"linecolor\": \"white\", \"ticks\": \"\"}, \"bgcolor\": \"#E5ECF6\", \"caxis\": {\"gridcolor\": \"white\", \"linecolor\": \"white\", \"ticks\": \"\"}}, \"title\": {\"x\": 0.05}, \"xaxis\": {\"automargin\": true, \"gridcolor\": \"white\", \"linecolor\": \"white\", \"ticks\": \"\", \"title\": {\"standoff\": 15}, \"zerolinecolor\": \"white\", \"zerolinewidth\": 2}, \"yaxis\": {\"automargin\": true, \"gridcolor\": \"white\", \"linecolor\": \"white\", \"ticks\": \"\", \"title\": {\"standoff\": 15}, \"zerolinecolor\": \"white\", \"zerolinewidth\": 2}}}, \"title\": {\"text\": \"Ndgc @ 10\"}, \"xaxis\": {\"anchor\": \"y\", \"domain\": [0.0, 1.0], \"title\": {\"text\": \"query_model\"}}, \"yaxis\": {\"anchor\": \"x\", \"domain\": [0.0, 1.0], \"title\": {\"text\": \"value\"}}},\n",
       "                        {\"responsive\": true}\n",
       "                    ).then(function(){\n",
       "                            \n",
       "var gd = document.getElementById('ac4af566-0fd4-4685-a9f4-8485f4bcc8a6');\n",
       "var x = new MutationObserver(function (mutations, observer) {{\n",
       "        var display = window.getComputedStyle(gd).display;\n",
       "        if (!display || display === 'none') {{\n",
       "            console.log([gd, 'removed!']);\n",
       "            Plotly.purge(gd);\n",
       "            observer.disconnect();\n",
       "        }}\n",
       "}});\n",
       "\n",
       "// Listen for the removal of the full notebook cells\n",
       "var notebookContainer = gd.closest('#notebook-container');\n",
       "if (notebookContainer) {{\n",
       "    x.observe(notebookContainer, {childList: true});\n",
       "}}\n",
       "\n",
       "// Listen for the clearing of the current output cell\n",
       "var outputEl = gd.closest('.output');\n",
       "if (outputEl) {{\n",
       "    x.observe(outputEl, {childList: true});\n",
       "}}\n",
       "\n",
       "                        })\n",
       "                };\n",
       "                });\n",
       "            </script>\n",
       "        </div>"
      ]
     },
     "metadata": {},
     "output_type": "display_data"
    }
   ],
   "source": [
    "fig = px.box(\n",
    "    metric_values_bert_title[metric_values_bert_title.metric == \"ndcg_10\"],\n",
    "    x=\"query_model\",\n",
    "    y=\"value\",\n",
    "    title=\"Ndgc @ 10\",\n",
    "    points=\"all\"\n",
    ")\n",
    "fig.show()\n"
   ]
  },
  {
   "cell_type": "code",
   "execution_count": null,
   "metadata": {},
   "outputs": [],
   "source": [
    "print(len(labeled_data_question))\n",
    "print(len(labeled_data))"
   ]
  },
  {
   "cell_type": "code",
   "execution_count": null,
   "metadata": {},
   "outputs": [],
   "source": [
    "evaluations = {}\n",
    "for query_model in query_models:\n",
    "    evaluations[query_model] = app.evaluate(\n",
    "        labeled_data = labeled_data,\n",
    "        eval_metrics = eval_metrics,\n",
    "        query_model = query_models[query_model],\n",
    "        id_field = \"id\",\n",
    "        hits = 10\n",
    "    )"
   ]
  },
  {
   "cell_type": "code",
   "execution_count": null,
   "metadata": {},
   "outputs": [],
   "source": [
    "metric_values = []\n",
    "for query_model in query_models:\n",
    "    for metric in eval_metrics:\n",
    "        metric_values.append(\n",
    "            pd.DataFrame(\n",
    "                data={\n",
    "                    \"query_model\": query_model,\n",
    "                    \"metric\": metric.name,\n",
    "                    \"value\": evaluations[query_model][metric.name + \"_value\"].to_list()\n",
    "                }\n",
    "            )\n",
    "        )\n",
    "metric_values_bert_title = pd.concat(metric_values, ignore_index=True)\n",
    "metric_values_bert_title.head()"
   ]
  },
  {
   "cell_type": "code",
   "execution_count": null,
   "metadata": {},
   "outputs": [],
   "source": [
    "metric_values_bert_title.groupby(['query_model', 'metric']).mean()"
   ]
  },
  {
   "cell_type": "code",
   "execution_count": null,
   "metadata": {},
   "outputs": [],
   "source": [
    "fig = px.box(\n",
    "    metric_values_bert_title[metric_values_bert_title.metric == \"ndcg_10\"],\n",
    "    x=\"query_model\",\n",
    "    y=\"value\",\n",
    "    title=\"Ndgc @ 10\",\n",
    "    points=\"all\"\n",
    ")\n",
    "fig.show()"
   ]
  },
  {
   "cell_type": "markdown",
   "metadata": {},
   "source": [
    "### Using ANN"
   ]
  },
  {
   "cell_type": "code",
   "execution_count": null,
   "metadata": {},
   "outputs": [],
   "source": [
    "mean_values = []\n",
    "std_values = []\n",
    "hit = [i*10 for i in range(20)]\n",
    "\n",
    "for h in hit:\n",
    "    model = QueryModel(\n",
    "        query_properties=[QueryRankingFeature(name=\"tensor\", mapping=covidbert_encoder)],\n",
    "        match_phase=ANN(doc_vector=\"title_embedding_cordbert\",\n",
    "                       query_vector=\"tensor\",\n",
    "                       hits=h,\n",
    "                       label=\"ann_title\"),\n",
    "        rank_profile=Ranking(name=\"cos_sim_cordbert_title\")\n",
    "    )\n",
    "    evaluation = app.evaluate(\n",
    "        labeled_data = labeled_data,\n",
    "        eval_metrics = eval_metrics,\n",
    "        query_model = model,\n",
    "        id_field = \"id\",\n",
    "        hits = 10\n",
    "    )\n",
    "    mean = evaluation.mean()\n",
    "    std = evaluation.std()\n",
    "    print(mean)\n",
    "    mean_values.append(mean)\n",
    "    std_values.append(std)\n",
    "    print(\"name: \", h, \"\\t\" , \"ndcg@10 mean value: \", round(mean[\"ndcg_10_value\"],3),\n",
    "         \"\\t ndcg@10 std value: \", round(std[\"ndcg_10_value\"],3))"
   ]
  },
  {
   "cell_type": "markdown",
   "metadata": {},
   "source": [
    "### Abstract"
   ]
  },
  {
   "cell_type": "code",
   "execution_count": null,
   "metadata": {},
   "outputs": [],
   "source": [
    "query_models = {\n",
    "    \"or_cos_sim_bert_abstract\": QueryModel(\n",
    "        query_properties=[QueryRankingFeature(name=\"tensor\", mapping=bert_encoder)],\n",
    "        match_phase = OR(),\n",
    "        rank_profile = Ranking(name=\"cos_sim_bert_abstract\")\n",
    "    ),\n",
    "    \"or_cos_sim_scibert_abstract\": QueryModel(\n",
    "        query_properties=[QueryRankingFeature(name=\"tensor\", mapping=scibert_encoder)],\n",
    "        match_phase = OR(),\n",
    "        rank_profile = Ranking(name=\"cos_sim_scibert_abstract\")\n",
    "    ),\n",
    "     \"or_cos_sim_cordbert_abstract\": QueryModel(\n",
    "        query_properties=[QueryRankingFeature(name=\"tensor\", mapping=covidbert_encoder)],\n",
    "        match_phase = OR(),\n",
    "        rank_profile = Ranking(name=\"cos_sim_cordbert_abstract\")\n",
    "    )\n",
    "}"
   ]
  },
  {
   "cell_type": "code",
   "execution_count": 86,
   "metadata": {},
   "outputs": [],
   "source": [
    "evaluations = {}\n",
    "for query_model in query_models:\n",
    "    evaluations[query_model] = app.evaluate(\n",
    "        labeled_data = labeled_data_exclude,\n",
    "        eval_metrics = eval_metrics,\n",
    "        query_model = query_models[query_model],\n",
    "        id_field = \"id\",\n",
    "        hits = 10\n",
    "    )"
   ]
  },
  {
   "cell_type": "code",
   "execution_count": 87,
   "metadata": {},
   "outputs": [
    {
     "data": {
      "text/html": [
       "<div>\n",
       "<style scoped>\n",
       "    .dataframe tbody tr th:only-of-type {\n",
       "        vertical-align: middle;\n",
       "    }\n",
       "\n",
       "    .dataframe tbody tr th {\n",
       "        vertical-align: top;\n",
       "    }\n",
       "\n",
       "    .dataframe thead th {\n",
       "        text-align: right;\n",
       "    }\n",
       "</style>\n",
       "<table border=\"1\" class=\"dataframe\">\n",
       "  <thead>\n",
       "    <tr style=\"text-align: right;\">\n",
       "      <th></th>\n",
       "      <th>query_model</th>\n",
       "      <th>metric</th>\n",
       "      <th>value</th>\n",
       "    </tr>\n",
       "  </thead>\n",
       "  <tbody>\n",
       "    <tr>\n",
       "      <th>0</th>\n",
       "      <td>cos_sim_cordbert_title</td>\n",
       "      <td>match_ratio</td>\n",
       "      <td>0.743139</td>\n",
       "    </tr>\n",
       "    <tr>\n",
       "      <th>1</th>\n",
       "      <td>cos_sim_cordbert_title</td>\n",
       "      <td>match_ratio</td>\n",
       "      <td>0.983897</td>\n",
       "    </tr>\n",
       "    <tr>\n",
       "      <th>2</th>\n",
       "      <td>cos_sim_cordbert_title</td>\n",
       "      <td>match_ratio</td>\n",
       "      <td>0.808859</td>\n",
       "    </tr>\n",
       "    <tr>\n",
       "      <th>3</th>\n",
       "      <td>cos_sim_cordbert_title</td>\n",
       "      <td>match_ratio</td>\n",
       "      <td>0.989358</td>\n",
       "    </tr>\n",
       "    <tr>\n",
       "      <th>4</th>\n",
       "      <td>cos_sim_cordbert_title</td>\n",
       "      <td>match_ratio</td>\n",
       "      <td>0.929798</td>\n",
       "    </tr>\n",
       "  </tbody>\n",
       "</table>\n",
       "</div>"
      ],
      "text/plain": [
       "              query_model       metric     value\n",
       "0  cos_sim_cordbert_title  match_ratio  0.743139\n",
       "1  cos_sim_cordbert_title  match_ratio  0.983897\n",
       "2  cos_sim_cordbert_title  match_ratio  0.808859\n",
       "3  cos_sim_cordbert_title  match_ratio  0.989358\n",
       "4  cos_sim_cordbert_title  match_ratio  0.929798"
      ]
     },
     "execution_count": 87,
     "metadata": {},
     "output_type": "execute_result"
    }
   ],
   "source": [
    "metric_values = []\n",
    "for query_model in query_models:\n",
    "    for metric in eval_metrics:\n",
    "        metric_values.append(\n",
    "            pd.DataFrame(\n",
    "                data={\n",
    "                    \"query_model\": query_model,\n",
    "                    \"metric\": metric.name,\n",
    "                    \"value\": evaluations[query_model][metric.name + \"_value\"].to_list()\n",
    "                }\n",
    "            )\n",
    "        )\n",
    "metric_values_bert_abstract = pd.concat(metric_values, ignore_index=True)\n",
    "metric_values_bert_abstract.head()"
   ]
  },
  {
   "cell_type": "code",
   "execution_count": 88,
   "metadata": {},
   "outputs": [
    {
     "data": {
      "text/html": [
       "<div>\n",
       "<style scoped>\n",
       "    .dataframe tbody tr th:only-of-type {\n",
       "        vertical-align: middle;\n",
       "    }\n",
       "\n",
       "    .dataframe tbody tr th {\n",
       "        vertical-align: top;\n",
       "    }\n",
       "\n",
       "    .dataframe thead th {\n",
       "        text-align: right;\n",
       "    }\n",
       "</style>\n",
       "<table border=\"1\" class=\"dataframe\">\n",
       "  <thead>\n",
       "    <tr style=\"text-align: right;\">\n",
       "      <th></th>\n",
       "      <th>query_model</th>\n",
       "      <th>metric</th>\n",
       "      <th>value</th>\n",
       "    </tr>\n",
       "  </thead>\n",
       "  <tbody>\n",
       "    <tr>\n",
       "      <th>0</th>\n",
       "      <td>cos_sim_cordbert_title</td>\n",
       "      <td>match_ratio</td>\n",
       "      <td>0.743139</td>\n",
       "    </tr>\n",
       "    <tr>\n",
       "      <th>1</th>\n",
       "      <td>cos_sim_cordbert_title</td>\n",
       "      <td>match_ratio</td>\n",
       "      <td>0.983897</td>\n",
       "    </tr>\n",
       "    <tr>\n",
       "      <th>2</th>\n",
       "      <td>cos_sim_cordbert_title</td>\n",
       "      <td>match_ratio</td>\n",
       "      <td>0.808859</td>\n",
       "    </tr>\n",
       "    <tr>\n",
       "      <th>3</th>\n",
       "      <td>cos_sim_cordbert_title</td>\n",
       "      <td>match_ratio</td>\n",
       "      <td>0.989358</td>\n",
       "    </tr>\n",
       "    <tr>\n",
       "      <th>4</th>\n",
       "      <td>cos_sim_cordbert_title</td>\n",
       "      <td>match_ratio</td>\n",
       "      <td>0.929798</td>\n",
       "    </tr>\n",
       "    <tr>\n",
       "      <th>...</th>\n",
       "      <td>...</td>\n",
       "      <td>...</td>\n",
       "      <td>...</td>\n",
       "    </tr>\n",
       "    <tr>\n",
       "      <th>511</th>\n",
       "      <td>regression_3_class</td>\n",
       "      <td>ndcg_10</td>\n",
       "      <td>0.000000</td>\n",
       "    </tr>\n",
       "    <tr>\n",
       "      <th>512</th>\n",
       "      <td>regression_3_class</td>\n",
       "      <td>ndcg_10</td>\n",
       "      <td>0.000000</td>\n",
       "    </tr>\n",
       "    <tr>\n",
       "      <th>513</th>\n",
       "      <td>regression_3_class</td>\n",
       "      <td>ndcg_10</td>\n",
       "      <td>0.000000</td>\n",
       "    </tr>\n",
       "    <tr>\n",
       "      <th>514</th>\n",
       "      <td>regression_3_class</td>\n",
       "      <td>ndcg_10</td>\n",
       "      <td>0.000000</td>\n",
       "    </tr>\n",
       "    <tr>\n",
       "      <th>515</th>\n",
       "      <td>regression_3_class</td>\n",
       "      <td>ndcg_10</td>\n",
       "      <td>0.000000</td>\n",
       "    </tr>\n",
       "  </tbody>\n",
       "</table>\n",
       "<p>516 rows × 3 columns</p>\n",
       "</div>"
      ],
      "text/plain": [
       "                query_model       metric     value\n",
       "0    cos_sim_cordbert_title  match_ratio  0.743139\n",
       "1    cos_sim_cordbert_title  match_ratio  0.983897\n",
       "2    cos_sim_cordbert_title  match_ratio  0.808859\n",
       "3    cos_sim_cordbert_title  match_ratio  0.989358\n",
       "4    cos_sim_cordbert_title  match_ratio  0.929798\n",
       "..                      ...          ...       ...\n",
       "511      regression_3_class      ndcg_10  0.000000\n",
       "512      regression_3_class      ndcg_10  0.000000\n",
       "513      regression_3_class      ndcg_10  0.000000\n",
       "514      regression_3_class      ndcg_10  0.000000\n",
       "515      regression_3_class      ndcg_10  0.000000\n",
       "\n",
       "[516 rows x 3 columns]"
      ]
     },
     "execution_count": 88,
     "metadata": {},
     "output_type": "execute_result"
    }
   ],
   "source": [
    "metric_values_bert_abstract"
   ]
  },
  {
   "cell_type": "code",
   "execution_count": 90,
   "metadata": {},
   "outputs": [
    {
     "data": {
      "text/html": [
       "<div>\n",
       "<style scoped>\n",
       "    .dataframe tbody tr th:only-of-type {\n",
       "        vertical-align: middle;\n",
       "    }\n",
       "\n",
       "    .dataframe tbody tr th {\n",
       "        vertical-align: top;\n",
       "    }\n",
       "\n",
       "    .dataframe thead th {\n",
       "        text-align: right;\n",
       "    }\n",
       "</style>\n",
       "<table border=\"1\" class=\"dataframe\">\n",
       "  <thead>\n",
       "    <tr style=\"text-align: right;\">\n",
       "      <th></th>\n",
       "      <th></th>\n",
       "      <th>value</th>\n",
       "    </tr>\n",
       "    <tr>\n",
       "      <th>query_model</th>\n",
       "      <th>metric</th>\n",
       "      <th></th>\n",
       "    </tr>\n",
       "  </thead>\n",
       "  <tbody>\n",
       "    <tr>\n",
       "      <th rowspan=\"4\" valign=\"top\">cos_sim_cordbert_title</th>\n",
       "      <th>match_ratio</th>\n",
       "      <td>0.828277</td>\n",
       "    </tr>\n",
       "    <tr>\n",
       "      <th>ndcg_10</th>\n",
       "      <td>0.037929</td>\n",
       "    </tr>\n",
       "    <tr>\n",
       "      <th>recall_10</th>\n",
       "      <td>0.000324</td>\n",
       "    </tr>\n",
       "    <tr>\n",
       "      <th>reciprocal_rank_10</th>\n",
       "      <td>0.186434</td>\n",
       "    </tr>\n",
       "    <tr>\n",
       "      <th rowspan=\"4\" valign=\"top\">regression_2_class</th>\n",
       "      <th>match_ratio</th>\n",
       "      <td>0.828277</td>\n",
       "    </tr>\n",
       "    <tr>\n",
       "      <th>ndcg_10</th>\n",
       "      <td>0.037929</td>\n",
       "    </tr>\n",
       "    <tr>\n",
       "      <th>recall_10</th>\n",
       "      <td>0.000324</td>\n",
       "    </tr>\n",
       "    <tr>\n",
       "      <th>reciprocal_rank_10</th>\n",
       "      <td>0.186434</td>\n",
       "    </tr>\n",
       "    <tr>\n",
       "      <th rowspan=\"4\" valign=\"top\">regression_3_class</th>\n",
       "      <th>match_ratio</th>\n",
       "      <td>0.828277</td>\n",
       "    </tr>\n",
       "    <tr>\n",
       "      <th>ndcg_10</th>\n",
       "      <td>0.037929</td>\n",
       "    </tr>\n",
       "    <tr>\n",
       "      <th>recall_10</th>\n",
       "      <td>0.000324</td>\n",
       "    </tr>\n",
       "    <tr>\n",
       "      <th>reciprocal_rank_10</th>\n",
       "      <td>0.186434</td>\n",
       "    </tr>\n",
       "  </tbody>\n",
       "</table>\n",
       "</div>"
      ],
      "text/plain": [
       "                                              value\n",
       "query_model            metric                      \n",
       "cos_sim_cordbert_title match_ratio         0.828277\n",
       "                       ndcg_10             0.037929\n",
       "                       recall_10           0.000324\n",
       "                       reciprocal_rank_10  0.186434\n",
       "regression_2_class     match_ratio         0.828277\n",
       "                       ndcg_10             0.037929\n",
       "                       recall_10           0.000324\n",
       "                       reciprocal_rank_10  0.186434\n",
       "regression_3_class     match_ratio         0.828277\n",
       "                       ndcg_10             0.037929\n",
       "                       recall_10           0.000324\n",
       "                       reciprocal_rank_10  0.186434"
      ]
     },
     "execution_count": 90,
     "metadata": {},
     "output_type": "execute_result"
    }
   ],
   "source": [
    "metric_values_bert_abstract.groupby(['query_model', 'metric']).mean()"
   ]
  },
  {
   "cell_type": "code",
   "execution_count": 89,
   "metadata": {},
   "outputs": [
    {
     "data": {
      "application/vnd.plotly.v1+json": {
       "config": {
        "plotlyServerURL": "https://plot.ly"
       },
       "data": [
        {
         "alignmentgroup": "True",
         "boxpoints": "all",
         "hovertemplate": "query_model=%{x}<br>value=%{y}<extra></extra>",
         "legendgroup": "",
         "marker": {
          "color": "#636efa"
         },
         "name": "",
         "notched": false,
         "offsetgroup": "",
         "orientation": "v",
         "showlegend": false,
         "type": "box",
         "x": [
          "cos_sim_cordbert_title",
          "cos_sim_cordbert_title",
          "cos_sim_cordbert_title",
          "cos_sim_cordbert_title",
          "cos_sim_cordbert_title",
          "cos_sim_cordbert_title",
          "cos_sim_cordbert_title",
          "cos_sim_cordbert_title",
          "cos_sim_cordbert_title",
          "cos_sim_cordbert_title",
          "cos_sim_cordbert_title",
          "cos_sim_cordbert_title",
          "cos_sim_cordbert_title",
          "cos_sim_cordbert_title",
          "cos_sim_cordbert_title",
          "cos_sim_cordbert_title",
          "cos_sim_cordbert_title",
          "cos_sim_cordbert_title",
          "cos_sim_cordbert_title",
          "cos_sim_cordbert_title",
          "cos_sim_cordbert_title",
          "cos_sim_cordbert_title",
          "cos_sim_cordbert_title",
          "cos_sim_cordbert_title",
          "cos_sim_cordbert_title",
          "cos_sim_cordbert_title",
          "cos_sim_cordbert_title",
          "cos_sim_cordbert_title",
          "cos_sim_cordbert_title",
          "cos_sim_cordbert_title",
          "cos_sim_cordbert_title",
          "cos_sim_cordbert_title",
          "cos_sim_cordbert_title",
          "cos_sim_cordbert_title",
          "cos_sim_cordbert_title",
          "cos_sim_cordbert_title",
          "cos_sim_cordbert_title",
          "cos_sim_cordbert_title",
          "cos_sim_cordbert_title",
          "cos_sim_cordbert_title",
          "cos_sim_cordbert_title",
          "cos_sim_cordbert_title",
          "cos_sim_cordbert_title",
          "regression_2_class",
          "regression_2_class",
          "regression_2_class",
          "regression_2_class",
          "regression_2_class",
          "regression_2_class",
          "regression_2_class",
          "regression_2_class",
          "regression_2_class",
          "regression_2_class",
          "regression_2_class",
          "regression_2_class",
          "regression_2_class",
          "regression_2_class",
          "regression_2_class",
          "regression_2_class",
          "regression_2_class",
          "regression_2_class",
          "regression_2_class",
          "regression_2_class",
          "regression_2_class",
          "regression_2_class",
          "regression_2_class",
          "regression_2_class",
          "regression_2_class",
          "regression_2_class",
          "regression_2_class",
          "regression_2_class",
          "regression_2_class",
          "regression_2_class",
          "regression_2_class",
          "regression_2_class",
          "regression_2_class",
          "regression_2_class",
          "regression_2_class",
          "regression_2_class",
          "regression_2_class",
          "regression_2_class",
          "regression_2_class",
          "regression_2_class",
          "regression_2_class",
          "regression_2_class",
          "regression_2_class",
          "regression_3_class",
          "regression_3_class",
          "regression_3_class",
          "regression_3_class",
          "regression_3_class",
          "regression_3_class",
          "regression_3_class",
          "regression_3_class",
          "regression_3_class",
          "regression_3_class",
          "regression_3_class",
          "regression_3_class",
          "regression_3_class",
          "regression_3_class",
          "regression_3_class",
          "regression_3_class",
          "regression_3_class",
          "regression_3_class",
          "regression_3_class",
          "regression_3_class",
          "regression_3_class",
          "regression_3_class",
          "regression_3_class",
          "regression_3_class",
          "regression_3_class",
          "regression_3_class",
          "regression_3_class",
          "regression_3_class",
          "regression_3_class",
          "regression_3_class",
          "regression_3_class",
          "regression_3_class",
          "regression_3_class",
          "regression_3_class",
          "regression_3_class",
          "regression_3_class",
          "regression_3_class",
          "regression_3_class",
          "regression_3_class",
          "regression_3_class",
          "regression_3_class",
          "regression_3_class",
          "regression_3_class"
         ],
         "x0": " ",
         "xaxis": "x",
         "y": [
          0,
          0,
          0,
          0,
          0.6309297535714575,
          0.5,
          0,
          0,
          0,
          0,
          0,
          0,
          0,
          0,
          0,
          0,
          0,
          0,
          0.5,
          0,
          0,
          0,
          0,
          0,
          0,
          0,
          0,
          0,
          0,
          0,
          0,
          0,
          0,
          0,
          0,
          0,
          0,
          0,
          0,
          0,
          0,
          0,
          0,
          0,
          0,
          0,
          0,
          0.6309297535714575,
          0.5,
          0,
          0,
          0,
          0,
          0,
          0,
          0,
          0,
          0,
          0,
          0,
          0,
          0.5,
          0,
          0,
          0,
          0,
          0,
          0,
          0,
          0,
          0,
          0,
          0,
          0,
          0,
          0,
          0,
          0,
          0,
          0,
          0,
          0,
          0,
          0,
          0,
          0,
          0,
          0,
          0,
          0,
          0.6309297535714575,
          0.5,
          0,
          0,
          0,
          0,
          0,
          0,
          0,
          0,
          0,
          0,
          0,
          0,
          0.5,
          0,
          0,
          0,
          0,
          0,
          0,
          0,
          0,
          0,
          0,
          0,
          0,
          0,
          0,
          0,
          0,
          0,
          0,
          0,
          0,
          0,
          0,
          0,
          0
         ],
         "y0": " ",
         "yaxis": "y"
        }
       ],
       "layout": {
        "boxmode": "group",
        "legend": {
         "tracegroupgap": 0
        },
        "template": {
         "data": {
          "bar": [
           {
            "error_x": {
             "color": "#2a3f5f"
            },
            "error_y": {
             "color": "#2a3f5f"
            },
            "marker": {
             "line": {
              "color": "#E5ECF6",
              "width": 0.5
             }
            },
            "type": "bar"
           }
          ],
          "barpolar": [
           {
            "marker": {
             "line": {
              "color": "#E5ECF6",
              "width": 0.5
             }
            },
            "type": "barpolar"
           }
          ],
          "carpet": [
           {
            "aaxis": {
             "endlinecolor": "#2a3f5f",
             "gridcolor": "white",
             "linecolor": "white",
             "minorgridcolor": "white",
             "startlinecolor": "#2a3f5f"
            },
            "baxis": {
             "endlinecolor": "#2a3f5f",
             "gridcolor": "white",
             "linecolor": "white",
             "minorgridcolor": "white",
             "startlinecolor": "#2a3f5f"
            },
            "type": "carpet"
           }
          ],
          "choropleth": [
           {
            "colorbar": {
             "outlinewidth": 0,
             "ticks": ""
            },
            "type": "choropleth"
           }
          ],
          "contour": [
           {
            "colorbar": {
             "outlinewidth": 0,
             "ticks": ""
            },
            "colorscale": [
             [
              0,
              "#0d0887"
             ],
             [
              0.1111111111111111,
              "#46039f"
             ],
             [
              0.2222222222222222,
              "#7201a8"
             ],
             [
              0.3333333333333333,
              "#9c179e"
             ],
             [
              0.4444444444444444,
              "#bd3786"
             ],
             [
              0.5555555555555556,
              "#d8576b"
             ],
             [
              0.6666666666666666,
              "#ed7953"
             ],
             [
              0.7777777777777778,
              "#fb9f3a"
             ],
             [
              0.8888888888888888,
              "#fdca26"
             ],
             [
              1,
              "#f0f921"
             ]
            ],
            "type": "contour"
           }
          ],
          "contourcarpet": [
           {
            "colorbar": {
             "outlinewidth": 0,
             "ticks": ""
            },
            "type": "contourcarpet"
           }
          ],
          "heatmap": [
           {
            "colorbar": {
             "outlinewidth": 0,
             "ticks": ""
            },
            "colorscale": [
             [
              0,
              "#0d0887"
             ],
             [
              0.1111111111111111,
              "#46039f"
             ],
             [
              0.2222222222222222,
              "#7201a8"
             ],
             [
              0.3333333333333333,
              "#9c179e"
             ],
             [
              0.4444444444444444,
              "#bd3786"
             ],
             [
              0.5555555555555556,
              "#d8576b"
             ],
             [
              0.6666666666666666,
              "#ed7953"
             ],
             [
              0.7777777777777778,
              "#fb9f3a"
             ],
             [
              0.8888888888888888,
              "#fdca26"
             ],
             [
              1,
              "#f0f921"
             ]
            ],
            "type": "heatmap"
           }
          ],
          "heatmapgl": [
           {
            "colorbar": {
             "outlinewidth": 0,
             "ticks": ""
            },
            "colorscale": [
             [
              0,
              "#0d0887"
             ],
             [
              0.1111111111111111,
              "#46039f"
             ],
             [
              0.2222222222222222,
              "#7201a8"
             ],
             [
              0.3333333333333333,
              "#9c179e"
             ],
             [
              0.4444444444444444,
              "#bd3786"
             ],
             [
              0.5555555555555556,
              "#d8576b"
             ],
             [
              0.6666666666666666,
              "#ed7953"
             ],
             [
              0.7777777777777778,
              "#fb9f3a"
             ],
             [
              0.8888888888888888,
              "#fdca26"
             ],
             [
              1,
              "#f0f921"
             ]
            ],
            "type": "heatmapgl"
           }
          ],
          "histogram": [
           {
            "marker": {
             "colorbar": {
              "outlinewidth": 0,
              "ticks": ""
             }
            },
            "type": "histogram"
           }
          ],
          "histogram2d": [
           {
            "colorbar": {
             "outlinewidth": 0,
             "ticks": ""
            },
            "colorscale": [
             [
              0,
              "#0d0887"
             ],
             [
              0.1111111111111111,
              "#46039f"
             ],
             [
              0.2222222222222222,
              "#7201a8"
             ],
             [
              0.3333333333333333,
              "#9c179e"
             ],
             [
              0.4444444444444444,
              "#bd3786"
             ],
             [
              0.5555555555555556,
              "#d8576b"
             ],
             [
              0.6666666666666666,
              "#ed7953"
             ],
             [
              0.7777777777777778,
              "#fb9f3a"
             ],
             [
              0.8888888888888888,
              "#fdca26"
             ],
             [
              1,
              "#f0f921"
             ]
            ],
            "type": "histogram2d"
           }
          ],
          "histogram2dcontour": [
           {
            "colorbar": {
             "outlinewidth": 0,
             "ticks": ""
            },
            "colorscale": [
             [
              0,
              "#0d0887"
             ],
             [
              0.1111111111111111,
              "#46039f"
             ],
             [
              0.2222222222222222,
              "#7201a8"
             ],
             [
              0.3333333333333333,
              "#9c179e"
             ],
             [
              0.4444444444444444,
              "#bd3786"
             ],
             [
              0.5555555555555556,
              "#d8576b"
             ],
             [
              0.6666666666666666,
              "#ed7953"
             ],
             [
              0.7777777777777778,
              "#fb9f3a"
             ],
             [
              0.8888888888888888,
              "#fdca26"
             ],
             [
              1,
              "#f0f921"
             ]
            ],
            "type": "histogram2dcontour"
           }
          ],
          "mesh3d": [
           {
            "colorbar": {
             "outlinewidth": 0,
             "ticks": ""
            },
            "type": "mesh3d"
           }
          ],
          "parcoords": [
           {
            "line": {
             "colorbar": {
              "outlinewidth": 0,
              "ticks": ""
             }
            },
            "type": "parcoords"
           }
          ],
          "pie": [
           {
            "automargin": true,
            "type": "pie"
           }
          ],
          "scatter": [
           {
            "marker": {
             "colorbar": {
              "outlinewidth": 0,
              "ticks": ""
             }
            },
            "type": "scatter"
           }
          ],
          "scatter3d": [
           {
            "line": {
             "colorbar": {
              "outlinewidth": 0,
              "ticks": ""
             }
            },
            "marker": {
             "colorbar": {
              "outlinewidth": 0,
              "ticks": ""
             }
            },
            "type": "scatter3d"
           }
          ],
          "scattercarpet": [
           {
            "marker": {
             "colorbar": {
              "outlinewidth": 0,
              "ticks": ""
             }
            },
            "type": "scattercarpet"
           }
          ],
          "scattergeo": [
           {
            "marker": {
             "colorbar": {
              "outlinewidth": 0,
              "ticks": ""
             }
            },
            "type": "scattergeo"
           }
          ],
          "scattergl": [
           {
            "marker": {
             "colorbar": {
              "outlinewidth": 0,
              "ticks": ""
             }
            },
            "type": "scattergl"
           }
          ],
          "scattermapbox": [
           {
            "marker": {
             "colorbar": {
              "outlinewidth": 0,
              "ticks": ""
             }
            },
            "type": "scattermapbox"
           }
          ],
          "scatterpolar": [
           {
            "marker": {
             "colorbar": {
              "outlinewidth": 0,
              "ticks": ""
             }
            },
            "type": "scatterpolar"
           }
          ],
          "scatterpolargl": [
           {
            "marker": {
             "colorbar": {
              "outlinewidth": 0,
              "ticks": ""
             }
            },
            "type": "scatterpolargl"
           }
          ],
          "scatterternary": [
           {
            "marker": {
             "colorbar": {
              "outlinewidth": 0,
              "ticks": ""
             }
            },
            "type": "scatterternary"
           }
          ],
          "surface": [
           {
            "colorbar": {
             "outlinewidth": 0,
             "ticks": ""
            },
            "colorscale": [
             [
              0,
              "#0d0887"
             ],
             [
              0.1111111111111111,
              "#46039f"
             ],
             [
              0.2222222222222222,
              "#7201a8"
             ],
             [
              0.3333333333333333,
              "#9c179e"
             ],
             [
              0.4444444444444444,
              "#bd3786"
             ],
             [
              0.5555555555555556,
              "#d8576b"
             ],
             [
              0.6666666666666666,
              "#ed7953"
             ],
             [
              0.7777777777777778,
              "#fb9f3a"
             ],
             [
              0.8888888888888888,
              "#fdca26"
             ],
             [
              1,
              "#f0f921"
             ]
            ],
            "type": "surface"
           }
          ],
          "table": [
           {
            "cells": {
             "fill": {
              "color": "#EBF0F8"
             },
             "line": {
              "color": "white"
             }
            },
            "header": {
             "fill": {
              "color": "#C8D4E3"
             },
             "line": {
              "color": "white"
             }
            },
            "type": "table"
           }
          ]
         },
         "layout": {
          "annotationdefaults": {
           "arrowcolor": "#2a3f5f",
           "arrowhead": 0,
           "arrowwidth": 1
          },
          "coloraxis": {
           "colorbar": {
            "outlinewidth": 0,
            "ticks": ""
           }
          },
          "colorscale": {
           "diverging": [
            [
             0,
             "#8e0152"
            ],
            [
             0.1,
             "#c51b7d"
            ],
            [
             0.2,
             "#de77ae"
            ],
            [
             0.3,
             "#f1b6da"
            ],
            [
             0.4,
             "#fde0ef"
            ],
            [
             0.5,
             "#f7f7f7"
            ],
            [
             0.6,
             "#e6f5d0"
            ],
            [
             0.7,
             "#b8e186"
            ],
            [
             0.8,
             "#7fbc41"
            ],
            [
             0.9,
             "#4d9221"
            ],
            [
             1,
             "#276419"
            ]
           ],
           "sequential": [
            [
             0,
             "#0d0887"
            ],
            [
             0.1111111111111111,
             "#46039f"
            ],
            [
             0.2222222222222222,
             "#7201a8"
            ],
            [
             0.3333333333333333,
             "#9c179e"
            ],
            [
             0.4444444444444444,
             "#bd3786"
            ],
            [
             0.5555555555555556,
             "#d8576b"
            ],
            [
             0.6666666666666666,
             "#ed7953"
            ],
            [
             0.7777777777777778,
             "#fb9f3a"
            ],
            [
             0.8888888888888888,
             "#fdca26"
            ],
            [
             1,
             "#f0f921"
            ]
           ],
           "sequentialminus": [
            [
             0,
             "#0d0887"
            ],
            [
             0.1111111111111111,
             "#46039f"
            ],
            [
             0.2222222222222222,
             "#7201a8"
            ],
            [
             0.3333333333333333,
             "#9c179e"
            ],
            [
             0.4444444444444444,
             "#bd3786"
            ],
            [
             0.5555555555555556,
             "#d8576b"
            ],
            [
             0.6666666666666666,
             "#ed7953"
            ],
            [
             0.7777777777777778,
             "#fb9f3a"
            ],
            [
             0.8888888888888888,
             "#fdca26"
            ],
            [
             1,
             "#f0f921"
            ]
           ]
          },
          "colorway": [
           "#636efa",
           "#EF553B",
           "#00cc96",
           "#ab63fa",
           "#FFA15A",
           "#19d3f3",
           "#FF6692",
           "#B6E880",
           "#FF97FF",
           "#FECB52"
          ],
          "font": {
           "color": "#2a3f5f"
          },
          "geo": {
           "bgcolor": "white",
           "lakecolor": "white",
           "landcolor": "#E5ECF6",
           "showlakes": true,
           "showland": true,
           "subunitcolor": "white"
          },
          "hoverlabel": {
           "align": "left"
          },
          "hovermode": "closest",
          "mapbox": {
           "style": "light"
          },
          "paper_bgcolor": "white",
          "plot_bgcolor": "#E5ECF6",
          "polar": {
           "angularaxis": {
            "gridcolor": "white",
            "linecolor": "white",
            "ticks": ""
           },
           "bgcolor": "#E5ECF6",
           "radialaxis": {
            "gridcolor": "white",
            "linecolor": "white",
            "ticks": ""
           }
          },
          "scene": {
           "xaxis": {
            "backgroundcolor": "#E5ECF6",
            "gridcolor": "white",
            "gridwidth": 2,
            "linecolor": "white",
            "showbackground": true,
            "ticks": "",
            "zerolinecolor": "white"
           },
           "yaxis": {
            "backgroundcolor": "#E5ECF6",
            "gridcolor": "white",
            "gridwidth": 2,
            "linecolor": "white",
            "showbackground": true,
            "ticks": "",
            "zerolinecolor": "white"
           },
           "zaxis": {
            "backgroundcolor": "#E5ECF6",
            "gridcolor": "white",
            "gridwidth": 2,
            "linecolor": "white",
            "showbackground": true,
            "ticks": "",
            "zerolinecolor": "white"
           }
          },
          "shapedefaults": {
           "line": {
            "color": "#2a3f5f"
           }
          },
          "ternary": {
           "aaxis": {
            "gridcolor": "white",
            "linecolor": "white",
            "ticks": ""
           },
           "baxis": {
            "gridcolor": "white",
            "linecolor": "white",
            "ticks": ""
           },
           "bgcolor": "#E5ECF6",
           "caxis": {
            "gridcolor": "white",
            "linecolor": "white",
            "ticks": ""
           }
          },
          "title": {
           "x": 0.05
          },
          "xaxis": {
           "automargin": true,
           "gridcolor": "white",
           "linecolor": "white",
           "ticks": "",
           "title": {
            "standoff": 15
           },
           "zerolinecolor": "white",
           "zerolinewidth": 2
          },
          "yaxis": {
           "automargin": true,
           "gridcolor": "white",
           "linecolor": "white",
           "ticks": "",
           "title": {
            "standoff": 15
           },
           "zerolinecolor": "white",
           "zerolinewidth": 2
          }
         }
        },
        "title": {
         "text": "Ndgc @ 10"
        },
        "xaxis": {
         "anchor": "y",
         "domain": [
          0,
          1
         ],
         "title": {
          "text": "query_model"
         }
        },
        "yaxis": {
         "anchor": "x",
         "domain": [
          0,
          1
         ],
         "title": {
          "text": "value"
         }
        }
       }
      },
      "text/html": [
       "<div>\n",
       "        \n",
       "        \n",
       "            <div id=\"490f18c7-22ec-4329-aad2-65c8638fdd52\" class=\"plotly-graph-div\" style=\"height:525px; width:100%;\"></div>\n",
       "            <script type=\"text/javascript\">\n",
       "                require([\"plotly\"], function(Plotly) {\n",
       "                    window.PLOTLYENV=window.PLOTLYENV || {};\n",
       "                    \n",
       "                if (document.getElementById(\"490f18c7-22ec-4329-aad2-65c8638fdd52\")) {\n",
       "                    Plotly.newPlot(\n",
       "                        '490f18c7-22ec-4329-aad2-65c8638fdd52',\n",
       "                        [{\"alignmentgroup\": \"True\", \"boxpoints\": \"all\", \"hovertemplate\": \"query_model=%{x}<br>value=%{y}<extra></extra>\", \"legendgroup\": \"\", \"marker\": {\"color\": \"#636efa\"}, \"name\": \"\", \"notched\": false, \"offsetgroup\": \"\", \"orientation\": \"v\", \"showlegend\": false, \"type\": \"box\", \"x\": [\"cos_sim_cordbert_title\", \"cos_sim_cordbert_title\", \"cos_sim_cordbert_title\", \"cos_sim_cordbert_title\", \"cos_sim_cordbert_title\", \"cos_sim_cordbert_title\", \"cos_sim_cordbert_title\", \"cos_sim_cordbert_title\", \"cos_sim_cordbert_title\", \"cos_sim_cordbert_title\", \"cos_sim_cordbert_title\", \"cos_sim_cordbert_title\", \"cos_sim_cordbert_title\", \"cos_sim_cordbert_title\", \"cos_sim_cordbert_title\", \"cos_sim_cordbert_title\", \"cos_sim_cordbert_title\", \"cos_sim_cordbert_title\", \"cos_sim_cordbert_title\", \"cos_sim_cordbert_title\", \"cos_sim_cordbert_title\", \"cos_sim_cordbert_title\", \"cos_sim_cordbert_title\", \"cos_sim_cordbert_title\", \"cos_sim_cordbert_title\", \"cos_sim_cordbert_title\", \"cos_sim_cordbert_title\", \"cos_sim_cordbert_title\", \"cos_sim_cordbert_title\", \"cos_sim_cordbert_title\", \"cos_sim_cordbert_title\", \"cos_sim_cordbert_title\", \"cos_sim_cordbert_title\", \"cos_sim_cordbert_title\", \"cos_sim_cordbert_title\", \"cos_sim_cordbert_title\", \"cos_sim_cordbert_title\", \"cos_sim_cordbert_title\", \"cos_sim_cordbert_title\", \"cos_sim_cordbert_title\", \"cos_sim_cordbert_title\", \"cos_sim_cordbert_title\", \"cos_sim_cordbert_title\", \"regression_2_class\", \"regression_2_class\", \"regression_2_class\", \"regression_2_class\", \"regression_2_class\", \"regression_2_class\", \"regression_2_class\", \"regression_2_class\", \"regression_2_class\", \"regression_2_class\", \"regression_2_class\", \"regression_2_class\", \"regression_2_class\", \"regression_2_class\", \"regression_2_class\", \"regression_2_class\", \"regression_2_class\", \"regression_2_class\", \"regression_2_class\", \"regression_2_class\", \"regression_2_class\", \"regression_2_class\", \"regression_2_class\", \"regression_2_class\", \"regression_2_class\", \"regression_2_class\", \"regression_2_class\", \"regression_2_class\", \"regression_2_class\", \"regression_2_class\", \"regression_2_class\", \"regression_2_class\", \"regression_2_class\", \"regression_2_class\", \"regression_2_class\", \"regression_2_class\", \"regression_2_class\", \"regression_2_class\", \"regression_2_class\", \"regression_2_class\", \"regression_2_class\", \"regression_2_class\", \"regression_2_class\", \"regression_3_class\", \"regression_3_class\", \"regression_3_class\", \"regression_3_class\", \"regression_3_class\", \"regression_3_class\", \"regression_3_class\", \"regression_3_class\", \"regression_3_class\", \"regression_3_class\", \"regression_3_class\", \"regression_3_class\", \"regression_3_class\", \"regression_3_class\", \"regression_3_class\", \"regression_3_class\", \"regression_3_class\", \"regression_3_class\", \"regression_3_class\", \"regression_3_class\", \"regression_3_class\", \"regression_3_class\", \"regression_3_class\", \"regression_3_class\", \"regression_3_class\", \"regression_3_class\", \"regression_3_class\", \"regression_3_class\", \"regression_3_class\", \"regression_3_class\", \"regression_3_class\", \"regression_3_class\", \"regression_3_class\", \"regression_3_class\", \"regression_3_class\", \"regression_3_class\", \"regression_3_class\", \"regression_3_class\", \"regression_3_class\", \"regression_3_class\", \"regression_3_class\", \"regression_3_class\", \"regression_3_class\"], \"x0\": \" \", \"xaxis\": \"x\", \"y\": [0.0, 0.0, 0.0, 0.0, 0.6309297535714575, 0.5, 0.0, 0.0, 0.0, 0.0, 0.0, 0.0, 0.0, 0.0, 0.0, 0.0, 0.0, 0.0, 0.5, 0.0, 0.0, 0.0, 0.0, 0.0, 0.0, 0.0, 0.0, 0.0, 0.0, 0.0, 0.0, 0.0, 0.0, 0.0, 0.0, 0.0, 0.0, 0.0, 0.0, 0.0, 0.0, 0.0, 0.0, 0.0, 0.0, 0.0, 0.0, 0.6309297535714575, 0.5, 0.0, 0.0, 0.0, 0.0, 0.0, 0.0, 0.0, 0.0, 0.0, 0.0, 0.0, 0.0, 0.5, 0.0, 0.0, 0.0, 0.0, 0.0, 0.0, 0.0, 0.0, 0.0, 0.0, 0.0, 0.0, 0.0, 0.0, 0.0, 0.0, 0.0, 0.0, 0.0, 0.0, 0.0, 0.0, 0.0, 0.0, 0.0, 0.0, 0.0, 0.0, 0.6309297535714575, 0.5, 0.0, 0.0, 0.0, 0.0, 0.0, 0.0, 0.0, 0.0, 0.0, 0.0, 0.0, 0.0, 0.5, 0.0, 0.0, 0.0, 0.0, 0.0, 0.0, 0.0, 0.0, 0.0, 0.0, 0.0, 0.0, 0.0, 0.0, 0.0, 0.0, 0.0, 0.0, 0.0, 0.0, 0.0, 0.0, 0.0, 0.0], \"y0\": \" \", \"yaxis\": \"y\"}],\n",
       "                        {\"boxmode\": \"group\", \"legend\": {\"tracegroupgap\": 0}, \"template\": {\"data\": {\"bar\": [{\"error_x\": {\"color\": \"#2a3f5f\"}, \"error_y\": {\"color\": \"#2a3f5f\"}, \"marker\": {\"line\": {\"color\": \"#E5ECF6\", \"width\": 0.5}}, \"type\": \"bar\"}], \"barpolar\": [{\"marker\": {\"line\": {\"color\": \"#E5ECF6\", \"width\": 0.5}}, \"type\": \"barpolar\"}], \"carpet\": [{\"aaxis\": {\"endlinecolor\": \"#2a3f5f\", \"gridcolor\": \"white\", \"linecolor\": \"white\", \"minorgridcolor\": \"white\", \"startlinecolor\": \"#2a3f5f\"}, \"baxis\": {\"endlinecolor\": \"#2a3f5f\", \"gridcolor\": \"white\", \"linecolor\": \"white\", \"minorgridcolor\": \"white\", \"startlinecolor\": \"#2a3f5f\"}, \"type\": \"carpet\"}], \"choropleth\": [{\"colorbar\": {\"outlinewidth\": 0, \"ticks\": \"\"}, \"type\": \"choropleth\"}], \"contour\": [{\"colorbar\": {\"outlinewidth\": 0, \"ticks\": \"\"}, \"colorscale\": [[0.0, \"#0d0887\"], [0.1111111111111111, \"#46039f\"], [0.2222222222222222, \"#7201a8\"], [0.3333333333333333, \"#9c179e\"], [0.4444444444444444, \"#bd3786\"], [0.5555555555555556, \"#d8576b\"], [0.6666666666666666, \"#ed7953\"], [0.7777777777777778, \"#fb9f3a\"], [0.8888888888888888, \"#fdca26\"], [1.0, \"#f0f921\"]], \"type\": \"contour\"}], \"contourcarpet\": [{\"colorbar\": {\"outlinewidth\": 0, \"ticks\": \"\"}, \"type\": \"contourcarpet\"}], \"heatmap\": [{\"colorbar\": {\"outlinewidth\": 0, \"ticks\": \"\"}, \"colorscale\": [[0.0, \"#0d0887\"], [0.1111111111111111, \"#46039f\"], [0.2222222222222222, \"#7201a8\"], [0.3333333333333333, \"#9c179e\"], [0.4444444444444444, \"#bd3786\"], [0.5555555555555556, \"#d8576b\"], [0.6666666666666666, \"#ed7953\"], [0.7777777777777778, \"#fb9f3a\"], [0.8888888888888888, \"#fdca26\"], [1.0, \"#f0f921\"]], \"type\": \"heatmap\"}], \"heatmapgl\": [{\"colorbar\": {\"outlinewidth\": 0, \"ticks\": \"\"}, \"colorscale\": [[0.0, \"#0d0887\"], [0.1111111111111111, \"#46039f\"], [0.2222222222222222, \"#7201a8\"], [0.3333333333333333, \"#9c179e\"], [0.4444444444444444, \"#bd3786\"], [0.5555555555555556, \"#d8576b\"], [0.6666666666666666, \"#ed7953\"], [0.7777777777777778, \"#fb9f3a\"], [0.8888888888888888, \"#fdca26\"], [1.0, \"#f0f921\"]], \"type\": \"heatmapgl\"}], \"histogram\": [{\"marker\": {\"colorbar\": {\"outlinewidth\": 0, \"ticks\": \"\"}}, \"type\": \"histogram\"}], \"histogram2d\": [{\"colorbar\": {\"outlinewidth\": 0, \"ticks\": \"\"}, \"colorscale\": [[0.0, \"#0d0887\"], [0.1111111111111111, \"#46039f\"], [0.2222222222222222, \"#7201a8\"], [0.3333333333333333, \"#9c179e\"], [0.4444444444444444, \"#bd3786\"], [0.5555555555555556, \"#d8576b\"], [0.6666666666666666, \"#ed7953\"], [0.7777777777777778, \"#fb9f3a\"], [0.8888888888888888, \"#fdca26\"], [1.0, \"#f0f921\"]], \"type\": \"histogram2d\"}], \"histogram2dcontour\": [{\"colorbar\": {\"outlinewidth\": 0, \"ticks\": \"\"}, \"colorscale\": [[0.0, \"#0d0887\"], [0.1111111111111111, \"#46039f\"], [0.2222222222222222, \"#7201a8\"], [0.3333333333333333, \"#9c179e\"], [0.4444444444444444, \"#bd3786\"], [0.5555555555555556, \"#d8576b\"], [0.6666666666666666, \"#ed7953\"], [0.7777777777777778, \"#fb9f3a\"], [0.8888888888888888, \"#fdca26\"], [1.0, \"#f0f921\"]], \"type\": \"histogram2dcontour\"}], \"mesh3d\": [{\"colorbar\": {\"outlinewidth\": 0, \"ticks\": \"\"}, \"type\": \"mesh3d\"}], \"parcoords\": [{\"line\": {\"colorbar\": {\"outlinewidth\": 0, \"ticks\": \"\"}}, \"type\": \"parcoords\"}], \"pie\": [{\"automargin\": true, \"type\": \"pie\"}], \"scatter\": [{\"marker\": {\"colorbar\": {\"outlinewidth\": 0, \"ticks\": \"\"}}, \"type\": \"scatter\"}], \"scatter3d\": [{\"line\": {\"colorbar\": {\"outlinewidth\": 0, \"ticks\": \"\"}}, \"marker\": {\"colorbar\": {\"outlinewidth\": 0, \"ticks\": \"\"}}, \"type\": \"scatter3d\"}], \"scattercarpet\": [{\"marker\": {\"colorbar\": {\"outlinewidth\": 0, \"ticks\": \"\"}}, \"type\": \"scattercarpet\"}], \"scattergeo\": [{\"marker\": {\"colorbar\": {\"outlinewidth\": 0, \"ticks\": \"\"}}, \"type\": \"scattergeo\"}], \"scattergl\": [{\"marker\": {\"colorbar\": {\"outlinewidth\": 0, \"ticks\": \"\"}}, \"type\": \"scattergl\"}], \"scattermapbox\": [{\"marker\": {\"colorbar\": {\"outlinewidth\": 0, \"ticks\": \"\"}}, \"type\": \"scattermapbox\"}], \"scatterpolar\": [{\"marker\": {\"colorbar\": {\"outlinewidth\": 0, \"ticks\": \"\"}}, \"type\": \"scatterpolar\"}], \"scatterpolargl\": [{\"marker\": {\"colorbar\": {\"outlinewidth\": 0, \"ticks\": \"\"}}, \"type\": \"scatterpolargl\"}], \"scatterternary\": [{\"marker\": {\"colorbar\": {\"outlinewidth\": 0, \"ticks\": \"\"}}, \"type\": \"scatterternary\"}], \"surface\": [{\"colorbar\": {\"outlinewidth\": 0, \"ticks\": \"\"}, \"colorscale\": [[0.0, \"#0d0887\"], [0.1111111111111111, \"#46039f\"], [0.2222222222222222, \"#7201a8\"], [0.3333333333333333, \"#9c179e\"], [0.4444444444444444, \"#bd3786\"], [0.5555555555555556, \"#d8576b\"], [0.6666666666666666, \"#ed7953\"], [0.7777777777777778, \"#fb9f3a\"], [0.8888888888888888, \"#fdca26\"], [1.0, \"#f0f921\"]], \"type\": \"surface\"}], \"table\": [{\"cells\": {\"fill\": {\"color\": \"#EBF0F8\"}, \"line\": {\"color\": \"white\"}}, \"header\": {\"fill\": {\"color\": \"#C8D4E3\"}, \"line\": {\"color\": \"white\"}}, \"type\": \"table\"}]}, \"layout\": {\"annotationdefaults\": {\"arrowcolor\": \"#2a3f5f\", \"arrowhead\": 0, \"arrowwidth\": 1}, \"coloraxis\": {\"colorbar\": {\"outlinewidth\": 0, \"ticks\": \"\"}}, \"colorscale\": {\"diverging\": [[0, \"#8e0152\"], [0.1, \"#c51b7d\"], [0.2, \"#de77ae\"], [0.3, \"#f1b6da\"], [0.4, \"#fde0ef\"], [0.5, \"#f7f7f7\"], [0.6, \"#e6f5d0\"], [0.7, \"#b8e186\"], [0.8, \"#7fbc41\"], [0.9, \"#4d9221\"], [1, \"#276419\"]], \"sequential\": [[0.0, \"#0d0887\"], [0.1111111111111111, \"#46039f\"], [0.2222222222222222, \"#7201a8\"], [0.3333333333333333, \"#9c179e\"], [0.4444444444444444, \"#bd3786\"], [0.5555555555555556, \"#d8576b\"], [0.6666666666666666, \"#ed7953\"], [0.7777777777777778, \"#fb9f3a\"], [0.8888888888888888, \"#fdca26\"], [1.0, \"#f0f921\"]], \"sequentialminus\": [[0.0, \"#0d0887\"], [0.1111111111111111, \"#46039f\"], [0.2222222222222222, \"#7201a8\"], [0.3333333333333333, \"#9c179e\"], [0.4444444444444444, \"#bd3786\"], [0.5555555555555556, \"#d8576b\"], [0.6666666666666666, \"#ed7953\"], [0.7777777777777778, \"#fb9f3a\"], [0.8888888888888888, \"#fdca26\"], [1.0, \"#f0f921\"]]}, \"colorway\": [\"#636efa\", \"#EF553B\", \"#00cc96\", \"#ab63fa\", \"#FFA15A\", \"#19d3f3\", \"#FF6692\", \"#B6E880\", \"#FF97FF\", \"#FECB52\"], \"font\": {\"color\": \"#2a3f5f\"}, \"geo\": {\"bgcolor\": \"white\", \"lakecolor\": \"white\", \"landcolor\": \"#E5ECF6\", \"showlakes\": true, \"showland\": true, \"subunitcolor\": \"white\"}, \"hoverlabel\": {\"align\": \"left\"}, \"hovermode\": \"closest\", \"mapbox\": {\"style\": \"light\"}, \"paper_bgcolor\": \"white\", \"plot_bgcolor\": \"#E5ECF6\", \"polar\": {\"angularaxis\": {\"gridcolor\": \"white\", \"linecolor\": \"white\", \"ticks\": \"\"}, \"bgcolor\": \"#E5ECF6\", \"radialaxis\": {\"gridcolor\": \"white\", \"linecolor\": \"white\", \"ticks\": \"\"}}, \"scene\": {\"xaxis\": {\"backgroundcolor\": \"#E5ECF6\", \"gridcolor\": \"white\", \"gridwidth\": 2, \"linecolor\": \"white\", \"showbackground\": true, \"ticks\": \"\", \"zerolinecolor\": \"white\"}, \"yaxis\": {\"backgroundcolor\": \"#E5ECF6\", \"gridcolor\": \"white\", \"gridwidth\": 2, \"linecolor\": \"white\", \"showbackground\": true, \"ticks\": \"\", \"zerolinecolor\": \"white\"}, \"zaxis\": {\"backgroundcolor\": \"#E5ECF6\", \"gridcolor\": \"white\", \"gridwidth\": 2, \"linecolor\": \"white\", \"showbackground\": true, \"ticks\": \"\", \"zerolinecolor\": \"white\"}}, \"shapedefaults\": {\"line\": {\"color\": \"#2a3f5f\"}}, \"ternary\": {\"aaxis\": {\"gridcolor\": \"white\", \"linecolor\": \"white\", \"ticks\": \"\"}, \"baxis\": {\"gridcolor\": \"white\", \"linecolor\": \"white\", \"ticks\": \"\"}, \"bgcolor\": \"#E5ECF6\", \"caxis\": {\"gridcolor\": \"white\", \"linecolor\": \"white\", \"ticks\": \"\"}}, \"title\": {\"x\": 0.05}, \"xaxis\": {\"automargin\": true, \"gridcolor\": \"white\", \"linecolor\": \"white\", \"ticks\": \"\", \"title\": {\"standoff\": 15}, \"zerolinecolor\": \"white\", \"zerolinewidth\": 2}, \"yaxis\": {\"automargin\": true, \"gridcolor\": \"white\", \"linecolor\": \"white\", \"ticks\": \"\", \"title\": {\"standoff\": 15}, \"zerolinecolor\": \"white\", \"zerolinewidth\": 2}}}, \"title\": {\"text\": \"Ndgc @ 10\"}, \"xaxis\": {\"anchor\": \"y\", \"domain\": [0.0, 1.0], \"title\": {\"text\": \"query_model\"}}, \"yaxis\": {\"anchor\": \"x\", \"domain\": [0.0, 1.0], \"title\": {\"text\": \"value\"}}},\n",
       "                        {\"responsive\": true}\n",
       "                    ).then(function(){\n",
       "                            \n",
       "var gd = document.getElementById('490f18c7-22ec-4329-aad2-65c8638fdd52');\n",
       "var x = new MutationObserver(function (mutations, observer) {{\n",
       "        var display = window.getComputedStyle(gd).display;\n",
       "        if (!display || display === 'none') {{\n",
       "            console.log([gd, 'removed!']);\n",
       "            Plotly.purge(gd);\n",
       "            observer.disconnect();\n",
       "        }}\n",
       "}});\n",
       "\n",
       "// Listen for the removal of the full notebook cells\n",
       "var notebookContainer = gd.closest('#notebook-container');\n",
       "if (notebookContainer) {{\n",
       "    x.observe(notebookContainer, {childList: true});\n",
       "}}\n",
       "\n",
       "// Listen for the clearing of the current output cell\n",
       "var outputEl = gd.closest('.output');\n",
       "if (outputEl) {{\n",
       "    x.observe(outputEl, {childList: true});\n",
       "}}\n",
       "\n",
       "                        })\n",
       "                };\n",
       "                });\n",
       "            </script>\n",
       "        </div>"
      ]
     },
     "metadata": {},
     "output_type": "display_data"
    }
   ],
   "source": [
    "fig = px.box(\n",
    "    metric_values_bert_abstract[metric_values_bert_abstract.metric == \"ndcg_10\"],\n",
    "    x=\"query_model\",\n",
    "    y=\"value\",\n",
    "    title=\"Ndgc @ 10\",\n",
    "    points=\"all\"\n",
    ")\n",
    "fig.show()\n"
   ]
  },
  {
   "cell_type": "markdown",
   "metadata": {},
   "source": [
    "### title + abstract"
   ]
  },
  {
   "cell_type": "code",
   "execution_count": null,
   "metadata": {},
   "outputs": [],
   "source": [
    "\n",
    "title_model = \"sum(query(tensor)*attribute(title_embedding_cordbert))\"\n",
    "abstract_model = \"sum(query(tensor)*attribute(abstract_embedding_cordbert))\"\n",
    "\n",
    "ranking_name = []\n",
    "ranking_detail = []\n",
    "alpha = [0,0.1,0.2, 0.3,0.4, 0.5, 0.6,0.7,0.8,0.9,1.0]\n",
    "\n",
    "\n",
    "print(alpha)\n",
    "\n",
    "for a in alpha:\n",
    "    b = round(1 - a + 0.001,2)\n",
    "    #print(a,b,c,\"\\t\",round(a+b+c,1))\n",
    "    name =   str(a) + \"title\" + str(b) + \"abstract\" \n",
    "    print(name)\n",
    "    rank = str(a) + \"*(\" + title_model +  \")+\" + str(b) + \"*\"+\"(\"+ abstract_model+\")\"\n",
    "    print(rank)\n",
    "    ranking_name.append(name)\n",
    "    ranking_detail.append(rank)\n",
    "\n",
    "    app_package.schema.add_rank_profile(\n",
    "        RankProfile(name = name,\n",
    "        inherits = \"default\",\n",
    "        first_phase = rank))"
   ]
  },
  {
   "cell_type": "code",
   "execution_count": null,
   "metadata": {},
   "outputs": [],
   "source": [
    "name = \"cord_19_application\"\n",
    "\n",
    "path = \"C:\\\\Users\\\\User\\\\OneDrive - NTNU\\\\NTNU\\\\Prosjekt oppgave NLP\\\\docker_apps\\\\\"\n",
    "\n",
    "\n",
    "app = vespa_docker.deploy(application_package=app_package, \n",
    "                          disk_folder=path + name,\n",
    "                          container_memory = '8G')"
   ]
  },
  {
   "cell_type": "code",
   "execution_count": null,
   "metadata": {},
   "outputs": [],
   "source": [
    "mean_values = []\n",
    "std_values = []\n",
    "\n",
    "\n",
    "for n in ranking_name:\n",
    "    model = QueryModel(\n",
    "        query_properties=[QueryRankingFeature(name=\"tensor\", mapping=covidbert_encoder)],\n",
    "        match_phase=OR(),\n",
    "        rank_profile=Ranking(name=n)\n",
    "    )\n",
    "    print(n)\n",
    "    evaluation = app.evaluate(\n",
    "        labeled_data = labeled_data,\n",
    "        eval_metrics = eval_metrics,\n",
    "        query_model = model,\n",
    "        id_field = \"id\",\n",
    "        hits = 10\n",
    "    )\n",
    "    mean = evaluation.mean()\n",
    "    std = evaluation.std()\n",
    "    print(mean)\n",
    "    mean_values.append(mean)\n",
    "    std_values.append(std)\n",
    "    print(\"name: \", n, \"\\t\" , \"ndcg@10 mean value: \", round(mean[\"ndcg_10_value\"],3),\n",
    "         \"\\t ndcg@10 std value: \", round(std[\"ndcg_10_value\"],3))"
   ]
  },
  {
   "cell_type": "markdown",
   "metadata": {},
   "source": [
    "## Testing learning models "
   ]
  },
  {
   "cell_type": "code",
   "execution_count": 85,
   "metadata": {},
   "outputs": [
    {
     "data": {
      "text/plain": [
       "'\\n    ,\\n    \"regression_3_class_sub\":  QueryModel(\\n        query_properties=[QueryRankingFeature(name=\"tensor\", mapping=covidbert_encoder),\\n                         QueryRankingFeature(name=\"linear_layer\", mapping=simple_linreg_3_abs)],\\n        match_phase=OR(),\\n        rank_profile=Ranking(name=\"linear_regression_substract\")\\n    )\\n'"
      ]
     },
     "execution_count": 85,
     "metadata": {},
     "output_type": "execute_result"
    }
   ],
   "source": [
    "query_models = {\n",
    "     \"cos_sim_cordbert_title\": QueryModel(\n",
    "        query_properties=[QueryRankingFeature(name=\"tensor\", mapping=covidbert_encoder)],\n",
    "        match_phase = OR(),\n",
    "        rank_profile = Ranking(name=\"cos_sim_cordbert_title\")\n",
    "    ),\n",
    "    \"regression_2_class\":  QueryModel(\n",
    "        query_properties=[QueryRankingFeature(name=\"tensor\", mapping=covidbert_encoder),\n",
    "                         QueryRankingFeature(name=\"linear_layer\", mapping=simple_linreg_2_class)],\n",
    "        match_phase=OR(),\n",
    "        rank_profile=Ranking(name=\"linear_regression_multi\")\n",
    "    ),\n",
    "      \"regression_3_class\":  QueryModel(\n",
    "        query_properties=[QueryRankingFeature(name=\"tensor\", mapping=covidbert_encoder),\n",
    "                         QueryRankingFeature(name=\"linear_layer\", mapping=simple_linreg_3_class)],\n",
    "        match_phase=OR(),\n",
    "        rank_profile=Ranking(name=\"linear_regression_multi\")\n",
    "    )}\n",
    "\"\"\"\n",
    ",\n",
    "    \"regression_3_class_sub\":  QueryModel(\n",
    "        query_properties=[QueryRankingFeature(name=\"tensor\", mapping=covidbert_encoder),\n",
    "                         QueryRankingFeature(name=\"linear_layer\", mapping=simple_linreg_2_abs)],\n",
    "        match_phase=OR(),\n",
    "        rank_profile=Ranking(name=\"linear_regression_substract\")\n",
    "    )\n",
    "  \n",
    "}\n",
    "\"\"\"\n",
    "\n",
    "\"\"\"\n",
    "    ,\n",
    "    \"regression_3_class_sub\":  QueryModel(\n",
    "        query_properties=[QueryRankingFeature(name=\"tensor\", mapping=covidbert_encoder),\n",
    "                         QueryRankingFeature(name=\"linear_layer\", mapping=simple_linreg_3_abs)],\n",
    "        match_phase=OR(),\n",
    "        rank_profile=Ranking(name=\"linear_regression_substract\")\n",
    "    )\n",
    "\"\"\""
   ]
  },
  {
   "cell_type": "code",
   "execution_count": 72,
   "metadata": {},
   "outputs": [],
   "source": [
    "evaluations = {}\n",
    "for query_model in query_models:\n",
    "    evaluations[query_model] = app.evaluate(\n",
    "        labeled_data = labeled_data,\n",
    "        eval_metrics = eval_metrics,\n",
    "        query_model = query_models[query_model],\n",
    "        id_field = \"id\",\n",
    "        hits = 10\n",
    "    )"
   ]
  },
  {
   "cell_type": "code",
   "execution_count": 73,
   "metadata": {},
   "outputs": [
    {
     "data": {
      "text/html": [
       "<div>\n",
       "<style scoped>\n",
       "    .dataframe tbody tr th:only-of-type {\n",
       "        vertical-align: middle;\n",
       "    }\n",
       "\n",
       "    .dataframe tbody tr th {\n",
       "        vertical-align: top;\n",
       "    }\n",
       "\n",
       "    .dataframe thead th {\n",
       "        text-align: right;\n",
       "    }\n",
       "</style>\n",
       "<table border=\"1\" class=\"dataframe\">\n",
       "  <thead>\n",
       "    <tr style=\"text-align: right;\">\n",
       "      <th></th>\n",
       "      <th>query_model</th>\n",
       "      <th>metric</th>\n",
       "      <th>value</th>\n",
       "    </tr>\n",
       "  </thead>\n",
       "  <tbody>\n",
       "    <tr>\n",
       "      <th>0</th>\n",
       "      <td>cos_sim_cordbert_title</td>\n",
       "      <td>match_ratio</td>\n",
       "      <td>0.743139</td>\n",
       "    </tr>\n",
       "    <tr>\n",
       "      <th>1</th>\n",
       "      <td>cos_sim_cordbert_title</td>\n",
       "      <td>match_ratio</td>\n",
       "      <td>0.983897</td>\n",
       "    </tr>\n",
       "    <tr>\n",
       "      <th>2</th>\n",
       "      <td>cos_sim_cordbert_title</td>\n",
       "      <td>match_ratio</td>\n",
       "      <td>0.808859</td>\n",
       "    </tr>\n",
       "    <tr>\n",
       "      <th>3</th>\n",
       "      <td>cos_sim_cordbert_title</td>\n",
       "      <td>match_ratio</td>\n",
       "      <td>0.987631</td>\n",
       "    </tr>\n",
       "    <tr>\n",
       "      <th>4</th>\n",
       "      <td>cos_sim_cordbert_title</td>\n",
       "      <td>match_ratio</td>\n",
       "      <td>0.989358</td>\n",
       "    </tr>\n",
       "  </tbody>\n",
       "</table>\n",
       "</div>"
      ],
      "text/plain": [
       "              query_model       metric     value\n",
       "0  cos_sim_cordbert_title  match_ratio  0.743139\n",
       "1  cos_sim_cordbert_title  match_ratio  0.983897\n",
       "2  cos_sim_cordbert_title  match_ratio  0.808859\n",
       "3  cos_sim_cordbert_title  match_ratio  0.987631\n",
       "4  cos_sim_cordbert_title  match_ratio  0.989358"
      ]
     },
     "execution_count": 73,
     "metadata": {},
     "output_type": "execute_result"
    }
   ],
   "source": [
    "metric_values = []\n",
    "for query_model in query_models:\n",
    "    for metric in eval_metrics:\n",
    "        metric_values.append(\n",
    "            pd.DataFrame(\n",
    "                data={\n",
    "                    \"query_model\": query_model,\n",
    "                    \"metric\": metric.name,\n",
    "                    \"value\": evaluations[query_model][metric.name + \"_value\"].to_list()\n",
    "                }\n",
    "            )\n",
    "        )\n",
    "metric_values_bert_abstract = pd.concat(metric_values, ignore_index=True)\n",
    "metric_values_bert_abstract.head()"
   ]
  },
  {
   "cell_type": "code",
   "execution_count": 74,
   "metadata": {},
   "outputs": [
    {
     "data": {
      "text/html": [
       "<div>\n",
       "<style scoped>\n",
       "    .dataframe tbody tr th:only-of-type {\n",
       "        vertical-align: middle;\n",
       "    }\n",
       "\n",
       "    .dataframe tbody tr th {\n",
       "        vertical-align: top;\n",
       "    }\n",
       "\n",
       "    .dataframe thead th {\n",
       "        text-align: right;\n",
       "    }\n",
       "</style>\n",
       "<table border=\"1\" class=\"dataframe\">\n",
       "  <thead>\n",
       "    <tr style=\"text-align: right;\">\n",
       "      <th></th>\n",
       "      <th></th>\n",
       "      <th>value</th>\n",
       "    </tr>\n",
       "    <tr>\n",
       "      <th>query_model</th>\n",
       "      <th>metric</th>\n",
       "      <th></th>\n",
       "    </tr>\n",
       "  </thead>\n",
       "  <tbody>\n",
       "    <tr>\n",
       "      <th rowspan=\"4\" valign=\"top\">cos_sim_cordbert_title</th>\n",
       "      <th>match_ratio</th>\n",
       "      <td>0.839429</td>\n",
       "    </tr>\n",
       "    <tr>\n",
       "      <th>ndcg_10</th>\n",
       "      <td>0.032619</td>\n",
       "    </tr>\n",
       "    <tr>\n",
       "      <th>recall_10</th>\n",
       "      <td>0.000109</td>\n",
       "    </tr>\n",
       "    <tr>\n",
       "      <th>reciprocal_rank_10</th>\n",
       "      <td>0.023333</td>\n",
       "    </tr>\n",
       "    <tr>\n",
       "      <th rowspan=\"4\" valign=\"top\">regression_2_class</th>\n",
       "      <th>match_ratio</th>\n",
       "      <td>0.839429</td>\n",
       "    </tr>\n",
       "    <tr>\n",
       "      <th>ndcg_10</th>\n",
       "      <td>0.032619</td>\n",
       "    </tr>\n",
       "    <tr>\n",
       "      <th>recall_10</th>\n",
       "      <td>0.000109</td>\n",
       "    </tr>\n",
       "    <tr>\n",
       "      <th>reciprocal_rank_10</th>\n",
       "      <td>0.023333</td>\n",
       "    </tr>\n",
       "    <tr>\n",
       "      <th rowspan=\"4\" valign=\"top\">regression_3_class</th>\n",
       "      <th>match_ratio</th>\n",
       "      <td>0.839429</td>\n",
       "    </tr>\n",
       "    <tr>\n",
       "      <th>ndcg_10</th>\n",
       "      <td>0.032619</td>\n",
       "    </tr>\n",
       "    <tr>\n",
       "      <th>recall_10</th>\n",
       "      <td>0.000109</td>\n",
       "    </tr>\n",
       "    <tr>\n",
       "      <th>reciprocal_rank_10</th>\n",
       "      <td>0.023333</td>\n",
       "    </tr>\n",
       "  </tbody>\n",
       "</table>\n",
       "</div>"
      ],
      "text/plain": [
       "                                              value\n",
       "query_model            metric                      \n",
       "cos_sim_cordbert_title match_ratio         0.839429\n",
       "                       ndcg_10             0.032619\n",
       "                       recall_10           0.000109\n",
       "                       reciprocal_rank_10  0.023333\n",
       "regression_2_class     match_ratio         0.839429\n",
       "                       ndcg_10             0.032619\n",
       "                       recall_10           0.000109\n",
       "                       reciprocal_rank_10  0.023333\n",
       "regression_3_class     match_ratio         0.839429\n",
       "                       ndcg_10             0.032619\n",
       "                       recall_10           0.000109\n",
       "                       reciprocal_rank_10  0.023333"
      ]
     },
     "execution_count": 74,
     "metadata": {},
     "output_type": "execute_result"
    }
   ],
   "source": [
    "metric_values_bert_abstract.groupby(['query_model', 'metric']).mean()"
   ]
  },
  {
   "cell_type": "code",
   "execution_count": 75,
   "metadata": {},
   "outputs": [
    {
     "data": {
      "application/vnd.plotly.v1+json": {
       "config": {
        "plotlyServerURL": "https://plot.ly"
       },
       "data": [
        {
         "alignmentgroup": "True",
         "boxpoints": "all",
         "hovertemplate": "query_model=%{x}<br>value=%{y}<extra></extra>",
         "legendgroup": "",
         "marker": {
          "color": "#636efa"
         },
         "name": "",
         "notched": false,
         "offsetgroup": "",
         "orientation": "v",
         "showlegend": false,
         "type": "box",
         "x": [
          "cos_sim_cordbert_title",
          "cos_sim_cordbert_title",
          "cos_sim_cordbert_title",
          "cos_sim_cordbert_title",
          "cos_sim_cordbert_title",
          "cos_sim_cordbert_title",
          "cos_sim_cordbert_title",
          "cos_sim_cordbert_title",
          "cos_sim_cordbert_title",
          "cos_sim_cordbert_title",
          "cos_sim_cordbert_title",
          "cos_sim_cordbert_title",
          "cos_sim_cordbert_title",
          "cos_sim_cordbert_title",
          "cos_sim_cordbert_title",
          "cos_sim_cordbert_title",
          "cos_sim_cordbert_title",
          "cos_sim_cordbert_title",
          "cos_sim_cordbert_title",
          "cos_sim_cordbert_title",
          "cos_sim_cordbert_title",
          "cos_sim_cordbert_title",
          "cos_sim_cordbert_title",
          "cos_sim_cordbert_title",
          "cos_sim_cordbert_title",
          "cos_sim_cordbert_title",
          "cos_sim_cordbert_title",
          "cos_sim_cordbert_title",
          "cos_sim_cordbert_title",
          "cos_sim_cordbert_title",
          "cos_sim_cordbert_title",
          "cos_sim_cordbert_title",
          "cos_sim_cordbert_title",
          "cos_sim_cordbert_title",
          "cos_sim_cordbert_title",
          "cos_sim_cordbert_title",
          "cos_sim_cordbert_title",
          "cos_sim_cordbert_title",
          "cos_sim_cordbert_title",
          "cos_sim_cordbert_title",
          "cos_sim_cordbert_title",
          "cos_sim_cordbert_title",
          "cos_sim_cordbert_title",
          "cos_sim_cordbert_title",
          "cos_sim_cordbert_title",
          "cos_sim_cordbert_title",
          "cos_sim_cordbert_title",
          "cos_sim_cordbert_title",
          "cos_sim_cordbert_title",
          "cos_sim_cordbert_title",
          "regression_2_class",
          "regression_2_class",
          "regression_2_class",
          "regression_2_class",
          "regression_2_class",
          "regression_2_class",
          "regression_2_class",
          "regression_2_class",
          "regression_2_class",
          "regression_2_class",
          "regression_2_class",
          "regression_2_class",
          "regression_2_class",
          "regression_2_class",
          "regression_2_class",
          "regression_2_class",
          "regression_2_class",
          "regression_2_class",
          "regression_2_class",
          "regression_2_class",
          "regression_2_class",
          "regression_2_class",
          "regression_2_class",
          "regression_2_class",
          "regression_2_class",
          "regression_2_class",
          "regression_2_class",
          "regression_2_class",
          "regression_2_class",
          "regression_2_class",
          "regression_2_class",
          "regression_2_class",
          "regression_2_class",
          "regression_2_class",
          "regression_2_class",
          "regression_2_class",
          "regression_2_class",
          "regression_2_class",
          "regression_2_class",
          "regression_2_class",
          "regression_2_class",
          "regression_2_class",
          "regression_2_class",
          "regression_2_class",
          "regression_2_class",
          "regression_2_class",
          "regression_2_class",
          "regression_2_class",
          "regression_2_class",
          "regression_2_class",
          "regression_3_class",
          "regression_3_class",
          "regression_3_class",
          "regression_3_class",
          "regression_3_class",
          "regression_3_class",
          "regression_3_class",
          "regression_3_class",
          "regression_3_class",
          "regression_3_class",
          "regression_3_class",
          "regression_3_class",
          "regression_3_class",
          "regression_3_class",
          "regression_3_class",
          "regression_3_class",
          "regression_3_class",
          "regression_3_class",
          "regression_3_class",
          "regression_3_class",
          "regression_3_class",
          "regression_3_class",
          "regression_3_class",
          "regression_3_class",
          "regression_3_class",
          "regression_3_class",
          "regression_3_class",
          "regression_3_class",
          "regression_3_class",
          "regression_3_class",
          "regression_3_class",
          "regression_3_class",
          "regression_3_class",
          "regression_3_class",
          "regression_3_class",
          "regression_3_class",
          "regression_3_class",
          "regression_3_class",
          "regression_3_class",
          "regression_3_class",
          "regression_3_class",
          "regression_3_class",
          "regression_3_class",
          "regression_3_class",
          "regression_3_class",
          "regression_3_class",
          "regression_3_class",
          "regression_3_class",
          "regression_3_class",
          "regression_3_class"
         ],
         "x0": " ",
         "xaxis": "x",
         "y": [
          0,
          0,
          0,
          0,
          0,
          0.6309297535714575,
          0.5,
          0,
          0,
          0,
          0,
          0,
          0,
          0,
          0,
          0,
          0,
          0,
          0,
          0,
          0,
          0,
          0.5,
          0,
          0,
          0,
          0,
          0,
          0,
          0,
          0,
          0,
          0,
          0,
          0,
          0,
          0,
          0,
          0,
          0,
          0,
          0,
          0,
          0,
          0,
          0,
          0,
          0,
          0,
          0,
          0,
          0,
          0,
          0,
          0,
          0.6309297535714575,
          0.5,
          0,
          0,
          0,
          0,
          0,
          0,
          0,
          0,
          0,
          0,
          0,
          0,
          0,
          0,
          0,
          0.5,
          0,
          0,
          0,
          0,
          0,
          0,
          0,
          0,
          0,
          0,
          0,
          0,
          0,
          0,
          0,
          0,
          0,
          0,
          0,
          0,
          0,
          0,
          0,
          0,
          0,
          0,
          0,
          0,
          0,
          0,
          0,
          0,
          0.6309297535714575,
          0.5,
          0,
          0,
          0,
          0,
          0,
          0,
          0,
          0,
          0,
          0,
          0,
          0,
          0,
          0,
          0,
          0.5,
          0,
          0,
          0,
          0,
          0,
          0,
          0,
          0,
          0,
          0,
          0,
          0,
          0,
          0,
          0,
          0,
          0,
          0,
          0,
          0,
          0,
          0,
          0,
          0,
          0,
          0,
          0
         ],
         "y0": " ",
         "yaxis": "y"
        }
       ],
       "layout": {
        "boxmode": "group",
        "legend": {
         "tracegroupgap": 0
        },
        "template": {
         "data": {
          "bar": [
           {
            "error_x": {
             "color": "#2a3f5f"
            },
            "error_y": {
             "color": "#2a3f5f"
            },
            "marker": {
             "line": {
              "color": "#E5ECF6",
              "width": 0.5
             }
            },
            "type": "bar"
           }
          ],
          "barpolar": [
           {
            "marker": {
             "line": {
              "color": "#E5ECF6",
              "width": 0.5
             }
            },
            "type": "barpolar"
           }
          ],
          "carpet": [
           {
            "aaxis": {
             "endlinecolor": "#2a3f5f",
             "gridcolor": "white",
             "linecolor": "white",
             "minorgridcolor": "white",
             "startlinecolor": "#2a3f5f"
            },
            "baxis": {
             "endlinecolor": "#2a3f5f",
             "gridcolor": "white",
             "linecolor": "white",
             "minorgridcolor": "white",
             "startlinecolor": "#2a3f5f"
            },
            "type": "carpet"
           }
          ],
          "choropleth": [
           {
            "colorbar": {
             "outlinewidth": 0,
             "ticks": ""
            },
            "type": "choropleth"
           }
          ],
          "contour": [
           {
            "colorbar": {
             "outlinewidth": 0,
             "ticks": ""
            },
            "colorscale": [
             [
              0,
              "#0d0887"
             ],
             [
              0.1111111111111111,
              "#46039f"
             ],
             [
              0.2222222222222222,
              "#7201a8"
             ],
             [
              0.3333333333333333,
              "#9c179e"
             ],
             [
              0.4444444444444444,
              "#bd3786"
             ],
             [
              0.5555555555555556,
              "#d8576b"
             ],
             [
              0.6666666666666666,
              "#ed7953"
             ],
             [
              0.7777777777777778,
              "#fb9f3a"
             ],
             [
              0.8888888888888888,
              "#fdca26"
             ],
             [
              1,
              "#f0f921"
             ]
            ],
            "type": "contour"
           }
          ],
          "contourcarpet": [
           {
            "colorbar": {
             "outlinewidth": 0,
             "ticks": ""
            },
            "type": "contourcarpet"
           }
          ],
          "heatmap": [
           {
            "colorbar": {
             "outlinewidth": 0,
             "ticks": ""
            },
            "colorscale": [
             [
              0,
              "#0d0887"
             ],
             [
              0.1111111111111111,
              "#46039f"
             ],
             [
              0.2222222222222222,
              "#7201a8"
             ],
             [
              0.3333333333333333,
              "#9c179e"
             ],
             [
              0.4444444444444444,
              "#bd3786"
             ],
             [
              0.5555555555555556,
              "#d8576b"
             ],
             [
              0.6666666666666666,
              "#ed7953"
             ],
             [
              0.7777777777777778,
              "#fb9f3a"
             ],
             [
              0.8888888888888888,
              "#fdca26"
             ],
             [
              1,
              "#f0f921"
             ]
            ],
            "type": "heatmap"
           }
          ],
          "heatmapgl": [
           {
            "colorbar": {
             "outlinewidth": 0,
             "ticks": ""
            },
            "colorscale": [
             [
              0,
              "#0d0887"
             ],
             [
              0.1111111111111111,
              "#46039f"
             ],
             [
              0.2222222222222222,
              "#7201a8"
             ],
             [
              0.3333333333333333,
              "#9c179e"
             ],
             [
              0.4444444444444444,
              "#bd3786"
             ],
             [
              0.5555555555555556,
              "#d8576b"
             ],
             [
              0.6666666666666666,
              "#ed7953"
             ],
             [
              0.7777777777777778,
              "#fb9f3a"
             ],
             [
              0.8888888888888888,
              "#fdca26"
             ],
             [
              1,
              "#f0f921"
             ]
            ],
            "type": "heatmapgl"
           }
          ],
          "histogram": [
           {
            "marker": {
             "colorbar": {
              "outlinewidth": 0,
              "ticks": ""
             }
            },
            "type": "histogram"
           }
          ],
          "histogram2d": [
           {
            "colorbar": {
             "outlinewidth": 0,
             "ticks": ""
            },
            "colorscale": [
             [
              0,
              "#0d0887"
             ],
             [
              0.1111111111111111,
              "#46039f"
             ],
             [
              0.2222222222222222,
              "#7201a8"
             ],
             [
              0.3333333333333333,
              "#9c179e"
             ],
             [
              0.4444444444444444,
              "#bd3786"
             ],
             [
              0.5555555555555556,
              "#d8576b"
             ],
             [
              0.6666666666666666,
              "#ed7953"
             ],
             [
              0.7777777777777778,
              "#fb9f3a"
             ],
             [
              0.8888888888888888,
              "#fdca26"
             ],
             [
              1,
              "#f0f921"
             ]
            ],
            "type": "histogram2d"
           }
          ],
          "histogram2dcontour": [
           {
            "colorbar": {
             "outlinewidth": 0,
             "ticks": ""
            },
            "colorscale": [
             [
              0,
              "#0d0887"
             ],
             [
              0.1111111111111111,
              "#46039f"
             ],
             [
              0.2222222222222222,
              "#7201a8"
             ],
             [
              0.3333333333333333,
              "#9c179e"
             ],
             [
              0.4444444444444444,
              "#bd3786"
             ],
             [
              0.5555555555555556,
              "#d8576b"
             ],
             [
              0.6666666666666666,
              "#ed7953"
             ],
             [
              0.7777777777777778,
              "#fb9f3a"
             ],
             [
              0.8888888888888888,
              "#fdca26"
             ],
             [
              1,
              "#f0f921"
             ]
            ],
            "type": "histogram2dcontour"
           }
          ],
          "mesh3d": [
           {
            "colorbar": {
             "outlinewidth": 0,
             "ticks": ""
            },
            "type": "mesh3d"
           }
          ],
          "parcoords": [
           {
            "line": {
             "colorbar": {
              "outlinewidth": 0,
              "ticks": ""
             }
            },
            "type": "parcoords"
           }
          ],
          "pie": [
           {
            "automargin": true,
            "type": "pie"
           }
          ],
          "scatter": [
           {
            "marker": {
             "colorbar": {
              "outlinewidth": 0,
              "ticks": ""
             }
            },
            "type": "scatter"
           }
          ],
          "scatter3d": [
           {
            "line": {
             "colorbar": {
              "outlinewidth": 0,
              "ticks": ""
             }
            },
            "marker": {
             "colorbar": {
              "outlinewidth": 0,
              "ticks": ""
             }
            },
            "type": "scatter3d"
           }
          ],
          "scattercarpet": [
           {
            "marker": {
             "colorbar": {
              "outlinewidth": 0,
              "ticks": ""
             }
            },
            "type": "scattercarpet"
           }
          ],
          "scattergeo": [
           {
            "marker": {
             "colorbar": {
              "outlinewidth": 0,
              "ticks": ""
             }
            },
            "type": "scattergeo"
           }
          ],
          "scattergl": [
           {
            "marker": {
             "colorbar": {
              "outlinewidth": 0,
              "ticks": ""
             }
            },
            "type": "scattergl"
           }
          ],
          "scattermapbox": [
           {
            "marker": {
             "colorbar": {
              "outlinewidth": 0,
              "ticks": ""
             }
            },
            "type": "scattermapbox"
           }
          ],
          "scatterpolar": [
           {
            "marker": {
             "colorbar": {
              "outlinewidth": 0,
              "ticks": ""
             }
            },
            "type": "scatterpolar"
           }
          ],
          "scatterpolargl": [
           {
            "marker": {
             "colorbar": {
              "outlinewidth": 0,
              "ticks": ""
             }
            },
            "type": "scatterpolargl"
           }
          ],
          "scatterternary": [
           {
            "marker": {
             "colorbar": {
              "outlinewidth": 0,
              "ticks": ""
             }
            },
            "type": "scatterternary"
           }
          ],
          "surface": [
           {
            "colorbar": {
             "outlinewidth": 0,
             "ticks": ""
            },
            "colorscale": [
             [
              0,
              "#0d0887"
             ],
             [
              0.1111111111111111,
              "#46039f"
             ],
             [
              0.2222222222222222,
              "#7201a8"
             ],
             [
              0.3333333333333333,
              "#9c179e"
             ],
             [
              0.4444444444444444,
              "#bd3786"
             ],
             [
              0.5555555555555556,
              "#d8576b"
             ],
             [
              0.6666666666666666,
              "#ed7953"
             ],
             [
              0.7777777777777778,
              "#fb9f3a"
             ],
             [
              0.8888888888888888,
              "#fdca26"
             ],
             [
              1,
              "#f0f921"
             ]
            ],
            "type": "surface"
           }
          ],
          "table": [
           {
            "cells": {
             "fill": {
              "color": "#EBF0F8"
             },
             "line": {
              "color": "white"
             }
            },
            "header": {
             "fill": {
              "color": "#C8D4E3"
             },
             "line": {
              "color": "white"
             }
            },
            "type": "table"
           }
          ]
         },
         "layout": {
          "annotationdefaults": {
           "arrowcolor": "#2a3f5f",
           "arrowhead": 0,
           "arrowwidth": 1
          },
          "coloraxis": {
           "colorbar": {
            "outlinewidth": 0,
            "ticks": ""
           }
          },
          "colorscale": {
           "diverging": [
            [
             0,
             "#8e0152"
            ],
            [
             0.1,
             "#c51b7d"
            ],
            [
             0.2,
             "#de77ae"
            ],
            [
             0.3,
             "#f1b6da"
            ],
            [
             0.4,
             "#fde0ef"
            ],
            [
             0.5,
             "#f7f7f7"
            ],
            [
             0.6,
             "#e6f5d0"
            ],
            [
             0.7,
             "#b8e186"
            ],
            [
             0.8,
             "#7fbc41"
            ],
            [
             0.9,
             "#4d9221"
            ],
            [
             1,
             "#276419"
            ]
           ],
           "sequential": [
            [
             0,
             "#0d0887"
            ],
            [
             0.1111111111111111,
             "#46039f"
            ],
            [
             0.2222222222222222,
             "#7201a8"
            ],
            [
             0.3333333333333333,
             "#9c179e"
            ],
            [
             0.4444444444444444,
             "#bd3786"
            ],
            [
             0.5555555555555556,
             "#d8576b"
            ],
            [
             0.6666666666666666,
             "#ed7953"
            ],
            [
             0.7777777777777778,
             "#fb9f3a"
            ],
            [
             0.8888888888888888,
             "#fdca26"
            ],
            [
             1,
             "#f0f921"
            ]
           ],
           "sequentialminus": [
            [
             0,
             "#0d0887"
            ],
            [
             0.1111111111111111,
             "#46039f"
            ],
            [
             0.2222222222222222,
             "#7201a8"
            ],
            [
             0.3333333333333333,
             "#9c179e"
            ],
            [
             0.4444444444444444,
             "#bd3786"
            ],
            [
             0.5555555555555556,
             "#d8576b"
            ],
            [
             0.6666666666666666,
             "#ed7953"
            ],
            [
             0.7777777777777778,
             "#fb9f3a"
            ],
            [
             0.8888888888888888,
             "#fdca26"
            ],
            [
             1,
             "#f0f921"
            ]
           ]
          },
          "colorway": [
           "#636efa",
           "#EF553B",
           "#00cc96",
           "#ab63fa",
           "#FFA15A",
           "#19d3f3",
           "#FF6692",
           "#B6E880",
           "#FF97FF",
           "#FECB52"
          ],
          "font": {
           "color": "#2a3f5f"
          },
          "geo": {
           "bgcolor": "white",
           "lakecolor": "white",
           "landcolor": "#E5ECF6",
           "showlakes": true,
           "showland": true,
           "subunitcolor": "white"
          },
          "hoverlabel": {
           "align": "left"
          },
          "hovermode": "closest",
          "mapbox": {
           "style": "light"
          },
          "paper_bgcolor": "white",
          "plot_bgcolor": "#E5ECF6",
          "polar": {
           "angularaxis": {
            "gridcolor": "white",
            "linecolor": "white",
            "ticks": ""
           },
           "bgcolor": "#E5ECF6",
           "radialaxis": {
            "gridcolor": "white",
            "linecolor": "white",
            "ticks": ""
           }
          },
          "scene": {
           "xaxis": {
            "backgroundcolor": "#E5ECF6",
            "gridcolor": "white",
            "gridwidth": 2,
            "linecolor": "white",
            "showbackground": true,
            "ticks": "",
            "zerolinecolor": "white"
           },
           "yaxis": {
            "backgroundcolor": "#E5ECF6",
            "gridcolor": "white",
            "gridwidth": 2,
            "linecolor": "white",
            "showbackground": true,
            "ticks": "",
            "zerolinecolor": "white"
           },
           "zaxis": {
            "backgroundcolor": "#E5ECF6",
            "gridcolor": "white",
            "gridwidth": 2,
            "linecolor": "white",
            "showbackground": true,
            "ticks": "",
            "zerolinecolor": "white"
           }
          },
          "shapedefaults": {
           "line": {
            "color": "#2a3f5f"
           }
          },
          "ternary": {
           "aaxis": {
            "gridcolor": "white",
            "linecolor": "white",
            "ticks": ""
           },
           "baxis": {
            "gridcolor": "white",
            "linecolor": "white",
            "ticks": ""
           },
           "bgcolor": "#E5ECF6",
           "caxis": {
            "gridcolor": "white",
            "linecolor": "white",
            "ticks": ""
           }
          },
          "title": {
           "x": 0.05
          },
          "xaxis": {
           "automargin": true,
           "gridcolor": "white",
           "linecolor": "white",
           "ticks": "",
           "title": {
            "standoff": 15
           },
           "zerolinecolor": "white",
           "zerolinewidth": 2
          },
          "yaxis": {
           "automargin": true,
           "gridcolor": "white",
           "linecolor": "white",
           "ticks": "",
           "title": {
            "standoff": 15
           },
           "zerolinecolor": "white",
           "zerolinewidth": 2
          }
         }
        },
        "title": {
         "text": "Ndgc @ 10"
        },
        "xaxis": {
         "anchor": "y",
         "domain": [
          0,
          1
         ],
         "title": {
          "text": "query_model"
         }
        },
        "yaxis": {
         "anchor": "x",
         "domain": [
          0,
          1
         ],
         "title": {
          "text": "value"
         }
        }
       }
      },
      "text/html": [
       "<div>\n",
       "        \n",
       "        \n",
       "            <div id=\"07cc9533-0361-4f97-9b9f-6527f698125d\" class=\"plotly-graph-div\" style=\"height:525px; width:100%;\"></div>\n",
       "            <script type=\"text/javascript\">\n",
       "                require([\"plotly\"], function(Plotly) {\n",
       "                    window.PLOTLYENV=window.PLOTLYENV || {};\n",
       "                    \n",
       "                if (document.getElementById(\"07cc9533-0361-4f97-9b9f-6527f698125d\")) {\n",
       "                    Plotly.newPlot(\n",
       "                        '07cc9533-0361-4f97-9b9f-6527f698125d',\n",
       "                        [{\"alignmentgroup\": \"True\", \"boxpoints\": \"all\", \"hovertemplate\": \"query_model=%{x}<br>value=%{y}<extra></extra>\", \"legendgroup\": \"\", \"marker\": {\"color\": \"#636efa\"}, \"name\": \"\", \"notched\": false, \"offsetgroup\": \"\", \"orientation\": \"v\", \"showlegend\": false, \"type\": \"box\", \"x\": [\"cos_sim_cordbert_title\", \"cos_sim_cordbert_title\", \"cos_sim_cordbert_title\", \"cos_sim_cordbert_title\", \"cos_sim_cordbert_title\", \"cos_sim_cordbert_title\", \"cos_sim_cordbert_title\", \"cos_sim_cordbert_title\", \"cos_sim_cordbert_title\", \"cos_sim_cordbert_title\", \"cos_sim_cordbert_title\", \"cos_sim_cordbert_title\", \"cos_sim_cordbert_title\", \"cos_sim_cordbert_title\", \"cos_sim_cordbert_title\", \"cos_sim_cordbert_title\", \"cos_sim_cordbert_title\", \"cos_sim_cordbert_title\", \"cos_sim_cordbert_title\", \"cos_sim_cordbert_title\", \"cos_sim_cordbert_title\", \"cos_sim_cordbert_title\", \"cos_sim_cordbert_title\", \"cos_sim_cordbert_title\", \"cos_sim_cordbert_title\", \"cos_sim_cordbert_title\", \"cos_sim_cordbert_title\", \"cos_sim_cordbert_title\", \"cos_sim_cordbert_title\", \"cos_sim_cordbert_title\", \"cos_sim_cordbert_title\", \"cos_sim_cordbert_title\", \"cos_sim_cordbert_title\", \"cos_sim_cordbert_title\", \"cos_sim_cordbert_title\", \"cos_sim_cordbert_title\", \"cos_sim_cordbert_title\", \"cos_sim_cordbert_title\", \"cos_sim_cordbert_title\", \"cos_sim_cordbert_title\", \"cos_sim_cordbert_title\", \"cos_sim_cordbert_title\", \"cos_sim_cordbert_title\", \"cos_sim_cordbert_title\", \"cos_sim_cordbert_title\", \"cos_sim_cordbert_title\", \"cos_sim_cordbert_title\", \"cos_sim_cordbert_title\", \"cos_sim_cordbert_title\", \"cos_sim_cordbert_title\", \"regression_2_class\", \"regression_2_class\", \"regression_2_class\", \"regression_2_class\", \"regression_2_class\", \"regression_2_class\", \"regression_2_class\", \"regression_2_class\", \"regression_2_class\", \"regression_2_class\", \"regression_2_class\", \"regression_2_class\", \"regression_2_class\", \"regression_2_class\", \"regression_2_class\", \"regression_2_class\", \"regression_2_class\", \"regression_2_class\", \"regression_2_class\", \"regression_2_class\", \"regression_2_class\", \"regression_2_class\", \"regression_2_class\", \"regression_2_class\", \"regression_2_class\", \"regression_2_class\", \"regression_2_class\", \"regression_2_class\", \"regression_2_class\", \"regression_2_class\", \"regression_2_class\", \"regression_2_class\", \"regression_2_class\", \"regression_2_class\", \"regression_2_class\", \"regression_2_class\", \"regression_2_class\", \"regression_2_class\", \"regression_2_class\", \"regression_2_class\", \"regression_2_class\", \"regression_2_class\", \"regression_2_class\", \"regression_2_class\", \"regression_2_class\", \"regression_2_class\", \"regression_2_class\", \"regression_2_class\", \"regression_2_class\", \"regression_2_class\", \"regression_3_class\", \"regression_3_class\", \"regression_3_class\", \"regression_3_class\", \"regression_3_class\", \"regression_3_class\", \"regression_3_class\", \"regression_3_class\", \"regression_3_class\", \"regression_3_class\", \"regression_3_class\", \"regression_3_class\", \"regression_3_class\", \"regression_3_class\", \"regression_3_class\", \"regression_3_class\", \"regression_3_class\", \"regression_3_class\", \"regression_3_class\", \"regression_3_class\", \"regression_3_class\", \"regression_3_class\", \"regression_3_class\", \"regression_3_class\", \"regression_3_class\", \"regression_3_class\", \"regression_3_class\", \"regression_3_class\", \"regression_3_class\", \"regression_3_class\", \"regression_3_class\", \"regression_3_class\", \"regression_3_class\", \"regression_3_class\", \"regression_3_class\", \"regression_3_class\", \"regression_3_class\", \"regression_3_class\", \"regression_3_class\", \"regression_3_class\", \"regression_3_class\", \"regression_3_class\", \"regression_3_class\", \"regression_3_class\", \"regression_3_class\", \"regression_3_class\", \"regression_3_class\", \"regression_3_class\", \"regression_3_class\", \"regression_3_class\"], \"x0\": \" \", \"xaxis\": \"x\", \"y\": [0.0, 0.0, 0.0, 0.0, 0.0, 0.6309297535714575, 0.5, 0.0, 0.0, 0.0, 0.0, 0.0, 0.0, 0.0, 0.0, 0.0, 0.0, 0.0, 0.0, 0.0, 0.0, 0.0, 0.5, 0.0, 0.0, 0.0, 0.0, 0.0, 0.0, 0.0, 0.0, 0.0, 0.0, 0.0, 0.0, 0.0, 0.0, 0.0, 0.0, 0.0, 0.0, 0.0, 0.0, 0.0, 0.0, 0.0, 0.0, 0.0, 0.0, 0.0, 0.0, 0.0, 0.0, 0.0, 0.0, 0.6309297535714575, 0.5, 0.0, 0.0, 0.0, 0.0, 0.0, 0.0, 0.0, 0.0, 0.0, 0.0, 0.0, 0.0, 0.0, 0.0, 0.0, 0.5, 0.0, 0.0, 0.0, 0.0, 0.0, 0.0, 0.0, 0.0, 0.0, 0.0, 0.0, 0.0, 0.0, 0.0, 0.0, 0.0, 0.0, 0.0, 0.0, 0.0, 0.0, 0.0, 0.0, 0.0, 0.0, 0.0, 0.0, 0.0, 0.0, 0.0, 0.0, 0.0, 0.6309297535714575, 0.5, 0.0, 0.0, 0.0, 0.0, 0.0, 0.0, 0.0, 0.0, 0.0, 0.0, 0.0, 0.0, 0.0, 0.0, 0.0, 0.5, 0.0, 0.0, 0.0, 0.0, 0.0, 0.0, 0.0, 0.0, 0.0, 0.0, 0.0, 0.0, 0.0, 0.0, 0.0, 0.0, 0.0, 0.0, 0.0, 0.0, 0.0, 0.0, 0.0, 0.0, 0.0, 0.0, 0.0], \"y0\": \" \", \"yaxis\": \"y\"}],\n",
       "                        {\"boxmode\": \"group\", \"legend\": {\"tracegroupgap\": 0}, \"template\": {\"data\": {\"bar\": [{\"error_x\": {\"color\": \"#2a3f5f\"}, \"error_y\": {\"color\": \"#2a3f5f\"}, \"marker\": {\"line\": {\"color\": \"#E5ECF6\", \"width\": 0.5}}, \"type\": \"bar\"}], \"barpolar\": [{\"marker\": {\"line\": {\"color\": \"#E5ECF6\", \"width\": 0.5}}, \"type\": \"barpolar\"}], \"carpet\": [{\"aaxis\": {\"endlinecolor\": \"#2a3f5f\", \"gridcolor\": \"white\", \"linecolor\": \"white\", \"minorgridcolor\": \"white\", \"startlinecolor\": \"#2a3f5f\"}, \"baxis\": {\"endlinecolor\": \"#2a3f5f\", \"gridcolor\": \"white\", \"linecolor\": \"white\", \"minorgridcolor\": \"white\", \"startlinecolor\": \"#2a3f5f\"}, \"type\": \"carpet\"}], \"choropleth\": [{\"colorbar\": {\"outlinewidth\": 0, \"ticks\": \"\"}, \"type\": \"choropleth\"}], \"contour\": [{\"colorbar\": {\"outlinewidth\": 0, \"ticks\": \"\"}, \"colorscale\": [[0.0, \"#0d0887\"], [0.1111111111111111, \"#46039f\"], [0.2222222222222222, \"#7201a8\"], [0.3333333333333333, \"#9c179e\"], [0.4444444444444444, \"#bd3786\"], [0.5555555555555556, \"#d8576b\"], [0.6666666666666666, \"#ed7953\"], [0.7777777777777778, \"#fb9f3a\"], [0.8888888888888888, \"#fdca26\"], [1.0, \"#f0f921\"]], \"type\": \"contour\"}], \"contourcarpet\": [{\"colorbar\": {\"outlinewidth\": 0, \"ticks\": \"\"}, \"type\": \"contourcarpet\"}], \"heatmap\": [{\"colorbar\": {\"outlinewidth\": 0, \"ticks\": \"\"}, \"colorscale\": [[0.0, \"#0d0887\"], [0.1111111111111111, \"#46039f\"], [0.2222222222222222, \"#7201a8\"], [0.3333333333333333, \"#9c179e\"], [0.4444444444444444, \"#bd3786\"], [0.5555555555555556, \"#d8576b\"], [0.6666666666666666, \"#ed7953\"], [0.7777777777777778, \"#fb9f3a\"], [0.8888888888888888, \"#fdca26\"], [1.0, \"#f0f921\"]], \"type\": \"heatmap\"}], \"heatmapgl\": [{\"colorbar\": {\"outlinewidth\": 0, \"ticks\": \"\"}, \"colorscale\": [[0.0, \"#0d0887\"], [0.1111111111111111, \"#46039f\"], [0.2222222222222222, \"#7201a8\"], [0.3333333333333333, \"#9c179e\"], [0.4444444444444444, \"#bd3786\"], [0.5555555555555556, \"#d8576b\"], [0.6666666666666666, \"#ed7953\"], [0.7777777777777778, \"#fb9f3a\"], [0.8888888888888888, \"#fdca26\"], [1.0, \"#f0f921\"]], \"type\": \"heatmapgl\"}], \"histogram\": [{\"marker\": {\"colorbar\": {\"outlinewidth\": 0, \"ticks\": \"\"}}, \"type\": \"histogram\"}], \"histogram2d\": [{\"colorbar\": {\"outlinewidth\": 0, \"ticks\": \"\"}, \"colorscale\": [[0.0, \"#0d0887\"], [0.1111111111111111, \"#46039f\"], [0.2222222222222222, \"#7201a8\"], [0.3333333333333333, \"#9c179e\"], [0.4444444444444444, \"#bd3786\"], [0.5555555555555556, \"#d8576b\"], [0.6666666666666666, \"#ed7953\"], [0.7777777777777778, \"#fb9f3a\"], [0.8888888888888888, \"#fdca26\"], [1.0, \"#f0f921\"]], \"type\": \"histogram2d\"}], \"histogram2dcontour\": [{\"colorbar\": {\"outlinewidth\": 0, \"ticks\": \"\"}, \"colorscale\": [[0.0, \"#0d0887\"], [0.1111111111111111, \"#46039f\"], [0.2222222222222222, \"#7201a8\"], [0.3333333333333333, \"#9c179e\"], [0.4444444444444444, \"#bd3786\"], [0.5555555555555556, \"#d8576b\"], [0.6666666666666666, \"#ed7953\"], [0.7777777777777778, \"#fb9f3a\"], [0.8888888888888888, \"#fdca26\"], [1.0, \"#f0f921\"]], \"type\": \"histogram2dcontour\"}], \"mesh3d\": [{\"colorbar\": {\"outlinewidth\": 0, \"ticks\": \"\"}, \"type\": \"mesh3d\"}], \"parcoords\": [{\"line\": {\"colorbar\": {\"outlinewidth\": 0, \"ticks\": \"\"}}, \"type\": \"parcoords\"}], \"pie\": [{\"automargin\": true, \"type\": \"pie\"}], \"scatter\": [{\"marker\": {\"colorbar\": {\"outlinewidth\": 0, \"ticks\": \"\"}}, \"type\": \"scatter\"}], \"scatter3d\": [{\"line\": {\"colorbar\": {\"outlinewidth\": 0, \"ticks\": \"\"}}, \"marker\": {\"colorbar\": {\"outlinewidth\": 0, \"ticks\": \"\"}}, \"type\": \"scatter3d\"}], \"scattercarpet\": [{\"marker\": {\"colorbar\": {\"outlinewidth\": 0, \"ticks\": \"\"}}, \"type\": \"scattercarpet\"}], \"scattergeo\": [{\"marker\": {\"colorbar\": {\"outlinewidth\": 0, \"ticks\": \"\"}}, \"type\": \"scattergeo\"}], \"scattergl\": [{\"marker\": {\"colorbar\": {\"outlinewidth\": 0, \"ticks\": \"\"}}, \"type\": \"scattergl\"}], \"scattermapbox\": [{\"marker\": {\"colorbar\": {\"outlinewidth\": 0, \"ticks\": \"\"}}, \"type\": \"scattermapbox\"}], \"scatterpolar\": [{\"marker\": {\"colorbar\": {\"outlinewidth\": 0, \"ticks\": \"\"}}, \"type\": \"scatterpolar\"}], \"scatterpolargl\": [{\"marker\": {\"colorbar\": {\"outlinewidth\": 0, \"ticks\": \"\"}}, \"type\": \"scatterpolargl\"}], \"scatterternary\": [{\"marker\": {\"colorbar\": {\"outlinewidth\": 0, \"ticks\": \"\"}}, \"type\": \"scatterternary\"}], \"surface\": [{\"colorbar\": {\"outlinewidth\": 0, \"ticks\": \"\"}, \"colorscale\": [[0.0, \"#0d0887\"], [0.1111111111111111, \"#46039f\"], [0.2222222222222222, \"#7201a8\"], [0.3333333333333333, \"#9c179e\"], [0.4444444444444444, \"#bd3786\"], [0.5555555555555556, \"#d8576b\"], [0.6666666666666666, \"#ed7953\"], [0.7777777777777778, \"#fb9f3a\"], [0.8888888888888888, \"#fdca26\"], [1.0, \"#f0f921\"]], \"type\": \"surface\"}], \"table\": [{\"cells\": {\"fill\": {\"color\": \"#EBF0F8\"}, \"line\": {\"color\": \"white\"}}, \"header\": {\"fill\": {\"color\": \"#C8D4E3\"}, \"line\": {\"color\": \"white\"}}, \"type\": \"table\"}]}, \"layout\": {\"annotationdefaults\": {\"arrowcolor\": \"#2a3f5f\", \"arrowhead\": 0, \"arrowwidth\": 1}, \"coloraxis\": {\"colorbar\": {\"outlinewidth\": 0, \"ticks\": \"\"}}, \"colorscale\": {\"diverging\": [[0, \"#8e0152\"], [0.1, \"#c51b7d\"], [0.2, \"#de77ae\"], [0.3, \"#f1b6da\"], [0.4, \"#fde0ef\"], [0.5, \"#f7f7f7\"], [0.6, \"#e6f5d0\"], [0.7, \"#b8e186\"], [0.8, \"#7fbc41\"], [0.9, \"#4d9221\"], [1, \"#276419\"]], \"sequential\": [[0.0, \"#0d0887\"], [0.1111111111111111, \"#46039f\"], [0.2222222222222222, \"#7201a8\"], [0.3333333333333333, \"#9c179e\"], [0.4444444444444444, \"#bd3786\"], [0.5555555555555556, \"#d8576b\"], [0.6666666666666666, \"#ed7953\"], [0.7777777777777778, \"#fb9f3a\"], [0.8888888888888888, \"#fdca26\"], [1.0, \"#f0f921\"]], \"sequentialminus\": [[0.0, \"#0d0887\"], [0.1111111111111111, \"#46039f\"], [0.2222222222222222, \"#7201a8\"], [0.3333333333333333, \"#9c179e\"], [0.4444444444444444, \"#bd3786\"], [0.5555555555555556, \"#d8576b\"], [0.6666666666666666, \"#ed7953\"], [0.7777777777777778, \"#fb9f3a\"], [0.8888888888888888, \"#fdca26\"], [1.0, \"#f0f921\"]]}, \"colorway\": [\"#636efa\", \"#EF553B\", \"#00cc96\", \"#ab63fa\", \"#FFA15A\", \"#19d3f3\", \"#FF6692\", \"#B6E880\", \"#FF97FF\", \"#FECB52\"], \"font\": {\"color\": \"#2a3f5f\"}, \"geo\": {\"bgcolor\": \"white\", \"lakecolor\": \"white\", \"landcolor\": \"#E5ECF6\", \"showlakes\": true, \"showland\": true, \"subunitcolor\": \"white\"}, \"hoverlabel\": {\"align\": \"left\"}, \"hovermode\": \"closest\", \"mapbox\": {\"style\": \"light\"}, \"paper_bgcolor\": \"white\", \"plot_bgcolor\": \"#E5ECF6\", \"polar\": {\"angularaxis\": {\"gridcolor\": \"white\", \"linecolor\": \"white\", \"ticks\": \"\"}, \"bgcolor\": \"#E5ECF6\", \"radialaxis\": {\"gridcolor\": \"white\", \"linecolor\": \"white\", \"ticks\": \"\"}}, \"scene\": {\"xaxis\": {\"backgroundcolor\": \"#E5ECF6\", \"gridcolor\": \"white\", \"gridwidth\": 2, \"linecolor\": \"white\", \"showbackground\": true, \"ticks\": \"\", \"zerolinecolor\": \"white\"}, \"yaxis\": {\"backgroundcolor\": \"#E5ECF6\", \"gridcolor\": \"white\", \"gridwidth\": 2, \"linecolor\": \"white\", \"showbackground\": true, \"ticks\": \"\", \"zerolinecolor\": \"white\"}, \"zaxis\": {\"backgroundcolor\": \"#E5ECF6\", \"gridcolor\": \"white\", \"gridwidth\": 2, \"linecolor\": \"white\", \"showbackground\": true, \"ticks\": \"\", \"zerolinecolor\": \"white\"}}, \"shapedefaults\": {\"line\": {\"color\": \"#2a3f5f\"}}, \"ternary\": {\"aaxis\": {\"gridcolor\": \"white\", \"linecolor\": \"white\", \"ticks\": \"\"}, \"baxis\": {\"gridcolor\": \"white\", \"linecolor\": \"white\", \"ticks\": \"\"}, \"bgcolor\": \"#E5ECF6\", \"caxis\": {\"gridcolor\": \"white\", \"linecolor\": \"white\", \"ticks\": \"\"}}, \"title\": {\"x\": 0.05}, \"xaxis\": {\"automargin\": true, \"gridcolor\": \"white\", \"linecolor\": \"white\", \"ticks\": \"\", \"title\": {\"standoff\": 15}, \"zerolinecolor\": \"white\", \"zerolinewidth\": 2}, \"yaxis\": {\"automargin\": true, \"gridcolor\": \"white\", \"linecolor\": \"white\", \"ticks\": \"\", \"title\": {\"standoff\": 15}, \"zerolinecolor\": \"white\", \"zerolinewidth\": 2}}}, \"title\": {\"text\": \"Ndgc @ 10\"}, \"xaxis\": {\"anchor\": \"y\", \"domain\": [0.0, 1.0], \"title\": {\"text\": \"query_model\"}}, \"yaxis\": {\"anchor\": \"x\", \"domain\": [0.0, 1.0], \"title\": {\"text\": \"value\"}}},\n",
       "                        {\"responsive\": true}\n",
       "                    ).then(function(){\n",
       "                            \n",
       "var gd = document.getElementById('07cc9533-0361-4f97-9b9f-6527f698125d');\n",
       "var x = new MutationObserver(function (mutations, observer) {{\n",
       "        var display = window.getComputedStyle(gd).display;\n",
       "        if (!display || display === 'none') {{\n",
       "            console.log([gd, 'removed!']);\n",
       "            Plotly.purge(gd);\n",
       "            observer.disconnect();\n",
       "        }}\n",
       "}});\n",
       "\n",
       "// Listen for the removal of the full notebook cells\n",
       "var notebookContainer = gd.closest('#notebook-container');\n",
       "if (notebookContainer) {{\n",
       "    x.observe(notebookContainer, {childList: true});\n",
       "}}\n",
       "\n",
       "// Listen for the clearing of the current output cell\n",
       "var outputEl = gd.closest('.output');\n",
       "if (outputEl) {{\n",
       "    x.observe(outputEl, {childList: true});\n",
       "}}\n",
       "\n",
       "                        })\n",
       "                };\n",
       "                });\n",
       "            </script>\n",
       "        </div>"
      ]
     },
     "metadata": {},
     "output_type": "display_data"
    }
   ],
   "source": [
    "fig = px.box(\n",
    "    metric_values_bert_abstract[metric_values_bert_abstract.metric == \"ndcg_10\"],\n",
    "    x=\"query_model\",\n",
    "    y=\"value\",\n",
    "    title=\"Ndgc @ 10\",\n",
    "    points=\"all\"\n",
    ")\n",
    "fig.show()\n"
   ]
  },
  {
   "cell_type": "markdown",
   "metadata": {},
   "source": [
    "## Combining term-match and semantic"
   ]
  },
  {
   "cell_type": "code",
   "execution_count": null,
   "metadata": {},
   "outputs": [],
   "source": [
    "term_match_model = \"0.25*bm25(title)+0.6*bm25(abstract)+0.15*bm25(body)\"\n",
    "semantic_model = \"sum(query(tensor)*attribute(title_embedding_cordbert)*query(linear_layer))\"\n",
    "semantic_model = \"sum(query(tensor)*attribute(title_embedding_cordbert))\"\n",
    "\n",
    "ranking_name = []\n",
    "ranking_detail = []\n",
    "alpha = [0.1,0.2, 0.3,0.4, 0.5, 0.6,0.7,0.8,0.9,1.0]\n",
    "\n",
    "\n",
    "print(alpha)\n",
    "\n",
    "for a in alpha:\n",
    "    b = round(1 - a + 0.001,2)\n",
    "    #print(a,b,c,\"\\t\",round(a+b+c,1))\n",
    "    name =   str(a) + \"term_mod\" + str(b) + \"sem_mod\" \n",
    "    print(name)\n",
    "    rank = str(a) + \"*(\" + term_match_model +  \")+\" + str(b) + \"*\"+ semantic_model\n",
    "    print(rank)\n",
    "    ranking_name.append(name)\n",
    "    ranking_detail.append(rank)\n",
    "\n",
    "    app_package.schema.add_rank_profile(\n",
    "        RankProfile(name = name,\n",
    "        inherits = \"default\",\n",
    "        first_phase = rank))\n"
   ]
  },
  {
   "cell_type": "code",
   "execution_count": null,
   "metadata": {},
   "outputs": [],
   "source": [
    "name = \"cord_19_application\"\n",
    "\n",
    "path = \"C:\\\\Users\\\\User\\\\OneDrive - NTNU\\\\NTNU\\\\Prosjekt oppgave NLP\\\\docker_apps\\\\\"\n",
    "\n",
    "\n",
    "app = vespa_docker.deploy(application_package=app_package, \n",
    "                          disk_folder=path + name,\n",
    "                          container_memory = '8G')"
   ]
  },
  {
   "cell_type": "code",
   "execution_count": null,
   "metadata": {},
   "outputs": [],
   "source": [
    "mean_values = []\n",
    "std_values = []\n",
    "\n",
    "\n",
    "for n in ranking_name:\n",
    "    model = QueryModel(\n",
    "        query_properties=[QueryRankingFeature(name=\"tensor\", mapping=covidbert_encoder)],\n",
    "        match_phase=Union(OR(),\n",
    "                          ANN(doc_vector=\"title_embedding_cordbert\",\n",
    "                       query_vector=\"tensor\",\n",
    "                       hits=50,\n",
    "                       label=\"ann_title\")),\n",
    "        rank_profile=Ranking(name=n)\n",
    "    )\n",
    "    evaluation = app.evaluate(\n",
    "        labeled_data = labeled_data,\n",
    "        eval_metrics = eval_metrics,\n",
    "        query_model = model,\n",
    "        id_field = \"id\",\n",
    "        hits = 10\n",
    "    )\n",
    "    mean = evaluation.mean()\n",
    "    std = evaluation.std()\n",
    "    print(mean)\n",
    "    mean_values.append(mean)\n",
    "    std_values.append(std)\n",
    "    print(\"name: \", n, \"\\t\" , \"ndcg@10 mean value: \", round(mean[\"ndcg_10_value\"],3),\n",
    "         \"\\t ndcg@10 std value: \", round(std[\"ndcg_10_value\"],3))"
   ]
  },
  {
   "cell_type": "code",
   "execution_count": null,
   "metadata": {},
   "outputs": [],
   "source": [
    "for k in mean_values:\n",
    "    print(k[\"ndcg_10_value\"])"
   ]
  },
  {
   "cell_type": "code",
   "execution_count": null,
   "metadata": {},
   "outputs": [],
   "source": []
  }
 ],
 "metadata": {
  "celltoolbar": "Tags",
  "kernelspec": {
   "display_name": "Python 3",
   "language": "python",
   "name": "python3"
  },
  "language_info": {
   "codemirror_mode": {
    "name": "ipython",
    "version": 3
   },
   "file_extension": ".py",
   "mimetype": "text/x-python",
   "name": "python",
   "nbconvert_exporter": "python",
   "pygments_lexer": "ipython3",
   "version": "3.7.3"
  }
 },
 "nbformat": 4,
 "nbformat_minor": 4
}

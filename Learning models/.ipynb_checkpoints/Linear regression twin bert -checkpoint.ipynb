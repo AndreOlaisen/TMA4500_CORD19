{
 "cells": [
  {
   "cell_type": "code",
   "execution_count": 1,
   "metadata": {},
   "outputs": [],
   "source": [
    "import pandas as pd\n",
    "import matplotlib.pyplot as plt\n",
    "import torch\n",
    "import torch.optim as optim\n",
    "import pickle\n",
    "import torch.nn as nn\n",
    "from torch.autograd import Variable\n",
    "import random"
   ]
  },
  {
   "cell_type": "code",
   "execution_count": 2,
   "metadata": {},
   "outputs": [],
   "source": [
    "#TODO add split 1-35 train and 36-50 test"
   ]
  },
  {
   "cell_type": "markdown",
   "metadata": {},
   "source": [
    "## Create dataset"
   ]
  },
  {
   "cell_type": "code",
   "execution_count": 3,
   "metadata": {},
   "outputs": [
    {
     "data": {
      "text/html": [
       "<div>\n",
       "<style scoped>\n",
       "    .dataframe tbody tr th:only-of-type {\n",
       "        vertical-align: middle;\n",
       "    }\n",
       "\n",
       "    .dataframe tbody tr th {\n",
       "        vertical-align: top;\n",
       "    }\n",
       "\n",
       "    .dataframe thead th {\n",
       "        text-align: right;\n",
       "    }\n",
       "</style>\n",
       "<table border=\"1\" class=\"dataframe\">\n",
       "  <thead>\n",
       "    <tr style=\"text-align: right;\">\n",
       "      <th></th>\n",
       "      <th>Unnamed: 0</th>\n",
       "      <th>topic_id</th>\n",
       "      <th>round_id</th>\n",
       "      <th>cord_uid</th>\n",
       "      <th>relevancy</th>\n",
       "    </tr>\n",
       "  </thead>\n",
       "  <tbody>\n",
       "    <tr>\n",
       "      <th>0</th>\n",
       "      <td>0</td>\n",
       "      <td>1</td>\n",
       "      <td>4.5</td>\n",
       "      <td>005b2j4b</td>\n",
       "      <td>2</td>\n",
       "    </tr>\n",
       "    <tr>\n",
       "      <th>1</th>\n",
       "      <td>1</td>\n",
       "      <td>1</td>\n",
       "      <td>4.0</td>\n",
       "      <td>00fmeepz</td>\n",
       "      <td>1</td>\n",
       "    </tr>\n",
       "    <tr>\n",
       "      <th>2</th>\n",
       "      <td>2</td>\n",
       "      <td>1</td>\n",
       "      <td>0.5</td>\n",
       "      <td>010vptx3</td>\n",
       "      <td>2</td>\n",
       "    </tr>\n",
       "    <tr>\n",
       "      <th>3</th>\n",
       "      <td>3</td>\n",
       "      <td>1</td>\n",
       "      <td>2.5</td>\n",
       "      <td>0194oljo</td>\n",
       "      <td>1</td>\n",
       "    </tr>\n",
       "    <tr>\n",
       "      <th>4</th>\n",
       "      <td>4</td>\n",
       "      <td>1</td>\n",
       "      <td>4.0</td>\n",
       "      <td>021q9884</td>\n",
       "      <td>1</td>\n",
       "    </tr>\n",
       "  </tbody>\n",
       "</table>\n",
       "</div>"
      ],
      "text/plain": [
       "   Unnamed: 0  topic_id  round_id  cord_uid  relevancy\n",
       "0           0         1       4.5  005b2j4b          2\n",
       "1           1         1       4.0  00fmeepz          1\n",
       "2           2         1       0.5  010vptx3          2\n",
       "3           3         1       2.5  0194oljo          1\n",
       "4           4         1       4.0  021q9884          1"
      ]
     },
     "execution_count": 3,
     "metadata": {},
     "output_type": "execute_result"
    }
   ],
   "source": [
    "# loading relevancy data\n",
    "\n",
    "path = 'C:/Users/User/OneDrive - NTNU/NTNU/Prosjekt oppgave NLP/dataset/CORD-19/'\n",
    "file = 'relevance_data.csv'\n",
    "\n",
    "label_data = pd.read_csv(path + file)\n",
    "label_data.head()"
   ]
  },
  {
   "cell_type": "code",
   "execution_count": 4,
   "metadata": {},
   "outputs": [
    {
     "data": {
      "text/html": [
       "<div>\n",
       "<style scoped>\n",
       "    .dataframe tbody tr th:only-of-type {\n",
       "        vertical-align: middle;\n",
       "    }\n",
       "\n",
       "    .dataframe tbody tr th {\n",
       "        vertical-align: top;\n",
       "    }\n",
       "\n",
       "    .dataframe thead th {\n",
       "        text-align: right;\n",
       "    }\n",
       "</style>\n",
       "<table border=\"1\" class=\"dataframe\">\n",
       "  <thead>\n",
       "    <tr style=\"text-align: right;\">\n",
       "      <th></th>\n",
       "      <th>query_id</th>\n",
       "      <th>query</th>\n",
       "      <th>question</th>\n",
       "      <th>narrative</th>\n",
       "    </tr>\n",
       "  </thead>\n",
       "  <tbody>\n",
       "    <tr>\n",
       "      <th>0</th>\n",
       "      <td>1</td>\n",
       "      <td>coronavirus origin</td>\n",
       "      <td>what is the origin of COVID-19</td>\n",
       "      <td>seeking range of information about the SARS-Co...</td>\n",
       "    </tr>\n",
       "    <tr>\n",
       "      <th>1</th>\n",
       "      <td>2</td>\n",
       "      <td>coronavirus response to weather changes</td>\n",
       "      <td>how does the coronavirus respond to changes in...</td>\n",
       "      <td>seeking range of information about the SARS-Co...</td>\n",
       "    </tr>\n",
       "    <tr>\n",
       "      <th>2</th>\n",
       "      <td>3</td>\n",
       "      <td>coronavirus immunity</td>\n",
       "      <td>will SARS-CoV2 infected people develop immunit...</td>\n",
       "      <td>seeking studies of immunity developed due to i...</td>\n",
       "    </tr>\n",
       "    <tr>\n",
       "      <th>3</th>\n",
       "      <td>4</td>\n",
       "      <td>how do people die from the coronavirus</td>\n",
       "      <td>what causes death from Covid-19?</td>\n",
       "      <td>Studies looking at mechanisms of death from Co...</td>\n",
       "    </tr>\n",
       "    <tr>\n",
       "      <th>4</th>\n",
       "      <td>5</td>\n",
       "      <td>animal models of COVID-19</td>\n",
       "      <td>what drugs have been active against SARS-CoV o...</td>\n",
       "      <td>Papers that describe the results  of testing d...</td>\n",
       "    </tr>\n",
       "  </tbody>\n",
       "</table>\n",
       "</div>"
      ],
      "text/plain": [
       "   query_id                                    query  \\\n",
       "0         1                       coronavirus origin   \n",
       "1         2  coronavirus response to weather changes   \n",
       "2         3                     coronavirus immunity   \n",
       "3         4   how do people die from the coronavirus   \n",
       "4         5                animal models of COVID-19   \n",
       "\n",
       "                                            question  \\\n",
       "0                     what is the origin of COVID-19   \n",
       "1  how does the coronavirus respond to changes in...   \n",
       "2  will SARS-CoV2 infected people develop immunit...   \n",
       "3                   what causes death from Covid-19?   \n",
       "4  what drugs have been active against SARS-CoV o...   \n",
       "\n",
       "                                           narrative  \n",
       "0  seeking range of information about the SARS-Co...  \n",
       "1  seeking range of information about the SARS-Co...  \n",
       "2  seeking studies of immunity developed due to i...  \n",
       "3  Studies looking at mechanisms of death from Co...  \n",
       "4  Papers that describe the results  of testing d...  "
      ]
     },
     "execution_count": 4,
     "metadata": {},
     "output_type": "execute_result"
    }
   ],
   "source": [
    "# loading topics data\n",
    "\n",
    "path = 'C:/Users/User/OneDrive - NTNU/NTNU/Prosjekt oppgave NLP/dataset/CORD-19/'\n",
    "file = 'topics.csv'\n",
    "\n",
    "topics = pd.read_csv(path + file)\n",
    "topics.head()"
   ]
  },
  {
   "cell_type": "code",
   "execution_count": 5,
   "metadata": {},
   "outputs": [
    {
     "data": {
      "text/plain": [
       "69318"
      ]
     },
     "execution_count": 5,
     "metadata": {},
     "output_type": "execute_result"
    }
   ],
   "source": [
    "len(label_data)"
   ]
  },
  {
   "cell_type": "code",
   "execution_count": 6,
   "metadata": {},
   "outputs": [],
   "source": [
    "train_topics = [i+1 for i in range(35)]\n",
    "test_topics = [i+1 for i in range(35,50)]"
   ]
  },
  {
   "cell_type": "code",
   "execution_count": 7,
   "metadata": {},
   "outputs": [],
   "source": [
    "# available models: ['bert-base-uncased', \"allenai/scibert_scivocab_uncased\", \"gsarti/covidbert-nli\"]\n",
    "\n",
    "def normalize_tensor(tensor):\n",
    "    tensor_normed = []\n",
    "    norm = torch.norm(tensor)\n",
    "    if norm>0:\n",
    "        tensor_normed = tensor/norm\n",
    "    else:\n",
    "        tensor_normed = tensor\n",
    "    return tensor_normed\n",
    "\n",
    "def get_tesors(row, topic_field, doc_field, model):\n",
    "    topic_path = \"C:/Users/User/Documents/NTNU/NLP/CORD-19/topic_embeddings/\"\n",
    "    doc_path = \"C:/Users/User/Documents/NTNU/NLP/CORD-19/Embeddings/786/\"\n",
    "    doc_id = row[\"cord_uid\"]\n",
    "    topic_id = row[\"topic_id\"]\n",
    "    topic_tensor = []\n",
    "    doc_tensor = []\n",
    "    \n",
    "    doc_embedding_file = doc_path + doc_id + \".txt\"\n",
    "    try:\n",
    "        with open(doc_embedding_file, \"rb\") as fp:   # Unpickling\n",
    "            doc_embedding = pickle.load(fp)\n",
    "    except:\n",
    "        return [[0]], [[0]]\n",
    "        \n",
    "    doc_tensor = doc_embedding[\"models\"][model][doc_field]\n",
    "            \n",
    "    topic_embedding_file = topic_path + str(topic_id) + \".txt\"\n",
    "    with open(topic_embedding_file, \"rb\") as fp:   # Unpickling\n",
    "        topic_embedding = pickle.load(fp)\n",
    "        \n",
    "    topic_tensor =  topic_embedding[\"models\"][model][topic_field]\n",
    "    \n",
    "    topic_tensor = normalize_tensor(topic_tensor)\n",
    "    doc_tensor = normalize_tensor(doc_tensor)\n",
    "    \n",
    "    return topic_tensor, doc_tensor\n",
    "    "
   ]
  },
  {
   "cell_type": "code",
   "execution_count": 8,
   "metadata": {},
   "outputs": [],
   "source": [
    "def join_tensors(tensor_a,tensor_b):\n",
    "    n = len(tensor_a)\n",
    "    m = len(tensor_b)\n",
    "    c = torch.empty(n + m)\n",
    "    c[0:n] = tensor_a\n",
    "    c[n:(n+m)] = tensor_b\n",
    "    return c"
   ]
  },
  {
   "cell_type": "code",
   "execution_count": 9,
   "metadata": {},
   "outputs": [],
   "source": [
    "def isNaN(num):\n",
    "    return num != num"
   ]
  },
  {
   "cell_type": "code",
   "execution_count": null,
   "metadata": {},
   "outputs": [],
   "source": []
  },
  {
   "cell_type": "code",
   "execution_count": 10,
   "metadata": {},
   "outputs": [],
   "source": [
    "def load_data(n_datapoints, doc_field, query_field, encoder_model):\n",
    "    \n",
    "    topic_dataset = torch.empty(n_datapoints, 768)\n",
    "    document_dataset = torch.empty(n_datapoints, 768)\n",
    "    rel = torch.empty(n_datapoints)\n",
    "    \n",
    "    miss = 0\n",
    "    i = 0\n",
    "    for idx, row in label_data.iterrows():\n",
    "        if idx < num:\n",
    "            a, b = get_tesors(row, query_field, doc_field, encoder_model)\n",
    "            if len(a[0]) != 1:\n",
    "              \n",
    "                topic_dataset[i] = a[0]\n",
    "                document_dataset[i] = b[0]\n",
    "        \n",
    "                rel[i] = row[\"relevancy\"]\n",
    "                i += 1\n",
    "            else:\n",
    "                miss += 1\n",
    "            if(idx % 5000) == 0:\n",
    "                print(idx)\n",
    "    \n",
    "    document_dataset = document_dataset[0:(num-miss)]\n",
    "    topic_dataset = topic_dataset[0:(num-miss)]\n",
    "    rel = rel[0:(num-miss)]\n",
    "    \n",
    "    return topic_dataset, document_dataset, rel, miss"
   ]
  },
  {
   "cell_type": "code",
   "execution_count": 11,
   "metadata": {},
   "outputs": [],
   "source": [
    "def load_data_top_id(type_d, doc_field, query_field, encoder_model):\n",
    "    \n",
    "    label_dat_top = []\n",
    "    if type_d == \"train\":\n",
    "        label_dat_top = label_data[label_data[\"topic_id\"] < 36]\n",
    "    else:\n",
    "        label_dat_top = label_data[label_data[\"topic_id\"] > 35]\n",
    "        \n",
    "    n_datapoints = len(label_dat_top[\"topic_id\"])\n",
    "    print(\"Number of datapoints for \",type_d,\" \",n_datapoints)\n",
    "    topic_dataset = torch.empty(n_datapoints, 768)\n",
    "    document_dataset = torch.empty(n_datapoints, 768)\n",
    "    rel = torch.empty(n_datapoints)\n",
    "    \n",
    "    miss = 0\n",
    "    i = 0\n",
    "    for idx, row in label_dat_top.iterrows():\n",
    "        a, b = get_tesors(row, query_field, doc_field, encoder_model)\n",
    "        if len(a[0]) != 1:\n",
    "\n",
    "            topic_dataset[i] = a[0]\n",
    "            document_dataset[i] = b[0]\n",
    "\n",
    "            rel[i] = row[\"relevancy\"]\n",
    "            i += 1\n",
    "        else:\n",
    "            miss += 1\n",
    "        if(idx % 5000) == 0:\n",
    "            print(idx)\n",
    "    \n",
    "    document_dataset = document_dataset[0:(num-miss)]\n",
    "    topic_dataset = topic_dataset[0:(num-miss)]\n",
    "    rel = rel[0:(num-miss)]\n",
    "    \n",
    "    return topic_dataset, document_dataset, rel, miss"
   ]
  },
  {
   "cell_type": "code",
   "execution_count": 57,
   "metadata": {},
   "outputs": [],
   "source": [
    "def join_datasets(doc, query, relevancy, num_class, type_join):\n",
    "    relevancy_temp = torch.empty(len(relevancy))\n",
    "    for i , rel in enumerate(relevancy):\n",
    "        r = rel\n",
    "        if num_class == 2:\n",
    "            if rel > 0.01:\n",
    "                r = 1\n",
    "        relevancy_temp[i] = r\n",
    "\n",
    "    n = len(relevancy_temp)\n",
    "    X_dataset = []\n",
    "    \n",
    "    if type_join == \"multi\":\n",
    "        X_dataset = torch.empty(n, 768)\n",
    "        for i in range(n):\n",
    "            X_dataset[i] = doc[i]*query[i]\n",
    "    elif type_join == \"substract\":\n",
    "        X_dataset = torch.empty(n, 768)\n",
    "        for i in range(n):\n",
    "            X_dataset[i] = (doc[i] - query[i])\n",
    "    else: \n",
    "        X_dataset = torch.empty(n, 768*2)\n",
    "        for i in range(n):\n",
    "            X_dataset[i] = join_tensors(doc[i],query[i])\n",
    "    joint_dataset = torch.cat((X_dataset, relevancy_temp.unsqueeze(1)), 1)\n",
    "    return joint_dataset"
   ]
  },
  {
   "cell_type": "code",
   "execution_count": 58,
   "metadata": {},
   "outputs": [],
   "source": [
    "#loading \n",
    "num = 40000 # max: 69318\n",
    "\n",
    "available_models = ['bert-base-uncased', \"allenai/scibert_scivocab_uncased\", \"gsarti/covidbert-nli\"]\n",
    "bert_model = available_models[2]\n",
    "query_field = \"query\"\n",
    "doc_field = \"title\"\n",
    "\n"
   ]
  },
  {
   "cell_type": "code",
   "execution_count": 59,
   "metadata": {},
   "outputs": [
    {
     "data": {
      "text/html": [
       "<div>\n",
       "<style scoped>\n",
       "    .dataframe tbody tr th:only-of-type {\n",
       "        vertical-align: middle;\n",
       "    }\n",
       "\n",
       "    .dataframe tbody tr th {\n",
       "        vertical-align: top;\n",
       "    }\n",
       "\n",
       "    .dataframe thead th {\n",
       "        text-align: right;\n",
       "    }\n",
       "</style>\n",
       "<table border=\"1\" class=\"dataframe\">\n",
       "  <thead>\n",
       "    <tr style=\"text-align: right;\">\n",
       "      <th></th>\n",
       "      <th>Unnamed: 0</th>\n",
       "      <th>topic_id</th>\n",
       "      <th>round_id</th>\n",
       "      <th>cord_uid</th>\n",
       "      <th>relevancy</th>\n",
       "    </tr>\n",
       "  </thead>\n",
       "  <tbody>\n",
       "    <tr>\n",
       "      <th>0</th>\n",
       "      <td>0</td>\n",
       "      <td>1</td>\n",
       "      <td>4.5</td>\n",
       "      <td>005b2j4b</td>\n",
       "      <td>2</td>\n",
       "    </tr>\n",
       "    <tr>\n",
       "      <th>1</th>\n",
       "      <td>1</td>\n",
       "      <td>1</td>\n",
       "      <td>4.0</td>\n",
       "      <td>00fmeepz</td>\n",
       "      <td>1</td>\n",
       "    </tr>\n",
       "    <tr>\n",
       "      <th>2</th>\n",
       "      <td>2</td>\n",
       "      <td>1</td>\n",
       "      <td>0.5</td>\n",
       "      <td>010vptx3</td>\n",
       "      <td>2</td>\n",
       "    </tr>\n",
       "    <tr>\n",
       "      <th>3</th>\n",
       "      <td>3</td>\n",
       "      <td>1</td>\n",
       "      <td>2.5</td>\n",
       "      <td>0194oljo</td>\n",
       "      <td>1</td>\n",
       "    </tr>\n",
       "    <tr>\n",
       "      <th>4</th>\n",
       "      <td>4</td>\n",
       "      <td>1</td>\n",
       "      <td>4.0</td>\n",
       "      <td>021q9884</td>\n",
       "      <td>1</td>\n",
       "    </tr>\n",
       "  </tbody>\n",
       "</table>\n",
       "</div>"
      ],
      "text/plain": [
       "   Unnamed: 0  topic_id  round_id  cord_uid  relevancy\n",
       "0           0         1       4.5  005b2j4b          2\n",
       "1           1         1       4.0  00fmeepz          1\n",
       "2           2         1       0.5  010vptx3          2\n",
       "3           3         1       2.5  0194oljo          1\n",
       "4           4         1       4.0  021q9884          1"
      ]
     },
     "execution_count": 59,
     "metadata": {},
     "output_type": "execute_result"
    }
   ],
   "source": [
    "label_dat_top = label_data[label_data[\"topic_id\"] < 35]\n",
    "label_dat_top.head()   "
   ]
  },
  {
   "cell_type": "code",
   "execution_count": 60,
   "metadata": {},
   "outputs": [
    {
     "name": "stdout",
     "output_type": "stream",
     "text": [
      "Number of datapoints for  train   52865\n",
      "0\n",
      "5000\n",
      "10000\n",
      "15000\n",
      "20000\n",
      "25000\n",
      "30000\n",
      "35000\n",
      "40000\n",
      "45000\n",
      "50000\n",
      "Number of datapoints for  test   16453\n",
      "55000\n",
      "60000\n",
      "65000\n"
     ]
    }
   ],
   "source": [
    "topic_dat_train, doc_dat_train, rel_dat_train, miss_train  = load_data_top_id(\"train\", doc_field, query_field, bert_model)\n",
    "topic_dat_test, doc_dat_test, rel_dat_test, miss_test  = load_data_top_id(\"test\", doc_field, query_field, bert_model)"
   ]
  },
  {
   "cell_type": "code",
   "execution_count": 61,
   "metadata": {},
   "outputs": [],
   "source": [
    "joining_type = \"substract\"\n",
    "\n",
    "# Model Hyper Parameters \n",
    "input_size = 768\n",
    "if joining_type == \"sum\":\n",
    "    input_size = 768*2\n",
    "\n",
    "model_type = \"simple\"\n",
    "num_classes = 2\n",
    "\n",
    "\n"
   ]
  },
  {
   "cell_type": "code",
   "execution_count": 62,
   "metadata": {},
   "outputs": [
    {
     "name": "stdout",
     "output_type": "stream",
     "text": [
      "[37935, 768]\n",
      "[37935, 768]\n",
      "[37935]\n",
      "[16453, 768]\n",
      "[16453, 768]\n",
      "[16453]\n"
     ]
    }
   ],
   "source": [
    "print(list(topic_dat_train.size()))\n",
    "print(list(doc_dat_train.size()))\n",
    "print(list(rel_dat_train.size()))\n",
    "print(list(topic_dat_test.size()))\n",
    "print(list(doc_dat_test.size()))\n",
    "print(list(rel_dat_test.size()))"
   ]
  },
  {
   "cell_type": "code",
   "execution_count": 63,
   "metadata": {},
   "outputs": [
    {
     "name": "stdout",
     "output_type": "stream",
     "text": [
      "0.6459470146302887\n",
      "0.1605904837221563\n",
      "0.5478636114994226\n",
      "0.1651978362608643\n"
     ]
    }
   ],
   "source": [
    "\n",
    "print(rel_dat_train.int().tolist().count(0)/len(rel_dat_train))\n",
    "print(rel_dat_train.int().tolist().count(1)/len(rel_dat_train))\n",
    "if num_classes == 3:\n",
    "    print(rel_dat_train.int().tolist().count(2)/len(rel_dat_train))\n",
    "\n",
    "print(rel_dat_test.int().tolist().count(0)/len(rel_dat_test))\n",
    "print(rel_dat_test.int().tolist().count(1)/len(rel_dat_test))\n",
    "if num_classes == 3:\n",
    "    print(rel_dat_test.int().tolist().count(2)/len(rel_dat_test))\n",
    "    \n",
    "\n"
   ]
  },
  {
   "cell_type": "code",
   "execution_count": 64,
   "metadata": {},
   "outputs": [],
   "source": [
    "train_data = join_datasets(topic_dat_train, doc_dat_train, rel_dat_train, num_classes, joining_type)\n",
    "test_data = join_datasets(topic_dat_test, doc_dat_test, rel_dat_test, num_classes, joining_type)"
   ]
  },
  {
   "cell_type": "code",
   "execution_count": 65,
   "metadata": {},
   "outputs": [
    {
     "name": "stdout",
     "output_type": "stream",
     "text": [
      "[37935, 769]\n",
      "[16453, 769]\n",
      "tensor([2., 1., 2.,  ..., 2., 1., 0.])\n"
     ]
    }
   ],
   "source": [
    "print(list(train_data.size()))\n",
    "print(list(test_data.size()))\n",
    "print(rel_dat_train)"
   ]
  },
  {
   "cell_type": "code",
   "execution_count": 66,
   "metadata": {},
   "outputs": [
    {
     "name": "stdout",
     "output_type": "stream",
     "text": [
      "[54388, 768]\n",
      "[54388]\n"
     ]
    }
   ],
   "source": [
    "y = train_data[:,input_size]\n",
    "\n",
    "X = train_data[:,0:(input_size)]\n",
    "y = torch.cat((train_data[:,input_size],test_data[:,input_size]))\n",
    "X = torch.cat((train_data[:,0:(input_size)] ,test_data[:,0:(input_size)] ))\n",
    "print(list(X.size()))\n",
    "print(list(y.size()))"
   ]
  },
  {
   "cell_type": "code",
   "execution_count": null,
   "metadata": {},
   "outputs": [],
   "source": []
  },
  {
   "cell_type": "markdown",
   "metadata": {},
   "source": [
    "model\n",
    "\n",
    "$$\n",
    "    \\hat{\\beta} = (X^TX)^{-1}X^Ty\n",
    "$$"
   ]
  },
  {
   "cell_type": "code",
   "execution_count": 67,
   "metadata": {},
   "outputs": [
    {
     "name": "stdout",
     "output_type": "stream",
     "text": [
      "[768, 54388]\n",
      "[54388, 768]\n",
      "[768, 768]\n",
      "[768, 768]\n",
      "[768, 54388]\n",
      "[54388]\n",
      "[768]\n"
     ]
    }
   ],
   "source": [
    "l = X.t()\n",
    "print(list(l.size()))\n",
    "print(list(X.size()))\n",
    "l = torch.mm(l, X)\n",
    "print(list(l.size()))\n",
    "l = torch.inverse(l)\n",
    "print(list(l.size()))\n",
    "l = torch.mm(l,X.t())\n",
    "print(list(l.size()))\n",
    "print(list(y.t().size()))\n",
    "beta_hat = torch.mv(l,y)\n",
    "print(list(beta_hat.size()))"
   ]
  },
  {
   "cell_type": "code",
   "execution_count": 68,
   "metadata": {},
   "outputs": [
    {
     "name": "stdout",
     "output_type": "stream",
     "text": [
      "[3.343243360519409, 0.07872378826141357, 1.0198209285736084, -1.8406715393066406, 0.35101592540740967, -0.9821509718894958, 0.8994065523147583, 3.535907745361328, -1.8869065046310425, -2.3828532695770264, 4.185841083526611, -0.12538427114486694, 4.722455024719238, 1.7753578424453735, -0.3271970748901367, -0.265773206949234, -0.9721871614456177, -1.8194386959075928, 7.150609016418457, 0.9408140182495117, 0.46239712834358215, -0.15392979979515076, 2.086171865463257, -7.0507988929748535, 3.017953872680664, -1.0077815055847168, -2.7855660915374756, -1.8856056928634644, -0.6368445158004761, -1.026279091835022, 1.6030490398406982, -6.169717788696289, 1.6273599863052368, 1.236592173576355, -0.2790412902832031, 2.634063243865967, 2.243485450744629, -1.6254085302352905, -1.2506624460220337, -3.9015111923217773, 2.468982219696045, 5.747091770172119, 1.6186659336090088, -1.3950080871582031, 2.646726369857788, -6.398411750793457, 0.18944349884986877, 3.9617667198181152, -4.349166393280029, -4.116886138916016, 1.7048736810684204, 2.2844908237457275, 4.175932884216309, -4.756326675415039, -3.978908061981201, 3.6092000007629395, -0.2259836196899414, 0.7561198472976685, -2.256959915161133, 2.5918564796447754, 3.9120378494262695, -2.682333469390869, 0.6549034714698792, -0.9179257154464722, -0.13623487949371338, -0.8990244269371033, 2.0418028831481934, -5.261486053466797, 0.544357419013977, -0.19310486316680908, 1.0751365423202515, -7.437687873840332, 0.6049525737762451, -4.155327320098877, 0.6302335858345032, 0.34484532475471497, -1.9381933212280273, 2.522460460662842, 0.07397201657295227, -5.236570358276367, 0.34915149211883545, 3.5885889530181885, 0.8846331834793091, 1.9384384155273438, 1.2810732126235962, 3.221318244934082, -0.4811399281024933, 0.4473644495010376, 1.3083369731903076, -6.328899383544922, -2.817047119140625, 0.04306346923112869, -2.378427267074585, -0.6599465012550354, 4.235863208770752, 1.212038278579712, -4.119990348815918, -0.948657751083374, 2.770693302154541, -0.8396247625350952, -4.460831642150879, 0.8217566609382629, 3.222193479537964, 5.131313800811768, -0.8254910111427307, -3.317317247390747, 0.3893931210041046, 1.0748045444488525, 1.444761872291565, 5.89310359954834, 2.26533842086792, -2.5229644775390625, -0.7273566722869873, 2.609058141708374, -0.5248997211456299, 1.573481559753418, -1.8203670978546143, 1.598983645439148, 5.302923679351807, -2.5039196014404297, 3.378944158554077, 1.4638969898223877, 3.2962393760681152, 0.6434542536735535, -1.9342246055603027, 1.60797917842865, 0.8034223914146423, -1.9604768753051758, -2.473172187805176, -0.9710139036178589, -3.848501205444336, -0.0037630796432495117, 2.9537346363067627, -4.097894668579102, 2.155543327331543, -1.7444610595703125, -3.3304905891418457, 1.5570757389068604, -0.21451586484909058, -1.636113166809082, 3.673004627227783, -0.8348602652549744, -0.6322452425956726, -2.057873249053955, 1.8205102682113647, 0.8801847696304321, -0.05781197547912598, -3.2114405632019043, 0.9424699544906616, 1.7215237617492676, -2.426266670227051, -1.3772799968719482, -0.549324631690979, 0.9713237285614014, 2.8833892345428467, 0.8787916302680969, 1.4981160163879395, -0.37744998931884766, 1.6810173988342285, 1.5494110584259033, 2.008683443069458, 0.8741216063499451, 0.14400765299797058, -7.704715728759766, 0.4919242858886719, 0.6620685458183289, 0.928115963935852, -0.6075077056884766, 1.4583253860473633, 0.5975229740142822, -1.933071494102478, -5.002728462219238, -0.732935905456543, 0.10947704315185547, -1.940259337425232, -2.488556385040283, 1.671180009841919, 1.8946772813796997, 5.052963733673096, 0.004472851753234863, 1.2100387811660767, -0.91776442527771, -2.842665910720825, -2.186143636703491, 0.5197999477386475, -0.49122756719589233, -1.331942081451416, 0.2233075648546219, -0.11877560615539551, -0.30166441202163696, -2.58124041557312, -1.7895150184631348, -0.35052090883255005, -6.248139381408691, -4.85547399520874, -6.897373199462891, -0.7144206762313843, -2.6312570571899414, 0.8127453327178955, -1.5060925483703613, -1.9263665676116943, -0.8076379895210266, 2.8786935806274414, -0.18711337447166443, -0.13555902242660522, 0.26379406452178955, -1.2260773181915283, 0.43190526962280273, 3.106919527053833, 1.112089991569519, -0.07425320148468018, 0.048842787742614746, 0.4489808678627014, 0.5616920590400696, -1.229105830192566, 4.314094066619873, 1.1107938289642334, -2.7011642456054688, 2.039490222930908, 3.5434441566467285, -4.9872541427612305, 0.5374590158462524, -2.8665823936462402, -2.422860622406006, -0.30690819025039673, 1.9984716176986694, -1.4129287004470825, 1.5884335041046143, 2.5427539348602295, -1.2930970191955566, -0.773661732673645, -1.9936221837997437, 0.3291636109352112, 0.3719288408756256, -7.253627777099609, -0.1697024405002594, -0.6395776271820068, 1.46149480342865, -1.8660272359848022, 0.7511990666389465, 1.0876058340072632, 0.038101375102996826, 0.06333428621292114, -0.25065547227859497, -2.3454952239990234, -0.2317807674407959, 2.709135055541992, -3.3693997859954834, -1.8092751502990723, 3.8072879314422607, -1.0049805641174316, 1.918675422668457, 1.7665622234344482, -1.070950984954834, 2.957113742828369, 1.1704955101013184, -1.8286134004592896, 3.2705435752868652, -0.8603320717811584, 3.074784755706787, 2.192617416381836, 1.196339726448059, -4.4366350173950195, -0.9550621509552002, -6.702172756195068, 1.0671634674072266, -1.5282509326934814, 2.354257822036743, 0.6330437064170837, -3.631685733795166, -3.5534467697143555, -1.5429234504699707, 0.27108800411224365, 0.1271931231021881, 1.4617465734481812, 2.552107810974121, -4.2736592292785645, 1.472815990447998, -0.7982676029205322, -4.095919609069824, 0.6376699209213257, 1.8063604831695557, 1.1403522491455078, -1.301767349243164, -0.14565014839172363, -2.2385754585266113, 1.7853991985321045, -0.7918585538864136, 0.7584860324859619, 1.3989293575286865, -3.3958606719970703, -2.0965166091918945, -3.657892942428589, -1.3413946628570557, -1.985403060913086, 1.6962127685546875, 7.664082050323486, 1.0539523363113403, -3.1618287563323975, 1.1173961162567139, 1.0336253643035889, 3.26861310005188, -2.85503888130188, -1.878408670425415, 0.3128948509693146, -1.598989725112915, -2.2378218173980713, 2.348341226577759, 2.1912007331848145, -5.815503120422363, -1.8904383182525635, -1.4366517066955566, -0.10639554262161255, 4.718893527984619, 1.4570854902267456, 4.224601745605469, -0.6329313516616821, -0.48530521988868713, -1.2261123657226562, -4.219658851623535, -2.3416666984558105, 3.311958074569702, -0.6263559460639954, -0.3360953629016876, 2.6299827098846436, -2.678582191467285, -0.21556997299194336, -0.36194634437561035, -0.0592208206653595, -4.027298927307129, -2.1675844192504883, -0.3153848648071289, -4.293575286865234, -0.1485522985458374, -1.0178378820419312, -2.149670362472534, 0.6642422676086426, -0.04107791185379028, -0.28727787733078003, -2.7585322856903076, 0.7991699576377869, -0.9859426617622375, -0.6357080936431885, 1.2617321014404297, 1.0127533674240112, 6.461215972900391, 0.3207561671733856, 0.38376569747924805, 0.15670040249824524, -3.534796714782715, 1.8419373035430908, -1.1901395320892334, -1.8277744054794312, 3.219102144241333, 4.150695323944092, 2.3050451278686523, -2.0116071701049805, 0.7249294519424438, -0.013237953186035156, 0.3883171081542969, 0.5932745337486267, 1.3352246284484863, 7.3462395668029785, -0.34679198265075684, 0.11651863157749176, 1.3271753787994385, -2.1039414405822754, -2.5519609451293945, 1.9946730136871338, 0.48665285110473633, 0.6327798962593079, -0.6228773593902588, -0.24988040328025818, 1.8818931579589844, -1.3148196935653687, -2.189788341522217, 2.668097496032715, 1.434180498123169, -0.9788095951080322, 2.0858571529388428, -2.6147046089172363, 1.0613281726837158, 0.5681103467941284, -0.20210090279579163, -1.9889583587646484, 2.4591383934020996, 0.6151436567306519, -1.5640499591827393, 0.8355460166931152, -1.513676643371582, 0.09439963102340698, -0.18302832543849945, -3.8352036476135254, 2.401789665222168, 0.22653935849666595, -1.564372181892395, 1.5560028553009033, -2.2424612045288086, 1.8511996269226074, 4.761075019836426, -1.7002713680267334, 2.4766762256622314, 2.098811388015747, -0.4474772810935974, -1.779500961303711, 1.43463134765625, 4.370579719543457, -6.136931419372559, 0.5019180178642273, -1.396719217300415, 2.9337658882141113, 1.5296940803527832, 0.11338593065738678, -3.981396436691284, 0.25614282488822937, -2.1142728328704834, -6.134451866149902, -1.3746275901794434, 4.696252822875977, 1.9617091417312622, -2.788515090942383, -1.1736221313476562, 1.3770983219146729, 0.7028378248214722, 3.4633049964904785, -2.314146041870117, -1.8772728443145752, -1.120438575744629, 0.34195268154144287, -5.473526954650879, 3.5536656379699707, -0.20011259615421295, -5.576345920562744, 0.9804120659828186, -2.421849489212036, -0.052436113357543945, 2.038973569869995, -0.8746819496154785, 5.272871017456055, -2.212343454360962, 5.114404678344727, -0.12835246324539185, 1.9336357116699219, 1.4125529527664185, -3.7510712146759033, 2.1756248474121094, -1.7097194194793701, 1.5072635412216187, -1.6098840236663818, -1.681502342224121, 0.171932190656662, 1.4562501907348633, -1.1625618934631348, 0.17772918939590454, 4.557351112365723, 1.3354737758636475, 0.3935473561286926, 1.5989131927490234, 0.814825177192688, -1.1753807067871094, 1.4945271015167236, 2.2158002853393555, 0.4224005937576294, -0.9148560762405396, 1.8392369747161865, 1.0493186712265015, -3.974712371826172, 0.4043814539909363, -1.0700446367263794, 1.0161240100860596, 0.560020923614502, -0.19034866988658905, 4.246579647064209, -5.8884477615356445, -0.08160321414470673, 3.3285598754882812, -0.8678205013275146, -0.033001720905303955, 0.4604783356189728, 0.8799630403518677, 0.8647066354751587, -3.232236862182617, 2.055649518966675, -0.0509866327047348, -1.2147929668426514, 1.918558955192566, 3.3238704204559326, 1.3056252002716064, -1.234298586845398, -0.8804553151130676, 1.348875641822815, 2.758978843688965, -0.8193188905715942, -0.3461551368236542, -0.42188993096351624, -0.0981723964214325, -1.440995693206787, -1.6660484075546265, -0.6784220933914185, -1.5347732305526733, -0.9172857403755188, 0.2528771758079529, -2.015380859375, 0.2831900119781494, -3.4003119468688965, 1.2927006483078003, -0.2916475534439087, -0.08060422539710999, 2.829704761505127, -1.166081428527832, -2.7469663619995117, 3.3141918182373047, -1.3681254386901855, -0.8084962964057922, -0.5787699222564697, 3.765470027923584, 1.6965582370758057, -0.22760009765625, 0.5487117171287537, 1.5508499145507812, -4.939214706420898, -2.7955474853515625, -0.3386714458465576, -2.846522808074951, -1.170360803604126, 1.8485242128372192, -3.197300910949707, 1.9009133577346802, -0.9257650375366211, -0.19987410306930542, -0.8685479164123535, -3.8415706157684326, -6.159285545349121, 1.0654741525650024, -2.4175984859466553, 0.6186856031417847, 1.7683322429656982, -2.8377139568328857, 1.536594033241272, 0.6017410755157471, -1.154376745223999, -4.0602874755859375, 0.945188045501709, -0.43149057030677795, 1.6301573514938354, -0.7563402652740479, -2.2536380290985107, 0.5415923595428467, -0.8696545362472534, 1.2784109115600586, 4.241318702697754, -1.0067729949951172, -0.6246426701545715, 2.152653932571411, -5.16033411026001, -2.1105730533599854, 3.145393133163452, 4.59901237487793, -0.2372513711452484, 0.45404720306396484, -3.601841926574707, 1.0603878498077393, -1.3503015041351318, 1.8529449701309204, -2.512730598449707, 1.2626796960830688, 1.4609483480453491, 1.3852076530456543, -4.4565229415893555, 0.1379433274269104, 3.717271327972412, -0.11185908317565918, 0.4394301176071167, -0.09442073106765747, -1.6438992023468018, -1.7556109428405762, -0.9881083369255066, -1.9929314851760864, -4.674746036529541, -5.050870418548584, -1.6069597005844116, 2.5600228309631348, 3.325695514678955, 1.4827431440353394, -3.534165143966675, -1.5983694791793823, -1.19231116771698, -3.426135540008545, -0.24601170420646667, -3.1568448543548584, -1.986090898513794, -2.4119575023651123, 2.400070905685425, -0.8211159110069275, -0.09472870826721191, 7.2374420166015625, 0.1269410252571106, -2.5120255947113037, 0.8025901317596436, 3.704455614089966, -4.952319622039795, -1.3439619541168213, 2.4929747581481934, 1.3939893245697021, 3.2181758880615234, -0.35723960399627686, 1.424286127090454, 1.5817129611968994, -3.4925408363342285, 0.47255969047546387, 1.1738181114196777, 2.783860206604004, -2.412001132965088, 0.2154366374015808, -1.9618054628372192, 0.4540374279022217, -2.5026755332946777, -3.9021854400634766, -1.0454208850860596, 2.114455223083496, 0.3877312242984772, 2.11535906791687, 0.5767831802368164, 0.6175093650817871, 1.950765609741211, 1.8071322441101074, 0.7013800144195557, -2.324043035507202, 2.463350296020508, -0.841205358505249, -0.3140109181404114, -1.0748867988586426, 0.5121713280677795, -3.4495315551757812, -4.037793159484863, 0.457983136177063, 2.362440586090088, -2.346118450164795, -5.434581756591797, -0.40237805247306824, -1.8678169250488281, 0.03748665750026703, 1.712531566619873, 1.0410476922988892, 2.9985172748565674, 0.7846873998641968, -4.846104621887207, 4.811824798583984, -4.362404823303223, -6.375898361206055, 4.394766807556152, -1.4409784078598022, 5.643652439117432, 0.2268490195274353, 1.4851526021957397, -1.359230637550354, -4.295522689819336, -2.1933205127716064, -0.15752997994422913, -2.3721489906311035, 0.8893346786499023, -1.0085161924362183, 2.2726550102233887, -1.0081979036331177, -0.2011452317237854, 2.7533771991729736, 3.4474470615386963, -1.8004426956176758, 2.008274555206299, -0.4828362464904785, -1.9599683284759521, -4.357940673828125, -1.8191279172897339, 0.20380638539791107, -0.4102047085762024, 3.8812782764434814, 0.9788925647735596, 1.6279840469360352, -0.03912915289402008, -2.02536940574646, 0.8627943992614746, 0.2719700038433075, -0.2896423935890198, 0.011389940977096558, 0.7984248399734497, -1.1151974201202393, -0.2639307677745819, 2.475959300994873, 3.524068593978882, 0.8026313185691833, 2.359785318374634, 2.1687209606170654, -0.7007251977920532, 2.9897022247314453, -1.572414755821228, -2.318115711212158, -2.083803653717041, -2.330289363861084, -4.23471212387085, 2.1858224868774414, -1.3942914009094238, -3.319680690765381, 2.9220387935638428, -1.3165254592895508, 3.4453744888305664, -2.483614206314087, -1.9468131065368652, 4.321874141693115, -1.8090896606445312, -2.6836018562316895, 2.8920040130615234, 1.1397044658660889, 1.7956758737564087, -7.622869491577148, 2.2596216201782227, 0.3558639883995056, -0.26089200377464294, 0.9812594652175903, 0.8710845708847046, 3.231701612472534, -0.21369023621082306, 1.1659574508666992, -0.7359683513641357, 0.614776074886322, 0.503433108329773, 0.36642777919769287, 2.357417106628418, -0.22619551420211792, -0.004352569580078125, 1.7821121215820312, 1.6139788627624512, -0.47040224075317383, -0.22377067804336548, 2.275231122970581, -0.3826623857021332, 0.8780255317687988, -0.2072504758834839, -2.880270004272461, 1.1743104457855225, -0.6555836796760559, -0.09503304958343506, 2.6445062160491943, 1.1716346740722656, -0.553259015083313, 0.15008705854415894, 1.1670494079589844, 1.4003019332885742, 0.7279500365257263, 1.947765827178955, -0.3616234064102173, -1.9757270812988281, 2.674975872039795, -2.7608234882354736, 1.9869238138198853, -1.0209934711456299, 2.599318504333496, 1.6697180271148682, -1.1719871759414673, 0.10511153936386108, 2.439103126525879, -1.4050036668777466, 5.644623279571533, -1.3990190029144287, 1.015602707862854, 1.1175522804260254, 1.370699167251587, -0.7007404565811157, -1.5658237934112549]\n"
     ]
    }
   ],
   "source": [
    "print(beta_hat.tolist())"
   ]
  },
  {
   "cell_type": "code",
   "execution_count": 69,
   "metadata": {},
   "outputs": [],
   "source": [
    "y_test = test_data[:,input_size]\n",
    "X_test = test_data[:,0:(input_size)]"
   ]
  },
  {
   "cell_type": "code",
   "execution_count": 70,
   "metadata": {},
   "outputs": [],
   "source": [
    "y_hat =  torch.mv(X_test,beta_hat)"
   ]
  },
  {
   "cell_type": "code",
   "execution_count": 71,
   "metadata": {},
   "outputs": [
    {
     "name": "stdout",
     "output_type": "stream",
     "text": [
      "tensor(-0.6273, grad_fn=<SubBackward0>)\n",
      "(tensor(0.3727, grad_fn=<SelectBackward>), tensor(1., grad_fn=<SelectBackward>))\n",
      "tensor(-0.4148, grad_fn=<SubBackward0>)\n",
      "(tensor(0.5852, grad_fn=<SelectBackward>), tensor(1., grad_fn=<SelectBackward>))\n",
      "tensor(-0.2356, grad_fn=<SubBackward0>)\n",
      "(tensor(0.7644, grad_fn=<SelectBackward>), tensor(1., grad_fn=<SelectBackward>))\n",
      "tensor(-0.3328, grad_fn=<SubBackward0>)\n",
      "(tensor(0.6672, grad_fn=<SelectBackward>), tensor(1., grad_fn=<SelectBackward>))\n",
      "tensor(0.6055, grad_fn=<SubBackward0>)\n",
      "(tensor(0.6055, grad_fn=<SelectBackward>), tensor(0., grad_fn=<SelectBackward>))\n",
      "tensor(0.3195, grad_fn=<SubBackward0>)\n",
      "(tensor(0.3195, grad_fn=<SelectBackward>), tensor(0., grad_fn=<SelectBackward>))\n",
      "tensor(-0.4266, grad_fn=<SubBackward0>)\n",
      "(tensor(0.5734, grad_fn=<SelectBackward>), tensor(1., grad_fn=<SelectBackward>))\n",
      "tensor(-0.4918, grad_fn=<SubBackward0>)\n",
      "(tensor(0.5082, grad_fn=<SelectBackward>), tensor(1., grad_fn=<SelectBackward>))\n",
      "tensor(-0.5573, grad_fn=<SubBackward0>)\n",
      "(tensor(0.4427, grad_fn=<SelectBackward>), tensor(1., grad_fn=<SelectBackward>))\n",
      "tensor(0.3899, grad_fn=<SubBackward0>)\n",
      "(tensor(0.3899, grad_fn=<SelectBackward>), tensor(0., grad_fn=<SelectBackward>))\n",
      "tensor(-0.4873, grad_fn=<SubBackward0>)\n",
      "(tensor(0.5127, grad_fn=<SelectBackward>), tensor(1., grad_fn=<SelectBackward>))\n",
      "tensor(0.7737, grad_fn=<SubBackward0>)\n",
      "(tensor(0.7737, grad_fn=<SelectBackward>), tensor(0., grad_fn=<SelectBackward>))\n",
      "tensor(0.3614, grad_fn=<SubBackward0>)\n",
      "(tensor(0.3614, grad_fn=<SelectBackward>), tensor(0., grad_fn=<SelectBackward>))\n",
      "tensor(-0.6216, grad_fn=<SubBackward0>)\n",
      "(tensor(0.3784, grad_fn=<SelectBackward>), tensor(1., grad_fn=<SelectBackward>))\n",
      "tensor(0.5569, grad_fn=<SubBackward0>)\n",
      "(tensor(0.5569, grad_fn=<SelectBackward>), tensor(0., grad_fn=<SelectBackward>))\n",
      "tensor(-0.4875, grad_fn=<SubBackward0>)\n",
      "(tensor(0.5125, grad_fn=<SelectBackward>), tensor(1., grad_fn=<SelectBackward>))\n",
      "tensor(0.5784, grad_fn=<SubBackward0>)\n",
      "(tensor(0.5784, grad_fn=<SelectBackward>), tensor(0., grad_fn=<SelectBackward>))\n",
      "tensor(-0.5032, grad_fn=<SubBackward0>)\n",
      "(tensor(0.4968, grad_fn=<SelectBackward>), tensor(1., grad_fn=<SelectBackward>))\n",
      "tensor(-0.1486, grad_fn=<SubBackward0>)\n",
      "(tensor(0.8514, grad_fn=<SelectBackward>), tensor(1., grad_fn=<SelectBackward>))\n",
      "tensor(-0.1550, grad_fn=<SubBackward0>)\n",
      "(tensor(0.8450, grad_fn=<SelectBackward>), tensor(1., grad_fn=<SelectBackward>))\n",
      "tensor(0.5524, grad_fn=<SubBackward0>)\n",
      "(tensor(0.5524, grad_fn=<SelectBackward>), tensor(0., grad_fn=<SelectBackward>))\n",
      "tensor(-0.3457, grad_fn=<SubBackward0>)\n",
      "(tensor(0.6543, grad_fn=<SelectBackward>), tensor(1., grad_fn=<SelectBackward>))\n",
      "tensor(-0.3356, grad_fn=<SubBackward0>)\n",
      "(tensor(0.6644, grad_fn=<SelectBackward>), tensor(1., grad_fn=<SelectBackward>))\n",
      "tensor(-0.3872, grad_fn=<SubBackward0>)\n",
      "(tensor(0.6128, grad_fn=<SelectBackward>), tensor(1., grad_fn=<SelectBackward>))\n",
      "tensor(0.4862, grad_fn=<SubBackward0>)\n",
      "(tensor(0.4862, grad_fn=<SelectBackward>), tensor(0., grad_fn=<SelectBackward>))\n",
      "tensor(-0.3861, grad_fn=<SubBackward0>)\n",
      "(tensor(0.6139, grad_fn=<SelectBackward>), tensor(1., grad_fn=<SelectBackward>))\n",
      "tensor(-0.5326, grad_fn=<SubBackward0>)\n",
      "(tensor(0.4674, grad_fn=<SelectBackward>), tensor(1., grad_fn=<SelectBackward>))\n",
      "tensor(1.0894, grad_fn=<SubBackward0>)\n",
      "(tensor(1.0894, grad_fn=<SelectBackward>), tensor(0., grad_fn=<SelectBackward>))\n",
      "tensor(0.3158, grad_fn=<SubBackward0>)\n",
      "(tensor(0.3158, grad_fn=<SelectBackward>), tensor(0., grad_fn=<SelectBackward>))\n",
      "tensor(0.4354, grad_fn=<SubBackward0>)\n",
      "(tensor(0.4354, grad_fn=<SelectBackward>), tensor(0., grad_fn=<SelectBackward>))\n",
      "tensor(-0.4857, grad_fn=<SubBackward0>)\n",
      "(tensor(0.5143, grad_fn=<SelectBackward>), tensor(1., grad_fn=<SelectBackward>))\n",
      "tensor(0.3976, grad_fn=<SubBackward0>)\n",
      "(tensor(0.3976, grad_fn=<SelectBackward>), tensor(0., grad_fn=<SelectBackward>))\n",
      "tensor(0.2094, grad_fn=<SubBackward0>)\n",
      "(tensor(0.2094, grad_fn=<SelectBackward>), tensor(0., grad_fn=<SelectBackward>))\n",
      "tensor(0.3201, grad_fn=<SubBackward0>)\n",
      "(tensor(0.3201, grad_fn=<SelectBackward>), tensor(0., grad_fn=<SelectBackward>))\n",
      "tensor(-0.2787, grad_fn=<SubBackward0>)\n",
      "(tensor(0.7213, grad_fn=<SelectBackward>), tensor(1., grad_fn=<SelectBackward>))\n",
      "tensor(-0.3418, grad_fn=<SubBackward0>)\n",
      "(tensor(0.6582, grad_fn=<SelectBackward>), tensor(1., grad_fn=<SelectBackward>))\n",
      "tensor(-0.2733, grad_fn=<SubBackward0>)\n",
      "(tensor(0.7267, grad_fn=<SelectBackward>), tensor(1., grad_fn=<SelectBackward>))\n",
      "tensor(0.4787, grad_fn=<SubBackward0>)\n",
      "(tensor(0.4787, grad_fn=<SelectBackward>), tensor(0., grad_fn=<SelectBackward>))\n",
      "tensor(0.3765, grad_fn=<SubBackward0>)\n",
      "(tensor(0.3765, grad_fn=<SelectBackward>), tensor(0., grad_fn=<SelectBackward>))\n",
      "tensor(-0.3596, grad_fn=<SubBackward0>)\n",
      "(tensor(0.6404, grad_fn=<SelectBackward>), tensor(1., grad_fn=<SelectBackward>))\n",
      "tensor(-0.4124, grad_fn=<SubBackward0>)\n",
      "(tensor(0.5876, grad_fn=<SelectBackward>), tensor(1., grad_fn=<SelectBackward>))\n",
      "tensor(-0.4227, grad_fn=<SubBackward0>)\n",
      "(tensor(0.5773, grad_fn=<SelectBackward>), tensor(1., grad_fn=<SelectBackward>))\n",
      "tensor(0.4441, grad_fn=<SubBackward0>)\n",
      "(tensor(0.4441, grad_fn=<SelectBackward>), tensor(0., grad_fn=<SelectBackward>))\n",
      "tensor(-0.4751, grad_fn=<SubBackward0>)\n",
      "(tensor(0.5249, grad_fn=<SelectBackward>), tensor(1., grad_fn=<SelectBackward>))\n",
      "tensor(0.3736, grad_fn=<SubBackward0>)\n",
      "(tensor(0.3736, grad_fn=<SelectBackward>), tensor(0., grad_fn=<SelectBackward>))\n",
      "tensor(-0.3763, grad_fn=<SubBackward0>)\n",
      "(tensor(0.6237, grad_fn=<SelectBackward>), tensor(1., grad_fn=<SelectBackward>))\n",
      "tensor(0.5607, grad_fn=<SubBackward0>)\n",
      "(tensor(0.5607, grad_fn=<SelectBackward>), tensor(0., grad_fn=<SelectBackward>))\n",
      "tensor(-0.5225, grad_fn=<SubBackward0>)\n",
      "(tensor(0.4775, grad_fn=<SelectBackward>), tensor(1., grad_fn=<SelectBackward>))\n",
      "tensor(-0.3820, grad_fn=<SubBackward0>)\n",
      "(tensor(0.6180, grad_fn=<SelectBackward>), tensor(1., grad_fn=<SelectBackward>))\n",
      "tensor(-0.4789, grad_fn=<SubBackward0>)\n",
      "(tensor(0.5211, grad_fn=<SelectBackward>), tensor(1., grad_fn=<SelectBackward>))\n",
      "tensor(-0.2888, grad_fn=<SubBackward0>)\n",
      "(tensor(0.7112, grad_fn=<SelectBackward>), tensor(1., grad_fn=<SelectBackward>))\n",
      "tensor(0.2610, grad_fn=<SubBackward0>)\n",
      "(tensor(1.2610, grad_fn=<SelectBackward>), tensor(1., grad_fn=<SelectBackward>))\n",
      "tensor(-0.5095, grad_fn=<SubBackward0>)\n",
      "(tensor(0.4905, grad_fn=<SelectBackward>), tensor(1., grad_fn=<SelectBackward>))\n",
      "tensor(0.5710, grad_fn=<SubBackward0>)\n",
      "(tensor(0.5710, grad_fn=<SelectBackward>), tensor(0., grad_fn=<SelectBackward>))\n",
      "tensor(0.5850, grad_fn=<SubBackward0>)\n",
      "(tensor(0.5850, grad_fn=<SelectBackward>), tensor(0., grad_fn=<SelectBackward>))\n",
      "tensor(-0.5896, grad_fn=<SubBackward0>)\n",
      "(tensor(0.4104, grad_fn=<SelectBackward>), tensor(1., grad_fn=<SelectBackward>))\n",
      "tensor(0.2486, grad_fn=<SubBackward0>)\n",
      "(tensor(0.2486, grad_fn=<SelectBackward>), tensor(0., grad_fn=<SelectBackward>))\n",
      "tensor(-0.2372, grad_fn=<SubBackward0>)\n",
      "(tensor(0.7628, grad_fn=<SelectBackward>), tensor(1., grad_fn=<SelectBackward>))\n",
      "tensor(-0.5302, grad_fn=<SubBackward0>)\n",
      "(tensor(0.4698, grad_fn=<SelectBackward>), tensor(1., grad_fn=<SelectBackward>))\n",
      "tensor(-0.0787, grad_fn=<SubBackward0>)\n",
      "(tensor(0.9213, grad_fn=<SelectBackward>), tensor(1., grad_fn=<SelectBackward>))\n",
      "tensor(-0.4482, grad_fn=<SubBackward0>)\n",
      "(tensor(0.5518, grad_fn=<SelectBackward>), tensor(1., grad_fn=<SelectBackward>))\n",
      "tensor(0.5001, grad_fn=<SubBackward0>)\n",
      "(tensor(0.5001, grad_fn=<SelectBackward>), tensor(0., grad_fn=<SelectBackward>))\n",
      "tensor(-0.3890, grad_fn=<SubBackward0>)\n",
      "(tensor(0.6110, grad_fn=<SelectBackward>), tensor(1., grad_fn=<SelectBackward>))\n",
      "tensor(0.6333, grad_fn=<SubBackward0>)\n",
      "(tensor(0.6333, grad_fn=<SelectBackward>), tensor(0., grad_fn=<SelectBackward>))\n",
      "tensor(-0.5864, grad_fn=<SubBackward0>)\n",
      "(tensor(0.4136, grad_fn=<SelectBackward>), tensor(1., grad_fn=<SelectBackward>))\n",
      "tensor(-0.5322, grad_fn=<SubBackward0>)\n",
      "(tensor(0.4678, grad_fn=<SelectBackward>), tensor(1., grad_fn=<SelectBackward>))\n",
      "tensor(-0.2215, grad_fn=<SubBackward0>)\n",
      "(tensor(0.7785, grad_fn=<SelectBackward>), tensor(1., grad_fn=<SelectBackward>))\n",
      "tensor(-0.2490, grad_fn=<SubBackward0>)\n",
      "(tensor(0.7510, grad_fn=<SelectBackward>), tensor(1., grad_fn=<SelectBackward>))\n",
      "tensor(-0.4130, grad_fn=<SubBackward0>)\n",
      "(tensor(0.5870, grad_fn=<SelectBackward>), tensor(1., grad_fn=<SelectBackward>))\n",
      "tensor(-0.5696, grad_fn=<SubBackward0>)\n",
      "(tensor(0.4304, grad_fn=<SelectBackward>), tensor(1., grad_fn=<SelectBackward>))\n",
      "tensor(-0.4205, grad_fn=<SubBackward0>)\n",
      "(tensor(0.5795, grad_fn=<SelectBackward>), tensor(1., grad_fn=<SelectBackward>))\n",
      "tensor(0.4690, grad_fn=<SubBackward0>)\n",
      "(tensor(0.4690, grad_fn=<SelectBackward>), tensor(0., grad_fn=<SelectBackward>))\n",
      "tensor(0.4652, grad_fn=<SubBackward0>)\n",
      "(tensor(0.4652, grad_fn=<SelectBackward>), tensor(0., grad_fn=<SelectBackward>))\n",
      "tensor(-0.2824, grad_fn=<SubBackward0>)\n"
     ]
    },
    {
     "name": "stdout",
     "output_type": "stream",
     "text": [
      "(tensor(0.7176, grad_fn=<SelectBackward>), tensor(1., grad_fn=<SelectBackward>))\n",
      "tensor(-0.4887, grad_fn=<SubBackward0>)\n",
      "(tensor(0.5113, grad_fn=<SelectBackward>), tensor(1., grad_fn=<SelectBackward>))\n",
      "tensor(-0.4883, grad_fn=<SubBackward0>)\n",
      "(tensor(0.5117, grad_fn=<SelectBackward>), tensor(1., grad_fn=<SelectBackward>))\n",
      "tensor(-0.7633, grad_fn=<SubBackward0>)\n",
      "(tensor(0.2367, grad_fn=<SelectBackward>), tensor(1., grad_fn=<SelectBackward>))\n",
      "tensor(-0.4564, grad_fn=<SubBackward0>)\n",
      "(tensor(0.5436, grad_fn=<SelectBackward>), tensor(1., grad_fn=<SelectBackward>))\n",
      "tensor(-0.0547, grad_fn=<SubBackward0>)\n",
      "(tensor(0.9453, grad_fn=<SelectBackward>), tensor(1., grad_fn=<SelectBackward>))\n",
      "tensor(0.3934, grad_fn=<SubBackward0>)\n",
      "(tensor(0.3934, grad_fn=<SelectBackward>), tensor(0., grad_fn=<SelectBackward>))\n",
      "tensor(-0.4306, grad_fn=<SubBackward0>)\n",
      "(tensor(0.5694, grad_fn=<SelectBackward>), tensor(1., grad_fn=<SelectBackward>))\n",
      "tensor(-0.4126, grad_fn=<SubBackward0>)\n",
      "(tensor(0.5874, grad_fn=<SelectBackward>), tensor(1., grad_fn=<SelectBackward>))\n",
      "tensor(-0.3581, grad_fn=<SubBackward0>)\n",
      "(tensor(0.6419, grad_fn=<SelectBackward>), tensor(1., grad_fn=<SelectBackward>))\n",
      "tensor(-0.2209, grad_fn=<SubBackward0>)\n",
      "(tensor(0.7791, grad_fn=<SelectBackward>), tensor(1., grad_fn=<SelectBackward>))\n",
      "tensor(-0.4713, grad_fn=<SubBackward0>)\n",
      "(tensor(0.5287, grad_fn=<SelectBackward>), tensor(1., grad_fn=<SelectBackward>))\n",
      "tensor(0.6341, grad_fn=<SubBackward0>)\n",
      "(tensor(0.6341, grad_fn=<SelectBackward>), tensor(0., grad_fn=<SelectBackward>))\n",
      "tensor(-0.2242, grad_fn=<SubBackward0>)\n",
      "(tensor(0.7758, grad_fn=<SelectBackward>), tensor(1., grad_fn=<SelectBackward>))\n",
      "tensor(0.5146, grad_fn=<SubBackward0>)\n",
      "(tensor(0.5146, grad_fn=<SelectBackward>), tensor(0., grad_fn=<SelectBackward>))\n",
      "tensor(0.0633, grad_fn=<SubBackward0>)\n",
      "(tensor(0.0633, grad_fn=<SelectBackward>), tensor(0., grad_fn=<SelectBackward>))\n",
      "tensor(0.3944, grad_fn=<SubBackward0>)\n",
      "(tensor(0.3944, grad_fn=<SelectBackward>), tensor(0., grad_fn=<SelectBackward>))\n",
      "tensor(0.5915, grad_fn=<SubBackward0>)\n",
      "(tensor(0.5915, grad_fn=<SelectBackward>), tensor(0., grad_fn=<SelectBackward>))\n",
      "tensor(0.5867, grad_fn=<SubBackward0>)\n",
      "(tensor(0.5867, grad_fn=<SelectBackward>), tensor(0., grad_fn=<SelectBackward>))\n",
      "tensor(0.1088, grad_fn=<SubBackward0>)\n",
      "(tensor(1.1088, grad_fn=<SelectBackward>), tensor(1., grad_fn=<SelectBackward>))\n",
      "tensor(-0.4334, grad_fn=<SubBackward0>)\n",
      "(tensor(0.5666, grad_fn=<SelectBackward>), tensor(1., grad_fn=<SelectBackward>))\n",
      "tensor(0.1747, grad_fn=<SubBackward0>)\n",
      "(tensor(0.1747, grad_fn=<SelectBackward>), tensor(0., grad_fn=<SelectBackward>))\n",
      "tensor(0.3070, grad_fn=<SubBackward0>)\n",
      "(tensor(0.3070, grad_fn=<SelectBackward>), tensor(0., grad_fn=<SelectBackward>))\n",
      "tensor(-0.4220, grad_fn=<SubBackward0>)\n",
      "(tensor(0.5780, grad_fn=<SelectBackward>), tensor(1., grad_fn=<SelectBackward>))\n",
      "tensor(-0.1850, grad_fn=<SubBackward0>)\n",
      "(tensor(0.8150, grad_fn=<SelectBackward>), tensor(1., grad_fn=<SelectBackward>))\n",
      "tensor(-0.4172, grad_fn=<SubBackward0>)\n",
      "(tensor(0.5828, grad_fn=<SelectBackward>), tensor(1., grad_fn=<SelectBackward>))\n",
      "tensor(0.3642, grad_fn=<SubBackward0>)\n",
      "(tensor(0.3642, grad_fn=<SelectBackward>), tensor(0., grad_fn=<SelectBackward>))\n"
     ]
    }
   ],
   "source": [
    "for i in range(100):\n",
    "    print((y_hat[i] - y_test[i]))\n",
    "    print((y_hat[i] , y_test[i]))"
   ]
  },
  {
   "cell_type": "code",
   "execution_count": 72,
   "metadata": {},
   "outputs": [],
   "source": [
    "diff = (y_hat - y_test)**2"
   ]
  },
  {
   "cell_type": "code",
   "execution_count": 73,
   "metadata": {},
   "outputs": [
    {
     "name": "stdout",
     "output_type": "stream",
     "text": [
      "[0.39352894 0.17205463 0.05551548 ... 0.         0.         0.        ]\n"
     ]
    },
    {
     "data": {
      "image/png": "[encoded data removed]",
      "text/plain": [
       "<Figure size 432x288 with 1 Axes>"
      ]
     },
     "metadata": {
      "needs_background": "light"
     },
     "output_type": "display_data"
    }
   ],
   "source": [
    "import numpy as np\n",
    "import matplotlib.pyplot as plt\n",
    "\n",
    "print(diff.detach().numpy(),)\n",
    "\n",
    "# the histogram of the data\n",
    "n, bins, patches = plt.hist(diff.detach().numpy(), 50, density=True, facecolor='g', alpha=0.75)\n",
    "\n",
    "\n",
    "plt.xlabel('Smarts')\n",
    "plt.ylabel('Probability')\n",
    "plt.title('Histogram of IQ')\n",
    "plt.text(60, .025, r'$\\mu=100,\\ \\sigma=15$')\n",
    "plt.xlim(0, 10)\n",
    "plt.ylim(0, 1)\n",
    "\n",
    "plt.grid(True)\n",
    "plt.show()"
   ]
  },
  {
   "cell_type": "code",
   "execution_count": 74,
   "metadata": {},
   "outputs": [
    {
     "name": "stdout",
     "output_type": "stream",
     "text": [
      "0.6459470146302887\n",
      "0.1605904837221563\n",
      "0.5478636114994226\n",
      "0.1651978362608643\n"
     ]
    }
   ],
   "source": [
    "\n",
    "\n",
    "print(rel_dat_train.int().tolist().count(0)/len(rel_dat_train))\n",
    "print(rel_dat_train.int().tolist().count(1)/len(rel_dat_train))\n",
    "if num_classes == 3:\n",
    "    print(rel_dat_train.int().tolist().count(2)/len(rel_dat_train))\n",
    "\n",
    "print(rel_dat_test.int().tolist().count(0)/len(rel_dat_test))\n",
    "print(rel_dat_test.int().tolist().count(1)/len(rel_dat_test))\n",
    "if num_classes == 3:\n",
    "    print(rel_dat_test.int().tolist().count(2)/len(rel_dat_test))\n",
    "    \n",
    "\n"
   ]
  },
  {
   "cell_type": "code",
   "execution_count": null,
   "metadata": {},
   "outputs": [],
   "source": [
    "\n",
    "\n",
    "[-104.92164611816406, 67.773193359375, 18.0727481842041, -57.288578033447266, -54.86625289916992, -121.02210998535156, -38.8564567565918, 191.35922241210938, -5.0520405769348145, 53.92820739746094, 120.87737274169922, 66.43340301513672, -58.665283203125, -18.797203063964844, 5.787232875823975, -42.39042663574219, 7.365428924560547, -51.55762481689453, 27.737533569335938, -30.082237243652344, 34.754390716552734, -54.216243743896484, -85.36261749267578, 31.590076446533203, -227.89894104003906, -13.268838882446289, 27.370155334472656, 161.7223358154297, -11.23762321472168, -37.479576110839844, 16.738719940185547, -134.49966430664062, -3.766587257385254, 99.54354858398438, 1.6402342319488525, 15.845108032226562, -19.84698486328125, 98.45846557617188, 13.651260375976562, -190.55526733398438, -28.10480308532715, -215.4381866455078, -20.431516647338867, -17.55823516845703, -55.160858154296875, -361.5133972167969, -1.0937743186950684, -31.678665161132812, -76.64095306396484, -16.95630645751953, 28.811912536621094, -3.668766975402832, -57.15723419189453, 153.78057861328125, -57.38565444946289, 82.55632781982422, -269.2079772949219, -187.6962127685547, -15.305190086364746, -65.64583587646484, -9.252490043640137, 42.603763580322266, -80.04167175292969, -49.15602111816406, -30.852264404296875, -71.16804504394531, 517.6353759765625, -164.66217041015625, 216.59768676757812, 37.0073127746582, 54.40861129760742, -110.6803970336914, -26.56203269958496, 49.14006423950195, -39.04497146606445, 193.4814910888672, 6.798913955688477, 68.22575378417969, -4.612884521484375, -267.79852294921875, 29.360851287841797, 18.681468963623047, 65.58209228515625, 29.926544189453125, 51.623748779296875, 66.39525604248047, -76.11492919921875, -46.989742279052734, -41.87985610961914, 199.05628967285156, -5.70697546005249, 371.7994079589844, -57.758216857910156, 34.291786193847656, -5.20289945602417, -105.1949691772461, 46.475711822509766, 14.519928932189941, 251.64466857910156, -106.5175552368164, 7.019127368927002, -18.466705322265625, -144.59413146972656, 40.91450500488281, 270.71246337890625, 91.41454315185547, 210.53005981445312, 8.255102157592773, 16.359458923339844, -81.56983184814453, 210.5724639892578, 150.99972534179688, -40.50798034667969, 62.3935546875, 75.09534454345703, -484.1625061035156, -57.47157287597656, 58.229984283447266, 128.68821716308594, 66.06424713134766, 19.726741790771484, 34.70027160644531, 34.618263244628906, -27.48638153076172, -92.92829132080078, 330.06634521484375, -31.54470443725586, -45.91958999633789, 28.54609489440918, 106.78721618652344, 97.70858764648438, -267.95477294921875, -40.48027038574219, -33.198089599609375, 128.13088989257812, 37.049652099609375, 283.17279052734375, -90.3095474243164, -307.2254638671875, 213.32264709472656, -75.75812530517578, 6.086109161376953, 8.445971488952637, -127.94137573242188, -25.094697952270508, -63.879302978515625, 5.478021621704102, 110.4139633178711, 35.758663177490234, 61.7869987487793, 82.9278793334961, -7.721755504608154, -6.563212871551514, -1.3843193054199219, 76.85354614257812, -60.34700012207031, 153.6429901123047, 9.924995422363281, -128.8278350830078, 196.847900390625, 0.5260632038116455, -77.79155731201172, -74.48418426513672, 545.9605102539062, -33.49718475341797, -128.64016723632812, 36.124412536621094, 73.8199234008789, 63.85449981689453, -22.545799255371094, -174.5957794189453, -172.23789978027344, -7.892080783843994, -115.28033447265625, 219.14108276367188, -4.597542762756348, -3.847696304321289, -85.94964599609375, 202.2474365234375, -4.896606922149658, 78.2188720703125, -51.16665267944336, 15.968666076660156, 41.1453742980957, 134.3807373046875, 72.33405303955078, 9.517865180969238, 78.34260559082031, -57.26927185058594, -4.948623180389404, -39.43174743652344, 10.0863676071167, 85.64106750488281, -206.26551818847656, -129.8970489501953, 49.73386001586914, 29.497678756713867, 16.910390853881836, -38.137081146240234, 202.1165008544922, -130.05364990234375, 11.158478736877441, -14.739008903503418, 3.407405376434326, 54.087806701660156, -21.271448135375977, 0.3996528387069702, 264.3968811035156, -13.994600296020508, 93.21504211425781, 2.2137081623077393, -100.88098907470703, -22.632633209228516, 64.06906127929688, -43.05915832519531, 23.301218032836914, -137.556640625, 9.308293342590332, -20.63155174255371, 4.502974987030029, -43.3992805480957, 64.1604232788086, -97.46536254882812, -182.86614990234375, -14.432482719421387, 54.09025192260742, 158.57191467285156, 44.13446044921875, 138.61776733398438, -14.523042678833008, 54.93791580200195, -56.331695556640625, 184.25778198242188, -37.57598114013672, 86.75396728515625, -27.985132217407227, -40.535133361816406, 16.799884796142578, -116.09054565429688, 29.283008575439453, -252.1456756591797, 11.917963027954102, 3.512533664703369, -83.12818908691406, -15.68786334991455, 13.186747550964355, 14.08357048034668, 117.63597869873047, -164.48377990722656, 48.64525604248047, -78.6467514038086, -244.0575714111328, 128.93203735351562, -55.76106262207031, 69.94007110595703, 6.217000961303711, -72.72435760498047, 29.19985580444336, -9.291274070739746, 68.69754028320312, 22.3184814453125, 11.599109649658203, 327.1819152832031, -32.55509948730469, -264.9151611328125, 21.339717864990234, -121.07073211669922, -4.77006196975708, -134.99070739746094, -4.353046894073486, -34.60704803466797, 10.112273216247559, -32.977779388427734, -38.70383071899414, 12.195889472961426, -156.5968780517578, 16.060583114624023, 246.27084350585938, -18.9495906829834, 96.11296081542969, -5.478783130645752, 52.93661117553711, 23.651695251464844, -21.917512893676758, 4.6640214920043945, -29.066669464111328, -152.48403930664062, -70.57549285888672, 66.98048400878906, -13.533234596252441, 15.294891357421875, -3.482405185699463, -28.297714233398438, 18.01045036315918, 42.99061584472656, -19.788782119750977, 45.451141357421875, 221.01441955566406, 182.06175231933594, 43.74394226074219, 25.228803634643555, 45.61638641357422, 5.792258262634277, -9.481121063232422, 45.997047424316406, 28.506237030029297, 65.20975494384766, -64.10075378417969, 89.5433120727539, 155.12591552734375, 27.03156089782715, 67.46080017089844, -51.37321472167969, -192.6532440185547, 63.955535888671875, 22.879629135131836, 94.72689819335938, -15.581029891967773, 32.901676177978516, -299.11163330078125, -52.74994659423828, 91.53274536132812, -32.77324676513672, -29.428197860717773, -101.63099670410156, 74.1438980102539, -65.45030212402344, -61.56722640991211, 130.9562530517578, -63.43666076660156, 163.27735900878906, 6.3002214431762695, -52.02714920043945, 48.257755279541016, -82.48591613769531, -70.40605926513672, 1.0090641975402832, 34.64605712890625, 70.8923568725586, -61.49097442626953, -43.358009338378906, -42.2589111328125, -51.91921615600586, -97.91749572753906, 6.486165523529053, -3.7574641704559326, 29.773889541625977, 69.45972442626953, -77.4084701538086, 35.50070571899414, 45.46126937866211, -67.4378890991211, 98.55281829833984, 133.23548889160156, 58.440460205078125, 52.22452926635742, 0.5056338310241699, 32.01286697387695, -29.548967361450195, 88.75135040283203, 11.672468185424805, -10.928165435791016, -77.1060562133789, -40.817806243896484, -2.673444986343384, 34.56745147705078, -109.19351196289062, 11.252567291259766, 77.36116790771484, -19.338577270507812, 33.35544204711914, -0.532677173614502, -99.03667449951172, -31.183801651000977, -85.28277587890625, 62.68376159667969, 116.91898345947266, -385.1533508300781, -22.485851287841797, -6.893472671508789, -8.949666976928711, 164.82669067382812, 1.7035188674926758, -65.5428695678711, 0.6909326314926147, -260.0755615234375, 66.960205078125, 73.6292953491211, -254.2939910888672, 9.820601463317871, -69.86150360107422, 56.59122848510742, -98.13311004638672, -16.464540481567383, 4.6059184074401855, -3.404747486114502, -234.06549072265625, 215.95118713378906, -486.4309387207031, 135.01976013183594, -251.54159545898438, 113.80291748046875, 32.6478271484375, 69.42475128173828, -16.240236282348633, -40.92276382446289, 312.6758117675781, -250.2841339111328, 15.066609382629395, -39.53660583496094, -128.51136779785156, -47.644676208496094, 9.101251602172852, 243.37734985351562, -12.809798240661621, -18.327430725097656, 282.4678649902344, 88.36698150634766, -7.457574844360352, -9.215604782104492, 63.7127571105957, 41.95360565185547, 152.7301788330078, 229.0752410888672, -29.615890502929688, 186.29197692871094, -102.16907501220703, -24.918846130371094, 6.099515914916992, -52.22504425048828, 416.9241638183594, 17.800811767578125, 28.053634643554688, 37.77274703979492, -34.006736755371094, -9.225433349609375, -38.598793029785156, 18.809188842773438, -25.03200912475586, -38.7996940612793, 435.7631530761719, -26.566871643066406, 211.41998291015625, 91.23049926757812, -56.50514221191406, 119.40805053710938, -11.674276351928711, 10.2819185256958, 27.118879318237305, 79.72520446777344, -3.2964627742767334, -105.188232421875, -54.827091217041016, -7.8389177322387695, -61.4669189453125, -6.388521194458008, -50.24470901489258, -39.86137771606445, -116.01866912841797, -68.82447052001953, 190.1617431640625, 18.15692138671875, -15.628551483154297, 58.023258209228516, -16.9836368560791, -15.931796073913574, -5.623076915740967, 325.9154052734375, -64.9137954711914, -1.7129075527191162, -28.034513473510742, -44.82937240600586, 233.5684814453125, 108.19673919677734, 0.7219955921173096, -20.897390365600586, 33.97010803222656, -17.388141632080078, 134.0053253173828, 222.06512451171875, -26.422462463378906, 49.202388763427734, -33.33681106567383, 24.46408462524414, 7.046736717224121, -43.255916595458984, 75.91484069824219, -45.57060241699219, -25.891632080078125, 79.4311752319336, 4.507964134216309, -93.35246276855469, 556.571533203125, 74.23904418945312, -15.979720115661621, 137.3292236328125, 129.10574340820312, -94.72419738769531, 76.38396453857422, 99.15520477294922, -105.63948822021484, 62.84981918334961, -12.408466339111328, -19.279203414916992, -26.177282333374023, -1.935544729232788, -123.62269592285156, -12.045291900634766, -126.0075912475586, -116.2500228881836, 119.41252136230469, -67.8172378540039, 177.99607849121094, -46.84926986694336, 139.5924835205078, -227.29653930664062, 118.95314025878906, 172.3082275390625, 38.2816162109375, -93.8807373046875, 154.36233520507812, -53.8175048828125, 45.7920036315918, 39.29740524291992, -40.21931457519531, -121.70870971679688, -32.76991271972656, 176.6537322998047, -13.75889778137207, -10.771964073181152, -97.18441772460938, -29.09466552734375, -137.3087615966797, -368.5655517578125, -12.106950759887695, -108.35591888427734, 109.38423156738281, -117.71517181396484, -22.06723403930664, -67.98790740966797, -8.932416915893555, -73.3578109741211, -24.940750122070312, 40.627899169921875, -157.6544952392578, 35.74745178222656, 41.48221969604492, -8.873579025268555, -179.8745574951172, -4.004915714263916, -297.3798828125, -50.70056915283203, 30.2535400390625, 79.30140686035156, 36.964290618896484, 114.3005142211914, 109.50233459472656, 107.6305160522461, 27.06902313232422, 21.72307586669922, 87.11310577392578, -58.1566162109375, 155.6971435546875, 272.6250915527344, 50.52305603027344, -78.19801330566406, 168.2832794189453, -60.38069534301758, 48.10457992553711, -143.40167236328125, 4.906644821166992, 194.35440063476562, -39.43901443481445, 5.715436935424805, 73.01171875, -118.89262390136719, 64.74347686767578, 88.82916259765625, 18.250133514404297, 49.20518493652344, 106.11756896972656, -11.049832344055176, 9.384505271911621, -22.02611541748047, -50.05653762817383, -29.315582275390625, 267.0305480957031, 26.848052978515625, -137.80763244628906, -152.9119873046875, 44.269012451171875, -129.06700134277344, 64.31098937988281, -17.231828689575195, -156.14694213867188, -32.788604736328125, -98.46138000488281, -0.7114782333374023, 48.7819709777832, -396.8727111816406, 56.84866714477539, 23.75362777709961, -44.305084228515625, 100.09066009521484, 63.08802032470703, 70.51763916015625, -2.1600260734558105, 282.68450927734375, -351.2745056152344, -45.31775665283203, 19.467845916748047, -14.115544319152832, 45.942298889160156, 14.16151237487793, -0.9857814311981201, 58.14168167114258, -158.45352172851562, -268.6185302734375, -19.268421173095703, 21.496013641357422, 191.20684814453125, -19.721040725708008, -34.31242370605469, -11.284875869750977, -128.4213409423828, -66.64605712890625, 78.34089660644531, 282.5771484375, -5.813153266906738, 179.1700439453125, 99.44273376464844, 32.26345443725586, -12.098030090332031, -98.09233093261719, -9.231888771057129, -6.520497798919678, -171.73046875, -7.764942169189453, -194.66531372070312, -27.272811889648438, 74.24845123291016, -124.72418975830078, 12.774687767028809, -121.46180725097656, -43.3494873046875, 75.49018096923828, 44.33967971801758, 21.34844207763672, 74.80032348632812, -89.50215911865234, -41.39841079711914, 219.82717895507812, -177.4060821533203, -637.0667114257812, 53.010921478271484, -28.555164337158203, 77.58072662353516, -202.8982391357422, -49.707305908203125, -23.41506576538086, 19.358705520629883, -160.21414184570312, 468.9518127441406, -13.76858139038086, -78.64146423339844, -108.42113494873047, -52.9779167175293, 205.56639099121094, -136.18983459472656, -49.61515426635742, 59.37144088745117, 48.62525939941406, 22.77420425415039, -46.26621627807617, 8.997550010681152, 40.97601318359375, -2.3022332191467285, 32.618446350097656, -1.9878931045532227, -4.995430946350098, 66.68707275390625, -212.56690979003906, 25.391639709472656, -1.6745412349700928, 52.04939270019531, 47.60813903808594, 168.27224731445312, 97.2211685180664, 89.31298828125, -73.88380432128906, 24.197851181030273, 34.05489730834961, 33.58977508544922, 113.32514953613281, -45.473907470703125, -325.7002868652344, 21.647621154785156, -45.963768005371094, -110.55778503417969, -50.35871505737305, -26.28197479248047, -7.872187614440918, 125.46741485595703, 55.52351379394531, 18.82501792907715, -22.89018440246582, -95.65931701660156, 87.08348846435547, -127.33409881591797, -166.5781707763672, 3.704162120819092, 91.76586151123047, 16.806467056274414, 135.07852172851562, -71.34864807128906, 61.068904876708984, -9.554487228393555, -236.14370727539062, 337.8080139160156, -120.7771987915039, 95.00320434570312, -63.66881561279297, 52.8764533996582, -22.565662384033203, 83.75578308105469, 33.510684967041016, -34.093997955322266, -60.86794662475586, 0.44266319274902344, -117.11626434326172, 48.9420051574707, -14.2633695602417, 78.62931823730469, -22.066450119018555, -25.327083587646484, 119.14874267578125, -69.4368667602539, 229.0285186767578, 14.279241561889648, 41.20904541015625, -56.69758987426758, 55.5421257019043, 73.13653564453125, -165.73162841796875, -5.4566802978515625, 29.626754760742188, -47.41950607299805, 25.63741683959961, 39.31077575683594, 69.3382797241211, -25.15818977355957, -3.045382261276245, 9.68267822265625, -585.4238891601562, 12.433361053466797, 78.05413818359375, 149.66604614257812, -48.56211853027344, -69.81454467773438, 17.973487854003906, 1.6272938251495361, -86.81748962402344, -20.637142181396484, -24.166812896728516, -205.49964904785156, -64.03944396972656, -0.3616924285888672, 101.3681869506836]\n"
   ]
  },
  {
   "cell_type": "code",
   "execution_count": null,
   "metadata": {},
   "outputs": [],
   "source": [
    "X = torch.cat((train_data[:,0:(input_size)] ,test_data[:,0:(input_size)] ))"
   ]
  },
  {
   "cell_type": "code",
   "execution_count": null,
   "metadata": {},
   "outputs": [],
   "source": [
    "print(list(X.size()))"
   ]
  }
 ],
 "metadata": {
  "kernelspec": {
   "display_name": "Python 3",
   "language": "python",
   "name": "python3"
  },
  "language_info": {
   "codemirror_mode": {
    "name": "ipython",
    "version": 3
   },
   "file_extension": ".py",
   "mimetype": "text/x-python",
   "name": "python",
   "nbconvert_exporter": "python",
   "pygments_lexer": "ipython3",
   "version": "3.7.3"
  }
 },
 "nbformat": 4,
 "nbformat_minor": 4
}
